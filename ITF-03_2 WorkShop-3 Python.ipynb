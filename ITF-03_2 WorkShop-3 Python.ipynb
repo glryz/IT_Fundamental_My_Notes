{
 "cells": [
  {
   "cell_type": "code",
   "execution_count": null,
   "id": "charitable-coach",
   "metadata": {},
   "outputs": [],
   "source": [
    "Write a function that given a string containing just the characters (, ), {, }, [ and ], determines if the input string is valid or not by using following rules.\n",
    "\n",
    "An input string is valid if:\n",
    "\n",
    "Open brackets must be closed by the same type of brackets.\n",
    "\n",
    "Open brackets must be closed in the correct order.\n",
    "\n",
    "Note that an empty string is also considered valid.\n",
    "\n",
    "Example for user inputs and respective outputs\n",
    "\n",
    "Input        Output\n",
    "--------:    ------:\n",
    "\"()\"         True\n",
    "\"()[]{}\"     True\n",
    "\"(]\"         False\n",
    "\"([)]\"       False\n",
    "\"{[]}\"       True\n",
    "\"\"           True"
   ]
  },
  {
   "cell_type": "code",
   "execution_count": null,
   "id": "moral-editor",
   "metadata": {},
   "outputs": [],
   "source": [
    "a=input(\"Write a string that contains only `(`, `)`, `{`, `}`, `[` and `]`:\")\n",
    "b=[]\n",
    "c=(\"{[()]}\")\n",
    "for i in a:\n",
    "    if i in c:\n",
    "        b.append(i)\n",
    "x=\"\".join(b)  # b listesinin elemanlarını birleştirdi. string haline getirdi.\n",
    "left=set(\"{[(\")\n",
    "dict={\"(\" : \")\", \"[\" : \"]\", \"{\" : \"}\"}\n",
    "stack=[]\n",
    "print(x)\n",
    "for i in x:\n",
    "    if i in left:\n",
    "        stack.append(i)\n",
    "    elif stack and i == dict[stack[-1]]:\n",
    "            stack.pop()\n",
    "    else:\n",
    "        print(False)\n",
    "if stack==[]:\n",
    "    print(True)"
   ]
  },
  {
   "cell_type": "code",
   "execution_count": 1,
   "id": "obvious-decimal",
   "metadata": {},
   "outputs": [
    {
     "name": "stdout",
     "output_type": "stream",
     "text": [
      "Write a string that contains only `(`, `)`, `{`, `}`, `[` and `]`:([{}])\n",
      "([{}])\n",
      "True\n"
     ]
    }
   ],
   "source": [
    "a=input(\"Write a string that contains only `(`, `)`, `{`, `}`, `[` and `]`:\")\n",
    "b=[]\n",
    "c=(\"{[()]}\")\n",
    "for i in a:\n",
    "    if i in c:\n",
    "        b.append(i)\n",
    "x=\"\".join(b)\n",
    "left=set(\"{[(\")\n",
    "dict={\"(\" : \")\", \"[\" : \"]\", \"{\" : \"}\"}\n",
    "stack=[]\n",
    "print(x)\n",
    "for i in x:\n",
    "    if i in left:\n",
    "        stack.append(i)\n",
    "    elif stack and i == dict[stack[-1]]:\n",
    "            stack.pop()\n",
    "    else:\n",
    "        print(False)\n",
    "if stack==[]:\n",
    "    print(True)"
   ]
  },
  {
   "cell_type": "code",
   "execution_count": null,
   "id": "missing-completion",
   "metadata": {},
   "outputs": [],
   "source": [
    "def is_valid(s):\n",
    "    characters = {'(':')','[':']','{':'}'}\n",
    "    stack = []\n",
    "    for i in s :\n",
    "        if i in characters.keys() :\n",
    "            stack.append(i)\n",
    "        elif stack and i == characters[stack[-1]] :\n",
    "            stack.pop()\n",
    "        else :\n",
    "            return False\n",
    "    return not stack\n",
    "print(is_valid(\"}\"))"
   ]
  },
  {
   "cell_type": "code",
   "execution_count": null,
   "id": "complimentary-pathology",
   "metadata": {},
   "outputs": [],
   "source": [
    "while True:\n",
    "    text = input(\"Enter text: \")\n",
    "    while True:\n",
    "        lngth = len(text)\n",
    "        text = (text.replace(\"[]\",\"\"))\n",
    "        text = (text.replace(\"()\",\"\"))\n",
    "        text = (text.replace(\"{}\",\"\"))\n",
    "        if (lngth == len(text)) and len(text) == 0:\n",
    "            print(True)\n",
    "            break\n",
    "        elif (lngth != len(text)):\n",
    "            pass\n",
    "        else:\n",
    "            print(False)\n",
    "            break"
   ]
  },
  {
   "cell_type": "code",
   "execution_count": null,
   "id": "described-immunology",
   "metadata": {},
   "outputs": [],
   "source": [
    "# parantez sorusunun çözümü_HOCANIN ÇÖZÜMÜ\n",
    "\n",
    "x = \"([)])([)]\"\n",
    "\n",
    "# bir parantez serisi doğru ise en içte olan (en nested olan) için mutlaka bir parantez açma kapama olayı var.yani aç kapa olması lazım. \n",
    "# yani ([()]) gibi. burda en içtekine bakarsak aç parantez kapa parantez olduğunu görürüz.\n",
    "# biz en içten başlayarak sile sile gidersek her sildiğimizde bir dıştaki de aç kapa şekilnde olacaktır. \n",
    "# ve böylece sonunda elimizde boş bir string kalacaktır.\n",
    "# silme işlemini replace ile yapacağız. böylece silinen yerine boş karakter kalmayacak. \n",
    "\n",
    "def isValid(s) :\n",
    "    while \"()\" in s or \"[]\" in s or \"{}\" in s :\n",
    "        s = s.replace(\"()\", \"\").replace(\"[]\", \"\").replace(\"{}\", \"\")\n",
    "\n",
    "    # ilk replace'teki normal parantez yoksa replace birşey yapmaz bir sonraki replace'e geçer\n",
    "    # replace fonksiyonunda değiştirilecek karakter yoksa birşey yapmıyordu..\n",
    "    # elimde boş bir string kalana kadar yani hiçbir parantez kalmayana kadar tekar etmem lazım\n",
    "    # demek ki WHILE döngüsü kullanmam gerek.\n",
    "\n",
    "    return s == \"\" # s parametresine girilen parantezler eşit midir \"\" 'a?\n",
    "                    # eşit ise True döndürür.\n",
    "isValid(x)\n",
    "\n",
    "# DİKKAT ETTİYSEN BURDA HOCA ÖRÜNTÜYÜ BULMUŞ. ÇOK BASİTÇE ÇÖZÜME ULAŞMIŞ!!"
   ]
  },
  {
   "cell_type": "markdown",
   "id": "accessible-invention",
   "metadata": {},
   "source": [
    "## Given an array of numbers representing the stock prices of a company in chronological order, write a function that calculates the maximum profit you could have made from buying and selling that stock once. Note that you must buy before you can sell it.\n",
    "\n",
    "## For example, given [9, 11, 8, 5, 7, 10], you should return 5, since you could buy the stock at 5 dollars and sell it at 10 dollars.\n",
    "\n",
    "### Example of different list of stock prices and respective outputs.\n",
    "\n",
    "#### List = [75,73,60,100,120,130]\n",
    "#### Output = 70\n",
    "#### List = [10,20,23,22,17,30]\n",
    "#### Output = 20\n",
    "#### List = [1,6,19,59,30,60]\n",
    "#### Output = 59"
   ]
  },
  {
   "cell_type": "code",
   "execution_count": 7,
   "id": "random-ridge",
   "metadata": {},
   "outputs": [
    {
     "name": "stdout",
     "output_type": "stream",
     "text": [
      "5\n"
     ]
    }
   ],
   "source": [
    "list1=[9, 11, 8, 5, 7, 10]\n",
    "fark=0\n",
    "for i in range(len(list1)):\n",
    "    for j in range(i+1, len(list1)):\n",
    "        x = list1[j] - list1[i]\n",
    "        if x > fark:\n",
    "            fark = x\n",
    "print(fark)\n"
   ]
  },
  {
   "cell_type": "code",
   "execution_count": 5,
   "id": "offshore-circulation",
   "metadata": {},
   "outputs": [
    {
     "name": "stdout",
     "output_type": "stream",
     "text": [
      "9\n"
     ]
    }
   ],
   "source": [
    "list1=[9, 11, 1, 5, 7, 10]\n",
    "fark=0\n",
    "for i in range(len(list1)):  # listenin indeksi boyunca gidip kontrol edeceğiz, önce listenin ilk elemanını alarak başlayacağız.\n",
    "    for j in range(i+1, len(list1)): # dıştaki for döngüsünde kontrol ettiğimiz elemanın bir sonraki indeksinden başlayarak listenin sonuna kadar kontrol edeceğiz.\n",
    "        x = list1[j] - list1[i] # \n",
    "        if x > fark:\n",
    "            fark = x\n",
    "print(fark)"
   ]
  },
  {
   "cell_type": "code",
   "execution_count": 21,
   "id": "smooth-squad",
   "metadata": {},
   "outputs": [
    {
     "name": "stdout",
     "output_type": "stream",
     "text": [
      "hhh\n",
      ".... .... .... \n"
     ]
    }
   ],
   "source": [
    "morse_codes = {\n",
    "  'A': '.-', 'B': '-...', 'C': '-.-.', 'D': '-..', 'E': '.', 'F': '..-.',\n",
    "  'G': '--.', 'H': '....', 'I': '..', 'J': '.---', 'K': '-.-', 'L': '.-..',\n",
    "  'M': '--', 'N': '-.', 'O': '---', 'P': '.--.', 'Q': '--.-', 'R': '.-.',\n",
    "  'S': '...', 'T': '-', 'U': '..-', 'V': '...-', 'W': '.--', 'X': '-..-',\n",
    "  'Y': '-.--', 'Z': '--..', ' ': ' ', '0': '-----',\n",
    "  '1': '.----', '2': '..---', '3': '...--', '4': '....-', '5': '.....',\n",
    "  '6': '-....', '7': '--...', '8': '---..', '9': '----.',\n",
    "  '&': '.-...', \"'\": '.----.', '@': '.--.-.', ')': '-.--.-', '(': '-.--.',\n",
    "  ':': '---...', ',': '--..--', '=': '-...-', '!': '-.-.--', '.': '.-.-.-',\n",
    "  '-': '-....-', '+': '.-.-.', '\"': '.-..-.', '?': '..--..', '/': '-..-.'\n",
    "}\n",
    "\n",
    "ifade=input().upper().split()\n",
    "yeni=\"\"\n",
    "for i in ifade:\n",
    "    if i in morse_codes.keys():\n",
    "#        for k, v in morse_codes.items(): # k, keyleri, v valueleri temsil ediyor. mors kodu item'ları içerisinde baştan sonra git.  \n",
    "#            if i==k:                     # girilen kod (yani i) value ile eşitse onun key'ini yani harf karşılığını çekip al \n",
    "        \n",
    "        yeni += morse_codes[i] + ' '                  # ve yeni'ye o k'yı (harfi) ilave et.\n",
    "    else:\n",
    "        for k in i:                     # demek ki i, morse_codes.keys() te değil. o zaman diğer ihtimal value'de olabilir yani mors kodu girilmiş olabilir.\n",
    "            yeni += morse_codes[k]+\" \"  \n",
    "print(yeni)                              \n",
    "        "
   ]
  },
  {
   "cell_type": "code",
   "execution_count": 25,
   "id": "twelve-samba",
   "metadata": {},
   "outputs": [
    {
     "name": "stdout",
     "output_type": "stream",
     "text": [
      "kelime gir :abi\n",
      "1\n",
      "2\n",
      "1\n",
      "2\n",
      "3\n"
     ]
    }
   ],
   "source": [
    "dict = {\"a\":1, \"b\":2, \"c\":3}\n",
    "a=input('kelime gir :')\n",
    "for j in a:\n",
    "    if j in dict.keys():\n",
    "        print(dict[j])\n",
    "for i, j in dict.items():\n",
    "    print(dict[i])"
   ]
  },
  {
   "cell_type": "code",
   "execution_count": 17,
   "id": "deluxe-diana",
   "metadata": {},
   "outputs": [
    {
     "name": "stdout",
     "output_type": "stream",
     "text": [
      "hhh\n",
      ".... .... .... \n"
     ]
    }
   ],
   "source": [
    "morse_codes = {\n",
    "  'A': '.-', 'B': '-...', 'C': '-.-.', 'D': '-..', 'E': '.', 'F': '..-.',\n",
    "  'G': '--.', 'H': '....', 'I': '..', 'J': '.---', 'K': '-.-', 'L': '.-..',\n",
    "  'M': '--', 'N': '-.', 'O': '---', 'P': '.--.', 'Q': '--.-', 'R': '.-.',\n",
    "  'S': '...', 'T': '-', 'U': '..-', 'V': '...-', 'W': '.--', 'X': '-..-',\n",
    "  'Y': '-.--', 'Z': '--..', ' ': ' ', '0': '-----',\n",
    "  '1': '.----', '2': '..---', '3': '...--', '4': '....-', '5': '.....',\n",
    "  '6': '-....', '7': '--...', '8': '---..', '9': '----.',\n",
    "  '&': '.-...', \"'\": '.----.', '@': '.--.-.', ')': '-.--.-', '(': '-.--.',\n",
    "  ':': '---...', ',': '--..--', '=': '-...-', '!': '-.-.--', '.': '.-.-.-',\n",
    "  '-': '-....-', '+': '.-.-.', '\"': '.-..-.', '?': '..--..', '/': '-..-.'\n",
    "}\n",
    "\n",
    "ifade=input().upper().split()\n",
    "yeni=\"\"\n",
    "for i in ifade:\n",
    "    \n",
    "    if i in morse_codes.keys():\n",
    "        for k, v in morse_codes.items(): # k, keyleri, v valueleri temsil ediyor. mors kodu item'ları içerisinde baştan sonra git.  \n",
    "            if k == i :                # girilen kod (yani i) value ile eşitse onun key'ini yani harf karşılığını çekip al\n",
    "                yeni+=v                # ve yeni'ye o k'yı (harfi) ilave et.            \n",
    "                \n",
    "\n",
    "    else:\n",
    "        for k in i:                      # i value'ler yani mors kodları arasında yoksa demek ki bu düz harf, o zaman\n",
    "            yeni += morse_codes[k]+\" \"   # k'yı her i için kontrol et (for k in i), yeni'ye o mors kodunun value'sunu\n",
    "print(yeni)                              # yani morse_codes[k]'yı ilave et."
   ]
  },
  {
   "cell_type": "code",
   "execution_count": null,
   "id": "activated-defense",
   "metadata": {},
   "outputs": [],
   "source": [
    "def TurkceKarakterCevir(metinB):\n",
    "    metinB=metinB.replace(\"Ç\",\"C\")\n",
    "    metinB=metinB.replace(\"Ş\",\"S\")\n",
    "    metinB=metinB.replace(\"Ö\",\"O\")\n",
    "    metinB=metinB.replace(\"Ü\",\"U\")\n",
    "    metinB=metinB.replace(\"İ\",\"I\")\n",
    "    metinB=metinB.replace(\"Ğ\",\"G\")\n",
    "    #metinB=metinB.replace(\" \",\".\")\n",
    "    return  metinB"
   ]
  },
  {
   "cell_type": "code",
   "execution_count": 19,
   "id": "settled-bernard",
   "metadata": {},
   "outputs": [
    {
     "name": "stdout",
     "output_type": "stream",
     "text": [
      "husey\n"
     ]
    },
    {
     "ename": "KeyError",
     "evalue": "'HUSEY'",
     "output_type": "error",
     "traceback": [
      "\u001b[1;31m---------------------------------------------------------------------------\u001b[0m",
      "\u001b[1;31mKeyError\u001b[0m                                  Traceback (most recent call last)",
      "\u001b[1;32m<ipython-input-19-fbaa8e848eb3>\u001b[0m in \u001b[0;36m<module>\u001b[1;34m\u001b[0m\n\u001b[0;32m     19\u001b[0m         \u001b[0myeni\u001b[0m \u001b[1;33m+=\u001b[0m \u001b[1;33m(\u001b[0m\u001b[1;34m\" \"\u001b[0m\u001b[1;33m)\u001b[0m\u001b[1;33m\u001b[0m\u001b[1;33m\u001b[0m\u001b[0m\n\u001b[0;32m     20\u001b[0m     \u001b[1;32melse\u001b[0m \u001b[1;33m:\u001b[0m\u001b[1;33m\u001b[0m\u001b[1;33m\u001b[0m\u001b[0m\n\u001b[1;32m---> 21\u001b[1;33m         \u001b[0myeni\u001b[0m \u001b[1;33m+=\u001b[0m \u001b[1;33m(\u001b[0m\u001b[0mmorse_codes\u001b[0m\u001b[1;33m[\u001b[0m\u001b[0mi\u001b[0m\u001b[1;33m]\u001b[0m\u001b[1;33m)\u001b[0m\u001b[1;33m\u001b[0m\u001b[1;33m\u001b[0m\u001b[0m\n\u001b[0m\u001b[0;32m     22\u001b[0m \u001b[0mprint\u001b[0m\u001b[1;33m(\u001b[0m\u001b[0myeni\u001b[0m\u001b[1;33m)\u001b[0m\u001b[1;33m\u001b[0m\u001b[1;33m\u001b[0m\u001b[0m\n",
      "\u001b[1;31mKeyError\u001b[0m: 'HUSEY'"
     ]
    }
   ],
   "source": [
    "morse_codes = {\n",
    "  'A': '.-', 'B': '-...', 'C': '-.-.', 'D': '-..', 'E': '.', 'F': '..-.',\n",
    "  'G': '--.', 'H': '....', 'I': '..', 'J': '.---', 'K': '-.-', 'L': '.-..',\n",
    "  'M': '--', 'N': '-.', 'O': '---', 'P': '.--.', 'Q': '--.-', 'R': '.-.',\n",
    "  'S': '...', 'T': '-', 'U': '..-', 'V': '...-', 'W': '.--', 'X': '-..-',\n",
    "  'Y': '-.--', 'Z': '--..', ' ': ' ', '0': '-----',\n",
    "  '1': '.----', '2': '..---', '3': '...--', '4': '....-', '5': '.....',\n",
    "  '6': '-....', '7': '--...', '8': '---..', '9': '----.',\n",
    "  '&': '.-...', \"'\": '.----.', '@': '.--.-.', ')': '-.--.-', '(': '-.--.',\n",
    "  ':': '---...', ',': '--..--', '=': '-...-', '!': '-.-.--', '.': '.-.-.-',\n",
    "  '-': '-....-', '+': '.-.-.', '\"': '.-..-.', '?': '..--..', '/': '-..-.'\n",
    "}\n",
    "\n",
    "ifade=input().upper().split()\n",
    "yeni=\"\"\n",
    "\n",
    "for i in ifade :\n",
    "    if i == \" \":\n",
    "        yeni += (\" \")\n",
    "    else :\n",
    "        yeni += (morse_codes.get(i))\n",
    "print(yeni)"
   ]
  },
  {
   "cell_type": "code",
   "execution_count": null,
   "id": "fossil-anatomy",
   "metadata": {},
   "outputs": [],
   "source": []
  },
  {
   "cell_type": "code",
   "execution_count": null,
   "id": "structured-sword",
   "metadata": {},
   "outputs": [],
   "source": []
  }
 ],
 "metadata": {
  "kernelspec": {
   "display_name": "Python 3",
   "language": "python",
   "name": "python3"
  },
  "language_info": {
   "codemirror_mode": {
    "name": "ipython",
    "version": 3
   },
   "file_extension": ".py",
   "mimetype": "text/x-python",
   "name": "python",
   "nbconvert_exporter": "python",
   "pygments_lexer": "ipython3",
   "version": "3.7.8"
  }
 },
 "nbformat": 4,
 "nbformat_minor": 5
}
