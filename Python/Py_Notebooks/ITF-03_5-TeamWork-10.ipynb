{
 "cells": [
  {
   "cell_type": "code",
   "execution_count": 1,
   "id": "developing-jerusalem",
   "metadata": {},
   "outputs": [
    {
     "name": "stdout",
     "output_type": "stream",
     "text": [
      "13\n"
     ]
    }
   ],
   "source": [
    "def san(x):\n",
    " print(x+1)\n",
    "x=-2\n",
    "x=4\n",
    "san(12)"
   ]
  },
  {
   "cell_type": "code",
   "execution_count": 2,
   "id": "frequent-symbol",
   "metadata": {},
   "outputs": [
    {
     "name": "stdout",
     "output_type": "stream",
     "text": [
      "3\n",
      "1\n"
     ]
    }
   ],
   "source": [
    "def foo(fname, val):\n",
    " print(fname(val))\n",
    "foo(max, [1, 2, 3])\n",
    "foo(min, [1, 2, 3])"
   ]
  },
  {
   "cell_type": "code",
   "execution_count": 3,
   "id": "raising-synthetic",
   "metadata": {},
   "outputs": [
    {
     "name": "stdout",
     "output_type": "stream",
     "text": [
      "25\n"
     ]
    }
   ],
   "source": [
    "a=10\n",
    "globals()['a']=25\n",
    "print(a)"
   ]
  },
  {
   "cell_type": "code",
   "execution_count": 4,
   "id": "little-admission",
   "metadata": {},
   "outputs": [
    {
     "name": "stdout",
     "output_type": "stream",
     "text": [
      "{'__name__': '__main__', '__doc__': 'Automatically created module for IPython interactive environment', '__package__': None, '__loader__': None, '__spec__': None, '__builtin__': <module 'builtins' (built-in)>, '__builtins__': <module 'builtins' (built-in)>, '_ih': ['', 'def san(x):\\n print(x+1)\\nx=-2\\nx=4\\nsan(12)', 'def foo(fname, val):\\n print(fname(val))\\nfoo(max, [1, 2, 3])\\nfoo(min, [1, 2, 3])', \"a=10\\nglobals()['a']=25\\nprint(a)\", 'print(globals())'], '_oh': {}, '_dh': ['C:\\\\Users\\\\hüseyin'], 'In': ['', 'def san(x):\\n print(x+1)\\nx=-2\\nx=4\\nsan(12)', 'def foo(fname, val):\\n print(fname(val))\\nfoo(max, [1, 2, 3])\\nfoo(min, [1, 2, 3])', \"a=10\\nglobals()['a']=25\\nprint(a)\", 'print(globals())'], 'Out': {}, 'get_ipython': <bound method InteractiveShell.get_ipython of <ipykernel.zmqshell.ZMQInteractiveShell object at 0x000001DA41329648>>, 'exit': <IPython.core.autocall.ZMQExitAutocall object at 0x000001DA41347C48>, 'quit': <IPython.core.autocall.ZMQExitAutocall object at 0x000001DA41347C48>, '_': '', '__': '', '___': '', '_i': \"a=10\\nglobals()['a']=25\\nprint(a)\", '_ii': 'def foo(fname, val):\\n print(fname(val))\\nfoo(max, [1, 2, 3])\\nfoo(min, [1, 2, 3])', '_iii': 'def san(x):\\n print(x+1)\\nx=-2\\nx=4\\nsan(12)', '_i1': 'def san(x):\\n print(x+1)\\nx=-2\\nx=4\\nsan(12)', 'san': <function san at 0x000001DA413963A8>, 'x': 4, '_i2': 'def foo(fname, val):\\n print(fname(val))\\nfoo(max, [1, 2, 3])\\nfoo(min, [1, 2, 3])', 'foo': <function foo at 0x000001DA41396318>, '_i3': \"a=10\\nglobals()['a']=25\\nprint(a)\", 'a': 25, '_i4': 'print(globals())'}\n"
     ]
    }
   ],
   "source": [
    "print(globals())"
   ]
  },
  {
   "cell_type": "code",
   "execution_count": 5,
   "id": "balanced-industry",
   "metadata": {},
   "outputs": [
    {
     "name": "stdout",
     "output_type": "stream",
     "text": [
      "False True\n"
     ]
    }
   ],
   "source": [
    "f=lambda x:bool(x%2)\n",
    "print(f(20), f(21))"
   ]
  },
  {
   "cell_type": "code",
   "execution_count": null,
   "id": "referenced-thought",
   "metadata": {},
   "outputs": [],
   "source": []
  },
  {
   "cell_type": "code",
   "execution_count": null,
   "id": "banned-exposure",
   "metadata": {},
   "outputs": [],
   "source": []
  }
 ],
 "metadata": {
  "kernelspec": {
   "display_name": "Python 3",
   "language": "python",
   "name": "python3"
  },
  "language_info": {
   "codemirror_mode": {
    "name": "ipython",
    "version": 3
   },
   "file_extension": ".py",
   "mimetype": "text/x-python",
   "name": "python",
   "nbconvert_exporter": "python",
   "pygments_lexer": "ipython3",
   "version": "3.7.8"
  }
 },
 "nbformat": 4,
 "nbformat_minor": 5
}
