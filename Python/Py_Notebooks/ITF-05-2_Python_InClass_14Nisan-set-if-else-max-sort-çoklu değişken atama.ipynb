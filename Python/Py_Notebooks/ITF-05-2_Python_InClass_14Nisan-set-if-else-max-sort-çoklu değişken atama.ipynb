{
 "cells": [
  {
   "cell_type": "code",
   "execution_count": 1,
   "id": "excessive-october",
   "metadata": {},
   "outputs": [
    {
     "name": "stdout",
     "output_type": "stream",
     "text": [
      "{'04/14/2021'}\n"
     ]
    }
   ],
   "source": [
    "date = {\"04/14/2021\"}\n",
    "\n",
    "print(date)"
   ]
  },
  {
   "cell_type": "code",
   "execution_count": 2,
   "id": "induced-matrix",
   "metadata": {},
   "outputs": [
    {
     "data": {
      "text/plain": [
       "{'/', '0', '1', '2', '4'}"
      ]
     },
     "execution_count": 2,
     "metadata": {},
     "output_type": "execute_result"
    }
   ],
   "source": [
    "set(\"04/14/2021\")"
   ]
  },
  {
   "cell_type": "code",
   "execution_count": 3,
   "id": "fifteen-stress",
   "metadata": {},
   "outputs": [
    {
     "data": {
      "text/plain": [
       "{1, 2, 3, 4, 5}"
      ]
     },
     "execution_count": 3,
     "metadata": {},
     "output_type": "execute_result"
    }
   ],
   "source": [
    "given_list = [1, 2, 3, 3, 3, 3, 4, 4, 5]\n",
    "\n",
    "#unique leri bulun\n",
    "\n",
    "set(given_list)"
   ]
  },
  {
   "cell_type": "code",
   "execution_count": 4,
   "id": "narrow-parish",
   "metadata": {},
   "outputs": [
    {
     "name": "stdout",
     "output_type": "stream",
     "text": [
      "{'g', 'n', 'w', 'o', 'i', 't'}\n",
      "{'e', 'h', 't', 's', 'g', 'o', 'l', 'w', 'n', 'i', 'a'}\n",
      "{'s', 'a', 'h'}\n",
      "{'l', 'e'}\n"
     ]
    }
   ],
   "source": [
    "capital_USA = set(\"washington\")\n",
    "capital_NewZealand = set(\"wellington\")\n",
    "\n",
    "print(capital_USA.intersection(capital_NewZealand))\n",
    "print(capital_USA.union(capital_NewZealand))\n",
    "print(capital_USA.difference(capital_NewZealand))\n",
    "print(capital_NewZealand.difference(capital_USA))\n"
   ]
  },
  {
   "cell_type": "code",
   "execution_count": 5,
   "id": "corporate-lotus",
   "metadata": {},
   "outputs": [
    {
     "name": "stdout",
     "output_type": "stream",
     "text": [
      "it is true\n"
     ]
    }
   ],
   "source": [
    "if True:\n",
    "    print(\"it is true\")"
   ]
  },
  {
   "cell_type": "code",
   "execution_count": 6,
   "id": "laden-finding",
   "metadata": {},
   "outputs": [
    {
     "name": "stdout",
     "output_type": "stream",
     "text": [
      "ben\n"
     ]
    }
   ],
   "source": [
    "if 1:\n",
    "    print(\"ben\")"
   ]
  },
  {
   "cell_type": "code",
   "execution_count": 7,
   "id": "assisted-representation",
   "metadata": {},
   "outputs": [
    {
     "name": "stdout",
     "output_type": "stream",
     "text": [
      "sen\n"
     ]
    }
   ],
   "source": [
    "if \" \":\n",
    "    print(\"sen\")"
   ]
  },
  {
   "cell_type": "code",
   "execution_count": 8,
   "id": "known-cookbook",
   "metadata": {},
   "outputs": [
    {
     "name": "stdout",
     "output_type": "stream",
     "text": [
      "The number is equal or greater than 10\n"
     ]
    }
   ],
   "source": [
    "number = 23\n",
    "if number >= 10:\n",
    "    print(\"The number is equal or greater than 10\")\n",
    "else:\n",
    "    print(\"The number is less than 10\")"
   ]
  },
  {
   "cell_type": "code",
   "execution_count": null,
   "id": "frank-campbell",
   "metadata": {},
   "outputs": [],
   "source": [
    "score = int (input(\"Enter your score :\"))\n",
    "\n",
    "if score >= 90:\n",
    "    if score >= 95:\n",
    "        Score_letter=\"A+\"\n",
    "    else:\n",
    "        Score_letter=\"A\"\n",
    "elif score >= 80:\n",
    "    if score >= 85:\n",
    "        Score_letter=\"B+\"\n",
    "    else:\n",
    "        Score_letter=\"B\"\n",
    "else:\n",
    "    Score_letter=\"below B\"\n",
    "\n",
    "print (\"Your degree: %s\" % Score_letter)"
   ]
  },
  {
   "cell_type": "code",
   "execution_count": null,
   "id": "naughty-davis",
   "metadata": {},
   "outputs": [],
   "source": [
    "minced = True\n",
    "bread = True\n",
    "\n",
    "# greens\n",
    "lettuce = False\n",
    "pepper = False\n",
    "\n",
    "store = True\n",
    "\n",
    "hamburger = (minced and store and bread) and (lettuce or pepper)\n",
    "if hamburger :\n",
    "    print(\"Bon Apetite\")"
   ]
  },
  {
   "cell_type": "code",
   "execution_count": 5,
   "id": "driven-engineer",
   "metadata": {},
   "outputs": [
    {
     "name": "stdout",
     "output_type": "stream",
     "text": [
      "Bon Apetite\n"
     ]
    }
   ],
   "source": [
    "# HAmburger sorusu\n",
    "\n",
    "minced = True\n",
    "bread = True\n",
    "\n",
    "# greens\n",
    "lettuce = True\n",
    "pepper = False\n",
    "\n",
    "store = True\n",
    "\n",
    "hamburger = (minced and store and bread) and (lettuce or pepper)\n",
    "if hamburger :\n",
    "    print(\"Bon Apetite\")"
   ]
  },
  {
   "cell_type": "code",
   "execution_count": 4,
   "id": "russian-energy",
   "metadata": {},
   "outputs": [
    {
     "name": "stdout",
     "output_type": "stream",
     "text": [
      "True\n"
     ]
    }
   ],
   "source": [
    "set1 = set(\"TWELVE PLUS ONE\")\n",
    "set2 = set(\"ELEVEN PLUS TWO\")\n",
    "print(set1 == set2)"
   ]
  },
  {
   "cell_type": "code",
   "execution_count": null,
   "id": "industrial-davis",
   "metadata": {},
   "outputs": [],
   "source": [
    "aa = input(\"Enter Yes or No :\")\n",
    "ans1 = (aa == \"Yes\")\n",
    "ans2 = (aa == \"No\")\n",
    "print(\"You entered\", ans1)\n",
    "print(\"You entered\", ans2) "
   ]
  },
  {
   "cell_type": "code",
   "execution_count": null,
   "id": "superior-morrison",
   "metadata": {},
   "outputs": [],
   "source": [
    "convert = input(\"Enter Yes or No :\").title().strip() == \"Yes\"\n",
    "print(\"You entered\", convert)"
   ]
  },
  {
   "cell_type": "code",
   "execution_count": null,
   "id": "promotional-active",
   "metadata": {},
   "outputs": [],
   "source": [
    " print(\"You entered\", input(\"Enter Yes or No :\").title().strip() == \"Yes\")"
   ]
  },
  {
   "cell_type": "code",
   "execution_count": null,
   "id": "spoken-client",
   "metadata": {
    "scrolled": true
   },
   "outputs": [],
   "source": [
    "number = int(input(\"enter a number :\"))\n",
    "even = number % 2 == 0\n",
    "if even :\n",
    "    print(number, \"is even\")\n",
    "else:\n",
    "    print(number, \"is odd\")"
   ]
  },
  {
   "cell_type": "code",
   "execution_count": null,
   "id": "respiratory-sunset",
   "metadata": {},
   "outputs": [],
   "source": [
    "number = int(input(\"enter a number :\"))\n",
    "if number % 2 == 0 :\n",
    "    print(number, \"is even\")\n",
    "else:\n",
    "    print(number, \"is odd\")"
   ]
  },
  {
   "cell_type": "code",
   "execution_count": null,
   "id": "possible-limitation",
   "metadata": {},
   "outputs": [],
   "source": [
    "number = int(input(\"enter a number :\"))\n",
    "if number % 2 == 0 :\n",
    "    print(\"{} is even\".format(number))\n",
    "else:\n",
    "    print(\"{} is odd\".format(number))"
   ]
  },
  {
   "cell_type": "code",
   "execution_count": null,
   "id": "educated-approach",
   "metadata": {
    "scrolled": true
   },
   "outputs": [],
   "source": [
    "number = int(input(\"enter a number :\"))\n",
    "if number < 0:\n",
    "    print(\"{} is negative\".format(number))\n",
    "else:\n",
    "    print(\"{} is positive\".format(number))"
   ]
  },
  {
   "cell_type": "code",
   "execution_count": null,
   "id": "parliamentary-preserve",
   "metadata": {},
   "outputs": [],
   "source": [
    "number1 = int(input(\"enter first number :\"))\n",
    "number2 = int(input(\"enter second number :\"))\n",
    "if number1 > number2:\n",
    "    print(\"The large number is {}\".format(number1))\n",
    "else:\n",
    "    print(\"The large number is {}\".format(number2))"
   ]
  },
  {
   "cell_type": "code",
   "execution_count": null,
   "id": "renewable-rhythm",
   "metadata": {},
   "outputs": [],
   "source": [
    "number1 = int(input(\"enter first number :\"))\n",
    "number2 = int(input(\"enter second number :\"))\n",
    "if number1 > number2:\n",
    "    larger = number1\n",
    "else :\n",
    "    larger = number2\n",
    "print(\"The larger number is\", larger)"
   ]
  },
  {
   "cell_type": "code",
   "execution_count": null,
   "id": "mathematical-flooring",
   "metadata": {},
   "outputs": [],
   "source": [
    "bool_value = True\n",
    "if bool_value :\n",
    "    print(\"yes\")\n",
    "else :\n",
    "    print(\"no\")"
   ]
  },
  {
   "cell_type": "code",
   "execution_count": null,
   "id": "martial-helena",
   "metadata": {},
   "outputs": [],
   "source": [
    "bool_value = False\n",
    "if bool_value :\n",
    "    print(\"yes\")\n",
    "else :\n",
    "    print(\"no\")"
   ]
  },
  {
   "cell_type": "code",
   "execution_count": null,
   "id": "proud-brooks",
   "metadata": {},
   "outputs": [],
   "source": [
    "a = False\n",
    "if a :\n",
    "    print(\"yes\")\n",
    "else:\n",
    "    print(\"no\")"
   ]
  },
  {
   "cell_type": "code",
   "execution_count": 2,
   "id": "modified-violence",
   "metadata": {},
   "outputs": [
    {
     "name": "stdout",
     "output_type": "stream",
     "text": [
      "enter a number :5\n",
      "enter another number :4\n",
      "enter the last number :3\n",
      "The largest number is : 5\n"
     ]
    }
   ],
   "source": [
    "num1, num2, num3 = int(input(\"enter a number :\")),\\\n",
    "                    int(input(\"enter another number :\")),\\\n",
    "                    int(input(\"enter the last number :\"))\n",
    "max_num = max(num1, num2, num3)\n",
    "\n",
    "if max_num == num1 :\n",
    "    print(\"The largest number is :\", num1)\n",
    "elif max_num == num2 :\n",
    "    print(\"The largest number is :\", num2)\n",
    "else :\n",
    "    print(\"The largest number is :\", num3)"
   ]
  },
  {
   "cell_type": "code",
   "execution_count": null,
   "id": "hollow-pollution",
   "metadata": {},
   "outputs": [],
   "source": [
    "num1 = int(input(\"enter a number :\"))\n",
    "num2 = int(input(\"enter another number :\"))\n",
    "num3 = int(input(\"enter the last number :\"))\n",
    "sorted_num = sorted([num1, num2, num3], reverse = True)\n",
    "\n",
    "if sorted_num[0] > sorted_num[1] and sorted_num[2]:\n",
    "    print(\"The largest number is :\", sorted_num[0])\n",
    "elif sorted_num[1] > sorted_num[0] and sorted_num[2]:\n",
    "    print(\"The largest number is :\", sorted_num[1])\n",
    "else :\n",
    "    print(\"The largest number is :\", sorted_num[2])\n",
    "                    \n"
   ]
  },
  {
   "cell_type": "code",
   "execution_count": null,
   "id": "found-switch",
   "metadata": {},
   "outputs": [],
   "source": [
    "num1, num2, num3 = int(input(\"enter a number :\")),\\\n",
    "                    int(input(\"enter another number :\")),\\\n",
    "                    int(input(\"enter the last number :\"))\n",
    "\n",
    "if num1 > num2 and num3 :\n",
    "    print(\"The largest number is :\", num1)\n",
    "elif num2 > num1 and num3 :\n",
    "    print(\"The largest number is :\", num2)\n",
    "else :\n",
    "    print(\"The largest number is :\", num3)"
   ]
  },
  {
   "cell_type": "code",
   "execution_count": 1,
   "id": "legal-basin",
   "metadata": {},
   "outputs": [
    {
     "name": "stdout",
     "output_type": "stream",
     "text": [
      "enter a number :2\n",
      "enter another number :3\n",
      "enter the last number :4\n",
      "The largest number is : 4\n"
     ]
    }
   ],
   "source": [
    "num1, num2, num3 = int(input(\"enter a number :\")), int(input(\"enter another number :\")), int(input(\"enter the last number :\"))\n",
    "sorted_num = sorted([num1, num2, num3], reverse = True)\n",
    "\n",
    "if sorted_num[0] > sorted_num[1] and sorted_num[2]:\n",
    "    print(\"The largest number is :\", sorted_num[0])\n",
    "elif sorted_num[1] > sorted_num[0] and sorted_num[2]:\n",
    "    print(\"The largest number is :\", sorted_num[1])\n",
    "else :\n",
    "    print(\"The largest number is :\", sorted_num[2])\n",
    "                    "
   ]
  },
  {
   "cell_type": "code",
   "execution_count": 3,
   "id": "juvenile-precipitation",
   "metadata": {},
   "outputs": [
    {
     "name": "stdout",
     "output_type": "stream",
     "text": [
      "enter a number :2\n",
      "enter another number :8\n",
      "enter the last number :6\n",
      "max : 8\n"
     ]
    }
   ],
   "source": [
    "num1, num2, num3 = int(input(\"enter a number :\")), int(input(\"enter another number :\")), int(input(\"enter the last number :\"))\n",
    "sorted_num = sorted([num1, num2, num3], reverse = True)\n",
    "print(\"max :\", sorted_num[0])"
   ]
  },
  {
   "cell_type": "code",
   "execution_count": 9,
   "id": "proprietary-suspension",
   "metadata": {},
   "outputs": [
    {
     "name": "stdout",
     "output_type": "stream",
     "text": [
      "enter a number :8\n",
      "enter another number :7\n",
      "enter the last number :6\n"
     ]
    },
    {
     "data": {
      "text/plain": [
       "8"
      ]
     },
     "execution_count": 9,
     "metadata": {},
     "output_type": "execute_result"
    }
   ],
   "source": [
    "num1, num2, num3 = int(input(\"enter a number :\")),\\\n",
    "                    int(input(\"enter another number :\")),\\\n",
    "                    int(input(\"enter the last number :\"))\n",
    "max_num = max(num1, num2, num3)\n",
    "max_num"
   ]
  },
  {
   "cell_type": "code",
   "execution_count": 13,
   "id": "hired-demand",
   "metadata": {},
   "outputs": [
    {
     "name": "stdout",
     "output_type": "stream",
     "text": [
      "[1, 2, 3]\n"
     ]
    }
   ],
   "source": [
    "num1, num2, num3 = 1, 2, 3\n",
    "max_num = [num1, num2, num3]\n",
    "print(max_num)"
   ]
  },
  {
   "cell_type": "code",
   "execution_count": 14,
   "id": "isolated-tourist",
   "metadata": {},
   "outputs": [
    {
     "name": "stdout",
     "output_type": "stream",
     "text": [
      "1 iki 3.0\n"
     ]
    }
   ],
   "source": [
    "print(1, \"iki\", 3.0)"
   ]
  },
  {
   "cell_type": "code",
   "execution_count": 15,
   "id": "tight-agency",
   "metadata": {},
   "outputs": [
    {
     "name": "stdout",
     "output_type": "stream",
     "text": [
      "(1, 'iki', 3.0)\n"
     ]
    }
   ],
   "source": [
    "a = (1, \"iki\", 3.0)\n",
    "print(a)"
   ]
  },
  {
   "cell_type": "code",
   "execution_count": null,
   "id": "exposed-grammar",
   "metadata": {},
   "outputs": [],
   "source": []
  }
 ],
 "metadata": {
  "kernelspec": {
   "display_name": "Python 3",
   "language": "python",
   "name": "python3"
  },
  "language_info": {
   "codemirror_mode": {
    "name": "ipython",
    "version": 3
   },
   "file_extension": ".py",
   "mimetype": "text/x-python",
   "name": "python",
   "nbconvert_exporter": "python",
   "pygments_lexer": "ipython3",
   "version": "3.7.8"
  }
 },
 "nbformat": 4,
 "nbformat_minor": 5
}
