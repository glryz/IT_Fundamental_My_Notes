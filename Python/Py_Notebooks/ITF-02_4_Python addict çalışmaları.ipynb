{
 "cells": [
  {
   "cell_type": "code",
   "execution_count": null,
   "id": "limiting-chair",
   "metadata": {},
   "outputs": [],
   "source": [
    "Given an unsorted array of integers, \n",
    "find the length of the longest consecutive elements sequence.\n",
    "For example, given [100, 4, 200, 1, 3, 2], the longest consecutive \n",
    "element sequence is [1, 2, 3, 4]. Return its length: 4."
   ]
  },
  {
   "cell_type": "code",
   "execution_count": null,
   "id": "european-intake",
   "metadata": {},
   "outputs": [],
   "source": [
    "def len_of_consecutive(args):\n",
    "    args.sort()\n",
    "    counter = 1\n",
    "    res = []\n",
    "    for i in args:\n",
    "        while i+1 in args:\n",
    "            i += 1\n",
    "            counter += 1\n",
    "        res.append(counter)\n",
    "        counter = 1\n",
    "    return max(res)"
   ]
  },
  {
   "cell_type": "code",
   "execution_count": null,
   "id": "european-recommendation",
   "metadata": {},
   "outputs": [],
   "source": [
    "def list1(veriable):\n",
    "    veriable.sort()\n",
    "    count = 0\n",
    "    sayım_listesi=[]\n",
    "    liste=[]\n",
    "    for i in veriable:\n",
    "        sayım_listesi.append(i)\n",
    "        sayılan=len(sayım_listesi)\n",
    "        if i!=veriable[-1]:\n",
    "            if i+1 == veriable[sayılan]:\n",
    "                count += 1\n",
    "            else:\n",
    "                count += 1\n",
    "                liste.append(count)\n",
    "                count = 0\n",
    "    return max(liste)\n",
    "list1([1, 2, 3, 4, 5, 34, 67, 71, 89, 90, 91, 92, 93, 94, 96])"
   ]
  },
  {
   "cell_type": "code",
   "execution_count": null,
   "id": "sunset-niagara",
   "metadata": {},
   "outputs": [],
   "source": [
    "def consecutive_elements(a):\n",
    "  b = []\n",
    "  for i in a:\n",
    "    if i-1 in sorted(a) or i+1 in sorted(a):\n",
    "      b.insert(0, i)\n",
    "  print(sorted(b))\n",
    "consecutive_elements([1, 2, 3, 4, 5, 34, 67, 71, 89, 90, 91, 92, 93, 94, 95])"
   ]
  },
  {
   "cell_type": "code",
   "execution_count": null,
   "id": "anonymous-scotland",
   "metadata": {},
   "outputs": [],
   "source": [
    "def con_len(a):\n",
    "    c = []\n",
    "    b = min(a)\n",
    "    for i in sorted(a):\n",
    "        while i + 1 in a :\n",
    "            i += 1\n",
    "            b += 1\n",
    "        c.append(b)\n",
    "        b = 1\n",
    "    return max(c)"
   ]
  },
  {
   "cell_type": "code",
   "execution_count": null,
   "id": "optional-barrel",
   "metadata": {},
   "outputs": [],
   "source": [
    "Implement division of two positive integers without using the division,\n",
    "multiplication, or modulus operators. Return the quotient as an integer, \n",
    "ignoring the remainder."
   ]
  },
  {
   "cell_type": "code",
   "execution_count": null,
   "id": "muslim-quarter",
   "metadata": {},
   "outputs": [],
   "source": [
    "def div(a,b):\n",
    "  sayac=0\n",
    "  while a>=b:\n",
    "    a-=b\n",
    "    sayac+=1\n",
    "  return sayac"
   ]
  },
  {
   "cell_type": "code",
   "execution_count": null,
   "id": "auburn-samoa",
   "metadata": {},
   "outputs": [],
   "source": [
    "def division(x,y):\n",
    "  toplam = 0\n",
    "  count = 0\n",
    "  while toplam <= x:\n",
    "    toplam += y\n",
    "    count += 1\n",
    "  return count-1 \n",
    "division(10,4)    "
   ]
  },
  {
   "cell_type": "code",
   "execution_count": null,
   "id": "fitting-machine",
   "metadata": {},
   "outputs": [],
   "source": [
    "def div_num(x,y):\n",
    "    count=0\n",
    "    while x>=y:\n",
    "        x-=y\n",
    "        count+=1\n",
    "    return count\n",
    "div_num(1550,3)"
   ]
  },
  {
   "cell_type": "code",
   "execution_count": null,
   "id": "subtle-lemon",
   "metadata": {},
   "outputs": [],
   "source": [
    "def division(a,b):\n",
    "    total=0\n",
    "    while a>=b:\n",
    "        a-=b\n",
    "        total+=1\n",
    "    return total"
   ]
  },
  {
   "cell_type": "code",
   "execution_count": null,
   "id": "broke-vessel",
   "metadata": {},
   "outputs": [],
   "source": [
    "def primitive_div(a,b):\n",
    "    return len([i for i in range(a,0,-b) if i >= b])"
   ]
  },
  {
   "cell_type": "code",
   "execution_count": null,
   "id": "super-whale",
   "metadata": {},
   "outputs": [],
   "source": [
    "Given an array of integers where every integer occurs three times except for one integer, \n",
    "which only occurs once, find and return the non-duplicated integer.\n",
    "For example, given [6, 1, 3, 3, 3, 6, 6], return 1. Given [13, 19, 13, 13], return 19."
   ]
  },
  {
   "cell_type": "code",
   "execution_count": null,
   "id": "curious-belfast",
   "metadata": {},
   "outputs": [],
   "source": [
    "def nonrepeating_integer(liste):\n",
    "    for i in set(liste):\n",
    "        if liste.count(i)==1:\n",
    "            return i"
   ]
  },
  {
   "cell_type": "code",
   "execution_count": null,
   "id": "naked-recommendation",
   "metadata": {},
   "outputs": [],
   "source": [
    "def uniq_number(x):\n",
    "    for i in set(x):\n",
    "        if x.count(i)==1:\n",
    "            print(i)\n",
    "uniq_number([6, 1, 3, 3, 3, 6, 6])"
   ]
  },
  {
   "cell_type": "code",
   "execution_count": null,
   "id": "reverse-hepatitis",
   "metadata": {},
   "outputs": [],
   "source": [
    "def unique(a):\n",
    "    return min(a, key = a.count)"
   ]
  },
  {
   "cell_type": "code",
   "execution_count": null,
   "id": "important-compiler",
   "metadata": {},
   "outputs": [],
   "source": [
    "Compute the running median of a sequence of numbers.\n",
    "That is, given a stream of numbers, print out the median of the list \n",
    "so far on each new element. Recall that the median of an \n",
    "even-numbered list is the average of the two middle numbers.\n",
    "For example, given the sequence [2, 1, 5, 7, 2, 0, 5],\n",
    "your algorithm should print out:\n",
    "2\n",
    "1.5\n",
    "2\n",
    "3.5\n",
    "2\n",
    "2\n",
    "2"
   ]
  },
  {
   "cell_type": "code",
   "execution_count": 2,
   "id": "contemporary-cocktail",
   "metadata": {},
   "outputs": [
    {
     "name": "stdout",
     "output_type": "stream",
     "text": [
      "2\n",
      "1.5\n",
      "2\n",
      "3.5\n",
      "2\n",
      "2\n",
      "2\n"
     ]
    }
   ],
   "source": [
    "sequence = [2,1,5,7,2,0,5]\n",
    "new_list = []\n",
    "\n",
    "for i in sequence:\n",
    "    new_list.append(i)\n",
    "    x = sorted(new_list)\n",
    "    n = len(new_list)\n",
    "    if n%2 != 0 :\n",
    "        print(x[int((n+1)/2)-1])\n",
    "    elif n%2 == 0:\n",
    "        a = (x[int((n-1)/2)] + x[int(n/2)])/2 \n",
    "        if int(a) == a :\n",
    "            print(int(a))\n",
    "        else :\n",
    "            print(a)"
   ]
  },
  {
   "cell_type": "code",
   "execution_count": 4,
   "id": "saving-drama",
   "metadata": {},
   "outputs": [
    {
     "name": "stdout",
     "output_type": "stream",
     "text": [
      "2\n",
      "2.0\n",
      "2\n",
      "2.0\n",
      "2\n",
      "2.0\n",
      "2\n",
      "2.0\n"
     ]
    }
   ],
   "source": [
    "a = [2, 1, 5, 7, 2, 0, 5]\n",
    "b = []\n",
    "c = 0\n",
    "while c < len(a):\n",
    "    b.append(a[c])\n",
    "    if len(b) == 0:\n",
    "        median = 0\n",
    "    elif len(b) == 1:\n",
    "        median = b[0]\n",
    "    else:\n",
    "        if len(b) % 2 != 0:\n",
    "            median = sorted(b)[(len(b) + 1) // 2 - 1]\n",
    "        elif len(b) % 2 == 0:\n",
    "            median = (sorted(b)[len(b) // 2] + sorted(b)[len(b) // 2 - 1])/2\n",
    "        c += 1\n",
    "    print(median)"
   ]
  },
  {
   "cell_type": "code",
   "execution_count": null,
   "id": "upper-glenn",
   "metadata": {},
   "outputs": [],
   "source": [
    "A number is Economical if the quantity of digits of its prime factorization \n",
    "(including exponents greater than 1) is equal to or lower than \n",
    "the digit quantity of the number itself.\n",
    "Given an integer n, implement a function that returns a string:\n",
    "\"Equidigital\" if the quantity of digits of the prime factorization \n",
    "(including exponents greater than 1) is equal to the quantity of digits of n;\n",
    "\"Frugal\" if the quantity of digits of the prime factorization \n",
    "(including exponents greater than 1) is lower than the quantity of digits of n;\n",
    "\"Wasteful\" if none of the two above conditions is true.\n",
    "\n",
    "Examples\n",
    "is_economical(14) ➞ \"Equidigital\"\n",
    "# The prime factorization of 14 (2 digits) is [2, 7] (2 digits)\n",
    "# Exponents equal to 1 are not counted\n",
    "is_economical(125) ➞ \"Frugal\"\n",
    "# The prime factorization of 125 (3 digits) is [5^3] (2 digits)\n",
    "# Notice how exponents greater than 1 are counted\n",
    "is_economical(1024) ➞ \"Frugal\"\n",
    "# The prime factorization of 1024 (4 digits) is [2^10] (3 digits)\n",
    "is_economical(30) ➞ \"Wasteful\"\n",
    "# The prime factorization of 30 (2 digits) is [2, 3, 5] (3 digits)\n",
    "\n",
    "Notes\n",
    "Any given n will be a positive integer greater than 1.\n",
    "Remember to count also the exponents greater than 1 \n",
    "into the prime factorization: 2¹ = 2 (one digit), \n",
    "2² = 22 (two digits), 2¹° = 210 (three digits)..."
   ]
  },
  {
   "cell_type": "code",
   "execution_count": null,
   "id": "worse-cornell",
   "metadata": {},
   "outputs": [],
   "source": [
    "n = 125\n",
    "prime_factors = {}\n",
    "def result (n,prime_factors):\n",
    "    if len (prime_factors) > 1:\n",
    "        count = 0\n",
    "        for k in prime_factors:\n",
    "            count+=len(str(k))\n",
    "            if count > len(str(n)):\n",
    "                print ('Wasteful')\n",
    "            elif count == len(str(n)):\n",
    "                print ('Equidigital')\n",
    "            else:\n",
    "                print ('Frugal') \n",
    "    elif len (prime_factors) == 1:\n",
    "        count = 0\n",
    "        for k,v in prime_factors.items():\n",
    "            if v == 1:\n",
    "                print ('Equidigital')\n",
    "            else:\n",
    "                count+=len(str(k))+len(str(v))\n",
    "                if count > len(str(n)):\n",
    "                    print ('Wasteful')\n",
    "                elif count == len(str(n)):\n",
    "                    print ('Equidigital')\n",
    "                else:\n",
    "                    print ('Frugal') \n",
    "def prime_factor(n):\n",
    "    m= n\n",
    "    for i in range(2, m+1):\n",
    "        while not m % i and m>=i:\n",
    "            if not i in prime_factors:\n",
    "                prime_factors[i]=1\n",
    "                m=m//i\n",
    "                if m==1:\n",
    "                    result(n,prime_factors)\n",
    "            else:\n",
    "                prime_factors[i]+=1\n",
    "                m=m//i\n",
    "                if m==1:\n",
    "                    result(n,prime_factors)\n",
    "prime_factor(n)"
   ]
  },
  {
   "cell_type": "code",
   "execution_count": null,
   "id": "typical-skiing",
   "metadata": {},
   "outputs": [],
   "source": [
    "def is_economical(n):\n",
    "  n1=n\n",
    "  pf = []\n",
    "  upf=[]\n",
    "  for i in range(2,n):\n",
    "    while n1%i==0:\n",
    "      n1=n1//i\n",
    "      pf.append(i)\n",
    "  for i in pf:\n",
    "    if pf.count(i)>1:\n",
    "      upf.append(i)\n",
    "      upf.append(pf.count(i))\n",
    "      pf=list(filter(lambda a:a!=i, pf))\n",
    "    elif pf.count(i)==1:\n",
    "      upf.append(i)\n",
    "      pf=list(filter(lambda a:a!=i, pf))\n",
    "  upf=\"\".join(list(map(str,upf)))\n",
    "  if len(str(n))==len(upf):\n",
    "    return \"Equidigital\"\n",
    "  elif len(str(n)) > len(upf):\n",
    "    return \"Frugal\"\n",
    "  elif len(str(n)) < len(upf):\n",
    "    return \"Wasteful\""
   ]
  },
  {
   "cell_type": "code",
   "execution_count": null,
   "id": "novel-wiring",
   "metadata": {},
   "outputs": [],
   "source": [
    "prime=[]\n",
    "def prime_or_not(number):\n",
    "  counter= 0\n",
    "  for i in range(1,number+1):\n",
    "    if number % i==0:\n",
    "        counter+=1\n",
    "  if counter >2:\n",
    "    return False\n",
    "  else:\n",
    "    return True\n",
    "def is_economical(n):\n",
    "  prime=[i for i in range(2,n+1) if n%i==0 and prime_or_not(i)==True]\n",
    "  prime_count=\"\"\n",
    "  for i in prime:\n",
    "    prime_count +=str(i)\n",
    "  if len(prime)==1:\n",
    "    for i in range(prime[0]**2):\n",
    "      if prime[0]**i==n:\n",
    "        count= str(prime[0])+str(i)\n",
    "        if len(count)==len(str(n)):\n",
    "          print(\"burdayım\")\n",
    "        elif len(count)>len(str(n)):\n",
    "          print(\"Wasteful\")\n",
    "        elif len(count)<len(str(n)):\n",
    "          print(\"Frugal\")\n",
    "  elif len(prime_count)==len(str(n)):\n",
    "    print(\"Equidigital\")\n",
    "  else: \n",
    "    print(\"Wasteful\")\n",
    "is_economical(123)"
   ]
  },
  {
   "cell_type": "code",
   "execution_count": null,
   "id": "dietary-bicycle",
   "metadata": {},
   "outputs": [],
   "source": [
    "from Prime_Number_v2 import prime_list \n",
    "# daha önce ödev olarak verilen; verilen sayıya kadar olan asal sayıları liste olarak veren fonksiyon.\n",
    "def is_economical(n):   \n",
    "    primes = prime_list(n)\n",
    "    empty_list = []\n",
    "    for i in primes:\n",
    "        counter = 0\n",
    "        x = n\n",
    "        while x % i == 0:\n",
    "            counter += 1\n",
    "            x = x // i\n",
    "        if counter >= 1:\n",
    "            empty_list.append(i)\n",
    "            empty_list.append(counter)\n",
    "    checklist = [str(k) for k in empty_list if k > 1 ]\n",
    "    if len(str(n)) == len(\"\".join(checklist)):\n",
    "        print(\"Equidigital\")\n",
    "    elif len(str(n)) > len(\"\".join(checklist)):\n",
    "        print(\"Frugal\")\n",
    "    else:\n",
    "        print(\"Wasteful\")"
   ]
  },
  {
   "cell_type": "code",
   "execution_count": null,
   "id": "advisory-springer",
   "metadata": {},
   "outputs": [],
   "source": [
    "Sum of Pairs\n",
    "Given a list of integers and a single sum value, return the first two values (parse from the left please) in order of appearance that add up to form the sum.\n",
    "\n",
    "sum_pairs([11, 3, 7, 5],         10)\n",
    "#              ^--^      3 + 7 = 10\n",
    "== [3, 7]\n",
    "\n",
    "sum_pairs([4, 3, 2, 3, 4],         6)\n",
    "#          ^-----^         4 + 2 = 6, indices: 0, 2 *\n",
    "#             ^-----^      3 + 3 = 6, indices: 1, 3\n",
    "#                ^-----^   2 + 4 = 6, indices: 2, 4\n",
    "#  * entire pair is earlier, and therefore is the correct answer\n",
    "== [4, 2]\n",
    "\n",
    "sum_pairs([0, 0, -2, 3], 2)\n",
    "#  there are no pairs of values that can be added to produce 2.\n",
    "== None/nil/undefined (Based on the language)\n",
    "\n",
    "sum_pairs([10, 5, 2, 3, 7, 5],         10)\n",
    "#              ^-----------^   5 + 5 = 10, indices: 1, 5\n",
    "#                    ^--^      3 + 7 = 10, indices: 3, 4 *\n",
    "#  * entire pair is earlier, and therefore is the correct answer\n",
    "== [3, 7]\n",
    "\n",
    "#Negative numbers and duplicate numbers can and will appear."
   ]
  },
  {
   "cell_type": "code",
   "execution_count": null,
   "id": "wanted-aquarium",
   "metadata": {},
   "outputs": [],
   "source": [
    "def sum_pairs(a):\n",
    "    b = set()\n",
    "    for i in a[0]:\n",
    "        if (a[1] - i) in b:\n",
    "            return [(a[1] - i), i]\n",
    "        else:\n",
    "            b.add(i)\n",
    "sum_pairs(([10, 5, 2, 3, 7, 5], 10))"
   ]
  },
  {
   "cell_type": "code",
   "execution_count": null,
   "id": "collective-accounting",
   "metadata": {},
   "outputs": [],
   "source": [
    "Selamlar. Stringlerin de sort fonksiyonuna tabi olabileceğini uygulamalı gösterebileceğimiz bir kod alıştırması.\n",
    "Description:\n",
    "What is an anagram? Well, two words are anagrams of each other if they both contain the same letters. For example:\n",
    "'abba' & 'baab' == true\n",
    "'abba' & 'bbaa' == true\n",
    "'abba' & 'abbba' == false\n",
    "'abba' & 'abca' == false\n",
    "Write a function that will find all the anagrams of a word from a list.\n",
    "You will be given two inputs a word and an array with words. \n",
    "You should return an array of all the anagrams or an empty array if there are none.\n",
    "For example:\n",
    "anagrams('abba', ['aabb', 'abcd', 'bbaa', 'dada']) => ['aabb', 'bbaa']\n",
    "anagrams('racer', ['crazer', 'carer', 'racar', 'caers', 'racer']) => ['carer', 'racer']\n",
    "anagrams('laser', ['lazing', 'lazy',  'lacer']) => []"
   ]
  },
  {
   "cell_type": "code",
   "execution_count": 39,
   "id": "refined-portable",
   "metadata": {},
   "outputs": [
    {
     "data": {
      "text/plain": [
       "['aabb', 'bbaa']"
      ]
     },
     "execution_count": 39,
     "metadata": {},
     "output_type": "execute_result"
    }
   ],
   "source": [
    "def anagrams(s,l):\n",
    "    return [i for i in l if sorted(i)==sorted(s)]\n",
    "\n",
    "anagrams('abba', ['aabb', 'abcd', 'bbaa', 'dada'])"
   ]
  },
  {
   "cell_type": "code",
   "execution_count": null,
   "id": "ranking-savannah",
   "metadata": {},
   "outputs": [],
   "source": [
    "def anagrams(word, words):\n",
    "    summ_list = []\n",
    "    for i in words:\n",
    "        summ = 0\n",
    "        for ii in i:\n",
    "            summ += ord(ii)\n",
    "        summ_list. append(summ)\n",
    "    summ_2 = 0\n",
    "    for x in word:\n",
    "        summ_2 += ord(x)\n",
    "    result = [] \n",
    "    for y in zip(words, summ_list):\n",
    "        if summ_2 == y[1]:  \n",
    "            result.append(y[0])\n",
    "    return result"
   ]
  },
  {
   "cell_type": "code",
   "execution_count": null,
   "id": "greatest-florist",
   "metadata": {},
   "outputs": [],
   "source": [
    "Given a string of words, you need to find the highest scoring word.\n",
    "Each letter of a word scores points according to its position in the alphabet: a = 1, b = 2, c = 3 etc.\n",
    "You need to return the highest scoring word as a string.\n",
    "If two words score the same, return the word that appears earliest in the original string.\n",
    "All letters will be lowercase and all inputs will be valid.\n",
    "        test.assert_equals(high('man i need a taxi up to ubud'), 'taxi')\n",
    "        test.assert_equals(high('what time are we climbing up the volcano'), 'volcano')\n",
    "        test.assert_equals(high('take me to semynak'), 'semynak')\n",
    "        test.assert_equals(high('aa b'), 'aa')\n",
    "        test.assert_equals(high('b aa'), 'b')\n",
    "        test.assert_equals(high('bb d'), 'bb')\n",
    "        test.assert_equals(high('d bb'), 'd')\n",
    "        test.assert_equals(high(\"aaa b\"), \"aaa\") "
   ]
  },
  {
   "cell_type": "code",
   "execution_count": 40,
   "id": "streaming-journalist",
   "metadata": {},
   "outputs": [],
   "source": [
    "def high(s):\n",
    "    a=\"abcdefghijklmnopqrstuvwxyz\"\n",
    "    s=s.split()\n",
    "    t=[]\n",
    "    top=0\n",
    "    for i in s:\n",
    "        for k in i:\n",
    "            top+=a.index(k)+1\n",
    "        t.append(top)\n",
    "        top=0\n",
    "    return s[t.index(max(t))]"
   ]
  },
  {
   "cell_type": "code",
   "execution_count": 41,
   "id": "ultimate-discrimination",
   "metadata": {},
   "outputs": [],
   "source": [
    "def high(x):\n",
    "    sum_list = []\n",
    "    for i in x.split():\n",
    "        sum = 0\n",
    "        for ii in i:\n",
    "            sum += (ord(ii) - 96)  # ord(\"a\") = 97, by subtracting 96, equalize a to 1, b to 2 and so on\n",
    "        sum_list.append(sum)\n",
    "    sum_list\n",
    "    return x.split()[sum_list.index(max(sum_list))]"
   ]
  },
  {
   "cell_type": "code",
   "execution_count": null,
   "id": "downtown-printer",
   "metadata": {},
   "outputs": [],
   "source": []
  },
  {
   "cell_type": "code",
   "execution_count": null,
   "id": "stuck-dodge",
   "metadata": {},
   "outputs": [],
   "source": [
    "- verilen saniye cinsinden değeri saat dakika ve saniye olarak girmeyi istiyor:\n",
    "Write a function, which takes a non-negative integer (seconds) \n",
    "as input and returns the time in a human-readable format (HH:MM:SS)\n",
    "HH = hours, padded to 2 digits, range: 00 - 99\n",
    "MM = minutes, padded to 2 digits, range: 00 - 59\n",
    "SS = seconds, padded to 2 digits, range: 00 - 59\n",
    "The maximum time never exceeds 359999 (99:59:59)\n",
    "Testleri de bunlar:\n",
    "test.assert_equals(make_readable(0), \"00:00:00\")\n",
    "test.assert_equals(make_readable(5), \"00:00:05\")\n",
    "test.assert_equals(make_readable(60), \"00:01:00\")\n",
    "test.assert_equals(make_readable(86399), \"23:59:59\")"
   ]
  },
  {
   "cell_type": "code",
   "execution_count": null,
   "id": "unnecessary-counter",
   "metadata": {},
   "outputs": [],
   "source": [
    "def make_readable(s):\n",
    "    ss=s%60\n",
    "    mm=(s//60)%60\n",
    "    hh=(s//60)//60\n",
    "    return f\"{hh:02d}:{mm:02d}:{ss:02d}\""
   ]
  },
  {
   "cell_type": "code",
   "execution_count": null,
   "id": "governing-colon",
   "metadata": {},
   "outputs": [],
   "source": [
    "def make_readable(seconds):\n",
    "    # Do something\n",
    "    h = seconds // 3600\n",
    "    m = (seconds - h * 3600) // 60\n",
    "    s = seconds - h * 3600 - m * 60\n",
    "    return \"{:02}:{:02}:{:02}\".format(h, m, s)"
   ]
  },
  {
   "cell_type": "code",
   "execution_count": null,
   "id": "copyrighted-briefing",
   "metadata": {},
   "outputs": [],
   "source": [
    "Complete the function scramble(str1, str2) that returns true if a portion of str1 characters can be rearranged to match str2, otherwise returns false.\n",
    "\n",
    "Notes:\n",
    "\n",
    "Only lower case letters will be used (a-z). No punctuation or digits will be included.\n",
    "Performance needs to be considered\n",
    "Input strings s1 and s2 are null terminated.\n",
    "Examples\n",
    "scramble('rkqodlw', 'world') ==> True\n",
    "scramble('cedewaraaossoqqyt', 'codewars') ==> True\n",
    "scramble('katas', 'steak') ==> False"
   ]
  },
  {
   "cell_type": "code",
   "execution_count": 42,
   "id": "needed-parks",
   "metadata": {},
   "outputs": [],
   "source": [
    "def scramble(s1,s2):\n",
    "    return \"\".join(filter(lambda x: s2.count(x)<=s1.count(x), s2))==s2\n",
    "#Testleri geçiyor ama time efficient testini geçemiyo"
   ]
  },
  {
   "cell_type": "code",
   "execution_count": 46,
   "id": "associate-certification",
   "metadata": {},
   "outputs": [
    {
     "name": "stdout",
     "output_type": "stream",
     "text": [
      "True\n"
     ]
    }
   ],
   "source": [
    "def scramble(s1, s2):\n",
    "    return all([True if s2.count(i)<=s1.count(i) else False for i in set(s2)])\n",
    "#Tüm testleri geçiyor\n",
    "\n",
    "print(scramble('rkqodlw', 'world'))"
   ]
  },
  {
   "cell_type": "code",
   "execution_count": 47,
   "id": "difficult-magnitude",
   "metadata": {},
   "outputs": [
    {
     "name": "stdout",
     "output_type": "stream",
     "text": [
      "False\n"
     ]
    }
   ],
   "source": [
    "s1 = 'katas'\n",
    "s2 = \"steak\"\n",
    "c = [True  if i in s1 else False for i in s2]\n",
    "if c.count(True) == len(c):\n",
    "    print(True)  \n",
    "else:\n",
    "    print(False)"
   ]
  },
  {
   "cell_type": "code",
   "execution_count": 49,
   "id": "rural-laundry",
   "metadata": {},
   "outputs": [
    {
     "name": "stdout",
     "output_type": "stream",
     "text": [
      "False\n"
     ]
    }
   ],
   "source": [
    "def scramble(s1, s2):\n",
    "    return not bool([x for x in set(s2) if s2.count(x) > s1.count(x)])\n",
    "\n",
    "print(scramble('rkqodlw', 'world'))"
   ]
  },
  {
   "cell_type": "code",
   "execution_count": null,
   "id": "visible-public",
   "metadata": {},
   "outputs": [],
   "source": [
    "This problem was asked by Google.\n",
    "Given two strings A and B, return whether or not A can be shifted some number of times to get B.\n",
    "For example, if A is abcde and B is cdeab, return true. If A is abc and B is acb, return false. "
   ]
  },
  {
   "cell_type": "code",
   "execution_count": 55,
   "id": "infinite-choice",
   "metadata": {},
   "outputs": [
    {
     "name": "stdout",
     "output_type": "stream",
     "text": [
      "True\n"
     ]
    },
    {
     "data": {
      "text/plain": [
       "False"
      ]
     },
     "execution_count": 55,
     "metadata": {},
     "output_type": "execute_result"
    }
   ],
   "source": [
    "A = \"abcde\"\n",
    "B = \"cdeab\"\n",
    "C = \"acbde\"\n",
    "\n",
    "liste = [A]\n",
    "n = 1\n",
    "while n < len (A) - 1:\n",
    "    liste.append(A[n:] + A[:n])\n",
    "    n+= 1\n",
    "print(B in liste)\n",
    "C in liste"
   ]
  },
  {
   "cell_type": "code",
   "execution_count": null,
   "id": "complete-railway",
   "metadata": {},
   "outputs": [],
   "source": []
  },
  {
   "cell_type": "code",
   "execution_count": 5,
   "id": "exclusive-balance",
   "metadata": {},
   "outputs": [
    {
     "name": "stdout",
     "output_type": "stream",
     "text": [
      "{'str': 3, 'int': 2, 'bool': 1, 'list': 1, 'tuple': 1, 'dict': 1, 'set': 2}\n"
     ]
    }
   ],
   "source": [
    "veri = [\"a\", \"b\", True, (False,1), {\"1\",2}, [1,2], {\"2\":\"two\"}, {2,\"3\"}, \"c\", 23 , 0]\n",
    "type_dict = {\"str\":0, \"int\":0, \"bool\":0, \"list\":0, \"tuple\":0, \"dict\":0, \"set\":0}\n",
    "for i in veri:\n",
    "    if \"{}\".format(type(i))z bvc.strip(\"<class \").strip(\">\").strip(\"'\") in type_dict.keys():\n",
    "        type_dict[\"{}\".format(type(i)).strip(\"<class \").strip(\">\").strip(\"'\")] += 1\n",
    "print(type_dict)"
   ]
  },
  {
   "cell_type": "code",
   "execution_count": null,
   "id": "interracial-accountability",
   "metadata": {},
   "outputs": [],
   "source": []
  }
 ],
 "metadata": {
  "kernelspec": {
   "display_name": "Python 3",
   "language": "python",
   "name": "python3"
  },
  "language_info": {
   "codemirror_mode": {
    "name": "ipython",
    "version": 3
   },
   "file_extension": ".py",
   "mimetype": "text/x-python",
   "name": "python",
   "nbconvert_exporter": "python",
   "pygments_lexer": "ipython3",
   "version": "3.7.8"
  }
 },
 "nbformat": 4,
 "nbformat_minor": 5
}
