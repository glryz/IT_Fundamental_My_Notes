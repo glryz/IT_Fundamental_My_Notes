{
 "cells": [
  {
   "cell_type": "code",
   "execution_count": 44,
   "id": "painted-raising",
   "metadata": {},
   "outputs": [
    {
     "name": "stdout",
     "output_type": "stream",
     "text": [
      "\n",
      "1\n",
      "22\n",
      "333\n",
      "4444\n",
      "55555\n",
      "666666\n",
      "7777777\n",
      "88888888\n",
      "999999999\n",
      "88888888\n",
      "7777777\n",
      "666666\n",
      "55555\n",
      "4444\n",
      "333\n",
      "22\n",
      "1\n"
     ]
    }
   ],
   "source": [
    "for i in range(10):\n",
    "    print(str(i) * i)\n",
    "for j in range(8, 0, -1):\n",
    "    print(str(j) * j)"
   ]
  },
  {
   "cell_type": "code",
   "execution_count": 37,
   "id": "wanted-richmond",
   "metadata": {},
   "outputs": [
    {
     "name": "stdout",
     "output_type": "stream",
     "text": [
      "\n",
      "01\n",
      "012\n",
      "0123\n",
      "01234\n",
      "012345\n",
      "0123456\n",
      "01234567\n",
      "012345678\n",
      "0123456789\n",
      "012345678\n",
      "01234567\n",
      "0123456\n",
      "012345\n",
      "01234\n",
      "0123\n",
      "012\n",
      "01\n",
      "0\n"
     ]
    }
   ],
   "source": [
    "for i in range(1, 10):\n",
    "    print() # her bir i değeri için bir enter koy.\n",
    "    for j in range(i + 1):\n",
    "        print(j, end = '')\n",
    "for k in range(10, 0, -1):\n",
    "    print()\n",
    "    for l in range(k - 1):\n",
    "        print(l, end='')\n",
    "    "
   ]
  },
  {
   "cell_type": "code",
   "execution_count": 18,
   "id": "engaging-cruise",
   "metadata": {},
   "outputs": [
    {
     "name": "stdout",
     "output_type": "stream",
     "text": [
      "Please enter your saved amount: 400\n",
      "You must save more, keep saving!\n",
      "Please enter your saved amount: 501\n",
      "You saved more than half, keep saving!\n",
      "Please enter your saved amount: 1200\n",
      "Yippee! You can buy your PS4\n"
     ]
    }
   ],
   "source": [
    "ps4_price = 1000\n",
    "saved_amount = 0\n",
    "while not saved_amount > ps4_price :\n",
    "    \n",
    "    saved_amount = int(input('Please enter your saved amount: '))\n",
    "   \n",
    "    if saved_amount > ps4_price :\n",
    "        print(\"Yippee! You can buy your PS4\")\n",
    "    elif saved_amount <= ps4_price / 2 :\n",
    "        print(\"You must save more, keep saving!\")\n",
    "    else :\n",
    "        print(\"You saved more than half, keep saving!\")\n"
   ]
  },
  {
   "cell_type": "code",
   "execution_count": null,
   "id": "tight-clone",
   "metadata": {},
   "outputs": [
    {
     "name": "stdout",
     "output_type": "stream",
     "text": [
      "Please enter your saved amount: 380\n",
      "You saved 38.8 percent of the PS4, save $ 600 more \n"
     ]
    }
   ],
   "source": [
    "ps4_price = 980\n",
    "saved_amount = 0\n",
    "while not saved_amount == ps4_price :\n",
    "    \n",
    "    saved_amount = int(input('Please enter your saved amount: '))\n",
    "    \n",
    "    print(f\"You saved {round((saved_amount * 100 / 980), 1)} percent of the PS4, save $ {ps4_price - saved_amount} more \")\n",
    "  \n"
   ]
  },
  {
   "cell_type": "code",
   "execution_count": 15,
   "id": "wired-metallic",
   "metadata": {},
   "outputs": [
    {
     "name": "stdout",
     "output_type": "stream",
     "text": [
      "istediğiniz oyun? :eta\n",
      "istediğiniz oyun yoktur!\n",
      "istediğiniz oyun? :ets\n",
      "Hangi sürüm olacak? :3\n",
      "aradığınız version yoktur!\n"
     ]
    }
   ],
   "source": [
    "\n",
    "kontrol = 1\n",
    "while  kontrol:\n",
    "    games = input(\"istediğiniz oyun? :\")\n",
    "    \n",
    "    if games == (\"cs\"):\n",
    "        version = int(input(\"Hangi sürüm olacak? :\"))\n",
    "        if (version == 1 or version == 2):\n",
    "            print(\"ücret 30 TL\")\n",
    "        elif (version == 3):\n",
    "            print(\"ücret 40 tl\")\n",
    "        else:\n",
    "            print(\"aradığınız version  yoktur!\")\n",
    "        kontrol = 0\n",
    "            \n",
    "    elif games == (\"mod\"):\n",
    "        print(\"ücret 15 TL\")\n",
    "        kontrol = 0\n",
    "        \n",
    "    elif games == (\"ets\"):\n",
    "        version = int(input(\"Hangi sürüm olacak? :\"))\n",
    "        if (version == 1 or version == 2):\n",
    "            print(\"ücret 20 TL\")\n",
    "        else:\n",
    "            print(\"aradığınız version yoktur!\")\n",
    "        kontrol = 0\n",
    "    else:\n",
    "        print(\"istediğiniz oyun yoktur!\")\n",
    "        \n"
   ]
  },
  {
   "cell_type": "code",
   "execution_count": 22,
   "id": "blocked-stick",
   "metadata": {},
   "outputs": [
    {
     "name": "stdout",
     "output_type": "stream",
     "text": [
      "How many numbers will you enter? :3\n",
      "Enter a number :5\n",
      "Enter a number :7\n",
      "Enter a number :9\n",
      "Enter a number :3\n",
      "Enter a number :7\n",
      "Enter a number :4\n",
      "The largest number is : 9\n"
     ]
    }
   ],
   "source": [
    "# diyelim ki \"a\" kadar daha sayı girilmesi isteniyor.\n",
    "\n",
    "a = int(input(\"How many numbers will you enter? :\"))\n",
    "values = [int(input(\"Enter a number :\")) for i in range(a)]\n",
    "\n",
    "# Şimdi while döngüsü ile girişleri yapalım. \n",
    "\n",
    "b = 1\n",
    "while b <= a :\n",
    "    values.append(int(input(\"Enter a number :\")))\n",
    "    b += 1\n",
    "print(\"The largest number is :\", max(values))"
   ]
  },
  {
   "cell_type": "code",
   "execution_count": 11,
   "id": "vietnamese-acoustic",
   "metadata": {},
   "outputs": [
    {
     "name": "stdout",
     "output_type": "stream",
     "text": [
      "How many numbers will you enter? :3\n",
      "Enter a number :1\n"
     ]
    },
    {
     "ename": "TypeError",
     "evalue": "'int' object is not iterable",
     "output_type": "error",
     "traceback": [
      "\u001b[1;31m---------------------------------------------------------------------------\u001b[0m",
      "\u001b[1;31mTypeError\u001b[0m                                 Traceback (most recent call last)",
      "\u001b[1;32m<ipython-input-11-f31645237dcf>\u001b[0m in \u001b[0;36m<module>\u001b[1;34m\u001b[0m\n\u001b[0;32m      3\u001b[0m \u001b[0mvalues\u001b[0m\u001b[1;33m=\u001b[0m\u001b[1;33m[\u001b[0m\u001b[1;33m]\u001b[0m\u001b[1;33m\u001b[0m\u001b[1;33m\u001b[0m\u001b[0m\n\u001b[0;32m      4\u001b[0m \u001b[1;32mwhile\u001b[0m \u001b[0md\u001b[0m \u001b[1;33m<=\u001b[0m \u001b[0mq\u001b[0m \u001b[1;33m:\u001b[0m\u001b[1;33m\u001b[0m\u001b[1;33m\u001b[0m\u001b[0m\n\u001b[1;32m----> 5\u001b[1;33m     \u001b[0mvalues\u001b[0m \u001b[1;33m+=\u001b[0m \u001b[1;33m(\u001b[0m\u001b[0mint\u001b[0m\u001b[1;33m(\u001b[0m\u001b[0minput\u001b[0m\u001b[1;33m(\u001b[0m\u001b[1;34m\"Enter a number :\"\u001b[0m\u001b[1;33m)\u001b[0m\u001b[1;33m)\u001b[0m\u001b[1;33m)\u001b[0m   \u001b[1;31m# collectionslara \"+=\" ile ilave edemiyoruz!!!!\u001b[0m\u001b[1;33m\u001b[0m\u001b[1;33m\u001b[0m\u001b[0m\n\u001b[0m\u001b[0;32m      6\u001b[0m     \u001b[0md\u001b[0m \u001b[1;33m+=\u001b[0m \u001b[1;36m1\u001b[0m\u001b[1;33m\u001b[0m\u001b[1;33m\u001b[0m\u001b[0m\n\u001b[0;32m      7\u001b[0m \u001b[0mprint\u001b[0m\u001b[1;33m(\u001b[0m\u001b[1;34m\"The largest number is :\"\u001b[0m\u001b[1;33m,\u001b[0m \u001b[0mmax\u001b[0m\u001b[1;33m(\u001b[0m\u001b[0mvalues\u001b[0m\u001b[1;33m)\u001b[0m\u001b[1;33m)\u001b[0m\u001b[1;33m\u001b[0m\u001b[1;33m\u001b[0m\u001b[0m\n",
      "\u001b[1;31mTypeError\u001b[0m: 'int' object is not iterable"
     ]
    }
   ],
   "source": [
    "# HATA! collectionslara \"+=\" ile ilave edemiyoruz!!!!\n",
    "\n",
    "q = int(input(\"How many numbers will you enter? :\"))\n",
    "d = 1\n",
    "values=[]\n",
    "while d <= q :\n",
    "    values += (int(input(\"Enter a number :\")))    # hata burada! collectionslara \"+=\" ile ilave edemiyoruz!!!!\n",
    "    d += 1\n",
    "print(\"The largest number is :\", max(values))"
   ]
  },
  {
   "cell_type": "code",
   "execution_count": null,
   "id": "laughing-answer",
   "metadata": {},
   "outputs": [],
   "source": [
    "# Ornek olarak verilen stringin her bir karakteri sirasiyla buyuk harf haline \n",
    "# gelecek ve sonuc bir liste seklinde olacak.\n",
    "# Ornek 1:  \n",
    "# test = ‘iki kelime’\n",
    "# sonuc = ['Iki kelime', 'iKi kelime', 'ikI kelime', 'iki Kelime', 'iki kElime', \n",
    "#         'iki keLime', 'iki kelIme', 'iki keliMe', 'iki kelimE']\n",
    "# Kural:\n",
    "# 1.    Verilen test stringleri kucuk harf.\n",
    "# 2.    Verilen test stringlerinde yer alan bosluklar yokmus gibi bir sonraki karakterle devam edecek:\n",
    "\n"
   ]
  },
  {
   "cell_type": "code",
   "execution_count": 2,
   "id": "ceramic-match",
   "metadata": {},
   "outputs": [
    {
     "name": "stdout",
     "output_type": "stream",
     "text": [
      "bir cümle giriniz :bu bir cümledir\n",
      "['Bu bir cümledir', 'bU bir cümledir', 'Bu bir cümledir', 'bu bIr cümledir', 'bu biR cümledir', 'bu bir Cümledir', 'bu bir cÜmledir', 'bu bir cüMledir', 'bu bir cümLedir', 'bu bir cümlEdir', 'bu bir cümleDir', 'bu bIr cümledir', 'bu biR cümledir']\n"
     ]
    }
   ],
   "source": [
    " # Benim çözümüm\n",
    "\n",
    "cümle = (input(\"bir cümle giriniz :\")).lower()\n",
    "liste = []\n",
    "for i in range(len(cümle)):\n",
    "    if cümle[i] != \" \":   # harf boşluk değil ise aşağıdaki işlemi yap, yani boşluk görürsen geç.\n",
    "        liste.append(cümle.replace(cümle[i], cümle[i].upper(), 1))  # o harfi büyük harf ile replace ederek boş listeye ekle ve bunu 1 kere yap.\n",
    "    elif cümle[i] == \" \": # boşluk görürsen geç işlemi burada sağlanıyor.\n",
    "        continue\n",
    "print(liste)"
   ]
  },
  {
   "cell_type": "code",
   "execution_count": 10,
   "id": "charming-brake",
   "metadata": {},
   "outputs": [
    {
     "name": "stdout",
     "output_type": "stream",
     "text": [
      "bir rakam giriniz. \n",
      "bitirmek için 'q' basınız2\n",
      "bir rakam giriniz. \n",
      "bitirmek için 'q' basınız14\n",
      "bir rakam giriniz. \n",
      "bitirmek için 'q' basınız7\n",
      "bir rakam giriniz. \n",
      "bitirmek için 'q' basınız3\n",
      "bir rakam giriniz. \n",
      "bitirmek için 'q' basınızq\n",
      "21473\n",
      "rakamların toplamı : 17\n"
     ]
    }
   ],
   "source": [
    "# Girilen sayıların rakamlarını toplama:\n",
    "\n",
    "liste=\"\"\n",
    "soru = \"bir rakam giriniz. \\nbitirmek için 'q' basınız\"\n",
    "num=(input(soru)).lower().strip()\n",
    "while num != \"q\":\n",
    "    liste += num\n",
    "    num=input(soru).lower().strip()\n",
    "print(liste)\n",
    "toplam = 0\n",
    "for i in liste :\n",
    "    toplam += int(i)\n",
    "print(\"rakamların toplamı :\", toplam)\n"
   ]
  },
  {
   "cell_type": "code",
   "execution_count": null,
   "id": "swedish-mayor",
   "metadata": {},
   "outputs": [],
   "source": [
    "# su toplama sorusu\n",
    "\n",
    "liste=[]\n",
    "while True:\n",
    "  a=input(\"Type 'ok' when you are done: \")\n",
    "  if a.isdigit():\n",
    "    liste.append(int(a))\n",
    "  else: \n",
    "    break\n",
    "minler=[0]\n",
    "toplam=0\n",
    "for i in range(1,len(liste)):\n",
    "  if i==len(liste)-1:\n",
    "    minler.append(0)\n",
    "  elif i==1:\n",
    "    minler.append(min(max(liste[i+1:]), liste[0]))\n",
    "  elif i==len(liste)-2:\n",
    "    minler.append(min(liste[len(liste)-1], max(liste[(i-1)::-1])))\n",
    "  else:\n",
    "    minler.append(min(max(liste[i+1:]), max(liste[(i-1)::-1])))\n",
    "for i in range(len(liste)):  \n",
    "  if liste[i] < minler[i]:\n",
    "    toplam+=minler[i]-liste[i]\n",
    "print(toplam)\n"
   ]
  },
  {
   "cell_type": "code",
   "execution_count": null,
   "id": "herbal-maker",
   "metadata": {},
   "outputs": [],
   "source": [
    "# su toplama sorusu\n",
    "\n",
    "pipes=[0,1,0,2,1,0,1,3,2,1,2,1]\n",
    "area =0\n",
    "ind = 0 #ind =index\n",
    "while ind< len(pipes)-1:\n",
    "  for i in range(ind+1, len(pipes)):\n",
    "    pipe =pipes[i]\n",
    "    if pipe >= pipes[ind]:\n",
    "      num_pipes = i-ind-1  #sondaki dahil olmadigi icin -1 cikartiyoruz\n",
    "      area+=(min(pipe,pipes[ind])*num_pipes)-sum(pipes[ind+1:i])\n",
    "      ind=i\n",
    "      break\n",
    "  else :\n",
    "    p = max(pipes[ind+1:])\n",
    "    new_ind= pipes[ind+1:].index(p) +ind +1\n",
    "    num_pipes =new_ind -ind-1\n",
    "    area+=(p*num_pipes) -sum(pipes[ind+1:new_ind])\n",
    "    ind = new_ind\n",
    "print(area)"
   ]
  },
  {
   "cell_type": "code",
   "execution_count": null,
   "id": "joint-motivation",
   "metadata": {},
   "outputs": [],
   "source": [
    "# SU TOPLAMA SORUSU PHILIP\n",
    "\n",
    "# given = [0, 1, 0, 2, 1, 0, 1, 3, 2, 1, 2, 1]\n",
    "given = []\n",
    "while True:\n",
    "    num = input(\"Type 'ok' when you are done: \")\n",
    "    if num != \"ok\":\n",
    "        given.append(int(num))\n",
    "    else:\n",
    "        break\n",
    "width = len(given) # sütunlardan oluşacak olan tablonun genişliği\n",
    "height = max(given) # sütunlardan oluşacak tablonun max. yüksekliği\n",
    "indx = 0 # girilen sayıların index değeri\n",
    "p = 0   # girilen sayının index deerini bulabilmek için oluşturduğumuz değişken.\n",
    "        # şöyle ki listede aynı sayıdan iki adet mevcut ise indexini hesaplarken -->\n",
    "        # --> girdiğimiz sayıyı ilk gördüğü indexini yazmasını engellemek için\n",
    "areas = 0 #suyun birikeceği toplam alan\n",
    "list1 = [] # o satırda yer alan sayıalrın index numaralarının yer aldığı liste\n",
    "for i in range(1,height+1): #en alt satırdan başlayarak üste doğru çıkıyoruz.\n",
    "  p = 0\n",
    "  list1 = []\n",
    "  for j in given:\n",
    "    indx = given.index(j, p, p+1)\n",
    "    if j-i >= 0: #girilen sayıların o satırda yer işgal edip etmedğini kontrol ediyoruz. edenleri belirliyoruz.\n",
    "      list1.append(indx)\n",
    "    p += 1\n",
    "  areas += (max(list1) - min(list1) - len(list1) + 1)\n",
    "print(\"Rain-trapped area : \", areas)"
   ]
  },
  {
   "cell_type": "code",
   "execution_count": 3,
   "id": "other-gender",
   "metadata": {},
   "outputs": [
    {
     "name": "stdout",
     "output_type": "stream",
     "text": [
      "sayı giriniz, çıkmak için q basınız :3\n",
      "sayı giriniz, çıkmak için q basınız :1\n",
      "sayı giriniz, çıkmak için q basınız :8\n",
      "sayı giriniz, çıkmak için q basınız :6\n",
      "sayı giriniz, çıkmak için q basınız :4\n",
      "sayı giriniz, çıkmak için q basınız :9\n",
      "sayı giriniz, çıkmak için q basınız :8\n",
      "sayı giriniz, çıkmak için q basınız :3\n",
      "sayı giriniz, çıkmak için q basınız :7\n",
      "sayı giriniz, çıkmak için q basınız :q\n",
      "[3, 1, 8, 6, 4, 9, 8, 3, 7]\n"
     ]
    }
   ],
   "source": [
    "# SU TOPLAMA SORUSU \n",
    "\n",
    "# given = [0, 1, 0, 2, 1, 0, 1, 3, 2, 1, 2, 1]\n",
    "\n",
    "given = []\n",
    "giriş = input('sayı giriniz, çıkmak için q basınız :')\n",
    "while not giriş == 'q' :\n",
    "    given.append(int(giriş))\n",
    "    giriş= input('sayı giriniz, çıkmak için q basınız :')\n",
    "else :\n",
    "    print(given)\n",
    "    \n"
   ]
  },
  {
   "cell_type": "code",
   "execution_count": 32,
   "id": "greater-optimization",
   "metadata": {},
   "outputs": [
    {
     "name": "stdout",
     "output_type": "stream",
     "text": [
      "(1, 'i') (2, 'k') (3, 'i') (4, ' ') (5, 'k') (6, 'e') (7, 'l') (8, 'i') (9, 'm') (10, 'e')\n"
     ]
    }
   ],
   "source": [
    "test = 'iki kelime'\n",
    "a = enumerate(test, 1)\n",
    "print(*a)"
   ]
  },
  {
   "cell_type": "code",
   "execution_count": 36,
   "id": "hundred-viking",
   "metadata": {},
   "outputs": [
    {
     "name": "stdout",
     "output_type": "stream",
     "text": [
      "word:hüseyin\n",
      "h-ü-s-e-y-i-n"
     ]
    }
   ],
   "source": [
    "word = input(\"word:\")\n",
    "count = 0\n",
    "for i in word :\n",
    "    count += 1\n",
    "    if count < len(word) :\n",
    "        i = i + '-'\n",
    "    print(i, end = '')"
   ]
  },
  {
   "cell_type": "code",
   "execution_count": 26,
   "id": "missing-boulder",
   "metadata": {},
   "outputs": [
    {
     "name": "stdout",
     "output_type": "stream",
     "text": [
      "bir kelime giriniz :hüseyin\n",
      "h-ü-s-e-y-i-n"
     ]
    }
   ],
   "source": [
    "kelime=input(\"bir kelime giriniz :\")\n",
    "count=0\n",
    "for i in kelime:\n",
    "    count+=1\n",
    "    if count < len(kelime):\n",
    "        i = i + '-'\n",
    "    print(i, end=\"\")\n",
    "       \n",
    "        "
   ]
  },
  {
   "cell_type": "code",
   "execution_count": null,
   "id": "biblical-southeast",
   "metadata": {},
   "outputs": [],
   "source": [
    "# Telefondaki kilit ekran algoritması (Suat B.'nin çalışması)\n",
    "\n",
    "import time\n",
    "sifre =4434\n",
    "def bekle(sn):\n",
    "    print(\"{}sn beklemeniz gerekmektedir!!!\".format(sn))\n",
    "    while sn>=0:\n",
    "        print(sn,end=\",\")\n",
    "        time.sleep(1)\n",
    "        sn=sn-1\n",
    "def parolaiste():\n",
    "    global parola\n",
    "    parola=int(input(\"4 haneli kilit şifresini giriniz:\"))\n",
    "while True:\n",
    "    parolaiste()\n",
    "    sayac=1\n",
    "    if parola==sifre:\n",
    "        print(\"GİRİŞ DOĞRULANDI.\")\n",
    "        break\n",
    "    elif parola!=sifre:\n",
    "        print(\"HATALI ŞİFRE\")\n",
    "        while True:\n",
    "            sayac+=1\n",
    "            parolaiste()\n",
    "            if parola==sifre:\n",
    "                print(\"GİRİŞ DOĞRULANDI\")\n",
    "                sayac=1\n",
    "                break\n",
    "            elif sayac>=0 and sayac<3:\n",
    "                print(\"HATALI ŞİFRE\")\n",
    "            elif sayac>=3 and sayac<5:\n",
    "                print(\"HATALI ŞİFRE\")\n",
    "                print(\"3 ve daha fazla hatalı şifre girdiniz. 3 sn beklemeniz gerekmektedir!\")\n",
    "                bekle(3)\n",
    "                print()\n",
    "            elif sayac>=5 and sayac<10:\n",
    "                print(\"HATALI ŞİFRE\")\n",
    "                print(\"5 ve daha fazla hatalı şifre girdiniz. 10 sn beklemeniz gerekmektedir!\")\n",
    "                bekle(10)\n",
    "                print()\n",
    "            elif sayac>=10:\n",
    "                print(\"HATALI ŞİFRE\")\n",
    "                print(\"10 ve daha fazla hatalı şifre girdiniz. 30 sn beklemeniz gerekmektedir!\")\n",
    "                bekle(30)\n",
    "                print()\n",
    "    break"
   ]
  },
  {
   "cell_type": "code",
   "execution_count": 4,
   "id": "lonely-culture",
   "metadata": {},
   "outputs": [
    {
     "name": "stdout",
     "output_type": "stream",
     "text": [
      "huseyin\n",
      ".... ..- ... . -.-- .. -. \n"
     ]
    }
   ],
   "source": [
    "morse_codes = {\n",
    "  'A': '.-', 'B': '-...', 'C': '-.-.', 'D': '-..', 'E': '.', 'F': '..-.',\n",
    "  'G': '--.', 'H': '....', 'I': '..', 'J': '.---', 'K': '-.-', 'L': '.-..',\n",
    "  'M': '--', 'N': '-.', 'O': '---', 'P': '.--.', 'Q': '--.-', 'R': '.-.',\n",
    "  'S': '...', 'T': '-', 'U': '..-', 'V': '...-', 'W': '.--', 'X': '-..-',\n",
    "  'Y': '-.--', 'Z': '--..', ' ': ' ', '0': '-----',\n",
    "  '1': '.----', '2': '..---', '3': '...--', '4': '....-', '5': '.....',\n",
    "  '6': '-....', '7': '--...', '8': '---..', '9': '----.',\n",
    "  '&': '.-...', \"'\": '.----.', '@': '.--.-.', ')': '-.--.-', '(': '-.--.',\n",
    "  ':': '---...', ',': '--..--', '=': '-...-', '!': '-.-.--', '.': '.-.-.-',\n",
    "  '-': '-....-', '+': '.-.-.', '\"': '.-..-.', '?': '..--..', '/': '-..-.'\n",
    "}\n",
    "\n",
    "ifade=input().upper().split()\n",
    "yeni=\"\"\n",
    "for i in ifade:\n",
    "    if i in morse_codes.values():\n",
    "        for k, v in morse_codes.items(): # k, keyleri, v valueleri temsil ediyor. mors kodu item'ları içerisinde baştan sonra git.  \n",
    "            if i==v:                     # girilen kod (yani i) value ile eşitse onun key'ini yani harf karşılığını çekip al \n",
    "                yeni+=k                  # ve yeni'ye o k'yı (harfi) ilave et.\n",
    "    else:\n",
    "        for k in i:                      # i value'ler yani mors kodları arasında yoksa demek ki bu düz harf, o zaman\n",
    "            yeni += morse_codes[k]+\" \"   # k'yı her i için kontrol et (for k in i), yeni'ye o mors kodunun value'sunu\n",
    "print(yeni)                              # yani morse_codes[k]'yı ilave et."
   ]
  },
  {
   "cell_type": "code",
   "execution_count": 3,
   "id": "placed-binding",
   "metadata": {},
   "outputs": [
    {
     "name": "stdout",
     "output_type": "stream",
     "text": [
      "lütfen kelime ya da cümle giriniz: huseyin\n"
     ]
    },
    {
     "ename": "KeyError",
     "evalue": "'HUSEYIN'",
     "output_type": "error",
     "traceback": [
      "\u001b[1;31m---------------------------------------------------------------------------\u001b[0m",
      "\u001b[1;31mKeyError\u001b[0m                                  Traceback (most recent call last)",
      "\u001b[1;32m<ipython-input-3-042dc439736b>\u001b[0m in \u001b[0;36m<module>\u001b[1;34m\u001b[0m\n\u001b[0;32m     15\u001b[0m \u001b[0mmorse\u001b[0m \u001b[1;33m=\u001b[0m \u001b[1;34m\"\"\u001b[0m\u001b[1;33m\u001b[0m\u001b[1;33m\u001b[0m\u001b[0m\n\u001b[0;32m     16\u001b[0m \u001b[1;32mfor\u001b[0m \u001b[0mi\u001b[0m \u001b[1;32min\u001b[0m \u001b[0msentence\u001b[0m\u001b[1;33m:\u001b[0m\u001b[1;33m\u001b[0m\u001b[1;33m\u001b[0m\u001b[0m\n\u001b[1;32m---> 17\u001b[1;33m     \u001b[0mmorse\u001b[0m \u001b[1;33m+=\u001b[0m \u001b[0mmorse_codes\u001b[0m\u001b[1;33m[\u001b[0m\u001b[0mi\u001b[0m\u001b[1;33m]\u001b[0m \u001b[1;33m+\u001b[0m \u001b[1;34m\" \"\u001b[0m\u001b[1;33m\u001b[0m\u001b[1;33m\u001b[0m\u001b[0m\n\u001b[0m\u001b[0;32m     18\u001b[0m \u001b[0mprint\u001b[0m\u001b[1;33m(\u001b[0m\u001b[0mmorse\u001b[0m\u001b[1;33m)\u001b[0m\u001b[1;33m\u001b[0m\u001b[1;33m\u001b[0m\u001b[0m\n\u001b[0;32m     19\u001b[0m \u001b[1;31m# mors kodu cümleye çeviriliyor.\u001b[0m\u001b[1;33m\u001b[0m\u001b[1;33m\u001b[0m\u001b[1;33m\u001b[0m\u001b[0m\n",
      "\u001b[1;31mKeyError\u001b[0m: 'HUSEYIN'"
     ]
    }
   ],
   "source": [
    "morse_codes = {\n",
    "  'A': '.-', 'B': '-...', 'C': '-.-.', 'D': '-..', 'E': '.', 'F': '..-.',\n",
    "  'G': '--.', 'H': '....', 'I': '..', 'J': '.---', 'K': '-.-', 'L': '.-..',\n",
    "  'M': '--', 'N': '-.', 'O': '---', 'P': '.--.', 'Q': '--.-', 'R': '.-.',\n",
    "  'S': '...', 'T': '-', 'U': '..-', 'V': '...-', 'W': '.--', 'X': '-..-',\n",
    "  'Y': '-.--', 'Z': '--..', ' ': ' ', '0': '-----',\n",
    "  '1': '.----', '2': '..---', '3': '...--', '4': '....-', '5': '.....',\n",
    "  '6': '-....', '7': '--...', '8': '---..', '9': '----.',\n",
    "  '&': '.-...', \"'\": '.----.', '@': '.--.-.', ')': '-.--.-', '(': '-.--.',\n",
    "  ':': '---...', ',': '--..--', '=': '-...-', '!': '-.-.--', '.': '.-.-.-',\n",
    "  '-': '-....-', '+': '.-.-.', '\"': '.-..-.', '?': '..--..', '/': '-..-.'\n",
    "}\n",
    "# cümle morse koduna çeviriliyor\n",
    "sentence = input(\"lütfen kelime ya da cümle giriniz: \").upper().split()\n",
    "morse = \"\"\n",
    "for i in sentence:\n",
    "    morse += morse_codes[i] + \" \"\n",
    "print(morse)        \n",
    "# mors kodu cümleye çeviriliyor.\n",
    "coded = input(\"lütfen mors kodunu giriniz: \").split()\n",
    "decoded = \"\"\n",
    "for i in coded:\n",
    "    for j in morse_codes.keys():\n",
    "        if i == morse_codes[j]:\n",
    "            decoded += j+\" \"\n",
    "print(decoded)           "
   ]
  },
  {
   "cell_type": "code",
   "execution_count": 31,
   "id": "median-leone",
   "metadata": {},
   "outputs": [
    {
     "name": "stdout",
     "output_type": "stream",
     "text": [
      "b\n"
     ]
    }
   ],
   "source": [
    "sözlük = {'a' : 15, 'b' : 14}\n",
    "for key, value in sözlük.items():\n",
    "    if value == 14:\n",
    "        print(key)\n"
   ]
  },
  {
   "cell_type": "code",
   "execution_count": 1,
   "id": "careful-attachment",
   "metadata": {},
   "outputs": [
    {
     "data": {
      "text/plain": [
       "{'a': 15, 'b': 20, 'c': 25, 'd': 30}"
      ]
     },
     "execution_count": 1,
     "metadata": {},
     "output_type": "execute_result"
    }
   ],
   "source": [
    "def new(keys,values):\n",
    "    return dict(map(lambda x, y: (x,y), keys,values))\n",
    "keys = ['a', 'b', 'c', 'd']\n",
    "values = [15, 20, 25, 30]\n",
    "new(keys,values)"
   ]
  },
  {
   "cell_type": "code",
   "execution_count": 3,
   "id": "abandoned-andrew",
   "metadata": {},
   "outputs": [
    {
     "name": "stdout",
     "output_type": "stream",
     "text": [
      "please enter a positive integer number: 0\n",
      "please enter a positive integer number: \n",
      "please enter a positive integer number: -5\n",
      "please enter a positive integer number: \n",
      "please enter a positive integer number: -3\n",
      "please enter a positive integer number: \n",
      "please enter a positive integer number: 3\n",
      "3\n"
     ]
    }
   ],
   "source": [
    "while True:\n",
    "    number = int(input(\"please enter a positive integer number: \"))\n",
    "    if number <= 0:\n",
    "        print(\"please enter a positive integer number: \")\n",
    "    else:\n",
    "        print(number)\n",
    "        break"
   ]
  },
  {
   "cell_type": "code",
   "execution_count": 12,
   "id": "romance-filing",
   "metadata": {},
   "outputs": [
    {
     "name": "stdout",
     "output_type": "stream",
     "text": [
      "ÇARPIM TABLOSU \n",
      "\n",
      "1*1=1       2*1=2       3*1=3       4*1=4       5*1=5       6*1=6       7*1=7       8*1=8       9*1=9       \n",
      "\n",
      "1*2=2       2*2=4       3*2=6       4*2=8       5*2=10       6*2=12       7*2=14       8*2=16       9*2=18       \n",
      "\n",
      "1*3=3       2*3=6       3*3=9       4*3=12       5*3=15       6*3=18       7*3=21       8*3=24       9*3=27       \n",
      "\n",
      "1*4=4       2*4=8       3*4=12       4*4=16       5*4=20       6*4=24       7*4=28       8*4=32       9*4=36       \n",
      "\n",
      "1*5=5       2*5=10       3*5=15       4*5=20       5*5=25       6*5=30       7*5=35       8*5=40       9*5=45       \n",
      "\n",
      "1*6=6       2*6=12       3*6=18       4*6=24       5*6=30       6*6=36       7*6=42       8*6=48       9*6=54       \n",
      "\n",
      "1*7=7       2*7=14       3*7=21       4*7=28       5*7=35       6*7=42       7*7=49       8*7=56       9*7=63       \n",
      "\n",
      "1*8=8       2*8=16       3*8=24       4*8=32       5*8=40       6*8=48       7*8=56       8*8=64       9*8=72       \n",
      "\n",
      "1*9=9       2*9=18       3*9=27       4*9=36       5*9=45       6*9=54       7*9=63       8*9=72       9*9=81       \n",
      "\n"
     ]
    }
   ],
   "source": [
    "print (\"ÇARPIM TABLOSU \\n\")\n",
    "k=1\n",
    "while k<10:\n",
    "    for i in range (1,10):\n",
    "        print (f\"{i}*{k}={i*k}\", end= '       ')\n",
    "        while i>8:\n",
    "            print ('\\n')\n",
    "            break\n",
    "    k+=1"
   ]
  },
  {
   "cell_type": "code",
   "execution_count": 20,
   "id": "greenhouse-terminal",
   "metadata": {},
   "outputs": [
    {
     "name": "stdout",
     "output_type": "stream",
     "text": [
      "Gungectikce kodlamayi daha cok seviyorum. \n"
     ]
    }
   ],
   "source": [
    "# Size verilen text te yer alan her ikinci kelime ters cevrilmis. cümleyi \n",
    "# doğru şekilde düzeltiniz.\n",
    "\n",
    "# benim çözümüm\n",
    "\n",
    "mesaj = \"  Gungectikce        iyamaldok   daha  koc    seviyorum. \"\n",
    "güncel = \"\"\n",
    "for i in range(len(mesaj.split())): # cümleyi boşluklarından arındırıp kelimeklerine ayırdık.\n",
    "                                    # hatırla, bu metot kelimeleri listeye alıyordu. \n",
    "                                    # len() fonksiyonu o listenin uzunluğu yani kelime sayısını verir.\n",
    "    if i % 2 :                      # i'nin tek sayı olması hali (yani 1., 3., 5. indeksteki (ters yazılan) kelimeler)\n",
    "        güncel += mesaj.split()[i][::-1] + ' '  # tek sayılı indeksinin kelimesini ters çevir ve boşluk koyarak güncel değişkenine ekle.\n",
    "    else :\n",
    "        güncel += mesaj.split()[i] + ' '       # çift sayılı indeksinin kelimesini olduğu gibi yazdır ve boşluk koy\n",
    "print(güncel)\n",
    "\n",
    "# bu çözümde cümlenin sonunda bir boşluk fazla oluyor. şimdi bunu düzeltelim."
   ]
  },
  {
   "cell_type": "code",
   "execution_count": 24,
   "id": "united-locking",
   "metadata": {},
   "outputs": [
    {
     "name": "stdout",
     "output_type": "stream",
     "text": [
      "Gungectikce kodlamayi daha cok seviyorum.\n"
     ]
    }
   ],
   "source": [
    "# benim çözümüm\n",
    "\n",
    "mesaj = \"  Gungectikce        iyamaldok   daha  koc    seviyorum. \"\n",
    "yeni=\"\"\n",
    "for i in range(len(mesaj.split())) :\n",
    "    if not i % 2 and i == (len(mesaj.split())-1) :\n",
    "        yeni += (mesaj.split()[i]) \n",
    "    elif not i % 2 :\n",
    "        yeni += (mesaj.split()[i] + ' ')\n",
    "    else :\n",
    "        yeni += (mesaj.split()[i][::-1] + ' ')\n",
    "        \n",
    "print(yeni)"
   ]
  },
  {
   "cell_type": "code",
   "execution_count": 7,
   "id": "bound-cabinet",
   "metadata": {},
   "outputs": [
    {
     "name": "stdout",
     "output_type": "stream",
     "text": [
      "Gungectikce kodlamayi daha cok seviyorum.\n"
     ]
    }
   ],
   "source": [
    "# cümlenin sonundaki boşluğu kaldırmak için cümlenin son kelimesi (len()-1) \n",
    "# ve geri kalan kelimelerine farklı işlem yapmamız gerekiyor. if ile bu koşulları belirleyip\n",
    "# son kelime ise sonuna boşluk koymayıp, içerdeki bir kelime ise boşluk koyacak kodu yazıyoruz.\n",
    "\n",
    "mesaj = \"  Gungectikce        iyamaldok   daha  koc    seviyorum. \"\n",
    "güncel = \"\"\n",
    "for i in range(len(mesaj.split())):\n",
    "    if i % 2 :                                   # cümlenin tek rakamlı kelimesi ise..\n",
    "        if i == len(mesaj.split())-1:            # i,  mesajın son kelimesi ise..\n",
    "            güncel += mesaj.split()[i][::-1]\n",
    "        else :                                   # i, kelime sonda değil ise\n",
    "            güncel += mesaj.split()[i][::-1] + ' '   # yani içerde bir kelime ise sonuna boşluk koy.\n",
    "    else :\n",
    "        if i == len(mesaj.split())-1:             # i'nin temsil ettiği kelime mesajın son kelimesi ise..\n",
    "            güncel += mesaj.split()[i]\n",
    "        else:                                     # i'nin temsil ettiği kelime sonda değil ise.\n",
    "            güncel += mesaj.split()[i] + ' '\n",
    "print(güncel)"
   ]
  },
  {
   "cell_type": "code",
   "execution_count": 4,
   "id": "amended-philadelphia",
   "metadata": {},
   "outputs": [
    {
     "name": "stdout",
     "output_type": "stream",
     "text": [
      "Gungectikce kodlamayi daha cok seviyorum.\n",
      "(0, 'Gungectikce') (1, 'iyamaldok') (2, 'daha') (3, 'koc') (4, 'seviyorum.')\n"
     ]
    }
   ],
   "source": [
    "# bu sorunun ileri düzey çözümü şu şekildedir.\n",
    "\n",
    "d = \"   Gungectikce        iyamaldok   daha  koc    seviyorum.  \"\n",
    "z = \" \".join(y[::-1] if x % 2 else y for x, y in enumerate(d.split())) \n",
    "print(z)\n",
    "\n",
    "# değişkenin elemanlarına sırasıyla seçerek işlem yapmak istediğinde \"enumerate()\" metodu çok kullanışlıdır.\n",
    "# her bir elemana numara vererek tuple içine alıyor. eleman sayısı kadar tuple oluşuyor.\n",
    "# aşağıdaki örneği ve çıktısını incele.\n",
    "# Not: enumerate, kendini gizleyen bir metotdur. ancak * , collection veya for döngüsü kullanarak bunu görebilirsin.\n",
    "d = \"   Gungectikce        iyamaldok   daha  koc    seviyorum.  \"\n",
    "print(*enumerate(d.split()))"
   ]
  },
  {
   "cell_type": "code",
   "execution_count": 24,
   "id": "grave-metadata",
   "metadata": {},
   "outputs": [
    {
     "name": "stdout",
     "output_type": "stream",
     "text": [
      "[2, 4, 11, 5]\n"
     ]
    }
   ],
   "source": [
    "# Elinde içinde sayılardan oluşan bir dizi var. \n",
    "# bu dizi içinde çift sayıda olmayan elemanları \n",
    "# (tek sayıda olan elemanları) listeleyen algoritmayı yaz.\n",
    "\n",
    "liste = [2,3,4,12,11,2,3,5,12,2]\n",
    "kac={}  # # key'leri listenin elemanı, value'leri elemanın tekrar sayısı olan bir dictionary yapmak için.\n",
    "yeni=[]\n",
    "for i in range(len(liste)):\n",
    "    if liste[i] not in kac:\n",
    "        kac[liste[i]] = liste.count(liste[i]) # dict.'in item'larını belirliyoruz. key, listenin elemanları, value, tekrar sayıları..\n",
    "for i, count in kac.items():  # dict.'in itemları içerisinde ilerle ve \n",
    "    if count % 2 :            # value tek sayı ise, yani tekrar sayısı tek sayı ise\n",
    "        yeni.append(i)        # listenin o elemanını yeni listeye ekle\n",
    "print(yeni)\n",
    "\n",
    "\n"
   ]
  },
  {
   "cell_type": "code",
   "execution_count": 9,
   "id": "simple-argentina",
   "metadata": {},
   "outputs": [
    {
     "name": "stdout",
     "output_type": "stream",
     "text": [
      "[2, 4, 11, 5]\n"
     ]
    }
   ],
   "source": [
    "# yukardaki soruyu benim çözümüm\n",
    "\n",
    "liste = [2,3,4,12,11,2,3,5,12,2]\n",
    "yeniliste=[]\n",
    "for i in liste :\n",
    "    if liste.count(i) % 2 :\n",
    "        if i not in yeniliste:\n",
    "            yeniliste.append(i)\n",
    "print(yeniliste)\n",
    "        "
   ]
  },
  {
   "cell_type": "code",
   "execution_count": null,
   "id": "driving-sport",
   "metadata": {},
   "outputs": [],
   "source": [
    "Task\n",
    " Given an integer, n,  perform the following conditional actions:\n",
    "·        If n is odd, print Weird\n",
    "·        If n is even and in the inclusive range of 2 to 5, print Not Weird\n",
    "·        If n is even and in the inclusive range of 6 to 20, print Weird\n",
    "·        If n is even and greater than 20, print Not Weird\n",
    "Input Format\n",
    "A single line containing a positive integer, n.\n",
    "Constraints\n",
    "1 ≤  n  ≤ 100\n",
    "Output Format\n",
    "Print Weird if the number is weird. Otherwise, print Not Weird."
   ]
  },
  {
   "cell_type": "code",
   "execution_count": 23,
   "id": "abandoned-calculator",
   "metadata": {},
   "outputs": [
    {
     "name": "stdout",
     "output_type": "stream",
     "text": [
      "1 ile 100 arasında bir sayı giriniz :22\n",
      "Not Weird\n"
     ]
    }
   ],
   "source": [
    "# benim çözümüm. önce fonksiyonsuz çözelim.\n",
    "\n",
    "num = input('1 ile 100 arasında bir sayı giriniz :')\n",
    "cond1 = list(range(2, 6))\n",
    "cond2 = list(range(6, 21))\n",
    "while not num.isdigit() :\n",
    "    num = input('hatalı giriş. 1 ile 100 arasında bir sayı giriniz')\n",
    "else:\n",
    "    if int(num) % 2 :\n",
    "        print('Weird')\n",
    "    elif int(num) % 2 == 0 : \n",
    "        if int(num) in cond1 :\n",
    "            print('Not Weird')\n",
    "        elif int(num) in cond2 :\n",
    "            print('Weird')\n",
    "        elif int(num) > 20 :\n",
    "            print('Not Weird')\n"
   ]
  },
  {
   "cell_type": "code",
   "execution_count": 29,
   "id": "aquatic-infrared",
   "metadata": {},
   "outputs": [
    {
     "name": "stdout",
     "output_type": "stream",
     "text": [
      "1 ile 100 arasında bir sayı giriniz :4\n",
      "Not Weird\n"
     ]
    }
   ],
   "source": [
    "# benim çözümüm\n",
    "# fonksiyon tanımlayarak çözümü\n",
    "\n",
    "def işlem() :\n",
    "    global num   # böylece num değişkenini fonksiyon dışında da kullanabileceğiz\n",
    "    num = input('1 ile 100 arasında bir sayı giriniz :')\n",
    "    cond1 = list(range(2, 6))\n",
    "    cond2 = list(range(6, 21))\n",
    "    if int(num) % 2 :\n",
    "        print('Weird')\n",
    "    elif int(num) % 2 == 0 : \n",
    "        if int(num) in cond1 :\n",
    "            print('Not Weird')\n",
    "        elif int(num) in cond2 :\n",
    "            print('Weird')\n",
    "        elif int(num) > 20 :\n",
    "            print('Not Weird')\n",
    "            \n",
    "while not num.isdigit() :  # rakam girilmemesi halinde döngüde kalıp giriş isteyecek.\n",
    "    num = input('hatalı giriş. 1 ile 100 arasında bir sayı giriniz')\n",
    "else:\n",
    "    işlem()   # rakam girildiğinde işlem fonksiyonunu çalıştıracak\n",
    "    "
   ]
  },
  {
   "cell_type": "code",
   "execution_count": null,
   "id": "registered-major",
   "metadata": {},
   "outputs": [],
   "source": []
  },
  {
   "cell_type": "code",
   "execution_count": null,
   "id": "cognitive-faculty",
   "metadata": {},
   "outputs": [],
   "source": []
  }
 ],
 "metadata": {
  "kernelspec": {
   "display_name": "Python 3",
   "language": "python",
   "name": "python3"
  },
  "language_info": {
   "codemirror_mode": {
    "name": "ipython",
    "version": 3
   },
   "file_extension": ".py",
   "mimetype": "text/x-python",
   "name": "python",
   "nbconvert_exporter": "python",
   "pygments_lexer": "ipython3",
   "version": "3.7.8"
  }
 },
 "nbformat": 4,
 "nbformat_minor": 5
}
