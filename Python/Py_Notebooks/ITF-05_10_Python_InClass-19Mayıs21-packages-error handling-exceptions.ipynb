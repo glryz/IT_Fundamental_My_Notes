{
 "cells": [
  {
   "cell_type": "code",
   "execution_count": 1,
   "id": "ancient-agency",
   "metadata": {},
   "outputs": [
    {
     "data": {
      "text/plain": [
       "'C:\\\\Users\\\\hüseyin'"
      ]
     },
     "execution_count": 1,
     "metadata": {},
     "output_type": "execute_result"
    }
   ],
   "source": [
    "pwd"
   ]
  },
  {
   "cell_type": "code",
   "execution_count": null,
   "id": "dutch-cleveland",
   "metadata": {},
   "outputs": [],
   "source": [
    "\"\"\" ilk çalıştırdığında çalışan dosyaları init dosyasını içine yazılıyor.\n",
    "\n",
    "\"\"\""
   ]
  },
  {
   "cell_type": "code",
   "execution_count": 3,
   "id": "monthly-hello",
   "metadata": {},
   "outputs": [],
   "source": [
    "from upper_package import my_package1, my_package2"
   ]
  },
  {
   "cell_type": "code",
   "execution_count": 4,
   "id": "cleared-ready",
   "metadata": {},
   "outputs": [],
   "source": [
    "from upper_package.my_package1 import my_module_1, my_module_2"
   ]
  },
  {
   "cell_type": "code",
   "execution_count": 5,
   "id": "numeric-rental",
   "metadata": {},
   "outputs": [
    {
     "data": {
      "text/plain": [
       "['__doc__',\n",
       " '__file__',\n",
       " '__loader__',\n",
       " '__name__',\n",
       " '__package__',\n",
       " '__path__',\n",
       " '__spec__',\n",
       " 'my_module_1',\n",
       " 'my_module_2']"
      ]
     },
     "execution_count": 5,
     "metadata": {},
     "output_type": "execute_result"
    }
   ],
   "source": [
    "dir(my_package1)"
   ]
  },
  {
   "cell_type": "code",
   "execution_count": 6,
   "id": "balanced-intake",
   "metadata": {},
   "outputs": [],
   "source": [
    "from upper_package.my_package2 import my_module_3, my_module_4"
   ]
  },
  {
   "cell_type": "code",
   "execution_count": 8,
   "id": "purple-sword",
   "metadata": {},
   "outputs": [
    {
     "data": {
      "text/plain": [
       "['__doc__',\n",
       " '__file__',\n",
       " '__loader__',\n",
       " '__name__',\n",
       " '__package__',\n",
       " '__path__',\n",
       " '__spec__',\n",
       " 'my_module_3',\n",
       " 'my_module_4']"
      ]
     },
     "execution_count": 8,
     "metadata": {},
     "output_type": "execute_result"
    }
   ],
   "source": [
    "dir(my_package2)"
   ]
  },
  {
   "cell_type": "code",
   "execution_count": 9,
   "id": "headed-transmission",
   "metadata": {},
   "outputs": [
    {
     "data": {
      "text/plain": [
       "2.0"
      ]
     },
     "execution_count": 9,
     "metadata": {},
     "output_type": "execute_result"
    }
   ],
   "source": [
    "my_module_2.divide(10,5)\n",
    "\n",
    "# my_module_2 modülünün içindeki divide fonksiyonunu çalıştırdık"
   ]
  },
  {
   "cell_type": "code",
   "execution_count": 10,
   "id": "common-major",
   "metadata": {},
   "outputs": [
    {
     "data": {
      "text/plain": [
       "9"
      ]
     },
     "execution_count": 10,
     "metadata": {},
     "output_type": "execute_result"
    }
   ],
   "source": [
    "my_module_1.addition(4, 5)"
   ]
  },
  {
   "cell_type": "code",
   "execution_count": 11,
   "id": "twenty-petite",
   "metadata": {},
   "outputs": [
    {
     "data": {
      "text/plain": [
       "'claruswayclaruswayclarusway'"
      ]
     },
     "execution_count": 11,
     "metadata": {},
     "output_type": "execute_result"
    }
   ],
   "source": [
    "my_module_3.repeater(\"clarusway\", 3)"
   ]
  },
  {
   "cell_type": "code",
   "execution_count": 12,
   "id": "sharp-checkout",
   "metadata": {},
   "outputs": [
    {
     "data": {
      "text/plain": [
       "ModuleSpec(name='upper_package.my_package1.my_module_1', loader=<_frozen_importlib_external.SourceFileLoader object at 0x000001F8EB344088>, origin='C:\\\\Users\\\\hüseyin\\\\upper_package\\\\my_package1\\\\my_module_1.py')"
      ]
     },
     "execution_count": 12,
     "metadata": {},
     "output_type": "execute_result"
    }
   ],
   "source": [
    "my_module_1.__spec__"
   ]
  },
  {
   "cell_type": "code",
   "execution_count": 13,
   "id": "studied-chamber",
   "metadata": {},
   "outputs": [
    {
     "data": {
      "text/plain": [
       "ModuleSpec(name='upper_package.my_package1', loader=<_frozen_importlib_external._NamespaceLoader object at 0x000001F8EB33CA08>, submodule_search_locations=_NamespacePath(['C:\\\\Users\\\\hüseyin\\\\upper_package\\\\my_package1', 'C:\\\\Users\\\\hüseyin\\\\upper_package\\\\my_package1']))"
      ]
     },
     "execution_count": 13,
     "metadata": {},
     "output_type": "execute_result"
    }
   ],
   "source": [
    "my_package1.__spec__"
   ]
  },
  {
   "cell_type": "code",
   "execution_count": 14,
   "id": "magnetic-massage",
   "metadata": {},
   "outputs": [],
   "source": [
    "import upper_package\n",
    "\n",
    "# upper_package nin içinde ne var ne yok diye görmek için önce import edelim"
   ]
  },
  {
   "cell_type": "code",
   "execution_count": 15,
   "id": "fancy-heart",
   "metadata": {},
   "outputs": [
    {
     "data": {
      "text/plain": [
       "['__doc__',\n",
       " '__file__',\n",
       " '__loader__',\n",
       " '__name__',\n",
       " '__package__',\n",
       " '__path__',\n",
       " '__spec__',\n",
       " 'my_package1',\n",
       " 'my_package2']"
      ]
     },
     "execution_count": 15,
     "metadata": {},
     "output_type": "execute_result"
    }
   ],
   "source": [
    "dir(upper_package)"
   ]
  },
  {
   "cell_type": "code",
   "execution_count": 16,
   "id": "announced-roads",
   "metadata": {},
   "outputs": [],
   "source": [
    "# doğrudan fonksiyon import edelim (divide ve hello fonksiyonları)\n",
    "\n",
    "from upper_package.my_package1.my_module_2 import divide, hello\n",
    "\n",
    "# içinde hangi fonksiyonlar olduğunu aynı zamanda klasör içinde modül dosyalarını txt editörde açarak da görebilirsin"
   ]
  },
  {
   "cell_type": "code",
   "execution_count": 27,
   "id": "stupid-nowhere",
   "metadata": {},
   "outputs": [],
   "source": [
    "from upper_package.my_package1.my_module_1 import addition, multi"
   ]
  },
  {
   "cell_type": "code",
   "execution_count": 17,
   "id": "accessible-assist",
   "metadata": {},
   "outputs": [
    {
     "name": "stdout",
     "output_type": "stream",
     "text": [
      "hello\n"
     ]
    }
   ],
   "source": [
    "hello()"
   ]
  },
  {
   "cell_type": "code",
   "execution_count": 18,
   "id": "rural-flooring",
   "metadata": {},
   "outputs": [
    {
     "data": {
      "text/plain": [
       "2.0"
      ]
     },
     "execution_count": 18,
     "metadata": {},
     "output_type": "execute_result"
    }
   ],
   "source": [
    "divide(22, 11)"
   ]
  },
  {
   "cell_type": "code",
   "execution_count": 28,
   "id": "adjacent-jewel",
   "metadata": {},
   "outputs": [
    {
     "data": {
      "text/plain": [
       "9"
      ]
     },
     "execution_count": 28,
     "metadata": {},
     "output_type": "execute_result"
    }
   ],
   "source": [
    "addition(4, 5)"
   ]
  },
  {
   "cell_type": "code",
   "execution_count": 26,
   "id": "promising-blink",
   "metadata": {},
   "outputs": [
    {
     "data": {
      "text/plain": [
       "['__builtins__',\n",
       " '__cached__',\n",
       " '__doc__',\n",
       " '__file__',\n",
       " '__loader__',\n",
       " '__name__',\n",
       " '__package__',\n",
       " '__spec__',\n",
       " 'addition',\n",
       " 'multi']"
      ]
     },
     "execution_count": 26,
     "metadata": {},
     "output_type": "execute_result"
    }
   ],
   "source": [
    "dir(my_module_1)"
   ]
  },
  {
   "cell_type": "code",
   "execution_count": 19,
   "id": "covered-transmission",
   "metadata": {},
   "outputs": [],
   "source": [
    "import math\n",
    "\n",
    "# (python un default modulleri arasındaki) math fonksiyonunu import ettik. "
   ]
  },
  {
   "cell_type": "code",
   "execution_count": 20,
   "id": "voluntary-laptop",
   "metadata": {},
   "outputs": [],
   "source": [
    "from math import log10"
   ]
  },
  {
   "cell_type": "code",
   "execution_count": 21,
   "id": "normal-nitrogen",
   "metadata": {},
   "outputs": [
    {
     "data": {
      "text/plain": [
       "3.0"
      ]
     },
     "execution_count": 21,
     "metadata": {},
     "output_type": "execute_result"
    }
   ],
   "source": [
    "log10(1000)"
   ]
  },
  {
   "cell_type": "code",
   "execution_count": 22,
   "id": "cognitive-probe",
   "metadata": {},
   "outputs": [
    {
     "name": "stdout",
     "output_type": "stream",
     "text": [
      "This module provides access to the mathematical functions\n",
      "defined by the C standard.\n"
     ]
    }
   ],
   "source": [
    "print(math.__doc__)\n",
    "\n",
    "# math fonksiyonunun açıklamasını görmek için.."
   ]
  },
  {
   "cell_type": "code",
   "execution_count": 23,
   "id": "mechanical-creation",
   "metadata": {},
   "outputs": [
    {
     "name": "stdout",
     "output_type": "stream",
     "text": [
      "\n",
      "This is module 2. Welcome!\n",
      "\n"
     ]
    }
   ],
   "source": [
    "print(my_module_2.__doc__)\n",
    "\n",
    "# kendi my_module2 modülümüzün açıklamasını görüntüledik."
   ]
  },
  {
   "cell_type": "code",
   "execution_count": 29,
   "id": "respective-melissa",
   "metadata": {},
   "outputs": [
    {
     "name": "stdout",
     "output_type": "stream",
     "text": [
      "Package             Version\n",
      "------------------- -------\n",
      "argon2-cffi         20.1.0\n",
      "async-generator     1.10\n",
      "attrs               20.3.0\n",
      "backcall            0.2.0\n",
      "bleach              3.3.0\n",
      "cffi                1.14.5\n",
      "colorama            0.4.4\n",
      "decorator           4.4.2\n",
      "defusedxml          0.7.1\n",
      "entrypoints         0.3\n",
      "importlib-metadata  3.7.2\n",
      "ipykernel           5.5.0\n",
      "ipython             7.21.0\n",
      "ipython-genutils    0.2.0\n",
      "ipywidgets          7.6.3\n",
      "jedi                0.18.0\n",
      "Jinja2              2.11.3\n",
      "jsonschema          3.2.0\n",
      "jupyter             1.0.0\n",
      "jupyter-client      6.1.11\n",
      "jupyter-console     6.2.0\n",
      "jupyter-core        4.7.1\n",
      "jupyterlab-pygments 0.1.2\n",
      "jupyterlab-widgets  1.0.0\n",
      "MarkupSafe          1.1.1\n",
      "mistune             0.8.4\n",
      "nbclient            0.5.3\n",
      "nbconvert           6.0.7\n",
      "nbformat            5.1.2\n",
      "nest-asyncio        1.5.1\n",
      "notebook            6.2.0\n",
      "packaging           20.9\n",
      "pandocfilters       1.4.3\n",
      "parso               0.8.1\n",
      "pickleshare         0.7.5\n",
      "pip                 20.1.1\n",
      "prometheus-client   0.9.0\n",
      "prompt-toolkit      3.0.17\n",
      "pycparser           2.20\n",
      "Pygments            2.8.1\n",
      "pyparsing           2.4.7\n",
      "pyrsistent          0.17.3\n",
      "python-dateutil     2.8.1\n",
      "pywin32             300\n",
      "pywinpty            0.5.7\n",
      "pyzmq               22.0.3\n",
      "qtconsole           5.0.2\n",
      "QtPy                1.9.0\n",
      "Send2Trash          1.5.0\n",
      "setuptools          47.1.0\n",
      "six                 1.15.0\n",
      "terminado           0.9.2\n",
      "testpath            0.4.4\n",
      "tornado             6.1\n",
      "traitlets           5.0.5\n",
      "typing-extensions   3.7.4.3\n",
      "wcwidth             0.2.5\n",
      "webencodings        0.5.1\n",
      "widgetsnbextension  3.5.1\n",
      "zipp                3.4.1\n",
      "Note: you may need to restart the kernel to use updated packages.\n"
     ]
    },
    {
     "name": "stderr",
     "output_type": "stream",
     "text": [
      "WARNING: You are using pip version 20.1.1; however, version 21.1.1 is available.\n",
      "You should consider upgrading via the 'c:\\users\\hüseyin\\appdata\\local\\programs\\python\\python37\\python.exe -m pip install --upgrade pip' command.\n"
     ]
    }
   ],
   "source": [
    "# pip : Pip Installs Packages \n",
    "\n",
    "pip list # library'leri listeleyelim"
   ]
  },
  {
   "cell_type": "code",
   "execution_count": 30,
   "id": "major-fourth",
   "metadata": {},
   "outputs": [
    {
     "name": "stdout",
     "output_type": "stream",
     "text": [
      "pip 20.1.1 from c:\\users\\hüseyin\\appdata\\local\\programs\\python\\python37\\lib\\site-packages\\pip (python 3.7)\n",
      "\n",
      "Note: you may need to restart the kernel to use updated packages.\n"
     ]
    }
   ],
   "source": [
    "pip --version"
   ]
  },
  {
   "cell_type": "code",
   "execution_count": 31,
   "id": "respiratory-craps",
   "metadata": {},
   "outputs": [
    {
     "name": "stdout",
     "output_type": "stream",
     "text": [
      "Collecting kaggle\n",
      "  Downloading kaggle-1.5.12.tar.gz (58 kB)\n",
      "Requirement already satisfied: six>=1.10 in c:\\users\\hüseyin\\appdata\\local\\programs\\python\\python37\\lib\\site-packages (from kaggle) (1.15.0)\n",
      "Collecting certifi\n",
      "  Downloading certifi-2020.12.5-py2.py3-none-any.whl (147 kB)\n",
      "Note: you may need to restart the kernel to use updated packages.\n"
     ]
    },
    {
     "name": "stderr",
     "output_type": "stream",
     "text": [
      "WARNING: You are using pip version 20.1.1; however, version 21.1.1 is available.\n",
      "You should consider upgrading via the 'c:\\users\\hüseyin\\appdata\\local\\programs\\python\\python37\\python.exe -m pip install --upgrade pip' command.\n"
     ]
    },
    {
     "name": "stdout",
     "output_type": "stream",
     "text": [
      "Requirement already satisfied: python-dateutil in c:\\users\\hüseyin\\appdata\\local\\programs\\python\\python37\\lib\\site-packages (from kaggle) (2.8.1)\n",
      "Collecting requests\n",
      "  Downloading requests-2.25.1-py2.py3-none-any.whl (61 kB)\n",
      "Collecting tqdm\n",
      "  Downloading tqdm-4.60.0-py2.py3-none-any.whl (75 kB)\n",
      "Collecting python-slugify\n",
      "  Downloading python_slugify-5.0.2-py2.py3-none-any.whl (6.7 kB)\n",
      "Collecting urllib3\n",
      "  Downloading urllib3-1.26.4-py2.py3-none-any.whl (153 kB)\n",
      "Collecting idna<3,>=2.5\n",
      "  Downloading idna-2.10-py2.py3-none-any.whl (58 kB)\n",
      "Collecting chardet<5,>=3.0.2\n",
      "  Downloading chardet-4.0.0-py2.py3-none-any.whl (178 kB)\n",
      "Collecting text-unidecode>=1.3\n",
      "  Downloading text_unidecode-1.3-py2.py3-none-any.whl (78 kB)\n",
      "Using legacy setup.py install for kaggle, since package 'wheel' is not installed.\n",
      "Installing collected packages: certifi, idna, urllib3, chardet, requests, tqdm, text-unidecode, python-slugify, kaggle\n",
      "    Running setup.py install for kaggle: started\n",
      "    Running setup.py install for kaggle: finished with status 'done'\n",
      "Successfully installed certifi-2020.12.5 chardet-4.0.0 idna-2.10 kaggle-1.5.12 python-slugify-5.0.2 requests-2.25.1 text-unidecode-1.3 tqdm-4.60.0 urllib3-1.26.4\n"
     ]
    }
   ],
   "source": [
    "pip install kaggle\n",
    "\n",
    "# olmayan bir package varsa bunu pip install ile indiriyoruz."
   ]
  },
  {
   "cell_type": "code",
   "execution_count": null,
   "id": "international-essay",
   "metadata": {},
   "outputs": [],
   "source": [
    "pip install python==3.8.1\n",
    "\n",
    "# python'un versiyonlarını da pip ile indirebiliyoruz"
   ]
  },
  {
   "cell_type": "code",
   "execution_count": 32,
   "id": "surprising-terror",
   "metadata": {},
   "outputs": [
    {
     "name": "stdout",
     "output_type": "stream",
     "text": [
      "Note: you may need to restart the kernel to use updated packages.\n"
     ]
    },
    {
     "name": "stderr",
     "output_type": "stream",
     "text": [
      "WARNING: Package(s) not found: pep8\n"
     ]
    }
   ],
   "source": [
    "pip show pep8\n",
    "\n",
    "# pep8 library ile ilgili bilgileri görüntüler"
   ]
  },
  {
   "cell_type": "code",
   "execution_count": 33,
   "id": "chief-range",
   "metadata": {},
   "outputs": [
    {
     "name": "stdout",
     "output_type": "stream",
     "text": [
      "Collecting pep8\n",
      "  Downloading pep8-1.7.1-py2.py3-none-any.whl (41 kB)\n",
      "Installing collected packages: pep8\n",
      "Successfully installed pep8-1.7.1\n",
      "Note: you may need to restart the kernel to use updated packages.\n"
     ]
    },
    {
     "name": "stderr",
     "output_type": "stream",
     "text": [
      "WARNING: You are using pip version 20.1.1; however, version 21.1.1 is available.\n",
      "You should consider upgrading via the 'c:\\users\\hüseyin\\appdata\\local\\programs\\python\\python37\\python.exe -m pip install --upgrade pip' command.\n"
     ]
    }
   ],
   "source": [
    "# pep8'in yüklü olmadığını yukarda show deyince anladık. (görüntülemedi)\n",
    "# şimdi önce bu library'i install edelim\n",
    "\n",
    "pip install pep8"
   ]
  },
  {
   "cell_type": "code",
   "execution_count": 34,
   "id": "brazilian-smell",
   "metadata": {},
   "outputs": [
    {
     "name": "stdout",
     "output_type": "stream",
     "text": [
      "Name: pep8\n",
      "Version: 1.7.1\n",
      "Summary: Python style guide checker\n",
      "Home-page: http://pep8.readthedocs.org/\n",
      "Author: Ian Lee\n",
      "Author-email: IanLee1521@gmail.com\n",
      "License: Expat license\n",
      "Location: c:\\users\\hüseyin\\appdata\\local\\programs\\python\\python37\\lib\\site-packages\n",
      "Requires: \n",
      "Required-by: \n",
      "Note: you may need to restart the kernel to use updated packages.\n"
     ]
    }
   ],
   "source": [
    "pip show pep8\n",
    "\n",
    "# artık pep8'i görebiliyoruz"
   ]
  },
  {
   "cell_type": "code",
   "execution_count": 35,
   "id": "sharp-georgia",
   "metadata": {},
   "outputs": [
    {
     "name": "stdout",
     "output_type": "stream",
     "text": [
      "^C\n",
      "Note: you may need to restart the kernel to use updated packages.\n"
     ]
    }
   ],
   "source": [
    "pip uninstall kaggle"
   ]
  },
  {
   "cell_type": "code",
   "execution_count": null,
   "id": "physical-expansion",
   "metadata": {},
   "outputs": [],
   "source": []
  },
  {
   "cell_type": "code",
   "execution_count": null,
   "id": "reported-importance",
   "metadata": {},
   "outputs": [],
   "source": [
    "Jython\n",
    "\n",
    "pyhton kodlarını java'nin anlayacağı moda çeviren tool"
   ]
  },
  {
   "cell_type": "markdown",
   "id": "continuing-developer",
   "metadata": {},
   "source": [
    "# Exceptions"
   ]
  },
  {
   "cell_type": "code",
   "execution_count": null,
   "id": "unavailable-object",
   "metadata": {},
   "outputs": [],
   "source": [
    "\"\"\" \n",
    "traceback.py --> hata kodlarını içinde barındıran modül.\n",
    "\n",
    "stackoverflow.com --> hataların ne anlama geldiğini buradan araştırabilirsin.\n",
    "\n",
    "\"\"\""
   ]
  },
  {
   "cell_type": "code",
   "execution_count": null,
   "id": "auburn-rachel",
   "metadata": {},
   "outputs": [],
   "source": [
    "kod çalışıyor, ama problemli satıra geldiğinde hata veriyor ise \"exception eror\"\n",
    "ama \"syntax eror\" varsa hiç bir satır çalışmaz. daha \"compile\"?? sırasında hata ortaya çıkar."
   ]
  },
  {
   "cell_type": "code",
   "execution_count": null,
   "id": "boring-harmony",
   "metadata": {},
   "outputs": [],
   "source": [
    "\"\"\"\n",
    "Exception erors\n",
    "\n",
    "Value Error \n",
    "TypeError\n",
    "NameError\n",
    "\n",
    "\"\"\"\""
   ]
  },
  {
   "cell_type": "code",
   "execution_count": null,
   "id": "approximate-publisher",
   "metadata": {},
   "outputs": [],
   "source": [
    "\"\"\" \n",
    "Value Error\n",
    "\n",
    "eğer biz int fonksiyonunu kullanırsak bunun içine string koymamız lazım. \n",
    "ama bu string digitlerden oluşmalı. numeric olmalı.\n",
    "alpha değer girersen bu Value Error olur\n",
    "\"\"\""
   ]
  },
  {
   "cell_type": "code",
   "execution_count": 36,
   "id": "seasonal-rocket",
   "metadata": {},
   "outputs": [
    {
     "ename": "ValueError",
     "evalue": "invalid literal for int() with base 10: 'ten'",
     "output_type": "error",
     "traceback": [
      "\u001b[1;31m---------------------------------------------------------------------------\u001b[0m",
      "\u001b[1;31mValueError\u001b[0m                                Traceback (most recent call last)",
      "\u001b[1;32m<ipython-input-36-1fe0c5042e33>\u001b[0m in \u001b[0;36m<module>\u001b[1;34m\u001b[0m\n\u001b[1;32m----> 1\u001b[1;33m \u001b[0mprint\u001b[0m\u001b[1;33m(\u001b[0m\u001b[0mint\u001b[0m\u001b[1;33m(\u001b[0m\u001b[1;34m'ten'\u001b[0m\u001b[1;33m)\u001b[0m\u001b[1;33m)\u001b[0m\u001b[1;33m\u001b[0m\u001b[1;33m\u001b[0m\u001b[0m\n\u001b[0m",
      "\u001b[1;31mValueError\u001b[0m: invalid literal for int() with base 10: 'ten'"
     ]
    }
   ],
   "source": [
    "print(int('ten'))"
   ]
  },
  {
   "cell_type": "code",
   "execution_count": 39,
   "id": "considered-vector",
   "metadata": {},
   "outputs": [
    {
     "ename": "ValueError",
     "evalue": "math domain error",
     "output_type": "error",
     "traceback": [
      "\u001b[1;31m---------------------------------------------------------------------------\u001b[0m",
      "\u001b[1;31mValueError\u001b[0m                                Traceback (most recent call last)",
      "\u001b[1;32m<ipython-input-39-7659495ec28e>\u001b[0m in \u001b[0;36m<module>\u001b[1;34m\u001b[0m\n\u001b[1;32m----> 1\u001b[1;33m \u001b[0mprint\u001b[0m\u001b[1;33m(\u001b[0m\u001b[0mmath\u001b[0m\u001b[1;33m.\u001b[0m\u001b[0msqrt\u001b[0m\u001b[1;33m(\u001b[0m\u001b[1;33m-\u001b[0m\u001b[1;36m25\u001b[0m\u001b[1;33m)\u001b[0m\u001b[1;33m)\u001b[0m   \u001b[1;31m# math modülünü indirdiysen sadece sqrt(-25-) şeklinde de yazabilirsin\u001b[0m\u001b[1;33m\u001b[0m\u001b[1;33m\u001b[0m\u001b[0m\n\u001b[0m",
      "\u001b[1;31mValueError\u001b[0m: math domain error"
     ]
    }
   ],
   "source": [
    "# math modülünü kullanarak value hata alınız\n",
    "\n",
    "print(math.sqrt(-25))   # math modülünü indirdiysen sadece sqrt(-25-) şeklinde de yazabilirsin"
   ]
  },
  {
   "cell_type": "code",
   "execution_count": null,
   "id": "environmental-insight",
   "metadata": {},
   "outputs": [],
   "source": [
    "\"\"\"\n",
    "Name Error\n",
    "\n",
    "önden tanımlamadığın hiç birşeyi kullanamazsın. name hatası verir.\n",
    "\"\"\""
   ]
  },
  {
   "cell_type": "code",
   "execution_count": 40,
   "id": "cosmetic-female",
   "metadata": {},
   "outputs": [
    {
     "ename": "NameError",
     "evalue": "name 'variable' is not defined",
     "output_type": "error",
     "traceback": [
      "\u001b[1;31m---------------------------------------------------------------------------\u001b[0m",
      "\u001b[1;31mNameError\u001b[0m                                 Traceback (most recent call last)",
      "\u001b[1;32m<ipython-input-40-bf1eb3e58fe8>\u001b[0m in \u001b[0;36m<module>\u001b[1;34m\u001b[0m\n\u001b[1;32m----> 1\u001b[1;33m \u001b[0mprint\u001b[0m\u001b[1;33m(\u001b[0m\u001b[0mvariable\u001b[0m\u001b[1;33m)\u001b[0m\u001b[1;33m\u001b[0m\u001b[1;33m\u001b[0m\u001b[0m\n\u001b[0m\u001b[0;32m      2\u001b[0m \u001b[0mvariable\u001b[0m\u001b[1;33m=\u001b[0m\u001b[1;34m\"don't ever give up!\"\u001b[0m\u001b[1;33m\u001b[0m\u001b[1;33m\u001b[0m\u001b[0m\n",
      "\u001b[1;31mNameError\u001b[0m: name 'variable' is not defined"
     ]
    }
   ],
   "source": [
    "print(variable)\n",
    "variable=\"don't ever give up!\"\n",
    "\n",
    "# değişkeni önden tanımlamamak name eror verdirir."
   ]
  },
  {
   "cell_type": "code",
   "execution_count": 41,
   "id": "valuable-salem",
   "metadata": {},
   "outputs": [
    {
     "ename": "NameError",
     "evalue": "name 'printt' is not defined",
     "output_type": "error",
     "traceback": [
      "\u001b[1;31m---------------------------------------------------------------------------\u001b[0m",
      "\u001b[1;31mNameError\u001b[0m                                 Traceback (most recent call last)",
      "\u001b[1;32m<ipython-input-41-170c3a814236>\u001b[0m in \u001b[0;36m<module>\u001b[1;34m\u001b[0m\n\u001b[1;32m----> 1\u001b[1;33m \u001b[0mprintt\u001b[0m\u001b[1;33m(\u001b[0m\u001b[1;33m)\u001b[0m\u001b[1;33m\u001b[0m\u001b[1;33m\u001b[0m\u001b[0m\n\u001b[0m",
      "\u001b[1;31mNameError\u001b[0m: name 'printt' is not defined"
     ]
    }
   ],
   "source": [
    "printt()"
   ]
  },
  {
   "cell_type": "code",
   "execution_count": 42,
   "id": "potential-freedom",
   "metadata": {},
   "outputs": [
    {
     "name": "stdout",
     "output_type": "stream",
     "text": [
      "string value1\n"
     ]
    },
    {
     "ename": "NameError",
     "evalue": "name 'C' is not defined",
     "output_type": "error",
     "traceback": [
      "\u001b[1;31m---------------------------------------------------------------------------\u001b[0m",
      "\u001b[1;31mNameError\u001b[0m                                 Traceback (most recent call last)",
      "\u001b[1;32m<ipython-input-42-688d076b1ae5>\u001b[0m in \u001b[0;36m<module>\u001b[1;34m\u001b[0m\n\u001b[0;32m      3\u001b[0m \u001b[1;33m\u001b[0m\u001b[0m\n\u001b[0;32m      4\u001b[0m \u001b[0mprint\u001b[0m\u001b[1;33m(\u001b[0m\u001b[0mb\u001b[0m\u001b[1;33m)\u001b[0m\u001b[1;33m\u001b[0m\u001b[1;33m\u001b[0m\u001b[0m\n\u001b[1;32m----> 5\u001b[1;33m \u001b[0mprint\u001b[0m\u001b[1;33m(\u001b[0m\u001b[0mC\u001b[0m\u001b[1;33m)\u001b[0m\u001b[1;33m\u001b[0m\u001b[1;33m\u001b[0m\u001b[0m\n\u001b[0m",
      "\u001b[1;31mNameError\u001b[0m: name 'C' is not defined"
     ]
    }
   ],
   "source": [
    "b = \"string value1\"\n",
    "c = \"sring value2\"\n",
    "\n",
    "print(b)\n",
    "print(C)\n",
    "\n",
    " # C (büyük c önceden tanımlanmadı)"
   ]
  },
  {
   "cell_type": "code",
   "execution_count": null,
   "id": "communist-zoning",
   "metadata": {},
   "outputs": [],
   "source": [
    "\"\"\"\n",
    "Type Error\n",
    "verilerin tipleri ile alakalı hatadır.\n",
    "integer ile stringi toplamak (concarnate yapmak) gibi\n",
    "\"\"\""
   ]
  },
  {
   "cell_type": "code",
   "execution_count": 44,
   "id": "vietnamese-alliance",
   "metadata": {},
   "outputs": [
    {
     "ename": "TypeError",
     "evalue": "'str' object cannot be interpreted as an integer",
     "output_type": "error",
     "traceback": [
      "\u001b[1;31m---------------------------------------------------------------------------\u001b[0m",
      "\u001b[1;31mTypeError\u001b[0m                                 Traceback (most recent call last)",
      "\u001b[1;32m<ipython-input-44-6dc3a9759f2b>\u001b[0m in \u001b[0;36m<module>\u001b[1;34m\u001b[0m\n\u001b[1;32m----> 1\u001b[1;33m \u001b[1;32mfor\u001b[0m \u001b[0mi\u001b[0m \u001b[1;32min\u001b[0m \u001b[0mrange\u001b[0m\u001b[1;33m(\u001b[0m\u001b[1;34m'x'\u001b[0m\u001b[1;33m)\u001b[0m\u001b[1;33m:\u001b[0m\u001b[1;33m\u001b[0m\u001b[1;33m\u001b[0m\u001b[0m\n\u001b[0m\u001b[0;32m      2\u001b[0m     \u001b[0mprint\u001b[0m\u001b[1;33m(\u001b[0m\u001b[0mi\u001b[0m\u001b[1;33m)\u001b[0m\u001b[1;33m\u001b[0m\u001b[1;33m\u001b[0m\u001b[0m\n",
      "\u001b[1;31mTypeError\u001b[0m: 'str' object cannot be interpreted as an integer"
     ]
    }
   ],
   "source": [
    "for i in range('x'):\n",
    "    print(i)"
   ]
  },
  {
   "cell_type": "code",
   "execution_count": 43,
   "id": "direct-sculpture",
   "metadata": {},
   "outputs": [
    {
     "ename": "TypeError",
     "evalue": "unsupported operand type(s) for +: 'int' and 'str'",
     "output_type": "error",
     "traceback": [
      "\u001b[1;31m---------------------------------------------------------------------------\u001b[0m",
      "\u001b[1;31mTypeError\u001b[0m                                 Traceback (most recent call last)",
      "\u001b[1;32m<ipython-input-43-013270d67d3d>\u001b[0m in \u001b[0;36m<module>\u001b[1;34m\u001b[0m\n\u001b[1;32m----> 1\u001b[1;33m \u001b[0mprint\u001b[0m\u001b[1;33m(\u001b[0m\u001b[1;36m1\u001b[0m \u001b[1;33m+\u001b[0m \u001b[1;34m'2'\u001b[0m\u001b[1;33m)\u001b[0m\u001b[1;33m\u001b[0m\u001b[1;33m\u001b[0m\u001b[0m\n\u001b[0m",
      "\u001b[1;31mTypeError\u001b[0m: unsupported operand type(s) for +: 'int' and 'str'"
     ]
    }
   ],
   "source": [
    "print(1 + '2')"
   ]
  },
  {
   "cell_type": "markdown",
   "id": "instant-niger",
   "metadata": {},
   "source": [
    "# Exception Hiyerarşisi"
   ]
  },
  {
   "cell_type": "code",
   "execution_count": 45,
   "id": "concrete-surgery",
   "metadata": {},
   "outputs": [
    {
     "name": "stdout",
     "output_type": "stream",
     "text": [
      "hello\n"
     ]
    },
    {
     "ename": "ZeroDivisionError",
     "evalue": "division by zero",
     "output_type": "error",
     "traceback": [
      "\u001b[1;31m---------------------------------------------------------------------------\u001b[0m",
      "\u001b[1;31mZeroDivisionError\u001b[0m                         Traceback (most recent call last)",
      "\u001b[1;32m<ipython-input-45-15256f0d2731>\u001b[0m in \u001b[0;36m<module>\u001b[1;34m\u001b[0m\n\u001b[0;32m      1\u001b[0m \u001b[0mprint\u001b[0m\u001b[1;33m(\u001b[0m\u001b[1;34m\"hello\"\u001b[0m\u001b[1;33m)\u001b[0m\u001b[1;33m\u001b[0m\u001b[1;33m\u001b[0m\u001b[0m\n\u001b[1;32m----> 2\u001b[1;33m \u001b[0mprint\u001b[0m\u001b[1;33m(\u001b[0m\u001b[1;36m4\u001b[0m\u001b[1;33m/\u001b[0m\u001b[1;36m0\u001b[0m\u001b[1;33m)\u001b[0m\u001b[1;33m\u001b[0m\u001b[1;33m\u001b[0m\u001b[0m\n\u001b[0m",
      "\u001b[1;31mZeroDivisionError\u001b[0m: division by zero"
     ]
    }
   ],
   "source": [
    "print(\"hello\")\n",
    "print(4/0)\n",
    "\n",
    "\"\"\"\n",
    "kod çalıştı ama 4, 0'a bölünemediği için Exception erorlarından ZeroDivisionError verdi.\n",
    "\"\"\""
   ]
  },
  {
   "cell_type": "code",
   "execution_count": null,
   "id": "accompanied-lightning",
   "metadata": {},
   "outputs": [],
   "source": [
    "\"\"\"\n",
    "try except blokları.\n",
    "\n",
    "while döngüleri ile try except bloku kankadır. bunlar sık sık beraber kullanılır.\n",
    "\"\"\""
   ]
  },
  {
   "cell_type": "code",
   "execution_count": null,
   "id": "ethical-clothing",
   "metadata": {},
   "outputs": [],
   "source": [
    "while True:\n",
    "    a = int(input(\"ilk sayı:\"))\n",
    "    b = int(input(\"ikinci sayı:\"))\n",
    "    c = a/b\n",
    "    print(c)\n",
    "    "
   ]
  },
  {
   "cell_type": "code",
   "execution_count": 47,
   "id": "political-notice",
   "metadata": {},
   "outputs": [
    {
     "name": "stdout",
     "output_type": "stream",
     "text": [
      "ilk sayı:7\n",
      "ikinci sayı:0\n",
      "bir şeyler ters gitti.\n"
     ]
    },
    {
     "ename": "KeyboardInterrupt",
     "evalue": "Interrupted by user",
     "output_type": "error",
     "traceback": [
      "\u001b[1;31m---------------------------------------------------------------------------\u001b[0m",
      "\u001b[1;31mKeyboardInterrupt\u001b[0m                         Traceback (most recent call last)",
      "\u001b[1;32m<ipython-input-47-714136e8fe11>\u001b[0m in \u001b[0;36m<module>\u001b[1;34m\u001b[0m\n\u001b[0;32m      1\u001b[0m \u001b[1;32mwhile\u001b[0m \u001b[1;32mTrue\u001b[0m\u001b[1;33m:\u001b[0m\u001b[1;33m\u001b[0m\u001b[1;33m\u001b[0m\u001b[0m\n\u001b[1;32m----> 2\u001b[1;33m     \u001b[0ma\u001b[0m \u001b[1;33m=\u001b[0m \u001b[0mint\u001b[0m\u001b[1;33m(\u001b[0m\u001b[0minput\u001b[0m\u001b[1;33m(\u001b[0m\u001b[1;34m\"ilk sayı:\"\u001b[0m\u001b[1;33m)\u001b[0m\u001b[1;33m)\u001b[0m\u001b[1;33m\u001b[0m\u001b[1;33m\u001b[0m\u001b[0m\n\u001b[0m\u001b[0;32m      3\u001b[0m     \u001b[0mb\u001b[0m \u001b[1;33m=\u001b[0m \u001b[0mint\u001b[0m\u001b[1;33m(\u001b[0m\u001b[0minput\u001b[0m\u001b[1;33m(\u001b[0m\u001b[1;34m\"ikinci sayı:\"\u001b[0m\u001b[1;33m)\u001b[0m\u001b[1;33m)\u001b[0m\u001b[1;33m\u001b[0m\u001b[1;33m\u001b[0m\u001b[0m\n\u001b[0;32m      4\u001b[0m \u001b[1;33m\u001b[0m\u001b[0m\n\u001b[0;32m      5\u001b[0m     \u001b[1;32mtry\u001b[0m\u001b[1;33m:\u001b[0m\u001b[1;33m\u001b[0m\u001b[1;33m\u001b[0m\u001b[0m\n",
      "\u001b[1;32mc:\\users\\hüseyin\\appdata\\local\\programs\\python\\python37\\lib\\site-packages\\ipykernel\\kernelbase.py\u001b[0m in \u001b[0;36mraw_input\u001b[1;34m(self, prompt)\u001b[0m\n\u001b[0;32m    849\u001b[0m             \u001b[0mself\u001b[0m\u001b[1;33m.\u001b[0m\u001b[0m_parent_ident\u001b[0m\u001b[1;33m,\u001b[0m\u001b[1;33m\u001b[0m\u001b[1;33m\u001b[0m\u001b[0m\n\u001b[0;32m    850\u001b[0m             \u001b[0mself\u001b[0m\u001b[1;33m.\u001b[0m\u001b[0m_parent_header\u001b[0m\u001b[1;33m,\u001b[0m\u001b[1;33m\u001b[0m\u001b[1;33m\u001b[0m\u001b[0m\n\u001b[1;32m--> 851\u001b[1;33m             \u001b[0mpassword\u001b[0m\u001b[1;33m=\u001b[0m\u001b[1;32mFalse\u001b[0m\u001b[1;33m,\u001b[0m\u001b[1;33m\u001b[0m\u001b[1;33m\u001b[0m\u001b[0m\n\u001b[0m\u001b[0;32m    852\u001b[0m         )\n\u001b[0;32m    853\u001b[0m \u001b[1;33m\u001b[0m\u001b[0m\n",
      "\u001b[1;32mc:\\users\\hüseyin\\appdata\\local\\programs\\python\\python37\\lib\\site-packages\\ipykernel\\kernelbase.py\u001b[0m in \u001b[0;36m_input_request\u001b[1;34m(self, prompt, ident, parent, password)\u001b[0m\n\u001b[0;32m    890\u001b[0m             \u001b[1;32mexcept\u001b[0m \u001b[0mKeyboardInterrupt\u001b[0m\u001b[1;33m:\u001b[0m\u001b[1;33m\u001b[0m\u001b[1;33m\u001b[0m\u001b[0m\n\u001b[0;32m    891\u001b[0m                 \u001b[1;31m# re-raise KeyboardInterrupt, to truncate traceback\u001b[0m\u001b[1;33m\u001b[0m\u001b[1;33m\u001b[0m\u001b[1;33m\u001b[0m\u001b[0m\n\u001b[1;32m--> 892\u001b[1;33m                 \u001b[1;32mraise\u001b[0m \u001b[0mKeyboardInterrupt\u001b[0m\u001b[1;33m(\u001b[0m\u001b[1;34m\"Interrupted by user\"\u001b[0m\u001b[1;33m)\u001b[0m \u001b[1;32mfrom\u001b[0m \u001b[1;32mNone\u001b[0m\u001b[1;33m\u001b[0m\u001b[1;33m\u001b[0m\u001b[0m\n\u001b[0m\u001b[0;32m    893\u001b[0m             \u001b[1;32mexcept\u001b[0m \u001b[0mException\u001b[0m \u001b[1;32mas\u001b[0m \u001b[0me\u001b[0m\u001b[1;33m:\u001b[0m\u001b[1;33m\u001b[0m\u001b[1;33m\u001b[0m\u001b[0m\n\u001b[0;32m    894\u001b[0m                 \u001b[0mself\u001b[0m\u001b[1;33m.\u001b[0m\u001b[0mlog\u001b[0m\u001b[1;33m.\u001b[0m\u001b[0mwarning\u001b[0m\u001b[1;33m(\u001b[0m\u001b[1;34m\"Invalid Message:\"\u001b[0m\u001b[1;33m,\u001b[0m \u001b[0mexc_info\u001b[0m\u001b[1;33m=\u001b[0m\u001b[1;32mTrue\u001b[0m\u001b[1;33m)\u001b[0m\u001b[1;33m\u001b[0m\u001b[1;33m\u001b[0m\u001b[0m\n",
      "\u001b[1;31mKeyboardInterrupt\u001b[0m: Interrupted by user"
     ]
    }
   ],
   "source": [
    "while True:\n",
    "    a = int(input(\"ilk sayı:\"))\n",
    "    b = int(input(\"ikinci sayı:\"))\n",
    "    \n",
    "    try:\n",
    "        c = a / b\n",
    "        print(c)\n",
    "        break\n",
    "    except:\n",
    "        print(\"bir şeyler ters gitti.\")\n",
    "        \n",
    "        \n",
    "# önce try'ın içinde gördüğü şeyi deneyecek, çıktı alacak ve programdan çıkacak. \n",
    "# exceptionla karşılaşırsa print'teki ifadeyi yazacak.\n",
    "\n",
    "# programını durdurmadan devam etmesini sağladı!!"
   ]
  },
  {
   "cell_type": "code",
   "execution_count": 48,
   "id": "ceramic-performance",
   "metadata": {},
   "outputs": [
    {
     "name": "stdout",
     "output_type": "stream",
     "text": [
      "muhtelemen yanlış bir şeyler yaptın\n"
     ]
    }
   ],
   "source": [
    "# en basit try except blokunu yazalım.\n",
    "\n",
    "try:\n",
    "    print(\"4\" + 4)\n",
    "except:\n",
    "    print(\"muhtelemen yanlış bir şeyler yaptın\")\n",
    "\n",
    "    \n",
    "# normalde hata verip programdan çıkması lazımken sadece print yapacak.\n",
    "# ben gelmesi muhtemel hatayı biliyorsam ona özel birşeyler yazabilirim."
   ]
  },
  {
   "cell_type": "code",
   "execution_count": null,
   "id": "cloudy-cancer",
   "metadata": {},
   "outputs": [],
   "source": [
    "while True:\n",
    "    a = int(input(\"ilk sayı:\"))\n",
    "    b = int(input(\"ikinci sayı:\"))\n",
    "    \n",
    "    try:\n",
    "        c = a / b\n",
    "        print(c)\n",
    "        break\n",
    "    except ZeroDivisionError:\n",
    "        print(\"Sırıfa bölünememe kuralını hatırla. ikinci sayıyı lütfen sıfır girme\")\n",
    "    \n",
    "\"\"\" \n",
    "Specifik bir hataya özel except yazabilir. \n",
    "Zero division eror beklediğimiz için sadece ona özel mesaj yazdırdık.\n",
    "birden fazla except de yazabiliriz.\n",
    "\"\"\""
   ]
  },
  {
   "cell_type": "code",
   "execution_count": null,
   "id": "threatened-portable",
   "metadata": {},
   "outputs": [],
   "source": [
    "\"\"\"\n",
    "except else bloku\n",
    "\n",
    "except var ise excepti çalıştır. eğer hiç bir exception yoksa else bloğunu çalıştır.\n",
    "\"\"\""
   ]
  },
  {
   "cell_type": "code",
   "execution_count": null,
   "id": "dying-universe",
   "metadata": {},
   "outputs": [],
   "source": [
    "\"\"\"\n",
    "except else finally bloku\n",
    "\n",
    "try'a exception olması muhtemel satırı koyuyorsun!!!\n",
    "hata olmaz ise else ve finally bloku çalışır.\n",
    "exception yükselirse except ve finally çalışır.\n",
    "\n",
    "dosyayı kapatma, makinayı kapatma, clear cache (rami temizleme) gibi durumlarda böyle bir \n",
    "satırın her şartta çalışmasını isteriz \n",
    "\"\"\"\n"
   ]
  },
  {
   "cell_type": "code",
   "execution_count": 49,
   "id": "plastic-packaging",
   "metadata": {},
   "outputs": [
    {
     "name": "stdout",
     "output_type": "stream",
     "text": [
      "type hatası var. tipi kontrol etsen iyi olur.\n",
      "eh nihayet bana sıra geldi. ben çalıştım\n"
     ]
    }
   ],
   "source": [
    "try:\n",
    "    print(\"4\" + 4)\n",
    "except TypeError:\n",
    "    print(\"type hatası var. tipi kontrol etsen iyi olur.\")\n",
    "else:\n",
    "    print(\"aaaa demek ki exception yükselmemiş. mmm. süper\")\n",
    "finally:\n",
    "    print(\"eh nihayet bana sıra geldi. ben çalıştım\")"
   ]
  },
  {
   "cell_type": "code",
   "execution_count": 50,
   "id": "expected-durham",
   "metadata": {},
   "outputs": [
    {
     "name": "stdout",
     "output_type": "stream",
     "text": [
      "44\n",
      "aaaa demek ki exception yükselmemiş. mmm. süper\n",
      "eh nihayet bana sıra geldi. ben çalıştım\n"
     ]
    }
   ],
   "source": [
    "try:\n",
    "    print(\"4\" + \"4\")\n",
    "except TypeError:\n",
    "    print(\"type hatası var. tipi kontrol etsen iyi olur.\")\n",
    "else:\n",
    "    print(\"aaaa demek ki exception yükselmemiş. mmm. süper\")\n",
    "finally:\n",
    "    print(\"eh nihayet bana sıra geldi. ben çalıştım\")"
   ]
  },
  {
   "cell_type": "code",
   "execution_count": 51,
   "id": "finished-anger",
   "metadata": {},
   "outputs": [
    {
     "name": "stdout",
     "output_type": "stream",
     "text": [
      "eh nihayet bana sıra geldi. ben çalıştım\n"
     ]
    },
    {
     "ename": "TypeError",
     "evalue": "can only concatenate str (not \"int\") to str",
     "output_type": "error",
     "traceback": [
      "\u001b[1;31m---------------------------------------------------------------------------\u001b[0m",
      "\u001b[1;31mTypeError\u001b[0m                                 Traceback (most recent call last)",
      "\u001b[1;32m<ipython-input-51-8c1a7a9b99ed>\u001b[0m in \u001b[0;36m<module>\u001b[1;34m\u001b[0m\n\u001b[0;32m      1\u001b[0m \u001b[1;32mtry\u001b[0m\u001b[1;33m:\u001b[0m\u001b[1;33m\u001b[0m\u001b[1;33m\u001b[0m\u001b[0m\n\u001b[1;32m----> 2\u001b[1;33m     \u001b[0mprint\u001b[0m\u001b[1;33m(\u001b[0m\u001b[1;34m\"4\"\u001b[0m \u001b[1;33m+\u001b[0m \u001b[1;36m4\u001b[0m\u001b[1;33m)\u001b[0m\u001b[1;33m\u001b[0m\u001b[1;33m\u001b[0m\u001b[0m\n\u001b[0m\u001b[0;32m      3\u001b[0m \u001b[1;32mexcept\u001b[0m \u001b[0mValueError\u001b[0m\u001b[1;33m:\u001b[0m\u001b[1;33m\u001b[0m\u001b[1;33m\u001b[0m\u001b[0m\n\u001b[0;32m      4\u001b[0m     \u001b[0mprint\u001b[0m\u001b[1;33m(\u001b[0m\u001b[1;34m\"type hatası var. tipi kontrol etsen iyi olur.\"\u001b[0m\u001b[1;33m)\u001b[0m\u001b[1;33m\u001b[0m\u001b[1;33m\u001b[0m\u001b[0m\n\u001b[0;32m      5\u001b[0m \u001b[1;32melse\u001b[0m\u001b[1;33m:\u001b[0m\u001b[1;33m\u001b[0m\u001b[1;33m\u001b[0m\u001b[0m\n",
      "\u001b[1;31mTypeError\u001b[0m: can only concatenate str (not \"int\") to str"
     ]
    }
   ],
   "source": [
    "try:\n",
    "    print(\"4\" + 4)\n",
    "except ValueError:\n",
    "    print(\"type hatası var. tipi kontrol etsen iyi olur.\")\n",
    "else:\n",
    "    print(\"aaaa demek ki exception yükselmemiş. mmm. süper\")\n",
    "finally:\n",
    "    print(\"eh nihayet bana sıra geldi. ben çalıştım\")\n",
    "\n",
    "\"\"\"\n",
    "try denedi. hatayı gördü ama except bloğunda Value error yazdığı için ama hata Type Error olduğu için\n",
    "except'i atladı. mevcut hatayı verdi.\n",
    "\"\"\""
   ]
  },
  {
   "cell_type": "code",
   "execution_count": null,
   "id": "junior-religion",
   "metadata": {},
   "outputs": [],
   "source": [
    "\"\"\"\n",
    "Exception as\n",
    "\n",
    "exception yükseldiğinde onun ne olduğunu bir değişkene atıyor.\n",
    "yani karşılaşacağın hatayı bir değişkene atıyor\n",
    "sonra bu hatayı print ederken bu değişkeni kullanabiliyoruz.\n",
    "\"\"\""
   ]
  },
  {
   "cell_type": "code",
   "execution_count": 52,
   "id": "august-museum",
   "metadata": {},
   "outputs": [
    {
     "name": "stdout",
     "output_type": "stream",
     "text": [
      "the result of division is: sring value2\n"
     ]
    }
   ],
   "source": [
    "try:\n",
    "    a=10\n",
    "    b=2\n",
    "    print(\"the result of division is:\", c)\n",
    "except Exception as e:\n",
    "    print(\"the error message is : \", e)"
   ]
  },
  {
   "cell_type": "code",
   "execution_count": 56,
   "id": "suspected-wiring",
   "metadata": {},
   "outputs": [
    {
     "name": "stdout",
     "output_type": "stream",
     "text": [
      "isminiz :hüseyin\n",
      "name 'g' is not defined\n",
      "<class 'NameError'>\n"
     ]
    }
   ],
   "source": [
    "try:\n",
    "    isim = input(\"isminiz :\")\n",
    "    print(g)\n",
    "except Exception as hatam:\n",
    "    print(hatam)\n",
    "    print(type(hatam))"
   ]
  },
  {
   "cell_type": "code",
   "execution_count": null,
   "id": "framed-instrumentation",
   "metadata": {},
   "outputs": [],
   "source": [
    "try:\n",
    "    x=2/0\n",
    "    except ZeroDivisionError:\n",
    "        print('attempt to divide by zero')\n",
    "    except:\n",
    "        print('Something else went wrong')\n",
    "\n",
    "\"\"\"\n",
    "belirlediğimiz hata kodlarını except te yazdıktan sonra geri kalan hata kodları için \n",
    "boş except satırı yazabiliriz. (if elif elif else teki else gibi) Yani geri kalan her hata için\n",
    "ortak bir şey yazıyoruz\n",
    "\"\"\""
   ]
  },
  {
   "cell_type": "code",
   "execution_count": null,
   "id": "communist-round",
   "metadata": {},
   "outputs": [],
   "source": [
    "....\n",
    "except ZeroDivisionError:\n",
    "   print(\"You can't divide by zero!!\")\n",
    "except ValueError:\n",
    "   print(\"You can only enter numbers consisting of digits, not text!!\")\n",
    "\n",
    "# ayrı ayrı iki exceptionu belirtebiliriz"
   ]
  },
  {
   "cell_type": "code",
   "execution_count": null,
   "id": "competent-modern",
   "metadata": {},
   "outputs": [],
   "source": [
    "....\n",
    "except (ValueError, TypeError):\n",
    "    print(\"You can only enter numbers consisting of digits, not text!!\")\n",
    "\n",
    "# bu şekilde aynı satırda birden fazla exception belirtebiliriz. "
   ]
  },
  {
   "cell_type": "code",
   "execution_count": null,
   "id": "particular-connecticut",
   "metadata": {},
   "outputs": [],
   "source": [
    "....\n",
    "except ArithmeticError:\n",
    "    print(\"I will also catch OverflowError, FloatingPointError and ZeroDivisionError\")\n",
    "\n",
    "# because of the hierarchical structure, one exception can actually catch various exceptions."
   ]
  },
  {
   "cell_type": "code",
   "execution_count": 1,
   "id": "democratic-finder",
   "metadata": {},
   "outputs": [
    {
     "name": "stdout",
     "output_type": "stream",
     "text": [
      "favori meyve indeksini girer misin?: 9\n",
      "Böyle bir indeks bulunmamaktadır lütfen doğru giriş yapınız.\n",
      "favori meyve indeksini girer misin?: iki\n",
      "Numerik bir değer giriniz. Tekrar giriniz\n",
      "favori meyve indeksini girer misin?: 1\n",
      "benim favori meyvem mango'dir\n"
     ]
    }
   ],
   "source": [
    "# Task: kullanıcıdan isteyeceğin indekse göre favori meyveyi yazdır. olası hataları exception bloklarında belirt\n",
    "\n",
    "fruits = [\"banana\", \"mango\", \"pear\", \"apple\", \"kiwi\", \"grape\"]\n",
    "while True:\n",
    "    try:\n",
    "        index = int(input('favori meyve indeksini girer misin?: '))\n",
    "        print(\"benim favori meyvem {}'dir\".format(fruits[index]))\n",
    "        break\n",
    "    except IndexError :\n",
    "        print('Böyle bir indeks bulunmamaktadır lütfen doğru giriş yapınız.')\n",
    "    except ValueError :\n",
    "        print('Numerik bir değer giriniz. Tekrar giriniz')"
   ]
  },
  {
   "cell_type": "code",
   "execution_count": 4,
   "id": "useful-delta",
   "metadata": {},
   "outputs": [
    {
     "name": "stdout",
     "output_type": "stream",
     "text": [
      "favori meyve indeksini girer misin?: 3\n",
      "benim favori meyvem apple'dir\n",
      "Meyvelerimiz her zaman tazedir\n"
     ]
    }
   ],
   "source": [
    "fruits = [\"banana\", \"mango\", \"pear\", \"apple\", \"kiwi\", \"grape\"]\n",
    "count = 3\n",
    "while count>0:\n",
    "    try:\n",
    "        index = int(input('favori meyve indeksini girer misin?: '))\n",
    "        print(\"benim favori meyvem {}'dir\".format(fruits[index]))\n",
    "        break\n",
    "    except IndexError :\n",
    "        count-=1\n",
    "        print(count, 'hakkınız kaldı')\n",
    "        print('Böyle bir indeks bulunmamaktadır lütfen doğru giriş yapınız.')\n",
    "        \n",
    "    except ValueError :\n",
    "        count-=1\n",
    "        print(count, 'hakkınız kaldı')\n",
    "        print('Numerik bir değer giriniz. Tekrar giriniz')\n",
    "    else :\n",
    "        print('Tebrikler! doğru bir değer girdiniz.')\n",
    "        # break (bu break'i kullanmasam da çalışıyor. try daki breaki hafızada tutuyor ve o yeterli oluyor ve  finally i her halukarda çalıştırıyor)\n",
    "    finally:\n",
    "        print('Meyvelerimiz her zaman tazedir')\n"
   ]
  },
  {
   "cell_type": "code",
   "execution_count": null,
   "id": "polyphonic-authority",
   "metadata": {},
   "outputs": [],
   "source": [
    "fruits = [\"banana\", \"mango\", \"pear\", \"apple\", \"kiwi\", \"grape\"]\n",
    "count = 3\n",
    "while count>0:\n",
    "    try:\n",
    "        index = int(input('favori meyve indeksini girer misin?: '))\n",
    "        print(\"benim favori meyvem {}'dir\".format(fruits[index]))\n",
    "        break\n",
    "    except IndexError :\n",
    "        if count>0:\n",
    "            print(count-1, 'hakkınız kaldı')\n",
    "        else:\n",
    "            print('hakkınız bitti')\n",
    "            break\n",
    "        print('Böyle bir indeks bulunmamaktadır lütfen doğru giriş yapınız.')\n",
    "        \n",
    "    except ValueError :\n",
    "        count-=1\n",
    "        print(count, 'hakkınız kaldı')\n",
    "        print('Numerik bir değer giriniz. Tekrar giriniz')\n",
    "    else :\n",
    "        print('Tebrikler! doğru bir değer girdiniz.')\n",
    "        break\n",
    "    finally:\n",
    "        print('Meyvelerimiz her zaman tazedir!')\n"
   ]
  },
  {
   "cell_type": "code",
   "execution_count": 5,
   "id": "secure-american",
   "metadata": {},
   "outputs": [
    {
     "name": "stdout",
     "output_type": "stream",
     "text": [
      "Favori meyve indexini girer misin? : 5\n",
      "Benim favori meyvem grape'dir.\n"
     ]
    }
   ],
   "source": [
    "while True :\n",
    "    try :\n",
    "        index = int(input(\"Favori meyve indexini girer misin? : \"))\n",
    "        print(\"Benim favori meyvem {}'dir.\".format(fruits[index]))\n",
    "        break\n",
    "    except IndexError :\n",
    "        print(\"Böyle bir index bulunmamaktadır. Lütfen doğru giriş yapınız.\")\n",
    "    except ValueError :\n",
    "        print(\"Integer yani numeric bir değer giriniz. Tekrar deneyin.\")"
   ]
  },
  {
   "cell_type": "code",
   "execution_count": null,
   "id": "optimum-filling",
   "metadata": {},
   "outputs": [],
   "source": []
  }
 ],
 "metadata": {
  "kernelspec": {
   "display_name": "Python 3",
   "language": "python",
   "name": "python3"
  },
  "language_info": {
   "codemirror_mode": {
    "name": "ipython",
    "version": 3
   },
   "file_extension": ".py",
   "mimetype": "text/x-python",
   "name": "python",
   "nbconvert_exporter": "python",
   "pygments_lexer": "ipython3",
   "version": "3.7.8"
  }
 },
 "nbformat": 4,
 "nbformat_minor": 5
}
