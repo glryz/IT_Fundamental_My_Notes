{
 "cells": [
  {
   "cell_type": "markdown",
   "id": "centered-party",
   "metadata": {},
   "source": [
    "# open files"
   ]
  },
  {
   "cell_type": "code",
   "execution_count": 6,
   "id": "trained-pressing",
   "metadata": {},
   "outputs": [
    {
     "ename": "NameError",
     "evalue": "name 'pwd' is not defined",
     "output_type": "error",
     "traceback": [
      "\u001b[1;31m---------------------------------------------------------------------------\u001b[0m",
      "\u001b[1;31mNameError\u001b[0m                                 Traceback (most recent call last)",
      "\u001b[1;32m<ipython-input-6-7d2aab702230>\u001b[0m in \u001b[0;36m<module>\u001b[1;34m\u001b[0m\n\u001b[1;32m----> 1\u001b[1;33m \u001b[0mpwd\u001b[0m\u001b[1;33m(\u001b[0m\u001b[1;33m)\u001b[0m\u001b[1;33m\u001b[0m\u001b[1;33m\u001b[0m\u001b[0m\n\u001b[0m\u001b[0;32m      2\u001b[0m \u001b[1;33m\u001b[0m\u001b[0m\n\u001b[0;32m      3\u001b[0m \u001b[1;31m# python çalıştığımız dizini veriyor\u001b[0m\u001b[1;33m\u001b[0m\u001b[1;33m\u001b[0m\u001b[1;33m\u001b[0m\u001b[0m\n",
      "\u001b[1;31mNameError\u001b[0m: name 'pwd' is not defined"
     ]
    }
   ],
   "source": [
    "pwd\n",
    "\n",
    "# python çalıştığımız dizini veriyor"
   ]
  },
  {
   "cell_type": "code",
   "execution_count": null,
   "id": "frozen-bloom",
   "metadata": {},
   "outputs": [],
   "source": [
    "dosyalar her türlü text dosyaları olabilir."
   ]
  },
  {
   "cell_type": "code",
   "execution_count": 3,
   "id": "cloudy-management",
   "metadata": {},
   "outputs": [
    {
     "ename": "FileNotFoundError",
     "evalue": "[Errno 2] No such file or directory: 'first_file.txt'",
     "output_type": "error",
     "traceback": [
      "\u001b[1;31m---------------------------------------------------------------------------\u001b[0m",
      "\u001b[1;31mFileNotFoundError\u001b[0m                         Traceback (most recent call last)",
      "\u001b[1;32m<ipython-input-3-ac88018d9587>\u001b[0m in \u001b[0;36m<module>\u001b[1;34m\u001b[0m\n\u001b[1;32m----> 1\u001b[1;33m \u001b[0mmy_file\u001b[0m \u001b[1;33m=\u001b[0m \u001b[0mopen\u001b[0m\u001b[1;33m(\u001b[0m\u001b[1;34m\"first_file.txt\"\u001b[0m\u001b[1;33m)\u001b[0m  \u001b[1;31m# this syntax opens a 'txt' file\u001b[0m\u001b[1;33m\u001b[0m\u001b[1;33m\u001b[0m\u001b[0m\n\u001b[0m\u001b[0;32m      2\u001b[0m \u001b[1;33m\u001b[0m\u001b[0m\n\u001b[0;32m      3\u001b[0m \u001b[0mprint\u001b[0m\u001b[1;33m(\u001b[0m\u001b[0mtype\u001b[0m\u001b[1;33m(\u001b[0m\u001b[0mmy_file\u001b[0m\u001b[1;33m)\u001b[0m\u001b[1;33m)\u001b[0m\u001b[1;33m\u001b[0m\u001b[1;33m\u001b[0m\u001b[0m\n",
      "\u001b[1;31mFileNotFoundError\u001b[0m: [Errno 2] No such file or directory: 'first_file.txt'"
     ]
    }
   ],
   "source": [
    "my_file = open(\"first_file.txt\")  # this syntax opens a 'txt' file \n",
    "\n",
    "print(type(my_file))"
   ]
  },
  {
   "cell_type": "code",
   "execution_count": 4,
   "id": "material-corpus",
   "metadata": {},
   "outputs": [
    {
     "ename": "FileNotFoundError",
     "evalue": "[Errno 2] No such file or directory: 'first_file.txt'",
     "output_type": "error",
     "traceback": [
      "\u001b[1;31m---------------------------------------------------------------------------\u001b[0m",
      "\u001b[1;31mFileNotFoundError\u001b[0m                         Traceback (most recent call last)",
      "\u001b[1;32m<ipython-input-4-00f42ff2e1ff>\u001b[0m in \u001b[0;36m<module>\u001b[1;34m\u001b[0m\n\u001b[1;32m----> 1\u001b[1;33m \u001b[0mmy_file\u001b[0m \u001b[1;33m=\u001b[0m \u001b[0mopen\u001b[0m\u001b[1;33m(\u001b[0m\u001b[1;34m\"first_file.txt\"\u001b[0m\u001b[1;33m,\u001b[0m \u001b[0mencoding\u001b[0m\u001b[1;33m=\u001b[0m\u001b[1;34m\"utf-8\"\u001b[0m\u001b[1;33m)\u001b[0m\u001b[1;33m\u001b[0m\u001b[1;33m\u001b[0m\u001b[0m\n\u001b[0m\u001b[0;32m      2\u001b[0m \u001b[1;31m# we've used 'utf8' encoding format just the same as the previous one\u001b[0m\u001b[1;33m\u001b[0m\u001b[1;33m\u001b[0m\u001b[1;33m\u001b[0m\u001b[0m\n",
      "\u001b[1;31mFileNotFoundError\u001b[0m: [Errno 2] No such file or directory: 'first_file.txt'"
     ]
    }
   ],
   "source": [
    "my_file = open(\"first_file.txt\", encoding=\"utf-8\")\n",
    "# we've used 'utf8' encoding format just the same as the previous one \n",
    "# hoca encoding i her zaman kullanmayı tavsiye ediyor"
   ]
  },
  {
   "cell_type": "markdown",
   "id": "silent-importance",
   "metadata": {},
   "source": [
    "# read fonksiyonu, dosyayı okumaya yarıyor"
   ]
  },
  {
   "cell_type": "code",
   "execution_count": null,
   "id": "genetic-petersburg",
   "metadata": {},
   "outputs": [],
   "source": [
    "file = open(\"file_name\", \"r\") # bu satıra göre dosyamızı okumak için açtık. (\"r\") yazmak için de açabilirdik.\n",
    "\n",
    "default olarak \"read\" dir. eğer \"r\" veya \"w\" yazmazsak default olarak read olduğu kabul edilir. "
   ]
  },
  {
   "cell_type": "code",
   "execution_count": 7,
   "id": "operational-benefit",
   "metadata": {},
   "outputs": [
    {
     "name": "stdout",
     "output_type": "stream",
     "text": [
      "Orca is a kind of Dolphin.\n",
      "Blue Whale is the largest animal known on earth.\n",
      "Sharks are the sister group to the Rays (batoids).\n",
      "The Tuna Fish can weigh up to 260 kg.\n",
      "Squid and Octopus are in the same class.\n"
     ]
    }
   ],
   "source": [
    "sea=open(\"fishes.txt\", \"r\")\n",
    "print(sea.read())         # dosyayı oku! \n",
    "sea.close()               # dosyayı kapat!\n",
    "\n",
    "# öncesinde fishes.txt dosyasını hocadan alıp çalışma dizinine kaydettik\n",
    "# colab kullanıyor olsaydık üst klasörde content klasösünün içine atacaktık."
   ]
  },
  {
   "cell_type": "code",
   "execution_count": 9,
   "id": "operating-latest",
   "metadata": {},
   "outputs": [
    {
     "name": "stdout",
     "output_type": "stream",
     "text": [
      "Orca is a kind of Dolphin.\n",
      "Blue W\n"
     ]
    }
   ],
   "source": [
    "sea = open(\"fishes.txt\", \"r\")\n",
    "\n",
    "print(sea.read(33))  # dosyanın 33 karakterini okuttur. dosyanın içindeki her satırın sonunda new line karakteri olacağını (\\n) unutma\n",
    "\n",
    "sea.close()"
   ]
  },
  {
   "cell_type": "code",
   "execution_count": 10,
   "id": "comfortable-second",
   "metadata": {},
   "outputs": [
    {
     "name": "stdout",
     "output_type": "stream",
     "text": [
      "Orca is a kind of Dolphin.\n",
      "Blue W\n",
      "hale is the largest anima\n"
     ]
    }
   ],
   "source": [
    "sea = open(\"fishes.txt\", \"r\")\n",
    "\n",
    "print(sea.read(33)) \n",
    "print(sea.read(25)) # önce 33 karakter okutturduktan sonra cursor kaldığı yerden devam eder ve burada sonraki 25 karakteri okutturur.\n",
    "\n",
    "sea.close() # dosya kapandıktan sonra cursor sıfırlanır. artık kaldığı yerden devam etmez "
   ]
  },
  {
   "cell_type": "code",
   "execution_count": 11,
   "id": "requested-walter",
   "metadata": {},
   "outputs": [
    {
     "name": "stdout",
     "output_type": "stream",
     "text": [
      "Orca is a kind of Dolphin.\n",
      "Blue W\n",
      "hale is the largest animal known \n"
     ]
    }
   ],
   "source": [
    "sea = open(\"fishes.txt\", \"r\")\n",
    "\n",
    "print(sea.read(33))\n",
    "print(sea.read(33)) \n",
    "\n",
    "sea.close()\n",
    "\n",
    "# her "
   ]
  },
  {
   "cell_type": "markdown",
   "id": "filled-stevens",
   "metadata": {},
   "source": [
    "# seek() metodu cursoru'u istedin yere çekmeni sağlıyor"
   ]
  },
  {
   "cell_type": "code",
   "execution_count": 13,
   "id": "civil-hypothesis",
   "metadata": {},
   "outputs": [
    {
     "name": "stdout",
     "output_type": "stream",
     "text": [
      "Orca is a kind of Dolphin.\n",
      "Blue W\n",
      "hale is the largest animal known \n",
      "Orca is a kind of Dolphin.\n",
      "Blue W\n"
     ]
    }
   ],
   "source": [
    "sea = open(\"fishes.txt\", \"r\")\n",
    "\n",
    "print(sea.read(33))\n",
    "print(sea.read(33))\n",
    "sea.seek(0)  # cursoru en başa aldık\n",
    "print(sea.read(33))  # tekrar ilk karakterden başlayıp 33 karakter okudu.\n",
    "\n",
    "sea.close()"
   ]
  },
  {
   "cell_type": "markdown",
   "id": "seventh-section",
   "metadata": {},
   "source": [
    "# tell() metodu. cursor un nerde kaldığını söylüyor"
   ]
  },
  {
   "cell_type": "code",
   "execution_count": 14,
   "id": "advised-judge",
   "metadata": {},
   "outputs": [
    {
     "name": "stdout",
     "output_type": "stream",
     "text": [
      "Orca is a kind of Dolphin.\n",
      "Blue W\n",
      "hale is the largest animal known \n",
      "Orca is a kind of Dolphin.\n",
      "Blue W\n",
      "34\n"
     ]
    }
   ],
   "source": [
    "sea = open(\"fishes.txt\", \"r\")\n",
    "\n",
    "print(sea.read(33))\n",
    "print(sea.read(33))\n",
    "sea.seek(0)  # cursoru en başa aldık\n",
    "print(sea.read(33))  # tekrar ilk karakterden başlayıp 33 karakter okudu.\n",
    "print(sea.tell())\n",
    "\n",
    "sea.close()"
   ]
  },
  {
   "cell_type": "code",
   "execution_count": 21,
   "id": "danish-courtesy",
   "metadata": {},
   "outputs": [
    {
     "name": "stdout",
     "output_type": "stream",
     "text": [
      "I want to sing\n",
      "Like the birds sing,\n",
      "Not worrying about\n",
      "Who hears or\n",
      "What they think.\n"
     ]
    }
   ],
   "source": [
    "# rumi.txt oluştur ve okuttur.\n",
    "\n",
    "rumi = open(\"rumi.txt\", \"r\")\n",
    "\n",
    "print(rumi.read()) \n",
    "rumi.close()"
   ]
  },
  {
   "cell_type": "code",
   "execution_count": 28,
   "id": "blind-richmond",
   "metadata": {},
   "outputs": [
    {
     "name": "stdout",
     "output_type": "stream",
     "text": [
      "I want to sing\n",
      "Like the birds sing,\n",
      "\n",
      "Not worrying\n",
      "50\n",
      "\n",
      "Like the birds sing,\n"
     ]
    }
   ],
   "source": [
    "# ilk 2 satırını okuttur.\n",
    "# sonraki 13 karakteri okuttur.\n",
    "# cursorun yerini göster\n",
    "# cursoru başa getir ve ikinci satırı tekrar okuttur.\n",
    "# dosyayı kapat.\n",
    "\n",
    "rumi = open(\"rumi.txt\", \"r\")\n",
    "\n",
    "print(rumi.read(35))  # \\n karakterini de saydım\n",
    "print(rumi.read(13))\n",
    "print(rumi.tell())\n",
    "rumi.seek(0)\n",
    "rumi.seek(15)\n",
    "print(rumi.read(21))\n",
    "\n",
    "rumi.close()"
   ]
  },
  {
   "cell_type": "markdown",
   "id": "reasonable-reduction",
   "metadata": {},
   "source": [
    "# readline() metodu. satırı okutturur."
   ]
  },
  {
   "cell_type": "code",
   "execution_count": 26,
   "id": "packed-journal",
   "metadata": {},
   "outputs": [
    {
     "name": "stdout",
     "output_type": "stream",
     "text": [
      "Orca is a kind of Dolphin.\n",
      "\n",
      "Blue Whale is the largest animal known on earth.\n",
      "\n",
      "Sharks are the sister group to the Rays (batoids).\n",
      "\n",
      "The Tuna Fish can weigh up to 260 kg.\n",
      "\n"
     ]
    }
   ],
   "source": [
    "sea=open(\"fishes.txt\", \"r\")\n",
    "print(sea.readline())\n",
    "print(sea.readline())\n",
    "print(sea.readline())\n",
    "print(sea.readline())\n",
    "\n",
    "sea.close()"
   ]
  },
  {
   "cell_type": "code",
   "execution_count": null,
   "id": "geographic-yemen",
   "metadata": {},
   "outputs": [],
   "source": [
    "\"\"\" Orca is a kind of Dolphin.\\n  = new line dahil 27 karakter\n",
    "readline(13) + readline(13) + readline(13)  readline metodunun içine 13 size'ının yazarsak \n",
    "satırı 3 defada okutmak zorundayız.  readline(13) demek o satırdan 13 karakter oku demektir.\n",
    "2 defa 13 karakter okuduktan sonra geriye  gözükmeyen \\n karakteri kalıyor. bunun için bir readline(13) daha girdik.\n",
    "buraya 13 de yazsak aynı 1 de yazsak aynı. hatta sadece readline() yazsam da sadece kalan karakteri okuyacak. yani \\n'..\n",
    "\"\"\"\n"
   ]
  },
  {
   "cell_type": "code",
   "execution_count": 27,
   "id": "suffering-jonathan",
   "metadata": {},
   "outputs": [
    {
     "name": "stdout",
     "output_type": "stream",
     "text": [
      "Orca is a kin\n",
      "d of Dolphin.\n",
      "\n",
      "\n",
      "Blue Whale is\n"
     ]
    }
   ],
   "source": [
    "sea=open(\"fishes.txt\", \"r\")\n",
    "print(sea.readline(13))\n",
    "print(sea.readline(13))\n",
    "print(sea.readline(13)) # (ilk satırdaki son karakter için (\\n için))\n",
    "print(sea.readline(13))\n",
    "\n",
    "sea.close()"
   ]
  },
  {
   "cell_type": "code",
   "execution_count": null,
   "id": "least-cache",
   "metadata": {},
   "outputs": [],
   "source": [
    "\"\"\"TAsk:\n",
    "    rumi.txt dosyasının \n",
    "    ilk satırını okut\n",
    "    ikinci satırını okut\n",
    "    üçüncü satırını readline içine parametre girerek okut.\n",
    "\"\"\""
   ]
  },
  {
   "cell_type": "code",
   "execution_count": 29,
   "id": "accredited-positive",
   "metadata": {},
   "outputs": [
    {
     "name": "stdout",
     "output_type": "stream",
     "text": [
      "I want to sing\n",
      "\n",
      "Like the birds sing,\n",
      "\n",
      "Not worrying about\n",
      "\n"
     ]
    }
   ],
   "source": [
    "rumi = open(\"rumi.txt\", \"r\")\n",
    "\n",
    "print(rumi.readline())  \n",
    "print(rumi.readline())\n",
    "print(rumi.readline(19)) # \\n karakterini de okutmak için 19 yazdık. 18 de onu okutmayacaktı dolayısıyla satırın tümünü okumamış olacaktı.\n",
    "\n",
    "rumi.close()"
   ]
  },
  {
   "cell_type": "markdown",
   "id": "aerial-dakota",
   "metadata": {},
   "source": [
    "# readlines"
   ]
  },
  {
   "cell_type": "code",
   "execution_count": 33,
   "id": "multiple-abuse",
   "metadata": {},
   "outputs": [
    {
     "name": "stdout",
     "output_type": "stream",
     "text": [
      "I want to sing\n",
      "\n",
      "['Like the birds sing,\\n', 'Not worrying about\\n', 'Who hears or\\n', 'What they think.']\n",
      "\n",
      "<class 'list'>\n"
     ]
    }
   ],
   "source": [
    "\"\"\"\n",
    "her bir satırı listenin bir elemanı olarak kabul edip yazdırır\n",
    "\"\"\"\n",
    "\n",
    "rumi = open(\"rumi.txt\", \"r\")\n",
    "\n",
    "print(rumi.readline())  \n",
    "print(rumi.readlines()) # kalan bütün satırları okur. \n",
    "print()\n",
    "print(type(rumi.readlines()))  # tipi listedir!!!!!\n",
    "rumi.close()"
   ]
  },
  {
   "cell_type": "code",
   "execution_count": null,
   "id": "acknowledged-wholesale",
   "metadata": {},
   "outputs": [],
   "source": []
  },
  {
   "cell_type": "code",
   "execution_count": 37,
   "id": "regulation-reader",
   "metadata": {},
   "outputs": [
    {
     "name": "stdout",
     "output_type": "stream",
     "text": [
      "I want to sing\n",
      "\n",
      "Like the birds sing,\n",
      "\n",
      "Not worrying about\n",
      "\n",
      "Who hears or\n",
      "\n",
      "What they think.\n"
     ]
    }
   ],
   "source": [
    "\"\"\"read veya readline / readlines kullanmadan döngü ile satırları okutturabiliyoruz.\n",
    "demek ki dosyamız iterable bir object\n",
    "\"\"\"\n",
    "\n",
    "rumi = open(\"rumi.txt\", \"r\")\n",
    "for line in rumi:\n",
    "    print(line)\n",
    "\n",
    "rumi.close()"
   ]
  },
  {
   "cell_type": "code",
   "execution_count": 36,
   "id": "dental-render",
   "metadata": {},
   "outputs": [
    {
     "name": "stdout",
     "output_type": "stream",
     "text": [
      "I want to sing\n",
      "\n",
      "Like the birds sing,\n",
      "\n",
      "Not worrying about\n",
      "\n",
      "Who hears or\n",
      "\n",
      "What they think.\n"
     ]
    }
   ],
   "source": [
    "# readlines ile de yapabiliriz.\n",
    "\n",
    "rumi = open(\"rumi.txt\", \"r\")\n",
    "for line in rumi.readlines():\n",
    "    print(line)\n",
    "rumi.close()"
   ]
  },
  {
   "cell_type": "code",
   "execution_count": 38,
   "id": "corrected-nothing",
   "metadata": {},
   "outputs": [
    {
     "name": "stdout",
     "output_type": "stream",
     "text": [
      "I want to sing\n",
      "\n",
      "Like the birds sing,\n",
      "\n",
      "Not worrying about\n",
      "\n",
      "Who hears or\n",
      "\n",
      "What they think.\n"
     ]
    }
   ],
   "source": [
    "f = open(\"rumi.txt\", \"r\")\n",
    "\n",
    "for line in f:\n",
    "    print(line)\n",
    "rumi.close()"
   ]
  },
  {
   "cell_type": "markdown",
   "id": "distinct-robert",
   "metadata": {},
   "source": [
    "# with ile dosya açma"
   ]
  },
  {
   "cell_type": "code",
   "execution_count": null,
   "id": "directed-nursery",
   "metadata": {},
   "outputs": [],
   "source": [
    "\"\"\"\n",
    "with open(\"rumi.txt\", \"r\", encoding=\"utf-8\") as f :\n",
    "    code block \n",
    "\"\"\"\n",
    "# open ve close komutları arasındaki herşeyi girinti içinde code block kısmında yapabiliyoruz. \n",
    "# with ile dosyayı açtığımızda herşey kod bloğunda olup bitiyor. close yapmamıza gerek kalmıyor!!"
   ]
  },
  {
   "cell_type": "code",
   "execution_count": 39,
   "id": "higher-mention",
   "metadata": {},
   "outputs": [
    {
     "name": "stdout",
     "output_type": "stream",
     "text": [
      "Orca is a kind of Dolphin.\n",
      "Blue Whale is the largest animal known on earth.\n",
      "Sharks are the sister group to the Rays (batoids).\n",
      "The Tuna Fish can weigh up to 260 kg.\n",
      "Squid and Octopus are in the same class.\n"
     ]
    }
   ],
   "source": [
    "with open(\"fishes.txt\", \"r\", encoding=\"utf-8\") as sea :\n",
    "    \n",
    "    print(sea.read())"
   ]
  },
  {
   "cell_type": "code",
   "execution_count": 40,
   "id": "knowing-aberdeen",
   "metadata": {},
   "outputs": [
    {
     "name": "stdout",
     "output_type": "stream",
     "text": [
      "Orca is a kind of Dolphin.\n",
      "Blue W\n",
      "hale is the largest animal known \n",
      "Orca is a kind of Dolphin.\n",
      "Blue W\n",
      "34\n"
     ]
    }
   ],
   "source": [
    "with open(\"fishes.txt\", \"r\", encoding=\"utf-8\") as sea :\n",
    "    print(sea.read(33))\n",
    "    print(sea.read(33))\n",
    "    sea.seek(0)\n",
    "    print(sea.read(33))\n",
    "    print(sea.tell())"
   ]
  },
  {
   "cell_type": "markdown",
   "id": "broken-seattle",
   "metadata": {},
   "source": [
    "# w ile dosya açma ve write komutu\n"
   ]
  },
  {
   "cell_type": "code",
   "execution_count": null,
   "id": "ambient-prerequisite",
   "metadata": {},
   "outputs": [],
   "source": [
    "# dosya yoksa açar, var olan bir dosya ise üzerine yazar!!!"
   ]
  },
  {
   "cell_type": "code",
   "execution_count": 41,
   "id": "binding-address",
   "metadata": {},
   "outputs": [],
   "source": [
    "with open(\"benim_ilk_dosyam.txt\", \"w\", encoding=\"utf-8\") as dosyam :\n",
    "    dosyam.write(\"bu benim ilk satırım.\")\n",
    "    \n",
    "# bunu çalıştırınca oluşturulan dosyayı working directory e kaydetti."
   ]
  },
  {
   "cell_type": "code",
   "execution_count": 42,
   "id": "conventional-period",
   "metadata": {},
   "outputs": [
    {
     "name": "stdout",
     "output_type": "stream",
     "text": [
      "bu benim ilk satırım.\n"
     ]
    }
   ],
   "source": [
    "with open(\"benim_ilk_dosyam.txt\", \"r\", encoding=\"utf-8\") as dosyam:\n",
    "    print(dosyam.read())"
   ]
  },
  {
   "cell_type": "code",
   "execution_count": 43,
   "id": "rough-halifax",
   "metadata": {},
   "outputs": [],
   "source": [
    "with open(\"benim_ilk_dosyam.txt\", \"w\", encoding=\"utf-8\") as dosyam :\n",
    "    dosyam.write(\"bu benim ilk satırım. amma aslında ikinci satırım.\\n\")\n",
    "    \n",
    "# w ile yaptığımız için dosyanın üzerine yazacak.\n"
   ]
  },
  {
   "cell_type": "code",
   "execution_count": 44,
   "id": "terminal-interaction",
   "metadata": {},
   "outputs": [
    {
     "name": "stdout",
     "output_type": "stream",
     "text": [
      "bu benim ilk satırım. amma aslında ikinci satırım.\n",
      "\n"
     ]
    }
   ],
   "source": [
    "# şimdi bu dosyayı okuyalım\n",
    "\n",
    "with open(\"benim_ilk_dosyam.txt\", \"r\", encoding=\"utf-8\") as dosyam:\n",
    "    print(dosyam.read())"
   ]
  },
  {
   "cell_type": "code",
   "execution_count": 45,
   "id": "loving-promotion",
   "metadata": {},
   "outputs": [],
   "source": [
    "with open(\"benim_ilk_dosyam.txt\", \"w\", encoding=\"utf-8\") as dosyam :\n",
    "    dosyam.write(\"bu benim ilk satırım.\\namma aslında ikinci satırım.\\nBu da benim üçüncü satırım\\n\")"
   ]
  },
  {
   "cell_type": "code",
   "execution_count": 46,
   "id": "ideal-newark",
   "metadata": {},
   "outputs": [
    {
     "name": "stdout",
     "output_type": "stream",
     "text": [
      "bu benim ilk satırım.\n",
      "amma aslında ikinci satırım.\n",
      "Bu da benim üçüncü satırım\n",
      "\n"
     ]
    }
   ],
   "source": [
    "with open(\"benim_ilk_dosyam.txt\", \"r\", encoding=\"utf-8\") as dosyam:\n",
    "    print(dosyam.read())"
   ]
  },
  {
   "cell_type": "code",
   "execution_count": 47,
   "id": "personalized-uruguay",
   "metadata": {},
   "outputs": [
    {
     "ename": "SyntaxError",
     "evalue": "invalid character in identifier (<ipython-input-47-dcbece7aff1d>, line 1)",
     "output_type": "error",
     "traceback": [
      "\u001b[1;36m  File \u001b[1;32m\"<ipython-input-47-dcbece7aff1d>\"\u001b[1;36m, line \u001b[1;32m1\u001b[0m\n\u001b[1;33m    with open(“benim_ilk_dosyam.txt”, “w”, encoding = “utf-8”) as dosyam :\u001b[0m\n\u001b[1;37m                              ^\u001b[0m\n\u001b[1;31mSyntaxError\u001b[0m\u001b[1;31m:\u001b[0m invalid character in identifier\n"
     ]
    }
   ],
   "source": []
  },
  {
   "cell_type": "code",
   "execution_count": 49,
   "id": "random-headline",
   "metadata": {},
   "outputs": [
    {
     "name": "stdout",
     "output_type": "stream",
     "text": [
      "BananaOrangeAppleStrawberryCherry\n"
     ]
    }
   ],
   "source": [
    "fruits=['Banana', 'Orange', 'Apple', 'Strawberry', 'Cherry']\n",
    "\n",
    "with open(\"fruits.txt\", \"w\", encoding=\"utf-8\") as file:\n",
    "    for meyve in fruits :\n",
    "        file.write(meyve)\n",
    "        \n",
    "with open(\"fruits.txt\", \"r\", encoding=\"utf-8\") as file:\n",
    "    print(file.read())"
   ]
  },
  {
   "cell_type": "code",
   "execution_count": 50,
   "id": "neither-pizza",
   "metadata": {},
   "outputs": [
    {
     "name": "stdout",
     "output_type": "stream",
     "text": [
      "Banana\n",
      "Orange\n",
      "Apple\n",
      "Strawberry\n",
      "Cherry\n",
      "\n"
     ]
    }
   ],
   "source": [
    "fruits=['Banana', 'Orange', 'Apple', 'Strawberry', 'Cherry']\n",
    "\n",
    "with open(\"fruits.txt\", \"w\", encoding=\"utf-8\") as file:\n",
    "    for meyve in fruits :\n",
    "        file.write(meyve+\"\\n\")\n",
    "        \n",
    "with open(\"fruits.txt\", \"r\", encoding=\"utf-8\") as file:\n",
    "    print(file.read())"
   ]
  },
  {
   "cell_type": "code",
   "execution_count": 51,
   "id": "undefined-microwave",
   "metadata": {},
   "outputs": [
    {
     "name": "stdout",
     "output_type": "stream",
     "text": [
      "['Banana\\n', 'Orange\\n', 'Apple\\n', 'Strawberry\\n', 'Cherry\\n']\n"
     ]
    }
   ],
   "source": [
    "with open(\"fruits.txt\", \"r\", encoding=\"utf-8\") as file:\n",
    "    print(file.readlines())\n",
    "    \n",
    "# readlines, dosyanın her bir satırı bir eleman olacak şekilde bir değer döndürecek."
   ]
  },
  {
   "cell_type": "code",
   "execution_count": null,
   "id": "understood-uruguay",
   "metadata": {},
   "outputs": [],
   "source": []
  },
  {
   "cell_type": "code",
   "execution_count": null,
   "id": "colonial-money",
   "metadata": {},
   "outputs": [],
   "source": []
  },
  {
   "cell_type": "code",
   "execution_count": null,
   "id": "legislative-supplement",
   "metadata": {},
   "outputs": [],
   "source": []
  },
  {
   "cell_type": "code",
   "execution_count": null,
   "id": "retired-frontier",
   "metadata": {},
   "outputs": [],
   "source": []
  },
  {
   "cell_type": "code",
   "execution_count": null,
   "id": "white-width",
   "metadata": {},
   "outputs": [],
   "source": []
  }
 ],
 "metadata": {
  "kernelspec": {
   "display_name": "Python 3",
   "language": "python",
   "name": "python3"
  },
  "language_info": {
   "codemirror_mode": {
    "name": "ipython",
    "version": 3
   },
   "file_extension": ".py",
   "mimetype": "text/x-python",
   "name": "python",
   "nbconvert_exporter": "python",
   "pygments_lexer": "ipython3",
   "version": "3.7.8"
  }
 },
 "nbformat": 4,
 "nbformat_minor": 5
}
