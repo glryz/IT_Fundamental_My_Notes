{
 "cells": [
  {
   "cell_type": "markdown",
   "id": "acoustic-starter",
   "metadata": {},
   "source": [
    "# https://pybilim.wordpress.com/2013/05/30/donguler-while-for-break-continue/"
   ]
  },
  {
   "cell_type": "markdown",
   "id": "sunset-fortune",
   "metadata": {},
   "source": [
    "# break"
   ]
  },
  {
   "cell_type": "code",
   "execution_count": null,
   "id": "greenhouse-developer",
   "metadata": {},
   "outputs": [],
   "source": [
    "\"\"\"break deyimi, C'de olduğu gibi, içinde kaldığı en küçük for veya while döngüsünden çıkılmasına \n",
    "ve döngü deyiminin tamamen sona ermesine neden olur.\n",
    "continue deyimi döngü içindeki diğer deyimlerin atlanıp bir sonraki yineleme işleminin başlamasına sebep olur.\n",
    "Döngülerde else ifadesi de kullanılabilir; else bloğu döngü bittiğinde (for için) \n",
    "veya devamlılık koşulu geçersiz olduğunda (while için) işletilir; \n",
    "fakat döngü break deyimi ile sona erdiyse işletilmez. \n",
    "Bunu asal sayılar bulan aşağıdaki örnekte görebilirsiniz:\n",
    "\"\"\"\n",
    "for n in range(2, 10):\n",
    "    for x in range(2, n):\n",
    "        if n % x == 0:\n",
    "            print(n, 'asal sayı değil. çarpanlar:', x, '*', int(n/x))\n",
    "            break\n",
    "    else: \n",
    "# çarpan bulunmadan döngü biter ise\n",
    "        print(n, 'asal sayıdır')"
   ]
  },
  {
   "cell_type": "code",
   "execution_count": 24,
   "id": "colored-victim",
   "metadata": {},
   "outputs": [
    {
     "name": "stdout",
     "output_type": "stream",
     "text": [
      "Bir sayı girin (bitirmek için -99): 87\n",
      "Bir sayı girin (bitirmek için -99): 5\n",
      "Bir sayı girin (bitirmek için -99): 14\n",
      "Bir sayı girin (bitirmek için -99): -99\n",
      "Toplam: 106\n"
     ]
    }
   ],
   "source": [
    "\"\"\"Bir döngü bloku içinde verilen bir break komutu, \n",
    "döngünün hemen o anda bitirilmesine yol açar.\n",
    "Program akışı döngüden sonra her ne varsa onunla devam eder. \n",
    "Sözgelişi, aşağıdaki program kullanıcı -99 girene kadar, \n",
    "verilen sayıları toplama ekler. \"\"\"\n",
    "\n",
    "toplam = 0\n",
    "while 1:   # Şart hep doğru - sonsuz döngü\n",
    "    x = int(input(\"Bir sayı girin (bitirmek için -99): \"))\n",
    "    if x == -99:\n",
    "        break\n",
    "    toplam += x\n",
    "print(\"Toplam:\", toplam)\n",
    "\n",
    "\n",
    "\"\"\"\n",
    "break sadece döngüler içinde ve bir if şartı altında bir mânâ ifade eder. \n",
    "Eğer if kullanmazsanız döngü daha ilk çalışmasında break‘i görür görmez dışarı çıkar, \n",
    "blokun geri kalanı hiç işlemez, döngü hiç tekrarlanmaz\n",
    "\"\"\""
   ]
  },
  {
   "cell_type": "code",
   "execution_count": 26,
   "id": "secondary-response",
   "metadata": {},
   "outputs": [
    {
     "name": "stdout",
     "output_type": "stream",
     "text": [
      "Bir sayı girin (bitirmek için -99): 6\n",
      "Bir sayı girin (bitirmek için -99): 4\n",
      "Bir sayı girin (bitirmek için -99): 656\n",
      "Bir sayı girin (bitirmek için -99): -99\n",
      "Toplam: 561\n"
     ]
    }
   ],
   "source": [
    "# yukardaki programı break kullanmadan yaparsak:\n",
    "\n",
    "toplam = 0\n",
    "x = int(input(\"Bir sayı girin (bitirmek için -99): \"))\n",
    "while x != -99: \n",
    "    x = int(input(\"Bir sayı girin (bitirmek için -99): \"))\n",
    "    toplam += x\n",
    "print(\"Toplam:\", toplam)"
   ]
  },
  {
   "cell_type": "markdown",
   "id": "classified-bloom",
   "metadata": {},
   "source": [
    "# continue"
   ]
  },
  {
   "cell_type": "code",
   "execution_count": 29,
   "id": "finnish-biology",
   "metadata": {},
   "outputs": [
    {
     "name": "stdout",
     "output_type": "stream",
     "text": [
      "Bir sayı girin (bitirmek için -99): 21\n",
      "Bir sayı girin (bitirmek için -99): 45\n",
      "Bir sayı girin (bitirmek için -99): 7\n",
      "Bir sayı girin (bitirmek için -99): 125\n",
      "0-100 arası olmalı.\n",
      "Bir sayı girin (bitirmek için -99): -99\n",
      "Toplam: 73\n"
     ]
    }
   ],
   "source": [
    "\"\"\"\n",
    "continue komutu da, aynı break gibi, sadece bir döngü içinde ve bir if şartı altında mânâ ifade eder. \n",
    "continue döngü blokunun işlemesini yarıda keser ve başa döner. \n",
    "break‘den farkı, programın döngünün dışına çıkmaması, \n",
    "ama döngünün başına dönmesi ve tekrar başlatmasıdır. \n",
    "Bu arada döngü şartının doğru olup olmadığı da kontrol edilir.\n",
    "\n",
    "Sözgelişi, yukarıdaki programı, sadece 0 ve 100 arası değerleri kabul edecek şekilde şöyle yazabiliriz:,\n",
    "\"\"\"\n",
    "\n",
    "toplam = 0\n",
    "while 1:\n",
    "    x = int(input(\"Bir sayı girin (bitirmek için -99): \"))\n",
    "    if x == -99:\n",
    "        break\n",
    "    if x < 0 or x > 100:\n",
    "        print(\"0-100 arası olmalı.\")\n",
    "        continue\n",
    "    toplam += x\n",
    "print(\"Toplam:\", toplam)\n",
    "\n",
    "\n",
    "\"\"\"\n",
    "Programda 0-100 aralığı dışındaki girdiler continue‘ya takılıyor, \n",
    "o yüzden toplama eklenmiyorlar. Programı -99’la bitirmek hâlâ mümkün \n",
    "çünkü bunun testi daha önce yapılıyor. İki if blokunun sırasını değiştirirseniz \n",
    "bu bozulur, program sonsuz döngüye girer.\n",
    "\"\"\""
   ]
  },
  {
   "cell_type": "code",
   "execution_count": null,
   "id": "reflected-transportation",
   "metadata": {},
   "outputs": [],
   "source": []
  },
  {
   "cell_type": "markdown",
   "id": "crude-motor",
   "metadata": {},
   "source": [
    "# pass deyimi hiçbir şey yapmaz. \n"
   ]
  },
  {
   "cell_type": "code",
   "execution_count": null,
   "id": "major-blake",
   "metadata": {},
   "outputs": [],
   "source": [
    "\"\"\"pass, Python sözdizim kurallarına göre bir ifadenin gerekli olduğu, \n",
    "fakat programın bir şey yapması gerekmediği zaman kullanılabilir:\n",
    "\"\"\"\n",
    "\n",
    "while 1:\n",
    "    pass # klavyeden CTRL+C ile kesilene kadar sürer"
   ]
  },
  {
   "cell_type": "code",
   "execution_count": null,
   "id": "incorporated-scanning",
   "metadata": {},
   "outputs": [],
   "source": []
  },
  {
   "cell_type": "markdown",
   "id": "incident-compromise",
   "metadata": {},
   "source": [
    "# while"
   ]
  },
  {
   "cell_type": "code",
   "execution_count": 12,
   "id": "present-campbell",
   "metadata": {},
   "outputs": [
    {
     "name": "stdout",
     "output_type": "stream",
     "text": [
      "55\n",
      "385\n",
      "3025\n",
      "25333\n",
      "220825\n",
      "1978405\n"
     ]
    }
   ],
   "source": [
    "\"\"\"\"\n",
    "İç içe döngüler de yapılabilir. \n",
    "Aşağıdaki program 1^p + 2^p + \\cdots + 10^p toplamını \n",
    "p'nin 1-6 arasındaki değerleri için ekrana yazar.\n",
    "\"\"\"\n",
    "\n",
    "p=1\n",
    "while p<=6:\n",
    "    a=1\n",
    "    b=10\n",
    "    toplam = 0\n",
    "    while a<=b:\n",
    "        toplam += a**p\n",
    "        a += 1\n",
    "    print(toplam)\n",
    "    p += 1"
   ]
  },
  {
   "cell_type": "code",
   "execution_count": 30,
   "id": "paperback-oracle",
   "metadata": {},
   "outputs": [
    {
     "name": "stdout",
     "output_type": "stream",
     "text": [
      "Merhaba\n",
      "Merhab\n",
      "Merha\n",
      "Merh\n",
      "Mer\n",
      "Me\n",
      "M\n"
     ]
    }
   ],
   "source": [
    "\"\"\"Döngü içinde her zaman bir sayaç kullanmak gerekmez.\n",
    "Sözgelişi, aşağıdaki program s dizesi boş olmadığı sürece \n",
    "çalışmaya devam eder ve her döngüde dizenin son karakterini budar.\n",
    "\"\"\"\n",
    "s = \"Merhaba\"\n",
    "while s:      # while s diyoruz çünkü s boş olduğu zaman False verecek ve döngü sona erecek \n",
    "    print(s)\n",
    "    s = s[:-1]\n"
   ]
  },
  {
   "cell_type": "code",
   "execution_count": 31,
   "id": "alone-romantic",
   "metadata": {},
   "outputs": [
    {
     "name": "stdout",
     "output_type": "stream",
     "text": [
      "M e r h a b a "
     ]
    }
   ],
   "source": [
    "s = \"Merhaba\"\n",
    "i = 0\n",
    "while i < len(s):\n",
    "    print(s[i], end=\" \")\n",
    "    i += 1"
   ]
  },
  {
   "cell_type": "code",
   "execution_count": 18,
   "id": "sunrise-tulsa",
   "metadata": {},
   "outputs": [
    {
     "name": "stdout",
     "output_type": "stream",
     "text": [
      "88\n"
     ]
    }
   ],
   "source": [
    "# Daha “Pythonca” olan bu yaklaşımla, bir listedeki sayıların toplamını şöyle hesaplayabiliriz.\n",
    "\n",
    "s = [1, -2, 4, 5, 13, 67]\n",
    "toplam = 0\n",
    "while s:\n",
    "    toplam += s[0]\n",
    "    s = s[1:]\n",
    "print(toplam)\n",
    "\n",
    "# Bu sefer listenin sonundaki değil başındaki elemanı budadık"
   ]
  },
  {
   "cell_type": "markdown",
   "id": "naughty-nebraska",
   "metadata": {},
   "source": [
    "# else"
   ]
  },
  {
   "cell_type": "code",
   "execution_count": 42,
   "id": "backed-papua",
   "metadata": {},
   "outputs": [
    {
     "name": "stdout",
     "output_type": "stream",
     "text": [
      "Aranan 3 değeri 4 pozisyonunda.\n"
     ]
    }
   ],
   "source": [
    "\"\"\"\"\n",
    "Python’un while ve for döngülerinde, aynı if‘deki gibi, bir else bloku bulunabilmesi mümkündür.\n",
    "Bu, C’de ve birçok diğer dilde olmayan bir özellik.\n",
    "\n",
    "while <şart>:\n",
    "    <komutlar 1>\n",
    "else:\n",
    "    <komutlar 2>    \n",
    "\n",
    "\n",
    "else bloku altındaki <komutlar 2> kısmı sadece döngü şartı yanlışsa çalıştırılır. \n",
    "Kendi başına bu o kadar da gerekli değil; <komutlar 2> kısmını else kelimesi olmadan \n",
    "döngü blokunun dışına koysanız da aynı etkiyi yapar. else‘i işe yarar kılan şey şu:\n",
    "<komutlar 1> KISMINDA BİR BREAK KOMUTU ÇALIŞTIRILIRSA, DÖNGÜNÜN ELSE KISMINI DA ATLAR. \n",
    "Yani, DÖNGÜNÜZ BREAK İLE BİTMEDİĞİ ZAMAN ÇALIŞMASINI İSTEDİĞİNİZ KOMUTLARI ELSE ALTINA KOYARSINIZ\n",
    "\n",
    "İki somut örnek verelim. Sözgelişi, bir sıralı veri yapısı içinde bir arama yapıyoruz; \n",
    "belli bir değere sahip bir eleman var mı diye bakıyoruz. Bunun klasik yolu “bayrak” (flag) \n",
    "adı verilen Boolean (doğru/yanlış) değişkenler kullanmaktır. Bulunamadığını varsayarak başlarız,\n",
    "bütün diziyi tararız, bulduysak bayrağı kaldırır döngüden çıkarız. \n",
    "Döngü bittiğinde bayrağın durumu bize sonucu verir.\n",
    "\"\"\"\n",
    "\n",
    "data = [1,2,4,-1,3,4,-5,1]\n",
    "i = 0\n",
    "aranan = 3\n",
    "\n",
    "bulduk = False\n",
    "while i<len(data) and not bulduk:\n",
    "    if data[i] == aranan:\n",
    "        bulduk = True\n",
    "    else:\n",
    "        i += 1\n",
    "\n",
    "if bulduk:\n",
    "    print(\"Aranan\", aranan, \"değeri\", i, \"pozisyonunda.\")\n",
    "else:\n",
    "    print(\"Bulamadık\")"
   ]
  },
  {
   "cell_type": "code",
   "execution_count": 29,
   "id": "touched-heating",
   "metadata": {},
   "outputs": [
    {
     "name": "stdout",
     "output_type": "stream",
     "text": [
      "Aranan 3 değeri 4 pozisyonunda.\n"
     ]
    },
    {
     "data": {
      "text/plain": [
       "'İkinci programdaki else‘in if‘e değil while‘a ait olduğuna dikkat edin. \\nBurada bulduk değişkenine ihtiyaç kalmıyor.\\n'"
      ]
     },
     "execution_count": 29,
     "metadata": {},
     "output_type": "execute_result"
    }
   ],
   "source": [
    "# while ile birlikte else kullanmak bu programı biraz sadeleştirir.\n",
    "\n",
    "data = [1,2,4,-1,3,4,-5,1]\n",
    "i = 0\n",
    "aranan = 3\n",
    "\n",
    "while i<len(data):\n",
    "    if data[i] == aranan:\n",
    "        print(\"Aranan\", aranan, \"değeri\", i, \"pozisyonunda.\")\n",
    "        break;\n",
    "    i += 1\n",
    "else:\n",
    "    print(\"Bulamadık\")\n",
    "\n",
    "\"\"\"İkinci programdaki else‘in if‘e değil while‘a ait olduğuna dikkat edin. \n",
    "Burada bulduk değişkenine ihtiyaç kalmıyor.\n",
    "\"\"\""
   ]
  },
  {
   "cell_type": "code",
   "execution_count": 30,
   "id": "generic-olympus",
   "metadata": {},
   "outputs": [
    {
     "name": "stdout",
     "output_type": "stream",
     "text": [
      "Bir pozitif tamsayı girin: 18\n",
      "Asal değil, 2 böler.\n"
     ]
    },
    {
     "data": {
      "text/plain": [
       "' Döngü şartını i <= \\\\sqrt{x} yerine i^2 <= x olarak yazdım, \\nböylece karekök almak gibi bilgisayarı yoran bir işlemden kaçındım.\\n'"
      ]
     },
     "execution_count": 30,
     "metadata": {},
     "output_type": "execute_result"
    }
   ],
   "source": [
    "\"\"\"\n",
    "Başka bir örnek olarak, verilen bir sayının asal olup olmadığını belirleyelim. \n",
    "Bunun için, verilen sayının, daha küçük sayılara bölünebilir olup olmadığına bakacağız. \n",
    "Bölen daha küçük bir sayı bulursak, gerisine bakmadan sayının asal olduğunu söyleyebiliriz. \n",
    "Sayı asalsa, bütün muhtemel bölenlere bakmamız gerekecek.\n",
    "\n",
    "Bir x sayısının asal olup olmadığını anlamak için x‘den küçük bütün sayılara bakmaya lüzum yok; \n",
    "2 ile karekök x arasındaki sayıları test etmek yeterli.\n",
    "\n",
    "Döngü else‘ini kullanmadan şöyle yapabiliriz:\n",
    "\"\"\"\n",
    "\n",
    "x = int(input(\"Bir pozitif tamsayı girin: \"))\n",
    "asal = True\n",
    "i = 2\n",
    "while i*i <= x and asal:\n",
    "    if x % i==0:\n",
    "        asal = False\n",
    "    else:\n",
    "        i += 1\n",
    "\n",
    "if asal:\n",
    "    print(\"Asal.\")\n",
    "else:\n",
    "    print(\"Asal değil,\", i, \"böler.\")\n",
    "\n",
    "\"\"\" Döngü şartını i <= \\sqrt{x} yerine i^2 <= x olarak yazdım, \n",
    "böylece karekök almak gibi bilgisayarı yoran bir işlemden kaçındım.\n",
    "\"\"\""
   ]
  },
  {
   "cell_type": "code",
   "execution_count": 37,
   "id": "unlikely-bullet",
   "metadata": {},
   "outputs": [
    {
     "name": "stdout",
     "output_type": "stream",
     "text": [
      "bir pozitif tamsayı giriniz :17\n",
      "17 bir asal sayıdır\n"
     ]
    }
   ],
   "source": [
    "x = int(input('bir pozitif tamsayı giriniz :'))\n",
    "i=2\n",
    "while i*i <= x :\n",
    "    if x%i==0:\n",
    "        print(x, 'bir asal sayı değildir', i, 'ye bölünür :' ) \n",
    "        break\n",
    "    i+=1\n",
    "else :\n",
    "    print(x, 'bir asal sayıdır')"
   ]
  },
  {
   "cell_type": "code",
   "execution_count": 40,
   "id": "perceived-oxford",
   "metadata": {},
   "outputs": [
    {
     "name": "stdout",
     "output_type": "stream",
     "text": [
      "bir pozitif tamsayı giriniz :18\n",
      "[2, 3, 6, 9]\n"
     ]
    }
   ],
   "source": [
    "# bölenelerini bulan bir fonksiyon yazarsak:\n",
    "\n",
    "x = int(input('bir pozitif tamsayı giriniz :'))\n",
    "def bölen(n):\n",
    "    bölenler=[]\n",
    "    for i in range(2,18\n",
    "                   n):\n",
    "        if n % i == 0:\n",
    "            bölenler.append(i)\n",
    "    return bölenler\n",
    "print(bölen(x))"
   ]
  },
  {
   "cell_type": "code",
   "execution_count": 44,
   "id": "reliable-approach",
   "metadata": {},
   "outputs": [
    {
     "name": "stdout",
     "output_type": "stream",
     "text": [
      "bir pozitif tamsayı giriniz :18\n",
      "18 bir asal sayı değildir [2, 3, 6, 9] ye bölünür :\n"
     ]
    }
   ],
   "source": [
    "# şimdi bu fonksiyonu programımıza entegre edelim:\n",
    "\n",
    "def bölen(n):\n",
    "    bölenler=[]\n",
    "    for i in range(2, n):\n",
    "        if n % i == 0:\n",
    "            bölenler.append(i)\n",
    "    return bölenler\n",
    "\n",
    "x = int(input('bir pozitif tamsayı giriniz :'))\n",
    "i=2\n",
    "while i*i <= x :\n",
    "    if x%i==0:\n",
    "        print(x, 'bir asal sayı değildir', bölen(x), 'ye bölünür :' ) \n",
    "        break\n",
    "    i+=1\n",
    "else :\n",
    "    print(x, 'bir asal sayıdır')"
   ]
  },
  {
   "cell_type": "code",
   "execution_count": 16,
   "id": "functioning-ceramic",
   "metadata": {},
   "outputs": [
    {
     "name": "stdout",
     "output_type": "stream",
     "text": [
      "55\n",
      "385\n",
      "3025\n",
      "25333\n",
      "220825\n",
      "1978405\n"
     ]
    }
   ],
   "source": [
    "p=1\n",
    "while p<=6:\n",
    "    a=1\n",
    "    b=10\n",
    "    toplam = 0\n",
    "    while a<=b:\n",
    "        toplam += a**p\n",
    "        a += 1\n",
    "    print(toplam)\n",
    "    p += 1"
   ]
  },
  {
   "cell_type": "markdown",
   "id": "amino-suspect",
   "metadata": {},
   "source": [
    "# for döngüsü"
   ]
  },
  {
   "cell_type": "code",
   "execution_count": 47,
   "id": "bearing-extreme",
   "metadata": {},
   "outputs": [
    {
     "name": "stdout",
     "output_type": "stream",
     "text": [
      "M e r h a b a "
     ]
    }
   ],
   "source": [
    "\"\"\" C ve benzeri dillerde for komutu kullanan döngüler, while kullananlara tamamen denktir. \n",
    "Python’da ise for daha farklı bir işleve sahiptir: Sıralı bir nesnedeki elemanları tek tek, \n",
    "sırayla alır ve döngü blokunda işler. Aynısını while ile yapmak daha zahmetlidir.\n",
    "\n",
    "break, continue, else komutları da for döngülerinde aynı şekilde kullanılır.\n",
    "\"\"\"\n",
    "\n",
    "# Bir dizedeki karakterleri tek tek almak için:\n",
    "\n",
    "for c in \"Merhaba\":\n",
    "    print(c, end=' ')"
   ]
  },
  {
   "cell_type": "code",
   "execution_count": 48,
   "id": "industrial-simon",
   "metadata": {},
   "outputs": [
    {
     "data": {
      "text/plain": [
       "18"
      ]
     },
     "execution_count": 48,
     "metadata": {},
     "output_type": "execute_result"
    }
   ],
   "source": [
    "# Bir çokludaki sayıların toplamını bulmak\n",
    "\n",
    "toplam=0\n",
    "for x in (4,5,2,-4,1,10):\n",
    "    toplam += x\n",
    "\n",
    "toplam"
   ]
  },
  {
   "cell_type": "code",
   "execution_count": 49,
   "id": "connected-aviation",
   "metadata": {},
   "outputs": [
    {
     "name": "stdout",
     "output_type": "stream",
     "text": [
      "1 2 3\n",
      "2 4 6\n",
      "3 8 11\n"
     ]
    }
   ],
   "source": [
    "# Bir çokuzlar dizisi üzerinde iterasyon yapıyorsanız, çokuz ataması işinizi kolaylaştırır:\n",
    "\n",
    "for (a,b) in [(1,2), (2,4), (3,8)]:\n",
    "    print(a, b, a+b)"
   ]
  },
  {
   "cell_type": "code",
   "execution_count": null,
   "id": "sealed-integration",
   "metadata": {},
   "outputs": [],
   "source": []
  },
  {
   "cell_type": "code",
   "execution_count": null,
   "id": "double-machine",
   "metadata": {},
   "outputs": [],
   "source": []
  },
  {
   "cell_type": "code",
   "execution_count": null,
   "id": "entertaining-fetish",
   "metadata": {},
   "outputs": [],
   "source": []
  }
 ],
 "metadata": {
  "kernelspec": {
   "display_name": "Python 3",
   "language": "python",
   "name": "python3"
  },
  "language_info": {
   "codemirror_mode": {
    "name": "ipython",
    "version": 3
   },
   "file_extension": ".py",
   "mimetype": "text/x-python",
   "name": "python",
   "nbconvert_exporter": "python",
   "pygments_lexer": "ipython3",
   "version": "3.7.8"
  }
 },
 "nbformat": 4,
 "nbformat_minor": 5
}
