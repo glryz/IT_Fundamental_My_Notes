{
 "cells": [
  {
   "cell_type": "markdown",
   "id": "operational-shopping",
   "metadata": {},
   "source": [
    "# 1"
   ]
  },
  {
   "cell_type": "code",
   "execution_count": null,
   "id": "literary-swiss",
   "metadata": {},
   "outputs": [],
   "source": [
    "Problem :\n",
    "Given a collection of distinct integers, return all possible permutations.\n",
    "Example:\n",
    "Input:\n",
    "[1,2,3]\n",
    "Output:\n",
    "[\n",
    "  [1,2,3],\n",
    "  [1,3,2],\n",
    "  [2,1,3],\n",
    "  [2,3,1],\n",
    "  [3,1,2],\n",
    "  [3,2,1]\n",
    "]\n",
    "Arkadaşlar bu sorunun; fonksiyon oluşturmadan, herhangi bir kütüphane/modul kullanmadan, sadece PythonBasic müfredatı çerçevesinde yapılması gerekmektedir"
   ]
  },
  {
   "cell_type": "code",
   "execution_count": null,
   "id": "dimensional-slide",
   "metadata": {},
   "outputs": [],
   "source": [
    "res = [[]]\n",
    "liste = range(1,4)\n",
    "for r in res:\n",
    "    for j in liste:\n",
    "        if j not in r:\n",
    "            res.append([j] + r)\n",
    "result = []\n",
    "for i in res:\n",
    "    if len(i) >= len(liste):\n",
    "        result.append(i)\n",
    "result"
   ]
  },
  {
   "cell_type": "code",
   "execution_count": null,
   "id": "banned-financing",
   "metadata": {},
   "outputs": [],
   "source": [
    "l= [5,6,3]  \n",
    "l1 =[]\n",
    "l2 = []\n",
    "for i in range(len(l)):\n",
    "    v = l[:i]+l[i+1:]\n",
    "    l1.append(v)\n",
    "for z in range(len(l1)):\n",
    "    s= l1[z]\n",
    "    add1= [l[z]] + s\n",
    "    add2=[l[z]]+[*reversed(s)]\n",
    "    l2.extend([add1,add2])\n",
    "print(l2)    "
   ]
  },
  {
   "cell_type": "code",
   "execution_count": null,
   "id": "ordinary-island",
   "metadata": {},
   "outputs": [],
   "source": [
    "data = [1, 2, 3]\n",
    "desired = [\n",
    "    [x, y, z]\n",
    "    for x in data\n",
    "    for y in data\n",
    "    for z in data\n",
    "    if (x != y and y != z and x != z)\n",
    "    ]\n",
    "print(desired)"
   ]
  },
  {
   "cell_type": "code",
   "execution_count": null,
   "id": "acute-turning",
   "metadata": {},
   "outputs": [],
   "source": [
    "liste = [1, 2, 3]\n",
    "result1= []\n",
    "perm = 1  \n",
    "# perm: başlangıçta liste tek elemanlı bile olsa 1 olasılık vardır.\n",
    "for i in range(1, len(liste)+1):\n",
    "    perm = i * perm  \n",
    "# perm : toplam kaç farklı şekilde olabileceğine ilişkin sayı.\n",
    "per = int(perm * 0.5)  \n",
    "# per: toplam değişik listelerin yarısı diğer yarısının tersi olarak yer almaktadır. \n",
    "# o yüzden diğer yarısını en son ekleyeceğim. \n",
    "for i in range(per):\n",
    "# []: toplam değişik listelerin yarısı kadar boş liste ekledim.\n",
    "    result1.append([])\n",
    "for i in range(len(liste)):\n",
    "               for j in result1:\n",
    "                    j.append(0) \n",
    "# [x, x, x, x....]üzerinde rahat çalışmak için, \n",
    "# her bir değişik listeye listedeki toplam eleman kadar boş bir değer atadım. \n",
    "k = 0\n",
    "for i in liste: \n",
    "# bu bölümde tüm listelere birer kaydırararak başlangıçtaki liste elemanlarımı ekledim.  \n",
    "    k += 1\n",
    "    for j in range(per):\n",
    "        if k < len(liste):\n",
    "            result1[j][k] = i\n",
    "            k += 1\n",
    "        else:\n",
    "            k = 0\n",
    "            result1[j][k] = i\n",
    "            k += 1\n",
    "result2 = []\n",
    "for i in result1: \n",
    "# tüm listelerin bir de tersini alıyorum\n",
    "    result2.append(i[::-1])\n",
    "result = result2 + result1 \n",
    "# tersini (perm/2 adet) , düzünü (perm/2 adet) topluyorum.)\n",
    "print(len(result), result, sep = \"\\n\")"
   ]
  },
  {
   "cell_type": "code",
   "execution_count": null,
   "id": "honest-austin",
   "metadata": {},
   "outputs": [],
   "source": [
    "def per(numbers):\n",
    "    output = []\n",
    "    new_list = []\n",
    "    new_list.append(numbers[0])\n",
    "    output.append(new_list)\n",
    "    for i in numbers[1:]:\n",
    "        for j in range(len(output)):\n",
    "            for k in range(len(output[j])+ 1):\n",
    "                newest_list = output[j][:]\n",
    "                newest_list.insert(k, i)\n",
    "                output.append(newest_list)\n",
    "    for element in output[:]:\n",
    "            if len(element) < len(output[-1]):\n",
    "                output.remove(element)\n",
    "    print(output)\n",
    "    print(f\"{len(output)} possible permutations.\")\n",
    "numbers = [1, 2, 3]\n",
    "per(numbers)"
   ]
  },
  {
   "cell_type": "markdown",
   "id": "surrounded-layout",
   "metadata": {},
   "source": [
    "# 2"
   ]
  },
  {
   "cell_type": "code",
   "execution_count": null,
   "id": "fifth-leather",
   "metadata": {},
   "outputs": [],
   "source": [
    "Example:\n",
    "wave(\"hello\") => [\"Hello\", \"hEllo\", \"heLlo\", \"helLo\", \"hellO\"]\n",
    "girilen stringin harflerini sırayla büyütüp bir liste haline getiren kod yazılması isteniyor.\n",
    "arada boşluk var ise o atlanmalı."
   ]
  },
  {
   "cell_type": "code",
   "execution_count": null,
   "id": "resistant-extraction",
   "metadata": {},
   "outputs": [],
   "source": [
    "test=\"Merhaba herkese\".lower()\n",
    "liste=[]\n",
    "for k in range(len(test)):\n",
    "    if test[k].isalpha():\n",
    "        liste.append(test[:k]+test[k].upper()+test[k+1:])\n",
    "print(liste)"
   ]
  },
  {
   "cell_type": "code",
   "execution_count": null,
   "id": "secondary-software",
   "metadata": {},
   "outputs": [],
   "source": [
    "def wave(s):\n",
    "    return [f\"{s[0:i]}{s[i].upper()}{s[i+1:]}\"  for i in range(len(s)) if i!=' ']"
   ]
  },
  {
   "cell_type": "code",
   "execution_count": null,
   "id": "incorporate-frank",
   "metadata": {},
   "outputs": [],
   "source": [
    "test=\"Merhaba herkese\"\n",
    "print([test[:k]+test[k].upper()+test[k+1:] for k in range(len(test)) if test[k].isalpha()])"
   ]
  },
  {
   "cell_type": "code",
   "execution_count": null,
   "id": "likely-bridges",
   "metadata": {},
   "outputs": [],
   "source": [
    "test = \"hello\"\n",
    "l=[]\n",
    "for i, x in enumerate(test):\n",
    "    if x != ' ':\n",
    "        x = x.upper()\n",
    "        for y in test[i]:\n",
    "            y = x\n",
    "            changed_test_1 = test[i:].replace(test[i], y, 1)\n",
    "            changed_test = test[:i] + changed_test_1\n",
    "            l.append(changed_test)\n",
    "print(l)"
   ]
  },
  {
   "cell_type": "code",
   "execution_count": null,
   "id": "virtual-cross",
   "metadata": {},
   "outputs": [],
   "source": [
    "wave = \"hello\"\n",
    "print([wave[:i] + wave[i].upper() + wave[i + 1:] for i in range(len(wave)) if wave[i].isalpha()])"
   ]
  },
  {
   "cell_type": "code",
   "execution_count": null,
   "id": "practical-wiring",
   "metadata": {},
   "outputs": [],
   "source": [
    "def wave(samp):\n",
    "    b = 0\n",
    "    my_list = []\n",
    "    while b < len(samp):\n",
    "        my_list.append(samp)\n",
    "        b += 1\n",
    "    return [f\"{ii[0:i]}{ii[i].upper()}{ii[i+1:]}\" for i, ii in enumerate(my_list)]"
   ]
  },
  {
   "cell_type": "markdown",
   "id": "southeast-duncan",
   "metadata": {},
   "source": [
    "# 3"
   ]
  },
  {
   "cell_type": "code",
   "execution_count": null,
   "id": "processed-emergency",
   "metadata": {},
   "outputs": [],
   "source": [
    "Herkese hayirli sabahlar. Gun kolay ve zevkli bir code alistirmasiyla baslasin diyenlere:\n",
    "Gorev: Size verilen yonleri sadelestirerek en kisa rotayi olusturmak.\n",
    "Ornek:\n",
    "[\"Kuzey\", \"Guney\", \"Guney\", \"Dogu\", \"Bati\", \"Kuzey\", \"Bati\"]\n",
    "Ilk baslangic  Kuzey, sonra Guney olunca birbirini esitlediginden anlamsiz bir yolculuk oluyor.\n",
    "Ikisini listemizden cikariyoruz.\n",
    "Yeni listemiz :\n",
    "[\"Guney\", \"Dogu\", \"Bati\", \"Kuzey\", \"Bati\"]\n",
    "Ilk once Guneye gidiyoruz. Sonra Doguya sonra da Batiya. Dogudan sonra Bati yine birbirini esitliyor. Ikisini listemizden cikariyoruz.\n",
    "[\"Guney\", \"Kuzey\", \"Bati\"]\n",
    "Guneye gitmistik, sonraki rota Kuzey olunca birbirini esitliyor.\n",
    "Son rotamiz.\n",
    "[\"Bati\"]\n",
    "Test 1: [\"Kuzey\", \"Guney\", \"Guney\", \"Dogu\", \"Bati\", \"Kuzey\", \"Bati\"]  \n",
    "Istenilen :  [\"Bati\"]\n",
    "Test 2: [\"Kuzey\", \"Bati\", \"Guney\", \"Dogu\"]\n",
    "Istenilen :    [\"Kuzey\", \"Bati\", \"Guney\", \"Dogu\"]"
   ]
  },
  {
   "cell_type": "code",
   "execution_count": null,
   "id": "thick-aging",
   "metadata": {},
   "outputs": [],
   "source": [
    "def navigate(l):\n",
    "    mydict = {\"Kuzey\": \"Guney\", \"Guney\": \"Kuzey\",\n",
    "              \"Dogu\": \"Bati\", \"Bati\": \"Dogu\"}\n",
    "    flag = True\n",
    "    while flag == True:\n",
    "        if len(l) != 1:\n",
    "            for i in l:\n",
    "                if l.index(i) != (len(l)-1):\n",
    "                    if l[(l.index(i)+1)] == mydict[i]:\n",
    "                        del l[l.index(i)+1]\n",
    "                        del l[l.index(i)]\n",
    "                        break\n",
    "                else:\n",
    "                    flag == False\n",
    "                    return l\n",
    "        else:\n",
    "            return l\n",
    "navigate([\"Kuzey\", \"Bati\", \"Guney\", \"Dogu\"])"
   ]
  },
  {
   "cell_type": "code",
   "execution_count": null,
   "id": "impressed-death",
   "metadata": {},
   "outputs": [],
   "source": [
    "def yon(l):\n",
    "    s={\"Kuzey\":\"Guney\",\"Guney\":\"Kuzey\",\"Dogu\":\"Bati\",\"Bati\":\"Dogu\"}\n",
    "    i=0 \n",
    "    while i<len(l)-1:\n",
    "        if s[l[i]]==l[i+1]:\n",
    "            del l[i:i+2]\n",
    "            i=0\n",
    "        else:\n",
    "            i+=1\n",
    "    return l"
   ]
  },
  {
   "cell_type": "code",
   "execution_count": null,
   "id": "dental-scholar",
   "metadata": {},
   "outputs": [],
   "source": [
    "def clarusway(emir):\n",
    "    zıtlar = {\"Kuzey\": \"Guney\", \"Guney\": \"Kuzey\", \"Dogu\": \"Bati\", \"Bati\": \"Dogu\"}\n",
    "    sonuc = []\n",
    "    for i in emir:\n",
    "        if sonuc and zıtlar[i] == sonuc[-1]:  # sonuc listesinde ve zıt yönler listesinde seçili eleman son elemana eşitse\n",
    "            sonuc.pop()  # son elemanı sil\n",
    "        else:  # değil ise\n",
    "            sonuc.append(i)  # seçili elemanı yazdır\n",
    "    return sonuc  # sonucu getir\n",
    "# denemeler\n",
    "print(clarusway([\"Kuzey\", \"Guney\", \"Guney\", \"Dogu\", \"Bati\", \"Kuzey\", \"Bati\"]))\n",
    "print(clarusway([\"Kuzey\", \"Bati\", \"Guney\", \"Dogu\"]))"
   ]
  },
  {
   "cell_type": "markdown",
   "id": "charged-wichita",
   "metadata": {},
   "source": [
    "# 4"
   ]
  },
  {
   "cell_type": "code",
   "execution_count": null,
   "id": "capable-inventory",
   "metadata": {},
   "outputs": [],
   "source": [
    "62. Write a method that takes an array of consecutive (increasing) letters \n",
    "as input and that returns the missing letter in the array. \n",
    "You will always get an valid array. And it will be always exactly one letter be missing.\n",
    "The length of the array will always be at least 2. The array will always contain letters in only one case.\n",
    "Example:\n",
    "['a','b','c','d','f'] -> 'e' ['O','Q','R','S'] -> 'P'\n",
    "[\"a\",\"b\",\"c\",\"d\",\"f\"] -> \"e\"\n",
    "[\"O\",\"Q\",\"R\",\"S\"] -> \"P\"\n",
    "(Use the English alphabet with 26 letters!)"
   ]
  },
  {
   "cell_type": "code",
   "execution_count": null,
   "id": "parallel-cooperation",
   "metadata": {},
   "outputs": [],
   "source": [
    "def missing(s):\n",
    "    length=len(s)\n",
    "    miss=[]\n",
    "    eng_alp_low= list('abcdefghijklmnopqrstuvwxyz')\n",
    "    eng_alp_up=list('abcdefghijklmnopqrstuvwxyz'.upper())\n",
    "    if length>=2:\n",
    "      if s[0].isupper():\n",
    "            if s[0] in eng_alp_up:\n",
    "                miss=eng_alp_up[eng_alp_up.index(s[0]):eng_alp_up.index(s[0])+length+1]\n",
    "      else:  \n",
    "             if s[0] in eng_alp_low:\n",
    "                miss=eng_alp_low[eng_alp_low.index(s[0]):eng_alp_low.index(s[0])+length+1]      \n",
    "    return set(miss).difference(set(s))"
   ]
  },
  {
   "cell_type": "code",
   "execution_count": null,
   "id": "completed-funds",
   "metadata": {},
   "outputs": [],
   "source": [
    "def missing(l):\n",
    "    h=\"abcdefghijklmnopqrstuvwxyzABCDEFGHIJKLMNOPQRSTUVWXYZ\" \n",
    "    print(*filter(lambda x:x not in l, h[h.index(l[0]):h.index(l[-1])]))"
   ]
  },
  {
   "cell_type": "code",
   "execution_count": null,
   "id": "unable-number",
   "metadata": {},
   "outputs": [],
   "source": [
    "def missing_letter(s):\n",
    "  alfabe=\"abcdefghijklmnopqrstuvwxyzABCDEFGHIJKLMNOPQRSTUVWXYZ\"\n",
    "  for i in range(len(s)-1):\n",
    "    if s[i] in alfabe:\n",
    "      y=alfabe[alfabe.index(s[i])+1]\n",
    "      if y==s[i+1]:\n",
    "        pass\n",
    "      else:\n",
    "       return y"
   ]
  },
  {
   "cell_type": "code",
   "execution_count": null,
   "id": "geographic-state",
   "metadata": {},
   "outputs": [],
   "source": [
    "l = ['a','b','c','d','e','f','g','h','i','j','k','l','m','n','o','p','q','r','s','t','u','v','w','x','y','z','A','B','C','D','E','F','G','H','I','J','K','L','M','N','O','P','Q','R','S','T','U','V','W','X','Y','Z']\n",
    "def missing_letter(s):\n",
    "    for letter in s:\n",
    "            if not  l[(l.index(letter))+1] == s[(s.index(letter))+1]:\n",
    "                return print(l[(l.index(letter))+1])\n",
    "s1 =['d','e','f','h','i']\n",
    "s2 =['H','I','J','L','M']                \n",
    "missing_letter(s1)\n",
    "missing_letter(s2)"
   ]
  },
  {
   "cell_type": "code",
   "execution_count": null,
   "id": "impressed-wells",
   "metadata": {},
   "outputs": [],
   "source": [
    "def eksik_b(l):\n",
    "    new_l = []\n",
    "    for i in l:\n",
    "        new_l.append(ord(i))\n",
    "    return [chr(x) for x in range(new_l[0],new_l[-1]+1) if x not in new_l]\n",
    "print(eksik_b(['a','b','c','d','f']))"
   ]
  },
  {
   "cell_type": "markdown",
   "id": "recovered-gabriel",
   "metadata": {},
   "source": [
    "# 5"
   ]
  },
  {
   "cell_type": "code",
   "execution_count": null,
   "id": "opposite-score",
   "metadata": {},
   "outputs": [],
   "source": [
    "Gorev:\n",
    " Bize verilen listede yer alan sayilarin, bitişik bir alt dizinin maksimum toplamını bulmak.\n",
    "Ornek:\n",
    "Liste = [-2, 1, -3, 4, -1, 2, 1, -5, 4]  sonuc = 6   cunku  [4, -1, 2, 1] biribirini takip eden rakamlardan olusan bir dizi ve toplami 6\n",
    "Ornek 2:\n",
    "Test 4: Liste = [7, 4, 11, -11, 39, 36, 10, -6, 37, -10, -32, 44, -26, -34, 43, 43] Sonuc = 155\n",
    "[44, -26, -34, 43, 43] dizisinin toplami = 155 olurken\n",
    "[7, 4, 11, -11, 39, 36, 10, -6, 37, -10, -32] dizisinin toplami = 85 oluyor\n",
    "[7, 4, 11, -11, 39, 36, 10, -6, 37] dizisinin toplami = 122 oluyor.\n",
    "Gorev (Tum testler):\n",
    "Test1 : Liste = [-2, 1, -3, 4, -1, 2, 1, -5, 4]  Sonuc = 6\n",
    "Test 2: Liste = [] Sonuc = 0\n",
    "Test 3: Liste= [-2,-4,-15,-6,-9,-27] Sonuc = -2\n",
    "Test 4: Liste = [7, 4, 11, -11, 39, 36, 10, -6, 37, -10, -32, 44, -26, -34, 43, 43] Sonuc = 155"
   ]
  },
  {
   "cell_type": "code",
   "execution_count": null,
   "id": "played-robin",
   "metadata": {},
   "outputs": [],
   "source": [
    "def max_sum(l):\n",
    "    if len(l)==0:\n",
    "        return 0\n",
    "    else:\n",
    "        top=max(l)\n",
    "        for i in range(len(l)):\n",
    "            k=i\n",
    "            while k<len(l):\n",
    "                if sum(l[i:k+1])>top:\n",
    "                    top=sum(l[i:k+1])\n",
    "                k+=1\n",
    "    return top"
   ]
  },
  {
   "cell_type": "code",
   "execution_count": null,
   "id": "worldwide-update",
   "metadata": {},
   "outputs": [],
   "source": [
    "liste = [7, 4, 11, -11, 39, 36, 10, -6, 37, -10, -32, 44, -26, -34, 43, 43]\n",
    "def dizin(liste):\n",
    "  toplam=[]\n",
    "  if len(liste)==0:\n",
    "    return 0\n",
    "  for i in range(len(liste)):\n",
    "    for j in range(i+1):\n",
    "      x=sum(liste[j:i+1])\n",
    "      toplam.append(x)\n",
    "  return max(toplam)\n",
    "dizin(liste)"
   ]
  },
  {
   "cell_type": "code",
   "execution_count": null,
   "id": "published-executive",
   "metadata": {},
   "outputs": [],
   "source": [
    "def max_finder(num_list):\n",
    "    maxi = cur_maxi = 0\n",
    "    for i in num_list:\n",
    "        cur_maxi = max(cur_maxi + i, 0)\n",
    "        maxi = max(maxi, cur_maxi)\n",
    "    return maxi\n",
    "max_finder([-2, 1, -3, 4, -1, 2, 1, -5, 4])"
   ]
  },
  {
   "cell_type": "code",
   "execution_count": null,
   "id": "atlantic-gauge",
   "metadata": {},
   "outputs": [],
   "source": [
    "def maxSubArray(l): \n",
    "        count = 0\n",
    "        max_count = max(l)\n",
    "        for x in l:\n",
    "            count+=x\n",
    "            if count <0:\n",
    "                count=0\n",
    "            elif count > max_count:\n",
    "                max_count = count\n",
    "        return max_count"
   ]
  },
  {
   "cell_type": "markdown",
   "id": "domestic-stopping",
   "metadata": {},
   "source": [
    "# 6"
   ]
  },
  {
   "cell_type": "code",
   "execution_count": null,
   "id": "specified-parish",
   "metadata": {},
   "outputs": [],
   "source": [
    "You are given an array (which will have a length of at least 3, but could be very large) containing integers. The array is either entirely comprised of odd integers or entirely comprised of even integers except for a single integer N. Write a method that takes the array as an argument and returns this “outlier” N.\n",
    "Examples\n",
    "[2, 4, 0, 100, 4, 11, 2602, 36]\n",
    "Should return: 11 (the only odd number)\n",
    "[160, 3, 1719, 19, 11, 13, -21]\n",
    "Should return: 160 (the only even number)"
   ]
  },
  {
   "cell_type": "code",
   "execution_count": null,
   "id": "assumed-gardening",
   "metadata": {},
   "outputs": [],
   "source": [
    "lst = [20, 1, -1, 2, -2, 3, 3, 5, 5, 1, 2, 4, 20, 4, -1, -2, 5]\n",
    "for i in lst:\n",
    "  if (lst.count(i))%2 == 1:\n",
    "    print(i)\n",
    "    break"
   ]
  },
  {
   "cell_type": "code",
   "execution_count": null,
   "id": "cardiovascular-granny",
   "metadata": {},
   "outputs": [],
   "source": [
    "def tek(l):\n",
    "    odd = []\n",
    "    even = []\n",
    "    [odd.append(i) if not i%2 else even.append(i) for i in l] \n",
    "    return odd if len(odd)<=1 else even\n",
    "print(tek([2, 4, 0, 100, 4, 11, 2602, 36]))"
   ]
  },
  {
   "cell_type": "code",
   "execution_count": null,
   "id": "turkish-rebate",
   "metadata": {},
   "outputs": [],
   "source": [
    "def outlier(a):\n",
    "    evens = [i for i in a if i%2==0]\n",
    "    odds = [i for i in a if i%2!=0]\n",
    "    if len(evens)>len(odds):\n",
    "        print(odds)\n",
    "    else:\n",
    "        print(evens)"
   ]
  },
  {
   "cell_type": "markdown",
   "id": "august-embassy",
   "metadata": {},
   "source": [
    "# 7"
   ]
  },
  {
   "cell_type": "code",
   "execution_count": null,
   "id": "religious-lafayette",
   "metadata": {},
   "outputs": [],
   "source": [
    "\"56 65 74 100 99 68 86 180 90\"  sirali numaralari, agirliklarina gore listeliyoruz ve sonucta\n",
    " \"100 180 90 56 65 74 68 86 99\" listesine ulasiyoruz.\n",
    "Aciklama:\n",
    "Ilk rakamimiz 56  agirligi 5+6= 11  Diger bir rakamimiz 90 agirligi 9+0 = 9 bundan dolayi 56 yeni listemizde 90 dan sonra geliyor."
   ]
  },
  {
   "cell_type": "code",
   "execution_count": null,
   "id": "mighty-evidence",
   "metadata": {},
   "outputs": [],
   "source": [
    "def agırlıklı_sırala(l):\n",
    "    l= l.split()\n",
    "    l1=[]\n",
    "    t=0\n",
    "    for i in l:\n",
    "        for k in i:\n",
    "            t+=int(k)\n",
    "        l1.append(t)\n",
    "        t=0\n",
    "    return \" \".join([v for k,v in sorted(zip(l1,l))])"
   ]
  },
  {
   "cell_type": "code",
   "execution_count": null,
   "id": "restricted-advertiser",
   "metadata": {},
   "outputs": [],
   "source": [
    "numbers=[56, 65, 74, 100, 99, 68, 86, 180,90]\n",
    "dic ={}\n",
    "for i in numbers:\n",
    "  toplam=0\n",
    "  for rakam in str(i):\n",
    "    toplam +=int(rakam)\n",
    "  dic[i]=toplam\n",
    "print(sorted(dic.values()))"
   ]
  },
  {
   "cell_type": "code",
   "execution_count": null,
   "id": "charming-venue",
   "metadata": {},
   "outputs": [],
   "source": [
    "def foo(s):\n",
    "    return \" \".join(sorted(s.split(), key = lambda x : sum(map(int, list(x)))))\n",
    "\n",
    "\n",
    "\"\"\"\n",
    " Iceriden disariya dogru gidebilirsiniz. Once s.split()le stringi boluyoruz \n",
    " icinde sayilar olacak bir sekilde. Yani mesela \"12 23 43\", [\"12\", \"23\", \"43\"] oluyor.\n",
    " Sonra lambda x: sum(map(int, list(x)) functionu olusturdum. Bu function listedeki \n",
    " her bir elementin rakamlarinin toplamani bulacak. Sonra bu functionu sorted fonksiyonunun \n",
    " key parametresine girdim. Sonra o oyle mucizevi bir sekilde \"agirlik\"larina gore siralayacak. \n",
    "\"\"\""
   ]
  },
  {
   "cell_type": "code",
   "execution_count": null,
   "id": "alpine-upset",
   "metadata": {},
   "outputs": [],
   "source": [
    "def order_weight(strng):\n",
    "    strng = strng.split()\n",
    "    result = []\n",
    "    for i in strng:\n",
    "        sum = 0\n",
    "        for ii in i:\n",
    "            sum += int(ii)\n",
    "        result.append(sum)\n",
    "    c = list(zip(strng, result))\n",
    "    for x in range(len(strng)):\n",
    "        c.sort(key = lambda x: x[1], reverse=False)\n",
    "    for y in range(len(c)):\n",
    "        print(c[y][0], end = \" \")"
   ]
  },
  {
   "cell_type": "code",
   "execution_count": null,
   "id": "tribal-rochester",
   "metadata": {},
   "outputs": [],
   "source": []
  },
  {
   "cell_type": "code",
   "execution_count": null,
   "id": "general-lease",
   "metadata": {},
   "outputs": [],
   "source": []
  }
 ],
 "metadata": {
  "kernelspec": {
   "display_name": "Python 3",
   "language": "python",
   "name": "python3"
  },
  "language_info": {
   "codemirror_mode": {
    "name": "ipython",
    "version": 3
   },
   "file_extension": ".py",
   "mimetype": "text/x-python",
   "name": "python",
   "nbconvert_exporter": "python",
   "pygments_lexer": "ipython3",
   "version": "3.7.8"
  }
 },
 "nbformat": 4,
 "nbformat_minor": 5
}
