{
 "cells": [
  {
   "cell_type": "code",
   "execution_count": 1,
   "id": "intended-witch",
   "metadata": {},
   "outputs": [],
   "source": []
  },
  {
   "cell_type": "code",
   "execution_count": null,
   "id": "contemporary-ensemble",
   "metadata": {},
   "outputs": [],
   "source": [
    "import random"
   ]
  },
  {
   "cell_type": "code",
   "execution_count": 3,
   "id": "continent-inspector",
   "metadata": {},
   "outputs": [
    {
     "data": {
      "text/plain": [
       "25"
      ]
     },
     "execution_count": 3,
     "metadata": {},
     "output_type": "execute_result"
    }
   ],
   "source": [
    "random.randrange(0,91,5)"
   ]
  },
  {
   "cell_type": "code",
   "execution_count": 7,
   "id": "marked-yorkshire",
   "metadata": {},
   "outputs": [
    {
     "name": "stdout",
     "output_type": "stream",
     "text": [
      "2\n"
     ]
    }
   ],
   "source": [
    "def foo():\n",
    "    try:\n",
    "        return 1\n",
    "    finally:\n",
    "        return 2\n",
    "k = foo()\n",
    "print(k)"
   ]
  },
  {
   "cell_type": "code",
   "execution_count": 10,
   "id": "ranging-production",
   "metadata": {},
   "outputs": [],
   "source": [
    "x=10\n",
    "y=8\n",
    "assert x>y, 'X too small'"
   ]
  },
  {
   "cell_type": "code",
   "execution_count": 15,
   "id": "foreign-methodology",
   "metadata": {},
   "outputs": [
    {
     "name": "stdout",
     "output_type": "stream",
     "text": [
      "'c' karakteri sayı değil.\n",
      "'a' karakteri sayı değil.\n"
     ]
    }
   ],
   "source": [
    "def fonksiyon(liste):\n",
    "    for i in liste:\n",
    "        try:\n",
    "            assert str(i).isnumeric()\n",
    "            #İddianın doğru olduğu durumda, bu aralıkta yeni işlemler de tanımlanabilir.\n",
    "        except AssertionError:\n",
    "            print(\"{} karakteri sayı değil.\".format(repr(i)))\n",
    "\n",
    "liste = [1, 2, \"c\", 4, 5, \"a\"]\n",
    "fonksiyon(liste)"
   ]
  },
  {
   "cell_type": "code",
   "execution_count": 16,
   "id": "ecological-waters",
   "metadata": {},
   "outputs": [
    {
     "name": "stdout",
     "output_type": "stream",
     "text": [
      "6 sayısı 5'den büyük\n"
     ]
    }
   ],
   "source": [
    "def fonksiyon(liste):\n",
    "    for i in liste:\n",
    "        try:\n",
    "            assert i <= 5\n",
    "            #İddianın doğru olduğu durumda, bu aralıkta yeni işlemler de tanımlanabilir.\n",
    "        except AssertionError:\n",
    "            print(\"{} sayısı 5'den büyük\".format(i))\n",
    "\n",
    "liste = [1, 2, 3, 4, 5, 6]\n",
    "fonksiyon(liste)"
   ]
  },
  {
   "cell_type": "code",
   "execution_count": 18,
   "id": "voluntary-defensive",
   "metadata": {},
   "outputs": [
    {
     "ename": "SyntaxError",
     "evalue": "invalid syntax (<ipython-input-18-4032cd02eef2>, line 5)",
     "output_type": "error",
     "traceback": [
      "\u001b[1;36m  File \u001b[1;32m\"<ipython-input-18-4032cd02eef2>\"\u001b[1;36m, line \u001b[1;32m5\u001b[0m\n\u001b[1;33m    while n%2==0:\u001b[0m\n\u001b[1;37m        ^\u001b[0m\n\u001b[1;31mSyntaxError\u001b[0m\u001b[1;31m:\u001b[0m invalid syntax\n"
     ]
    }
   ],
   "source": [
    "valid = False\n",
    "while not valid:\n",
    "    try:\n",
    "        n=int(input(\"Enter a number\"))\n",
    "    while n%2==0:\n",
    "        print(\"Bye\")\n",
    "    valid = True\n",
    "    except ValueError:\n",
    "        print(\"Invalid\")\n"
   ]
  },
  {
   "cell_type": "code",
   "execution_count": null,
   "id": "bridal-daughter",
   "metadata": {},
   "outputs": [],
   "source": [
    "valid = False\n",
    "while not valid:\n",
    "    try:\n",
    "        n=int(input(\"Enter a number\"))\n",
    "    while n%2==0:\n",
    "        print(\"Bye\")\n",
    "    valid = True\n",
    "    except ValueError:\n",
    "        print(\"Invalid\")\n"
   ]
  },
  {
   "cell_type": "code",
   "execution_count": 19,
   "id": "corresponding-prevention",
   "metadata": {},
   "outputs": [
    {
     "data": {
      "text/plain": [
       "432"
      ]
     },
     "execution_count": 19,
     "metadata": {},
     "output_type": "execute_result"
    }
   ],
   "source": [
    "def f(x, y, z): return x + y + z\n",
    "f(2, 30, 400)"
   ]
  },
  {
   "cell_type": "code",
   "execution_count": 20,
   "id": "preliminary-genre",
   "metadata": {},
   "outputs": [
    {
     "data": {
      "text/plain": [
       "{0, 1, 4, 9}"
      ]
     },
     "execution_count": 20,
     "metadata": {},
     "output_type": "execute_result"
    }
   ],
   "source": [
    "{a**2 for a in range(4)}"
   ]
  },
  {
   "cell_type": "code",
   "execution_count": 21,
   "id": "heard-poetry",
   "metadata": {},
   "outputs": [
    {
     "name": "stdout",
     "output_type": "stream",
     "text": [
      "[10, 23, 56, [78]]\n"
     ]
    }
   ],
   "source": [
    "import copy\n",
    "a=[10,23,56,[78]]\n",
    "b=copy.deepcopy(a)\n",
    "a[3][0]=95\n",
    "a[1]=34\n",
    "print(b)"
   ]
  },
  {
   "cell_type": "code",
   "execution_count": 22,
   "id": "surprising-headline",
   "metadata": {},
   "outputs": [
    {
     "name": "stdout",
     "output_type": "stream",
     "text": [
      "[10, 34, 56, [95]]\n"
     ]
    }
   ],
   "source": [
    "import copy\n",
    "a=[10,23,56,[78]]\n",
    "a[3][0]=95\n",
    "a[1]=34\n",
    "b=copy.deepcopy(a)\n",
    "\n",
    "print(b)"
   ]
  },
  {
   "cell_type": "code",
   "execution_count": 24,
   "id": "alternative-clinic",
   "metadata": {},
   "outputs": [
    {
     "name": "stdout",
     "output_type": "stream",
     "text": [
      "[10, 23, 56, [78]]\n",
      "[10, 23, 56, [95]]\n"
     ]
    }
   ],
   "source": [
    "import copy\n",
    "a=[10,23,56,[78]]\n",
    "b=copy.deepcopy(a)\n",
    "c=copy.copy(a)\n",
    "a[3][0]=95\n",
    "a[1]=34\n",
    "print(b)\n",
    "print(c)"
   ]
  },
  {
   "cell_type": "code",
   "execution_count": 26,
   "id": "incorporate-backing",
   "metadata": {},
   "outputs": [
    {
     "name": "stdout",
     "output_type": "stream",
     "text": [
      "[10, 23, 56, [78]]\n",
      "[10, 34, 56, [95]]\n",
      "[10, 23, 56, [95]]\n"
     ]
    }
   ],
   "source": [
    "import copy\n",
    "a=[10,23,56,[78]]\n",
    "b=copy.deepcopy(a)\n",
    "c=copy.copy(a)\n",
    "a[3][0]=95\n",
    "a[1]=34\n",
    "print(b)\n",
    "print(a)\n",
    "print(c)"
   ]
  },
  {
   "cell_type": "code",
   "execution_count": 27,
   "id": "naked-pixel",
   "metadata": {},
   "outputs": [
    {
     "name": "stdout",
     "output_type": "stream",
     "text": [
      "[1, 3, 6, 10]\n"
     ]
    }
   ],
   "source": [
    "a=[1,2,3,4]\n",
    "b=[sum(a[0:x+1]) for x in range(0,len(a))]\n",
    "print(b)"
   ]
  },
  {
   "cell_type": "code",
   "execution_count": 28,
   "id": "adverse-delaware",
   "metadata": {},
   "outputs": [
    {
     "name": "stdout",
     "output_type": "stream",
     "text": [
      "abcefd\n"
     ]
    }
   ],
   "source": [
    "print('abcefd'.replace('cd', '12'))\n"
   ]
  },
  {
   "cell_type": "code",
   "execution_count": null,
   "id": "coral-rental",
   "metadata": {},
   "outputs": [],
   "source": []
  },
  {
   "cell_type": "code",
   "execution_count": null,
   "id": "unsigned-accident",
   "metadata": {},
   "outputs": [],
   "source": []
  }
 ],
 "metadata": {
  "kernelspec": {
   "display_name": "Python 3",
   "language": "python",
   "name": "python3"
  },
  "language_info": {
   "codemirror_mode": {
    "name": "ipython",
    "version": 3
   },
   "file_extension": ".py",
   "mimetype": "text/x-python",
   "name": "python",
   "nbconvert_exporter": "python",
   "pygments_lexer": "ipython3",
   "version": "3.7.8"
  }
 },
 "nbformat": 4,
 "nbformat_minor": 5
}
