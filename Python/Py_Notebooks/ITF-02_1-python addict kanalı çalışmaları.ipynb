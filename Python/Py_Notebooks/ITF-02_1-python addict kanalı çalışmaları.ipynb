{
 "cells": [
  {
   "cell_type": "code",
   "execution_count": null,
   "id": "introductory-chain",
   "metadata": {},
   "outputs": [],
   "source": [
    "Group Anagrams\n",
    "Given a list of strings, group anagrams together.\n",
    "Example:\n",
    "Input:\n",
    "[\"eat\", \"tea\", \"tan\", \"ate\", \"nat\", \"bat\"],\n",
    "\n",
    "Output:\n",
    "[\n",
    "  [\"ate\",\"eat\",\"tea\"],\n",
    "  [\"nat\",\"tan\"],\n",
    "  [\"bat\"]\n",
    "]\n",
    "\n",
    "Note:\n",
    "All inputs will be in lowercase.\n",
    "The order of your output does not matter."
   ]
  },
  {
   "cell_type": "code",
   "execution_count": 8,
   "id": "pregnant-branch",
   "metadata": {},
   "outputs": [
    {
     "name": "stdout",
     "output_type": "stream",
     "text": [
      "{'apple', 'banana', 'cherry'}\n"
     ]
    }
   ],
   "source": [
    "thisset = set([\"apple\", \"banana\", \"cherry\"]) # note the double round-brackets\n",
    "print(thisset)"
   ]
  },
  {
   "cell_type": "code",
   "execution_count": 9,
   "id": "cheap-charity",
   "metadata": {},
   "outputs": [
    {
     "name": "stdout",
     "output_type": "stream",
     "text": [
      "{'c', 'e', 'y', 'r', 'h'}\n"
     ]
    }
   ],
   "source": [
    "thisset = set(\"cherry\") # note the double round-brackets\n",
    "print(thisset)"
   ]
  },
  {
   "cell_type": "code",
   "execution_count": 10,
   "id": "exact-trance",
   "metadata": {},
   "outputs": [
    {
     "name": "stdout",
     "output_type": "stream",
     "text": [
      "apple\n",
      "banana\n",
      "cherry\n"
     ]
    }
   ],
   "source": [
    "thisset = {\"apple\", \"banana\", \"cherry\"}\n",
    "\n",
    "for x in thisset:\n",
    "  print(x)"
   ]
  },
  {
   "cell_type": "code",
   "execution_count": 18,
   "id": "overall-chemical",
   "metadata": {},
   "outputs": [
    {
     "name": "stdout",
     "output_type": "stream",
     "text": [
      "{'pineapple', 'papaya', 'banana', 'mango', 'apple', 'cherry'}\n"
     ]
    }
   ],
   "source": [
    "thisset = {\"apple\", \"banana\", \"cherry\"}\n",
    "tropical = {\"pineapple\", \"mango\", \"papaya\"}\n",
    "\n",
    "thisset.update(tropical)\n",
    "\n",
    "print(thisset)"
   ]
  },
  {
   "cell_type": "code",
   "execution_count": 19,
   "id": "printable-horizon",
   "metadata": {},
   "outputs": [
    {
     "name": "stdout",
     "output_type": "stream",
     "text": [
      "{'apple', 'kiwi', 'orange', 'banana', 'cherry'}\n"
     ]
    }
   ],
   "source": [
    "thisset = {\"apple\", \"banana\", \"cherry\"}\n",
    "mylist = [\"kiwi\", \"orange\"]\n",
    "\n",
    "thisset.update(mylist)\n",
    "\n",
    "print(thisset)"
   ]
  },
  {
   "cell_type": "code",
   "execution_count": 20,
   "id": "varied-perry",
   "metadata": {},
   "outputs": [
    {
     "name": "stdout",
     "output_type": "stream",
     "text": [
      "set()\n"
     ]
    }
   ],
   "source": [
    "thisset = {\"apple\", \"banana\", \"cherry\"}\n",
    "\n",
    "thisset.clear()\n",
    "\n",
    "print(thisset)"
   ]
  },
  {
   "cell_type": "code",
   "execution_count": 21,
   "id": "friendly-afternoon",
   "metadata": {},
   "outputs": [
    {
     "ename": "NameError",
     "evalue": "name 'thisset' is not defined",
     "output_type": "error",
     "traceback": [
      "\u001b[1;31m---------------------------------------------------------------------------\u001b[0m",
      "\u001b[1;31mNameError\u001b[0m                                 Traceback (most recent call last)",
      "\u001b[1;32m<ipython-input-21-b0ed94c1bb6f>\u001b[0m in \u001b[0;36m<module>\u001b[1;34m\u001b[0m\n\u001b[0;32m      3\u001b[0m \u001b[1;32mdel\u001b[0m \u001b[0mthisset\u001b[0m\u001b[1;33m\u001b[0m\u001b[1;33m\u001b[0m\u001b[0m\n\u001b[0;32m      4\u001b[0m \u001b[1;33m\u001b[0m\u001b[0m\n\u001b[1;32m----> 5\u001b[1;33m \u001b[0mprint\u001b[0m\u001b[1;33m(\u001b[0m\u001b[0mthisset\u001b[0m\u001b[1;33m)\u001b[0m\u001b[1;33m\u001b[0m\u001b[1;33m\u001b[0m\u001b[0m\n\u001b[0m",
      "\u001b[1;31mNameError\u001b[0m: name 'thisset' is not defined"
     ]
    }
   ],
   "source": [
    "thisset = {\"apple\", \"banana\", \"cherry\"}\n",
    "\n",
    "del thisset\n",
    "\n",
    "print(thisset)"
   ]
  },
  {
   "cell_type": "code",
   "execution_count": 23,
   "id": "funded-logic",
   "metadata": {},
   "outputs": [
    {
     "name": "stdout",
     "output_type": "stream",
     "text": [
      "{'apple'}\n",
      "{'google', 'apple', 'microsoft'}\n"
     ]
    }
   ],
   "source": [
    "x = {\"apple\", \"banana\", \"cherry\"}\n",
    "y = {\"google\", \"microsoft\", \"apple\"}\n",
    "\n",
    "x.intersection_update(y)\n",
    "\n",
    "print(x)\n",
    "print(y)"
   ]
  },
  {
   "cell_type": "code",
   "execution_count": 1,
   "id": "federal-davis",
   "metadata": {},
   "outputs": [
    {
     "name": "stdout",
     "output_type": "stream",
     "text": [
      "['veri bilimi', 'alanında', 'oldukça', 'fazla', 'kaynak', 'bulunur.']\n",
      "veri bilimi, alanında, oldukça, fazla, kaynak, bulunur.\n",
      "v-e-r-i- -b-i-l-i-m-i-,- -a-l-a-n-ı-n-d-a-,- -o-l-d-u-k-ç-a-,- -f-a-z-l-a-,- -k-a-y-n-a-k-,- -b-u-l-u-n-u-r-.\n"
     ]
    }
   ],
   "source": [
    "string1=\"veri bilimi, alanında, oldukça, fazla, kaynak, bulunur.\"\n",
    "print (string1.split(\", \"))\n",
    "print(string1)\n",
    "\n",
    "print (\"-\".join(string1))"
   ]
  },
  {
   "cell_type": "code",
   "execution_count": 34,
   "id": "regular-ridge",
   "metadata": {},
   "outputs": [
    {
     "name": "stdout",
     "output_type": "stream",
     "text": [
      "['veri bilimi', 'alanında', 'oldukça', 'fazla', 'kaynak', 'bulunur.']\n",
      "veri bilimi, alanında, oldukça, fazla, kaynak, bulunur.\n"
     ]
    }
   ],
   "source": [
    "string1=\"veri bilimi, alanında, oldukça, fazla, kaynak, bulunur.\"\n",
    "print(string1.split(\", \"))\n",
    "print(string1)"
   ]
  },
  {
   "cell_type": "code",
   "execution_count": 35,
   "id": "looking-minnesota",
   "metadata": {},
   "outputs": [
    {
     "name": "stdout",
     "output_type": "stream",
     "text": [
      "masa+sandalye+bilgisayar\n"
     ]
    }
   ],
   "source": [
    "dict3={1:\"masa\", 2:\"sandalye\", 3:\"bilgisayar\"}\n",
    "print (\"+\".join(dict3.values()))"
   ]
  },
  {
   "cell_type": "code",
   "execution_count": 36,
   "id": "excessive-black",
   "metadata": {},
   "outputs": [
    {
     "name": "stdout",
     "output_type": "stream",
     "text": [
      "5 8\n"
     ]
    }
   ],
   "source": [
    "T = (1, 2, 3, 4, 5, 6, 7, 8)\n",
    "print(T[T.index(5)], end = \" \")\n",
    "print(T[T[T[6]-3]-6])"
   ]
  },
  {
   "cell_type": "code",
   "execution_count": 37,
   "id": "urban-zambia",
   "metadata": {},
   "outputs": [
    {
     "name": "stdout",
     "output_type": "stream",
     "text": [
      "[['eat', 'tea', 'ate'], ['tan', 'nat'], ['bat']]\n"
     ]
    }
   ],
   "source": [
    "liste=[\"eat\", \"tea\", \"tan\", \"ate\", \"nat\", \"bat\"]\n",
    "sorted_list=[]\n",
    "sonuc=[]\n",
    "for i in liste:\n",
    "  if sorted(i) not in sorted_list:\n",
    "    sorted_list.append(sorted(i))\n",
    "for a in range(len(sorted_list)):\n",
    "  sonuc.append([i for i in liste if sorted(i)==sorted_list[a]])\n",
    "print(sonuc)"
   ]
  },
  {
   "cell_type": "code",
   "execution_count": 39,
   "id": "tired-graph",
   "metadata": {},
   "outputs": [
    {
     "data": {
      "text/plain": [
       "['a', 'e', 't']"
      ]
     },
     "execution_count": 39,
     "metadata": {},
     "output_type": "execute_result"
    }
   ],
   "source": [
    "sorted(\"eat\")"
   ]
  },
  {
   "cell_type": "code",
   "execution_count": 40,
   "id": "cleared-notebook",
   "metadata": {},
   "outputs": [
    {
     "name": "stdout",
     "output_type": "stream",
     "text": [
      "['eat', 'tea', 'ate'] \n",
      "\n",
      "['tan', 'nat'] \n",
      "\n",
      "['bat']\n"
     ]
    }
   ],
   "source": [
    "my_list = [\"eat\", \"tea\", \"tan\", \"ate\", \"nat\", \"bat\"]\n",
    "print([my_list[0], my_list[1], my_list[3]], '\\n')\n",
    "print([my_list[2], my_list[4]], '\\n')\n",
    "print([my_list[5]])"
   ]
  },
  {
   "cell_type": "code",
   "execution_count": 2,
   "id": "annoying-right",
   "metadata": {
    "scrolled": true
   },
   "outputs": [
    {
     "name": "stdout",
     "output_type": "stream",
     "text": [
      "[['eat', 'tea', 'ate'], ['tan', 'nat'], ['cat']]\n"
     ]
    }
   ],
   "source": [
    "mylist = [\"eat\", \"tea\", \"tan\", \"ate\", \"nat\", \"cat\"]\n",
    "emptylist = []\n",
    "for i in mylist:\n",
    "    tempSet = set(i)\n",
    "    templist = []\n",
    "    for j in range(len(mylist)):\n",
    "        if tempSet == tempSet.intersection(set(mylist[j])):\n",
    "            templist.append(mylist[j])\n",
    "    if templist not in emptylist:\n",
    "            emptylist.append(templist)\n",
    "    templist = []\n",
    "print(emptylist)"
   ]
  },
  {
   "cell_type": "code",
   "execution_count": 52,
   "id": "middle-religion",
   "metadata": {},
   "outputs": [
    {
     "name": "stdout",
     "output_type": "stream",
     "text": [
      "[['a', 'e', 't'], ['a', 'n', 't'], ['a', 'b', 't']]\n",
      "[['eat', 'tea', 'ate'], ['tan', 'nat'], ['bat']]\n"
     ]
    }
   ],
   "source": [
    "main_list=[\"eat\", \"tea\", \"tan\", \"ate\", \"nat\", \"bat\"]\n",
    "sorted_list=[]\n",
    "result=[]\n",
    "for i in main_list:\n",
    "  if sorted(i) not in sorted_list:\n",
    "    sorted_list.append(sorted(i))\n",
    "for word in sorted_list :\n",
    "  result.append([i for i in main_list if sorted(i)==word])\n",
    "print(result)"
   ]
  },
  {
   "cell_type": "code",
   "execution_count": 45,
   "id": "revolutionary-valuable",
   "metadata": {},
   "outputs": [
    {
     "name": "stdout",
     "output_type": "stream",
     "text": [
      "['eat', 'tea', 'ate']\n",
      "['tan', 'nat']\n",
      "['bat']\n"
     ]
    }
   ],
   "source": [
    "words=[\"eat\", \"tea\", \"tan\", \"ate\", \"nat\", \"bat\", \"cat\", \"tac\"]\n",
    "list1 =[]\n",
    "list2=[]\n",
    "list3=[]\n",
    "for i in words:\n",
    "    for k in i:\n",
    "        if k==\"e\":\n",
    "            list1.append(i)\n",
    "        elif k==\"n\":\n",
    "            list2.append(i)\n",
    "        elif k==\"b\":\n",
    "            list3.append(i)\n",
    "print (list1, list2, list3, sep=\"\\n\")"
   ]
  },
  {
   "cell_type": "code",
   "execution_count": 54,
   "id": "medium-stanford",
   "metadata": {},
   "outputs": [
    {
     "name": "stdout",
     "output_type": "stream",
     "text": [
      "[['a', 'e', 't'], ['a', 'n', 't'], ['a', 'b', 't']]\n",
      "[['eat', 'tea', 'ate'], ['tan', 'nat'], ['bat']]\n"
     ]
    }
   ],
   "source": [
    "main_list=[\"eat\", \"tea\", \"tan\", \"ate\", \"nat\", \"bat\"]\n",
    "sorted_list = []\n",
    "sonuç = []\n",
    "for i in main_list :\n",
    "    if sorted(i) not in sorted_list:\n",
    "        sorted_list.append(sorted(i))\n",
    "print(sorted_list)\n",
    "for k in sorted_list :\n",
    "    sonuç.append([i for i in main_list if (sorted(i) == k)]) \n",
    "        \n",
    "print(sonuç)"
   ]
  },
  {
   "cell_type": "code",
   "execution_count": 55,
   "id": "experimental-invalid",
   "metadata": {},
   "outputs": [
    {
     "name": "stdout",
     "output_type": "stream",
     "text": [
      "[['eat', 'tea', 'ate'], ['tan', 'nat'], ['bat']]\n"
     ]
    }
   ],
   "source": [
    "liste=[\"eat\", \"tea\", \"tan\", \"ate\", \"nat\", \"bat\"]\n",
    "sorted_list=[].\n",
    "sonuc=[]\n",
    "for i in liste:\n",
    "  if sorted(i) not in sorted_list:\n",
    "    sorted_list.append(sorted(i))\n",
    "for a in range(len(sorted_list)):\n",
    "  sonuc.append([i for i in liste if sorted(i)==sorted_list[a]])\n",
    "print(sonuc)"
   ]
  },
  {
   "cell_type": "code",
   "execution_count": null,
   "id": "worth-conducting",
   "metadata": {},
   "outputs": [],
   "source": []
  },
  {
   "cell_type": "code",
   "execution_count": 60,
   "id": "better-hygiene",
   "metadata": {},
   "outputs": [
    {
     "name": "stdout",
     "output_type": "stream",
     "text": [
      "bir sayı giriniz4\n",
      "çift sayı\n"
     ]
    }
   ],
   "source": [
    "a = input(\"bir sayı giriniz\")\n",
    "if not a.strip().isdigit():\n",
    "    print(\"bir bir sayı değildir\")\n",
    "elif int(a) % 2 == 0:\n",
    "    print(\"çift sayı\")\n",
    "else:\n",
    "    print(\"tek sayı\")\n",
    "    "
   ]
  },
  {
   "cell_type": "code",
   "execution_count": 1,
   "id": "mineral-genius",
   "metadata": {},
   "outputs": [
    {
     "name": "stdout",
     "output_type": "stream",
     "text": [
      "3\n"
     ]
    }
   ],
   "source": [
    "D = {1 : 1, 2 : '2', '1' : 2, '2' : 3}\n",
    "\n",
    "print(3)"
   ]
  },
  {
   "cell_type": "code",
   "execution_count": 3,
   "id": "exempt-guest",
   "metadata": {},
   "outputs": [
    {
     "name": "stdout",
     "output_type": "stream",
     "text": [
      "{1, 2, 3}\n",
      "{1, 2, 3, 4}\n",
      "{1, 2, 3}\n"
     ]
    }
   ],
   "source": [
    "set1 = {1, 2, 3}\n",
    "set2 = set1.copy()\n",
    "print(set2)\n",
    "set2.add(4)\n",
    "\n",
    "print(set2)\n",
    "print(set1) # set1 aynı kaldı. halbuki set2 = set1 şeklinde atama yapsa idik set2 değiştiğinde set1 de değişecekti!!\n"
   ]
  },
  {
   "cell_type": "code",
   "execution_count": 4,
   "id": "sensitive-state",
   "metadata": {},
   "outputs": [
    {
     "name": "stdout",
     "output_type": "stream",
     "text": [
      "{1, 2, 3}\n",
      "{1, 2, 3, 4}\n",
      "{1, 2, 3, 4}\n"
     ]
    }
   ],
   "source": [
    "set1 = {1, 2, 3}\n",
    "set2 = set1\n",
    "print(set2)\n",
    "set2.add(4)\n",
    "\n",
    "print(set2)\n",
    "print(set1) # set2'nin değişmesi ile birlikte set1 de değişti!! bu durumu istemiyor isek .copy() metodu kullanmalıyız."
   ]
  },
  {
   "cell_type": "code",
   "execution_count": 2,
   "id": "british-belief",
   "metadata": {},
   "outputs": [
    {
     "name": "stdout",
     "output_type": "stream",
     "text": [
      "Please enter your saved amount: 252\n",
      "You saved more than half, keep saving!\n"
     ]
    }
   ],
   "source": [
    "ps4_price = 500\n",
    "saved_amount = int(input('Please enter your saved amount: '))\n",
    "if saved_amount > ps4_price :\n",
    "    print(\"Yippee! You can buy your PS4\")\n",
    "elif saved_amount <= ps4_price / 2 :\n",
    "    print(\"You must save more, keep saving!\")\n",
    "else :\n",
    "    print(\"You saved more than half, keep saving!\")"
   ]
  },
  {
   "cell_type": "code",
   "execution_count": 4,
   "id": "distinct-collective",
   "metadata": {},
   "outputs": [
    {
     "name": "stdout",
     "output_type": "stream",
     "text": [
      "[['a', 'e', 't'], ['a', 'n', 't'], ['a', 'b', 't'], ['a', 'c', 't']]\n",
      "[['eat', 'tea', 'ate'], ['tan', 'nat'], ['bat'], ['cat', 'tac']]\n"
     ]
    }
   ],
   "source": [
    "main_list=[\"eat\", \"tea\", \"tan\", \"ate\", \"nat\", \"bat\", \"cat\", \"tac\"]\n",
    "sorted_list=[]\n",
    "result=[]\n",
    "for i in main_list:\n",
    "  if sorted(i) not in sorted_list:\n",
    "    sorted_list.append(sorted(i))\n",
    "# print(sorted_list)\n",
    "\n",
    "for k in sorted_list :\n",
    "  result.append([i for i in main_list if sorted(i)==k])\n",
    "print(result)"
   ]
  },
  {
   "cell_type": "code",
   "execution_count": 18,
   "id": "cutting-constitutional",
   "metadata": {},
   "outputs": [
    {
     "name": "stdout",
     "output_type": "stream",
     "text": [
      "[['eat'], ['tea'], ['ate'], ['tan'], ['nat'], ['bat'], ['cat'], ['tac']]\n"
     ]
    }
   ],
   "source": [
    "main_list=[\"eat\", \"tea\", \"tan\", \"ate\", \"nat\", \"bat\", \"cat\", \"tac\"]\n",
    "sorted_list = []\n",
    "sonuç = []\n",
    "for i in main_list :\n",
    "    if sorted(i) not in sorted_list :\n",
    "        sorted_list.append(sorted(i)) \n",
    "for k in sorted_list :\n",
    "    for i in main_list:\n",
    "        if sorted(i) == k :\n",
    "            sonuç.append([i])\n",
    "print(sonuç)\n",
    "            "
   ]
  },
  {
   "cell_type": "code",
   "execution_count": 4,
   "id": "indonesian-potato",
   "metadata": {},
   "outputs": [
    {
     "name": "stdout",
     "output_type": "stream",
     "text": [
      "enter a number :100\n",
      "girilen sayıya kadar olan rakamların toplamı : 5050\n"
     ]
    }
   ],
   "source": [
    "# Sum of Consecutive Numbers No one likes homework, \n",
    "# but your math teacher has given you an assignment to find the sum of the first N numbers.\n",
    "# Let’s save some time by creating a program to do the calculation for you!\n",
    "# Take a number N as input and output the sum of all numbers from 1 to N (including N).\n",
    "# Sample Input: 100, Sample Output: 5050\n",
    "# Explanation: The sum of all numbers from 1 to 100 is equal to 5050.\n",
    "# You can iterate over a range and calculate the sum of all numbers in the range.\n",
    "# Remember, range(a, b) does not include b, thus you need to use b+1 to include b in the range.\n",
    "\n",
    "sayı = int(input(\"enter a number :\"))\n",
    "liste = list(range(1, sayı + 1)) # range zaten itere özellikte bir sonuç verdiğinden\n",
    "# aslında burda liste yapmana gerek yok\n",
    "toplam = 0\n",
    "for i in liste :\n",
    "    toplam += i\n",
    "print(\"girilen sayıya kadar olan rakamların toplamı :\", toplam)\n",
    "    \n"
   ]
  },
  {
   "cell_type": "code",
   "execution_count": 5,
   "id": "secondary-statement",
   "metadata": {},
   "outputs": [
    {
     "name": "stdout",
     "output_type": "stream",
     "text": [
      "enter a number :5\n",
      "girilen sayıya kadar olan rakamların toplamı : 15\n"
     ]
    }
   ],
   "source": [
    "sayı = int(input(\"enter a number :\"))\n",
    "toplam = 0\n",
    "for i in range(1, sayı+1) : \n",
    "    toplam += i\n",
    "print(\"girilen sayıya kadar olan rakamların toplamı :\", toplam)"
   ]
  },
  {
   "cell_type": "code",
   "execution_count": 40,
   "id": "patent-promotion",
   "metadata": {},
   "outputs": [
    {
     "name": "stdout",
     "output_type": "stream",
     "text": [
      "sayı dizisini giriniz. bitirmek için enter'a basın :2\n",
      "sayı dizisini giriniz. bitirmek için enter'a basın :5\n",
      "sayı dizisini giriniz. bitirmek için enter'a basın :8\n",
      "sayı dizisini giriniz. bitirmek için enter'a basın :9\n",
      "sayı dizisini giriniz. bitirmek için enter'a basın :7\n",
      "sayı dizisini giriniz. bitirmek için enter'a basın :4\n",
      "sayı dizisini giriniz. bitirmek için enter'a basın :1\n",
      "sayı dizisini giriniz. bitirmek için enter'a basın :\n",
      "[2, 1, 8, 5, 7, 4, 9]\n"
     ]
    }
   ],
   "source": [
    "# You will be given an array of numbers. You have to sort the odd numbers in ascending order \n",
    "# while leaving the even numbers at their original positions.Example:\n",
    "# [7, 1] => [1, 7]\n",
    "# [5, 8, 6, 3, 4] => [3, 8, 6, 5, 4]\n",
    "# [9, 8, 7, 6, 5, 4, 3, 2, 1, 0] => [1, 8, 3, 6, 5, 4, 7, 2, 9, 0]\n",
    "\n",
    "odd = []\n",
    "new = []\n",
    "numbers=[]\n",
    "döngü = 1\n",
    "while döngü :\n",
    "    enter = input(\"sayı dizisini giriniz. bitirmek için enter'a basın :\")\n",
    "    if enter.isdigit() :\n",
    "        numbers.append(int(enter))\n",
    "    else :\n",
    "        döngü = 0\n",
    "for i in numbers :\n",
    "    if i % 2 == 1 :\n",
    "        odd.append(i)\n",
    "odd.sort(reverse=True)\n",
    "for i in numbers :\n",
    "    if i % 2 == 1 :\n",
    "        new.append(odd[-1])\n",
    "        odd.pop()     \n",
    "    else :\n",
    "        new.append(i)\n",
    "print(new)"
   ]
  },
  {
   "cell_type": "code",
   "execution_count": 5,
   "id": "nonprofit-flashing",
   "metadata": {},
   "outputs": [
    {
     "name": "stdout",
     "output_type": "stream",
     "text": [
      "bir cümle giriniz :bu bir kısa cümledir python çalışması güzeldir\n",
      "cümleniz : ['bu', 'bir', 'kısa', 'cümledir', 'python', 'çalışması', 'güzeldir'] kelimelerinden oluşmaktadır\n",
      " kelime sayısı : 7\n",
      "cümledeki harf sayısı : 40\n"
     ]
    }
   ],
   "source": [
    "\n",
    "\n",
    "# girilen cümlenin kaç kelimeden ve kaç karakterden oluştuğunu bulan program\n",
    "\n",
    "cümle = input(\"bir cümle giriniz :\")\n",
    "kelimeler = list(cümle.split())\n",
    "kelime_sayısı = len(kelimeler)\n",
    "print(f\"cümleniz : {kelimeler} kelimelerinden oluşmaktadır\\n kelime sayısı : {kelime_sayısı}\")\n",
    "karakter_sayısı = 0\n",
    "for i in range(len(kelimeler)) :\n",
    "    karakter_sayısı += len(kelimeler[i])\n",
    "print(\"cümledeki harf sayısı :\", karakter_sayısı)"
   ]
  },
  {
   "cell_type": "code",
   "execution_count": 2,
   "id": "limiting-missile",
   "metadata": {},
   "outputs": [
    {
     "name": "stdout",
     "output_type": "stream",
     "text": [
      "13\n",
      "Binary number is: 1101\n"
     ]
    }
   ],
   "source": [
    "# girilen decimal sayıyı binary'e çeviren program\n",
    "\n",
    "bin_num = int(input())\n",
    "decimal = ''\n",
    "if bin_num==0:\n",
    "    decimal=\"0\"\n",
    "else:\n",
    "    while bin_num > 0:\n",
    "        decimal += str(bin_num%2)\n",
    "        bin_num = bin_num//2\n",
    "print(\"Binary number is:\", decimal[::-1])"
   ]
  },
  {
   "cell_type": "code",
   "execution_count": 6,
   "id": "executed-samba",
   "metadata": {},
   "outputs": [
    {
     "name": "stdout",
     "output_type": "stream",
     "text": [
      "enter a word :HüsEyiN\n",
      "üsyiHEN\n"
     ]
    }
   ],
   "source": [
    "# girilen kelimede büyük harf varsa kelimenin sonuna atacak program\n",
    "word = input(\"enter a word :\")\n",
    "lower = ''\n",
    "upper = ''\n",
    "for i in word:\n",
    "    if i.isupper() :\n",
    "        upper += i   # stringlerin toplama operatörü özelliğini kullandık. ve büyük harfleri upper değişkeni altında topladık\n",
    "    elif i.islower() :\n",
    "        lower  += i  # küçük harfleri lower altında topladık.\n",
    "print(lower+upper)  # küçük harflere büyük harfleri ekledik."
   ]
  },
  {
   "cell_type": "code",
   "execution_count": 6,
   "id": "centered-museum",
   "metadata": {},
   "outputs": [
    {
     "name": "stdout",
     "output_type": "stream",
     "text": [
      "enter a word :huSeYin\n"
     ]
    },
    {
     "ename": "AttributeError",
     "evalue": "'str' object has no attribute 'append'",
     "output_type": "error",
     "traceback": [
      "\u001b[1;31m---------------------------------------------------------------------------\u001b[0m",
      "\u001b[1;31mAttributeError\u001b[0m                            Traceback (most recent call last)",
      "\u001b[1;32m<ipython-input-6-b026f1b1a166>\u001b[0m in \u001b[0;36m<module>\u001b[1;34m\u001b[0m\n\u001b[0;32m      6\u001b[0m         \u001b[0mupper\u001b[0m\u001b[1;33m.\u001b[0m\u001b[0mappend\u001b[0m\u001b[1;33m(\u001b[0m\u001b[0mi\u001b[0m\u001b[1;33m)\u001b[0m\u001b[1;33m\u001b[0m\u001b[1;33m\u001b[0m\u001b[0m\n\u001b[0;32m      7\u001b[0m     \u001b[1;32melif\u001b[0m \u001b[0mi\u001b[0m\u001b[1;33m.\u001b[0m\u001b[0mislower\u001b[0m\u001b[1;33m(\u001b[0m\u001b[1;33m)\u001b[0m \u001b[1;33m:\u001b[0m\u001b[1;33m\u001b[0m\u001b[1;33m\u001b[0m\u001b[0m\n\u001b[1;32m----> 8\u001b[1;33m         \u001b[0mlower\u001b[0m\u001b[1;33m.\u001b[0m\u001b[0mappend\u001b[0m\u001b[1;33m(\u001b[0m\u001b[0mi\u001b[0m\u001b[1;33m)\u001b[0m\u001b[1;33m\u001b[0m\u001b[1;33m\u001b[0m\u001b[0m\n\u001b[0m\u001b[0;32m      9\u001b[0m \u001b[0mprint\u001b[0m\u001b[1;33m(\u001b[0m\u001b[0mlower\u001b[0m\u001b[1;33m+\u001b[0m\u001b[0mupper\u001b[0m\u001b[1;33m)\u001b[0m\u001b[1;33m\u001b[0m\u001b[1;33m\u001b[0m\u001b[0m\n",
      "\u001b[1;31mAttributeError\u001b[0m: 'str' object has no attribute 'append'"
     ]
    }
   ],
   "source": [
    "word = input(\"enter a word :\")\n",
    "lower = ''\n",
    "upper = ''\n",
    "for i in word:\n",
    "    if i.isupper() :\n",
    "        upper.append(i) # str objectlerde append() metodu kullanılamıyor!!\n",
    "    elif i.islower() :\n",
    "        lower.append(i)\n",
    "print(lower+upper)"
   ]
  },
  {
   "cell_type": "code",
   "execution_count": 30,
   "id": "warming-proxy",
   "metadata": {},
   "outputs": [
    {
     "name": "stdout",
     "output_type": "stream",
     "text": [
      "liste dizini giriniz : \n",
      "sonuç için enter'a basınız8\n",
      "liste dizini giriniz : \n",
      "sonuç için enter'a basınız2\n",
      "liste dizini giriniz : \n",
      "sonuç için enter'a basınız4\n",
      "liste dizini giriniz : \n",
      "sonuç için enter'a basınız7\n",
      "liste dizini giriniz : \n",
      "sonuç için enter'a basınız1\n",
      "liste dizini giriniz : \n",
      "sonuç için enter'a basınız5\n",
      "liste dizini giriniz : \n",
      "sonuç için enter'a basınız6\n",
      "liste dizini giriniz : \n",
      "sonuç için enter'a basınız9\n",
      "liste dizini giriniz : \n",
      "sonuç için enter'a basınız\n",
      "liste dizini :  [8, 2, 4, 7, 1, 5, 6, 9]\n",
      "hedef sayıyı giriniz :24\n"
     ]
    }
   ],
   "source": [
    "# Verilen Numara listesindeki hangi iki rakamin toplami hedef sayiyi verirse \n",
    "# bu sayilarin index numaralarini almak istiyoruz.Ornek:num_list = [8,2,4,7,1,5,6,9]\n",
    "# hedef = 16Verilen listeden 7 +9 =16 yi saglar. \n",
    "# Index numalari 3 ve 7 Istenilen sonuc:  3 , 7\n",
    "liste = []\n",
    "while True :\n",
    "    giriş = input(\"liste dizini giriniz : \\nsonuç için enter'a basınız\")\n",
    "    if giriş.isdigit():  # girilen değer rakam ise listeye bu rakamı ekle.\n",
    "        liste.append(int(giriş))\n",
    "    else :  # girilen değer rakam değil ise döngüden çık\n",
    "        break\n",
    "print(\"liste dizini : \", liste)  # önce girilen listeyi görelim.\n",
    "\n",
    "hedef = int(input(\"hedef sayıyı giriniz :\"))\n",
    "\n",
    "for i in liste :  # liste elemanları içinde kontrol yapacağız.\n",
    "    for c in range(len(liste)) : # listenin her elemanını diğer tüm elemanları ile sırasıyla kıyasalayacağız.\n",
    "        if (i+liste[c] == hedef) and (i != liste[0]) :  # birinci elemanı kendisiyle toplamanın önüne geçiyoruz.\n",
    "            print(liste.index(i), liste.index(liste[c]), sep=', ')\n",
    "if len(liste) == 0 :\n",
    "    print(\"bu toplamı veren iki rakam yoktur\")\n"
   ]
  },
  {
   "cell_type": "code",
   "execution_count": 31,
   "id": "promotional-garden",
   "metadata": {},
   "outputs": [
    {
     "name": "stdout",
     "output_type": "stream",
     "text": [
      "liste dizini giriniz : \n",
      "sonuç için enter'a basınız8\n",
      "liste dizini giriniz : \n",
      "sonuç için enter'a basınız2\n",
      "liste dizini giriniz : \n",
      "sonuç için enter'a basınız4\n",
      "liste dizini giriniz : \n",
      "sonuç için enter'a basınız7\n",
      "liste dizini giriniz : \n",
      "sonuç için enter'a basınız1\n",
      "liste dizini giriniz : \n",
      "sonuç için enter'a basınız5\n",
      "liste dizini giriniz : \n",
      "sonuç için enter'a basınız6\n",
      "liste dizini giriniz : \n",
      "sonuç için enter'a basınız9\n",
      "liste dizini giriniz : \n",
      "sonuç için enter'a basınız\n",
      "liste dizini :  [8, 2, 4, 7, 1, 5, 6, 9]\n",
      "hedef sayıyı giriniz :24\n"
     ]
    }
   ],
   "source": [
    "# Verilen Numara listesindeki hangi iki rakamin toplami hedef sayiyi verirse \n",
    "# bu sayilarin index numaralarini almak istiyoruz.Ornek:num_list = [8,2,4,7,1,5,6,9]\n",
    "# hedef = 16Verilen listeden 7 +9 =16 yi saglar. \n",
    "# Index numalari 3 ve 7 Istenilen sonuc:  3 , 7\n",
    "liste = []\n",
    "while True :\n",
    "    giriş = input(\"liste dizini giriniz : \\nsonuç için enter'a basınız\")\n",
    "    if giriş.isdigit():\n",
    "        liste.append(int(giriş))\n",
    "    else :\n",
    "        break\n",
    "print(\"liste dizini : \", liste)\n",
    "\n",
    "hedef = int(input(\"hedef sayıyı giriniz :\"))\n",
    "\n",
    "for i in liste :\n",
    "    for c in range(len(liste)) :\n",
    "        if (i+liste[c] == hedef) and (i != liste[c]) :\n",
    "            print(liste.index(i), liste.index(liste[c]), sep=', ')\n",
    "        elif len(liste) == 0 :\n",
    "            print(\"bu toplamı veren iki rakam yoktur\")"
   ]
  },
  {
   "cell_type": "code",
   "execution_count": null,
   "id": "prescribed-continent",
   "metadata": {},
   "outputs": [],
   "source": []
  }
 ],
 "metadata": {
  "kernelspec": {
   "display_name": "Python 3",
   "language": "python",
   "name": "python3"
  },
  "language_info": {
   "codemirror_mode": {
    "name": "ipython",
    "version": 3
   },
   "file_extension": ".py",
   "mimetype": "text/x-python",
   "name": "python",
   "nbconvert_exporter": "python",
   "pygments_lexer": "ipython3",
   "version": "3.7.8"
  }
 },
 "nbformat": 4,
 "nbformat_minor": 5
}
