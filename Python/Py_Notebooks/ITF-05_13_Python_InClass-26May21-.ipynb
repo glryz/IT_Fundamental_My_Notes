{
 "cells": [
  {
   "cell_type": "markdown",
   "id": "known-committee",
   "metadata": {},
   "source": [
    "# sudoku sorusu"
   ]
  },
  {
   "cell_type": "code",
   "execution_count": 1,
   "id": "filled-baltimore",
   "metadata": {},
   "outputs": [],
   "source": [
    "sudoku = [\n",
    "    [0, 0, 0, 0, 6, 4, 0, 0, 0],\n",
    "    [7, 0, 0, 0, 0, 0, 3, 9, 0],\n",
    "    [8, 0, 0, 0, 0, 0, 0, 0, 0],\n",
    "    [0, 0, 0, 5, 0, 2, 0, 6, 0],\n",
    "    [0, 8, 0, 4, 0, 0, 0, 0, 0],\n",
    "    [3, 5, 0, 6, 0, 0, 0, 7, 0],\n",
    "    [0, 0, 2, 0, 0, 0, 1, 0, 3],\n",
    "    [0, 0, 1, 0, 5, 9, 0, 0, 0],\n",
    "    [0, 0, 0, 0, 0, 0, 7, 0, 0]\n",
    "]"
   ]
  },
  {
   "cell_type": "code",
   "execution_count": null,
   "id": "small-choir",
   "metadata": {},
   "outputs": [],
   "source": [
    "type(sudoku)\n",
    "\n",
    "len(sudoku)\n",
    "\n",
    "listenin üç elemanında bir dikey çizgi geleceği için liste elemanları içinde for ile girmemiz lazım.\n"
   ]
  },
  {
   "cell_type": "code",
   "execution_count": 19,
   "id": "subject-welsh",
   "metadata": {
    "scrolled": false
   },
   "outputs": [
    {
     "name": "stdout",
     "output_type": "stream",
     "text": [
      "- - - - - - - - - - - - -\n",
      "0  0  0  | 0  6  4  | 0  0  0  \n",
      "7  0  0  | 0  0  0  | 3  9  0  \n",
      "8  0  0  | 0  0  0  | 0  0  0  \n",
      "- - - - - - - - - - - - -\n",
      "0  0  0  | 5  0  2  | 0  6  0  \n",
      "0  8  0  | 4  0  0  | 0  0  0  \n",
      "3  5  0  | 6  0  0  | 0  7  0  \n",
      "- - - - - - - - - - - - -\n",
      "0  0  2  | 0  0  0  | 1  0  3  \n",
      "0  0  1  | 0  5  9  | 0  0  0  \n",
      "0  0  0  | 0  0  0  | 7  0  0  \n",
      "- - - - - - - - - - - - -\n"
     ]
    }
   ],
   "source": [
    "count = 0 # Bunu her bir satırı alt alta yazmak için kullanacağız.\n",
    "print(\"- - - - - - - - - - - - -\")\n",
    "for i in sudoku : # sudoku içindeki her bir eleman alındı. (Ama bu elemanlar da bir liste)\n",
    "    for j in range(len(i)) : # her bir i listesinin eleman sayısı kadar j yi dönder.\n",
    "        print(i[j], \" \", end=\"\") # burada da her bir i listesinin elemanlarını yanyana boşlukla yazdırırız.end'i boş string yaptığım için her bir elemanını yan yana yazabileceğim.\n",
    "        if (j + 1) == 9 : # Her satır bitiminde\n",
    "            print() # bir alt satıra geçmeyi sağlar\n",
    "            count += 1 # bu count sayısını her bir 3 satırda - yatay çizgi oluşturmak için kullandık\n",
    "            if count % 3 == 0 and count != 0 :\n",
    "                print(\"- - - - - - - - - - - - -\")\n",
    "        if (j + 1) % 3 == 0 and j != 0 and j != 8 : # en sağ tarafa dikey çizgi koymaması için j'nin 8'e eşit olamamsı koşulunu getirdik\n",
    "                print(\"| \", end= \"\")\n",
    "                "
   ]
  },
  {
   "cell_type": "code",
   "execution_count": 10,
   "id": "undefined-latin",
   "metadata": {},
   "outputs": [
    {
     "name": "stdout",
     "output_type": "stream",
     "text": [
      "- - - - - - - - - - - \n",
      "0 0 0 | 0 6 4 | 0 0 0 \n",
      "7 0 0 | 0 0 0 | 3 9 0 \n",
      "8 0 0 | 0 0 0 | 0 0 0 \n",
      "- - - - - - - - - - - \n",
      "0 0 0 | 5 0 2 | 0 6 0 \n",
      "0 8 0 | 4 0 0 | 0 0 0 \n",
      "3 5 0 | 6 0 0 | 0 7 0 \n",
      "- - - - - - - - - - - \n",
      "0 0 2 | 0 0 0 | 1 0 3 \n",
      "0 0 1 | 0 5 9 | 0 0 0 \n",
      "0 0 0 | 0 0 0 | 7 0 0 \n",
      "- - - - - - - - - - - \n"
     ]
    }
   ],
   "source": [
    "# bizim grubun çözümü\n",
    "\n",
    "for i, row in enumerate(sudoku):\n",
    "    if i % 3 == 0 or i==0:\n",
    "        print(\"- \" *int(len(z)/2))\n",
    "    z=((\" {} {} {} |\"*3).format(*[x for x in row]))\n",
    "    z=z.rstrip(z[-1]).lstrip(\" \")\n",
    "    print (z)\n",
    "print(\"- \" *int(len(z)/2))"
   ]
  },
  {
   "cell_type": "code",
   "execution_count": 11,
   "id": "considerable-sterling",
   "metadata": {},
   "outputs": [
    {
     "name": "stdout",
     "output_type": "stream",
     "text": [
      "- - - - - - - - - - - \n",
      "0 0 0 | 0 6 4 | 0 0 0 \n",
      "7 0 0 | 0 0 0 | 3 9 0 \n",
      "8 0 0 | 0 0 0 | 0 0 0 \n",
      "- - - - - - - - - - - \n",
      "0 0 0 | 5 0 2 | 0 6 0 \n",
      "0 8 0 | 4 0 0 | 0 0 0 \n",
      "3 5 0 | 6 0 0 | 0 7 0 \n",
      "- - - - - - - - - - - \n",
      "0 0 2 | 0 0 0 | 1 0 3 \n",
      "0 0 1 | 0 5 9 | 0 0 0 \n",
      "0 0 0 | 0 0 0 | 7 0 0 \n",
      "- - - - - - - - - - - \n"
     ]
    }
   ],
   "source": [
    "print(\"- \" * 11)\n",
    "for i, row in enumerate(sudoku):\n",
    "    z=((\" {} {} {} |\"*3).format(*[x for x in row]))\n",
    "    z=z.rstrip(z[-1]).lstrip(\" \")\n",
    "    print (z)\n",
    "    if i % 3 == 2:\n",
    "        print(\"- \" *int(len(z)/2))"
   ]
  },
  {
   "cell_type": "code",
   "execution_count": null,
   "id": "demonstrated-athens",
   "metadata": {},
   "outputs": [],
   "source": [
    "# Sofia'ların çözümü\n",
    "\n",
    "for i in range(9):\n",
    "    if i==0 or i == 3 or i ==6:\n",
    "        print(\"- - - - - - - - - - - - - - - \")\n",
    "    for y in range(9):\n",
    "        if y== 3 or y == 6: \n",
    "            print(\"| \", end=\"\")\n",
    "        if y == 8:   \n",
    "            print(sudoku[i][y])\n",
    "        else:     \n",
    "            print(sudoku[i][y],\"  \",  end=\"\")\n",
    "print(\"- - - - - - - - - - - - - - - \") "
   ]
  },
  {
   "cell_type": "markdown",
   "id": "governing-movie",
   "metadata": {},
   "source": [
    "# Task"
   ]
  },
  {
   "cell_type": "code",
   "execution_count": 12,
   "id": "another-radiation",
   "metadata": {},
   "outputs": [],
   "source": [
    "x = [([1], [2, 3], (4, 5, 6))]\n",
    "\n",
    "# istenen format: \n",
    "# [1, 2, 3, 4, 5, 6]"
   ]
  },
  {
   "cell_type": "code",
   "execution_count": 13,
   "id": "raising-contribution",
   "metadata": {},
   "outputs": [
    {
     "name": "stdout",
     "output_type": "stream",
     "text": [
      "[1, 2, 3, 4, 5, 6]\n"
     ]
    }
   ],
   "source": [
    "a = []\n",
    "\n",
    "for i in x :\n",
    "    for j in i :\n",
    "        for z in j :\n",
    "            a.append(z)\n",
    "print(a)"
   ]
  },
  {
   "cell_type": "code",
   "execution_count": 20,
   "id": "sunset-guest",
   "metadata": {},
   "outputs": [
    {
     "name": "stdout",
     "output_type": "stream",
     "text": [
      "1 2 3 4 5 6\n"
     ]
    }
   ],
   "source": [
    "# yukardaki soruyu set comprehension kullanarak şu formata getir:\n",
    "# {1,2,3,4,5,6}\n",
    "\n",
    "x = [([1], [2, 3], (4, 5, 6))]\n",
    "\n",
    "a = {z for i in x for j in i for z in j} \n",
    "print(*a)"
   ]
  },
  {
   "cell_type": "markdown",
   "id": "timely-bleeding",
   "metadata": {},
   "source": [
    "# Task "
   ]
  },
  {
   "cell_type": "code",
   "execution_count": 21,
   "id": "unlike-explanation",
   "metadata": {},
   "outputs": [
    {
     "data": {
      "text/plain": [
       "['elma', 'armut', 'muz']"
      ]
     },
     "execution_count": 21,
     "metadata": {},
     "output_type": "execute_result"
    }
   ],
   "source": [
    "xList = \"elma armut muz\".split()\n",
    "xList"
   ]
  },
  {
   "cell_type": "code",
   "execution_count": 22,
   "id": "later-taylor",
   "metadata": {},
   "outputs": [
    {
     "data": {
      "text/plain": [
       "['selvi', 'vahit', 'ayşe']"
      ]
     },
     "execution_count": 22,
     "metadata": {},
     "output_type": "execute_result"
    }
   ],
   "source": [
    "yList = \"selvi vahit ayşe\".split()\n",
    "yList"
   ]
  },
  {
   "cell_type": "code",
   "execution_count": 23,
   "id": "wooden-difficulty",
   "metadata": {
    "scrolled": true
   },
   "outputs": [
    {
     "data": {
      "text/plain": [
       "['elmaselvi',\n",
       " 'elmavahit',\n",
       " 'elmaayşe',\n",
       " 'armutselvi',\n",
       " 'armutvahit',\n",
       " 'armutayşe',\n",
       " 'muzselvi',\n",
       " 'muzvahit',\n",
       " 'muzayşe']"
      ]
     },
     "execution_count": 23,
     "metadata": {},
     "output_type": "execute_result"
    }
   ],
   "source": [
    "result = []\n",
    "\n",
    "for i in xList :\n",
    "    for j in yList :\n",
    "        result.append(i + j)\n",
    "result"
   ]
  },
  {
   "cell_type": "code",
   "execution_count": 24,
   "id": "disturbed-namibia",
   "metadata": {},
   "outputs": [
    {
     "data": {
      "text/plain": [
       "['elmaselvi',\n",
       " 'elmavahit',\n",
       " 'elmaayşe',\n",
       " 'armutselvi',\n",
       " 'armutvahit',\n",
       " 'armutayşe',\n",
       " 'muzselvi',\n",
       " 'muzvahit',\n",
       " 'muzayşe']"
      ]
     },
     "execution_count": 24,
     "metadata": {},
     "output_type": "execute_result"
    }
   ],
   "source": [
    "# list comprehension ile yapalım\n",
    "\n",
    "[i + j for i in xList for j in yList] # önce dış liste sonra iç listeyi yazdık. list compr.'da dıştan içe doğru döngüler yazılır"
   ]
  },
  {
   "cell_type": "code",
   "execution_count": 25,
   "id": "appreciated-water",
   "metadata": {},
   "outputs": [
    {
     "data": {
      "text/plain": [
       "[['elmaselvi'],\n",
       " ['elmavahit'],\n",
       " ['elmaayşe'],\n",
       " ['armutselvi'],\n",
       " ['armutvahit'],\n",
       " ['armutayşe'],\n",
       " ['muzselvi'],\n",
       " ['muzvahit'],\n",
       " ['muzayşe']]"
      ]
     },
     "execution_count": 25,
     "metadata": {},
     "output_type": "execute_result"
    }
   ],
   "source": [
    "# her birini iç içe liste elemanları yapalım\n",
    "\n",
    "[[i + j] for i in xList for j in yList] # i + j yi listeye aldık. bu yüzden döngüde her defasında i + j yi liste olarak alacak "
   ]
  },
  {
   "cell_type": "code",
   "execution_count": 28,
   "id": "liberal-marketing",
   "metadata": {},
   "outputs": [
    {
     "data": {
      "text/plain": [
       "['0 --> bir',\n",
       " '0 --> iki',\n",
       " '0 --> üç',\n",
       " '2 --> bir',\n",
       " '2 --> iki',\n",
       " '2 --> üç',\n",
       " '4 --> bir',\n",
       " '4 --> iki',\n",
       " '4 --> üç']"
      ]
     },
     "execution_count": 28,
     "metadata": {},
     "output_type": "execute_result"
    }
   ],
   "source": [
    "result = []\n",
    "sayılar = [\"bir\", \"iki\", \"üç\"]\n",
    "\n",
    "for i in range(5) : \n",
    "    if i % 2 == 0 : # range'ten çiftleri al. aşağıdaki blokta kullanacağız.\n",
    "        for j in sayılar :\n",
    "            result.append(str(i) + \" --> \" + j)\n",
    "result"
   ]
  },
  {
   "cell_type": "code",
   "execution_count": 29,
   "id": "therapeutic-diana",
   "metadata": {},
   "outputs": [
    {
     "data": {
      "text/plain": [
       "['0 --> bir',\n",
       " '0 --> iki',\n",
       " '0 --> üç',\n",
       " '2 --> bir',\n",
       " '2 --> iki',\n",
       " '2 --> üç',\n",
       " '4 --> bir',\n",
       " '4 --> iki',\n",
       " '4 --> üç']"
      ]
     },
     "execution_count": 29,
     "metadata": {},
     "output_type": "execute_result"
    }
   ],
   "source": [
    "# list comprehension ile çözelim\n",
    "\n",
    "[str(i) + \" --> \" + j for i in range(5) for j in sayılar if i % 2 ==0]"
   ]
  },
  {
   "cell_type": "markdown",
   "id": "useful-usage",
   "metadata": {},
   "source": [
    "# Girilen uç sayıdan kaç tanesi tekrarlıyor. bunu gösteren fonksiyon yazalım"
   ]
  },
  {
   "cell_type": "code",
   "execution_count": null,
   "id": "stuffed-strengthening",
   "metadata": {},
   "outputs": [],
   "source": [
    "# Task: aynı rakamların tekrar saylarını veren fonksiyon yazacağız\n",
    "# equal(4, 4, 4) girildiğinde çıktı olarak 3 verecek.\n",
    "# equal(3, 4, 4) girildiğinde çıktı olarak 2 verecek.\n",
    "# equal(1, 2, 3) girildiğinde çıktı olarak 0 verecek.\n"
   ]
  },
  {
   "cell_type": "code",
   "execution_count": 34,
   "id": "chubby-duncan",
   "metadata": {},
   "outputs": [
    {
     "data": {
      "text/plain": [
       "5"
      ]
     },
     "execution_count": 34,
     "metadata": {},
     "output_type": "execute_result"
    }
   ],
   "source": [
    "num = [1, 5, 5]\n",
    "max(num)  # iterable içindeki en büyük sayıyı veriyor."
   ]
  },
  {
   "cell_type": "code",
   "execution_count": 31,
   "id": "electoral-berry",
   "metadata": {},
   "outputs": [
    {
     "data": {
      "text/plain": [
       "5"
      ]
     },
     "execution_count": 31,
     "metadata": {},
     "output_type": "execute_result"
    }
   ],
   "source": [
    "max(num, key = num.count) # num içindeki elemanların tekrar sayılarına göre maksimumunu alır. \n",
    "                          # yani en çok tekrar eden sayıyı verir. \n",
    "                          # 5 iki kere tekrar ettiği için sonuç 5\n",
    "        \n",
    "    # max() fonksiyonu her zaman iterable elemanlardan birini verir.\n",
    "   \n",
    "    # şimdi bunu kullanarak fonksiyonumzu yapalım\n"
   ]
  },
  {
   "cell_type": "code",
   "execution_count": 32,
   "id": "dynamic-wesley",
   "metadata": {},
   "outputs": [
    {
     "data": {
      "text/plain": [
       "2"
      ]
     },
     "execution_count": 32,
     "metadata": {},
     "output_type": "execute_result"
    }
   ],
   "source": [
    "num.count(5)"
   ]
  },
  {
   "cell_type": "code",
   "execution_count": 35,
   "id": "secondary-interstate",
   "metadata": {},
   "outputs": [
    {
     "ename": "TypeError",
     "evalue": "'int' object is not callable",
     "output_type": "error",
     "traceback": [
      "\u001b[1;31m---------------------------------------------------------------------------\u001b[0m",
      "\u001b[1;31mTypeError\u001b[0m                                 Traceback (most recent call last)",
      "\u001b[1;32m<ipython-input-35-e6ef900d146d>\u001b[0m in \u001b[0;36m<module>\u001b[1;34m\u001b[0m\n\u001b[1;32m----> 1\u001b[1;33m \u001b[0mmax\u001b[0m\u001b[1;33m(\u001b[0m\u001b[0mnum\u001b[0m\u001b[1;33m,\u001b[0m \u001b[0mkey\u001b[0m \u001b[1;33m=\u001b[0m \u001b[0mcount\u001b[0m\u001b[1;33m)\u001b[0m\u001b[1;33m\u001b[0m\u001b[1;33m\u001b[0m\u001b[0m\n\u001b[0m",
      "\u001b[1;31mTypeError\u001b[0m: 'int' object is not callable"
     ]
    }
   ],
   "source": [
    "max(num, key = count)"
   ]
  },
  {
   "cell_type": "code",
   "execution_count": 38,
   "id": "copyrighted-granny",
   "metadata": {},
   "outputs": [
    {
     "data": {
      "text/plain": [
       "2"
      ]
     },
     "execution_count": 38,
     "metadata": {},
     "output_type": "execute_result"
    }
   ],
   "source": [
    "def equal(a, b, c) :\n",
    "    numbers = [a, b, c]\n",
    "    result = numbers.count(max(numbers, key = numbers.count)) # max, en çok tekrar eden elemanı verir. yani bir eleman verir. başındaki numbers.count ise bu elemanın kaç kere tekrar ettiğini verecek.\n",
    "    if result > 1 :\n",
    "        return result\n",
    "    else :\n",
    "        return 0\n",
    "\n",
    "equal(1, 5, 5)"
   ]
  },
  {
   "cell_type": "code",
   "execution_count": 39,
   "id": "chief-think",
   "metadata": {},
   "outputs": [
    {
     "data": {
      "text/plain": [
       "3"
      ]
     },
     "execution_count": 39,
     "metadata": {},
     "output_type": "execute_result"
    }
   ],
   "source": [
    "# fonksiyona istediğimiz kadar sayı girebilecek şekilde fonksiyonumuzu düzenleyelim.\n",
    "\n",
    "def equal(*a) :   # arbitrary parametre kullandık\n",
    "    numbers = list(a) # girilen rakamları listeye çevirdik ki üzerine count ve max fonksiyonlarını uygulayabilelim.\n",
    "    result = numbers.count(max(numbers, key = numbers.count)) # max, en çok tekrar eden elemanı verir. yani bir eleman verir. başındaki numbers.count ise bu elemanın kaç kere tekrar ettiğini verecek.\n",
    "    if result > 1 :\n",
    "        return result\n",
    "    else :\n",
    "        return 0\n",
    "\n",
    "equal(1,2,3,4,5,5,5,6,7,7)"
   ]
  },
  {
   "cell_type": "markdown",
   "id": "other-might",
   "metadata": {},
   "source": [
    "# Task"
   ]
  },
  {
   "cell_type": "code",
   "execution_count": null,
   "id": "unusual-essence",
   "metadata": {},
   "outputs": [],
   "source": [
    "# robotu x-y koordinatında hareket ettiriyoruz. en son nerede kaldığını bulacağız.\n",
    "\n",
    "L = [\"right 20\", \"right 30\", \"left 50\", \"up 10\", \"down 20\"]\n",
    "\n",
    "# right kelimesini arttırmak için kullanacağız, left kelimesini azaltmak için.\n",
    "# up kelimesini arttırmak için kullanacağız, down kelimesini azaltmak için."
   ]
  },
  {
   "cell_type": "code",
   "execution_count": 61,
   "id": "portuguese-electron",
   "metadata": {},
   "outputs": [
    {
     "data": {
      "text/plain": [
       "'20'"
      ]
     },
     "execution_count": 61,
     "metadata": {},
     "output_type": "execute_result"
    }
   ],
   "source": [
    "\"right 20\".split()[1] # bu ifade ile sayı olan elemana ulaştık."
   ]
  },
  {
   "cell_type": "code",
   "execution_count": 60,
   "id": "oriented-generator",
   "metadata": {},
   "outputs": [
    {
     "data": {
      "text/plain": [
       "[0, -10]"
      ]
     },
     "execution_count": 60,
     "metadata": {},
     "output_type": "execute_result"
    }
   ],
   "source": [
    "L = [\"right 20\", \"right 30\", \"left 50\", \"up 10\", \"down 20\"]\n",
    "\n",
    "x = y = 0\n",
    "\n",
    "for i in range(len(L)) :\n",
    "    if L[i].startswith(\"r\") : x = x + int(L[i].split(\" \")[1])\n",
    "    if L[i].startswith(\"l\") : x = x - int(L[i].split(\" \")[1])\n",
    "    if L[i].startswith(\"u\") : y = y + int(L[i].split(\" \")[1])\n",
    "    if L[i].startswith(\"d\") : y = y - int(L[i].split(\" \")[1])\n",
    "[x, y]"
   ]
  },
  {
   "cell_type": "code",
   "execution_count": 62,
   "id": "specific-reservation",
   "metadata": {},
   "outputs": [
    {
     "ename": "TypeError",
     "evalue": "slice indices must be integers or None or have an __index__ method",
     "output_type": "error",
     "traceback": [
      "\u001b[1;31m---------------------------------------------------------------------------\u001b[0m",
      "\u001b[1;31mTypeError\u001b[0m                                 Traceback (most recent call last)",
      "\u001b[1;32m<ipython-input-62-0339822ab577>\u001b[0m in \u001b[0;36m<module>\u001b[1;34m\u001b[0m\n\u001b[1;32m----> 1\u001b[1;33m \u001b[0mprint\u001b[0m\u001b[1;33m(\u001b[0m\u001b[1;34m\"ahttps://www.google.com\"\u001b[0m\u001b[1;33m.\u001b[0m\u001b[0mstartswith\u001b[0m\u001b[1;33m(\u001b[0m\u001b[1;34m\"http://\"\u001b[0m\u001b[1;33m,\u001b[0m \u001b[1;34m\"https://\"\u001b[0m\u001b[1;33m,\u001b[0m \u001b[1;34m\"ahttp\"\u001b[0m\u001b[1;33m)\u001b[0m\u001b[1;33m)\u001b[0m\u001b[1;33m\u001b[0m\u001b[1;33m\u001b[0m\u001b[0m\n\u001b[0m\u001b[0;32m      2\u001b[0m \u001b[1;33m\u001b[0m\u001b[0m\n\u001b[0;32m      3\u001b[0m \u001b[1;31m# burada 3 farklı kombinasyonla da başlarsa yazdırmaya yarar.\u001b[0m\u001b[1;33m\u001b[0m\u001b[1;33m\u001b[0m\u001b[1;33m\u001b[0m\u001b[0m\n",
      "\u001b[1;31mTypeError\u001b[0m: slice indices must be integers or None or have an __index__ method"
     ]
    }
   ],
   "source": [
    "print(\"ahttps://www.google.com\".startswith(\"http://\", \"https://\", \"ahttp\")) \n",
    "\n",
    "# burada 3 farklı kombinasyonla da başlarsa yazdırmaya yarar."
   ]
  },
  {
   "cell_type": "code",
   "execution_count": 63,
   "id": "subsequent-ordering",
   "metadata": {},
   "outputs": [
    {
     "name": "stdout",
     "output_type": "stream",
     "text": [
      "True\n"
     ]
    }
   ],
   "source": [
    "print(\"ahttps://www.google.com\".startswith((\"http://\", \"https://\", \"ahttp\"))) \n",
    "\n",
    "# startswith() içine birer parantez daha koyup tuple içine aldık. yani bir değer olmasını sağladık. bu sefer kod çalışcak"
   ]
  },
  {
   "cell_type": "markdown",
   "id": "small-federal",
   "metadata": {},
   "source": [
    "# dictionary den hesap makinası yapalım"
   ]
  },
  {
   "cell_type": "code",
   "execution_count": 65,
   "id": "upset-netscape",
   "metadata": {},
   "outputs": [
    {
     "data": {
      "text/plain": [
       "{'+': <function __main__.<lambda>(x, y)>,\n",
       " '-': <function __main__.<lambda>(x, y)>,\n",
       " '/': <function __main__.<lambda>(x, y)>}"
      ]
     },
     "execution_count": 65,
     "metadata": {},
     "output_type": "execute_result"
    }
   ],
   "source": [
    "ops = {\"+\" : (lambda x, y : x + y), \"-\" : (lambda x, y : x - y), \"/\" : (lambda x, y : x /y)}\n",
    "ops \n",
    "\n",
    "# lambdaya argüman yollamazsaz aşağıdaki gibi gösterecek."
   ]
  },
  {
   "cell_type": "code",
   "execution_count": null,
   "id": "normal-objective",
   "metadata": {},
   "outputs": [],
   "source": [
    "# şimdi lambdalara argümanları yollayalım"
   ]
  },
  {
   "cell_type": "code",
   "execution_count": 66,
   "id": "double-stone",
   "metadata": {},
   "outputs": [
    {
     "data": {
      "text/plain": [
       "<function __main__.<lambda>(x, y)>"
      ]
     },
     "execution_count": 66,
     "metadata": {},
     "output_type": "execute_result"
    }
   ],
   "source": [
    "ops[\"+\"]  # \"+\" keyinin value'su karşısındaki lambdadır."
   ]
  },
  {
   "cell_type": "code",
   "execution_count": 68,
   "id": "grateful-edition",
   "metadata": {},
   "outputs": [
    {
     "data": {
      "text/plain": [
       "8"
      ]
     },
     "execution_count": 68,
     "metadata": {},
     "output_type": "execute_result"
    }
   ],
   "source": [
    "ops[\"+\"](3, 5)"
   ]
  },
  {
   "cell_type": "code",
   "execution_count": 69,
   "id": "suitable-flexibility",
   "metadata": {},
   "outputs": [
    {
     "data": {
      "text/plain": [
       "6"
      ]
     },
     "execution_count": 69,
     "metadata": {},
     "output_type": "execute_result"
    }
   ],
   "source": [
    "ops[\"-\"](11,5)"
   ]
  },
  {
   "cell_type": "code",
   "execution_count": 71,
   "id": "southern-stevens",
   "metadata": {},
   "outputs": [
    {
     "data": {
      "text/plain": [
       "11"
      ]
     },
     "execution_count": 71,
     "metadata": {},
     "output_type": "execute_result"
    }
   ],
   "source": [
    "normal={\"bir\": 11, \"iki\" : 22}\n",
    "normal[\"bir\"]"
   ]
  },
  {
   "cell_type": "code",
   "execution_count": 72,
   "id": "joined-design",
   "metadata": {},
   "outputs": [
    {
     "data": {
      "text/plain": [
       "int"
      ]
     },
     "execution_count": 72,
     "metadata": {},
     "output_type": "execute_result"
    }
   ],
   "source": [
    "type(normal[\"bir\"])"
   ]
  },
  {
   "cell_type": "markdown",
   "id": "proved-version",
   "metadata": {},
   "source": [
    "# CSV Files"
   ]
  },
  {
   "cell_type": "code",
   "execution_count": null,
   "id": "satellite-tamil",
   "metadata": {},
   "outputs": [],
   "source": [
    "# CSV files, virgülle ayrılmış verilerdir."
   ]
  },
  {
   "cell_type": "code",
   "execution_count": null,
   "id": "latin-nowhere",
   "metadata": {},
   "outputs": [],
   "source": [
    "# .txt dosyasının uzantısını silip yerine csv yazarsan bir cvs dosyası oluşturmuş olşuyorsun."
   ]
  },
  {
   "cell_type": "code",
   "execution_count": null,
   "id": "sweet-skating",
   "metadata": {},
   "outputs": [],
   "source": []
  },
  {
   "cell_type": "code",
   "execution_count": null,
   "id": "european-leave",
   "metadata": {},
   "outputs": [],
   "source": [
    "\"\"\"\n",
    "Working with files konusunda olduğu gibi bir dosya oluşturduk. \n",
    "Ama bu kez .txt yerine .csv uzantılı dosya oluşturduk.\n",
    "Daha sonra bu .csv dosyalarını önceki derslerde olduğu gibi \n",
    "çağırma yollarını gördük.\n",
    "3 çeşit çağırma yolu var:\n",
    "1- Klasik open ve read\n",
    "2-Csv modülü\n",
    "3-Pandas kütüphanesi ile\n",
    "\"\"\""
   ]
  },
  {
   "cell_type": "code",
   "execution_count": 46,
   "id": "simplified-proportion",
   "metadata": {},
   "outputs": [
    {
     "ename": "FileNotFoundError",
     "evalue": "[Errno 2] No such file or directory: 'fruits.csv'",
     "output_type": "error",
     "traceback": [
      "\u001b[1;31m---------------------------------------------------------------------------\u001b[0m",
      "\u001b[1;31mFileNotFoundError\u001b[0m                         Traceback (most recent call last)",
      "\u001b[1;32m<ipython-input-46-5837bc32a8d1>\u001b[0m in \u001b[0;36m<module>\u001b[1;34m\u001b[0m\n\u001b[1;32m----> 1\u001b[1;33m \u001b[1;32mwith\u001b[0m \u001b[0mopen\u001b[0m\u001b[1;33m(\u001b[0m\u001b[1;34m\"fruits.csv\"\u001b[0m\u001b[1;33m,\u001b[0m \u001b[1;34m\"r\"\u001b[0m\u001b[1;33m,\u001b[0m \u001b[0mencoding\u001b[0m\u001b[1;33m=\u001b[0m\u001b[1;34m\"utf-8\"\u001b[0m\u001b[1;33m)\u001b[0m \u001b[1;32mas\u001b[0m \u001b[0mfile\u001b[0m\u001b[1;33m:\u001b[0m\u001b[1;33m\u001b[0m\u001b[1;33m\u001b[0m\u001b[0m\n\u001b[0m\u001b[0;32m      2\u001b[0m     \u001b[0mprint\u001b[0m\u001b[1;33m(\u001b[0m\u001b[0mfile\u001b[0m\u001b[1;33m.\u001b[0m\u001b[0mread\u001b[0m\u001b[1;33m(\u001b[0m\u001b[1;33m)\u001b[0m\u001b[1;33m)\u001b[0m\u001b[1;33m\u001b[0m\u001b[1;33m\u001b[0m\u001b[0m\n",
      "\u001b[1;31mFileNotFoundError\u001b[0m: [Errno 2] No such file or directory: 'fruits.csv'"
     ]
    }
   ],
   "source": [
    "with open(\"fruits.csv\", \"r\", encoding=\"utf-8\") as file:\n",
    "    print(file.read())"
   ]
  },
  {
   "cell_type": "code",
   "execution_count": 45,
   "id": "stupid-bronze",
   "metadata": {},
   "outputs": [
    {
     "ename": "FileNotFoundError",
     "evalue": "[Errno 2] No such file or directory: 'fruits.csv'",
     "output_type": "error",
     "traceback": [
      "\u001b[1;31m---------------------------------------------------------------------------\u001b[0m",
      "\u001b[1;31mFileNotFoundError\u001b[0m                         Traceback (most recent call last)",
      "\u001b[1;32m<ipython-input-45-f14f4c1c1126>\u001b[0m in \u001b[0;36m<module>\u001b[1;34m\u001b[0m\n\u001b[0;32m      1\u001b[0m \u001b[1;32mimport\u001b[0m \u001b[0mcsv\u001b[0m \u001b[1;31m# load csv module\u001b[0m\u001b[1;33m\u001b[0m\u001b[1;33m\u001b[0m\u001b[0m\n\u001b[0;32m      2\u001b[0m \u001b[1;33m\u001b[0m\u001b[0m\n\u001b[1;32m----> 3\u001b[1;33m \u001b[1;32mwith\u001b[0m \u001b[0mopen\u001b[0m\u001b[1;33m(\u001b[0m\u001b[1;34m\"fruits.csv\"\u001b[0m\u001b[1;33m,\u001b[0m \u001b[1;34m'r'\u001b[0m\u001b[1;33m,\u001b[0m \u001b[0mnewline\u001b[0m \u001b[1;33m=\u001b[0m \u001b[1;34m''\u001b[0m\u001b[1;33m,\u001b[0m \u001b[0mencoding\u001b[0m \u001b[1;33m=\u001b[0m \u001b[1;34m'utf-8'\u001b[0m\u001b[1;33m)\u001b[0m \u001b[1;32mas\u001b[0m \u001b[0mfile\u001b[0m\u001b[1;33m:\u001b[0m\u001b[1;33m\u001b[0m\u001b[1;33m\u001b[0m\u001b[0m\n\u001b[0m\u001b[0;32m      4\u001b[0m     \u001b[0mcsv_rows\u001b[0m \u001b[1;33m=\u001b[0m \u001b[0mcsv\u001b[0m\u001b[1;33m.\u001b[0m\u001b[0mreader\u001b[0m\u001b[1;33m(\u001b[0m\u001b[0mfile\u001b[0m\u001b[1;33m)\u001b[0m  \u001b[1;31m# reader() function takes each\u001b[0m\u001b[1;33m\u001b[0m\u001b[1;33m\u001b[0m\u001b[0m\n\u001b[0;32m      5\u001b[0m                                  \u001b[1;31m# row (lines) into a list\u001b[0m\u001b[1;33m\u001b[0m\u001b[1;33m\u001b[0m\u001b[1;33m\u001b[0m\u001b[0m\n",
      "\u001b[1;31mFileNotFoundError\u001b[0m: [Errno 2] No such file or directory: 'fruits.csv'"
     ]
    }
   ],
   "source": [
    "import csv # load csv module\n",
    "\n",
    "with open(\"fruits.csv\", 'r', newline = '', encoding = 'utf-8') as file:\n",
    "    csv_rows = csv.reader(file)  # file'ı aldım reader'ın içine gömdüm. reader() function takes each\n",
    "                                 # row (lines) into a list. her bir satırın tipi listedir.\n",
    "    for row in csv_rows:\n",
    "        print(row)"
   ]
  },
  {
   "cell_type": "code",
   "execution_count": null,
   "id": "addressed-naples",
   "metadata": {},
   "outputs": [],
   "source": [
    "# delimeter parametresi\n",
    "\n",
    "delimeter , ise listede farklı elemanlar olur\n",
    "delimeter olarak satırlar arasında olmayan bir karakter belirlersek \n",
    "mesela delimeter=\":\" yaparsak liste içindeki her şey bir elemana indirgenir \n",
    "(çünkü delimeter dosya içindeki bir ayracı baz alır) "
   ]
  },
  {
   "cell_type": "code",
   "execution_count": null,
   "id": "prospective-silly",
   "metadata": {},
   "outputs": [],
   "source": []
  },
  {
   "cell_type": "code",
   "execution_count": null,
   "id": "nervous-questionnaire",
   "metadata": {},
   "outputs": [],
   "source": []
  },
  {
   "cell_type": "code",
   "execution_count": 47,
   "id": "living-nowhere",
   "metadata": {},
   "outputs": [],
   "source": [
    "import pandas as pd # pandas yoksa pip install pandas yaparak indiriyoruz."
   ]
  },
  {
   "cell_type": "code",
   "execution_count": 48,
   "id": "dedicated-oxide",
   "metadata": {},
   "outputs": [],
   "source": [
    "titanic = pd.read_csv(\"titanic.csv\")"
   ]
  },
  {
   "cell_type": "code",
   "execution_count": 49,
   "id": "respected-dating",
   "metadata": {},
   "outputs": [
    {
     "data": {
      "text/html": [
       "<div>\n",
       "<style scoped>\n",
       "    .dataframe tbody tr th:only-of-type {\n",
       "        vertical-align: middle;\n",
       "    }\n",
       "\n",
       "    .dataframe tbody tr th {\n",
       "        vertical-align: top;\n",
       "    }\n",
       "\n",
       "    .dataframe thead th {\n",
       "        text-align: right;\n",
       "    }\n",
       "</style>\n",
       "<table border=\"1\" class=\"dataframe\">\n",
       "  <thead>\n",
       "    <tr style=\"text-align: right;\">\n",
       "      <th></th>\n",
       "      <th>PassengerId</th>\n",
       "      <th>Survived</th>\n",
       "      <th>Pclass</th>\n",
       "      <th>Lname</th>\n",
       "      <th>Name</th>\n",
       "      <th>Sex</th>\n",
       "      <th>Age</th>\n",
       "      <th>SibSp</th>\n",
       "      <th>Parch</th>\n",
       "      <th>Ticket</th>\n",
       "      <th>Fare</th>\n",
       "      <th>Cabin</th>\n",
       "      <th>Embarked</th>\n",
       "    </tr>\n",
       "  </thead>\n",
       "  <tbody>\n",
       "    <tr>\n",
       "      <th>0</th>\n",
       "      <td>1</td>\n",
       "      <td>0</td>\n",
       "      <td>3</td>\n",
       "      <td>Braund</td>\n",
       "      <td>Mr. Owen Harris</td>\n",
       "      <td>male</td>\n",
       "      <td>22.0</td>\n",
       "      <td>1</td>\n",
       "      <td>0</td>\n",
       "      <td>A/5 21171</td>\n",
       "      <td>7.2500</td>\n",
       "      <td>NaN</td>\n",
       "      <td>S</td>\n",
       "    </tr>\n",
       "    <tr>\n",
       "      <th>1</th>\n",
       "      <td>2</td>\n",
       "      <td>1</td>\n",
       "      <td>1</td>\n",
       "      <td>Cumings</td>\n",
       "      <td>Mrs. John Bradley (Florence Briggs Thayer)</td>\n",
       "      <td>female</td>\n",
       "      <td>38.0</td>\n",
       "      <td>1</td>\n",
       "      <td>0</td>\n",
       "      <td>PC 17599</td>\n",
       "      <td>71.2833</td>\n",
       "      <td>C85</td>\n",
       "      <td>C</td>\n",
       "    </tr>\n",
       "    <tr>\n",
       "      <th>2</th>\n",
       "      <td>3</td>\n",
       "      <td>1</td>\n",
       "      <td>3</td>\n",
       "      <td>Heikkinen</td>\n",
       "      <td>Miss. Laina</td>\n",
       "      <td>female</td>\n",
       "      <td>26.0</td>\n",
       "      <td>0</td>\n",
       "      <td>0</td>\n",
       "      <td>STON/O2. 3101282</td>\n",
       "      <td>7.9250</td>\n",
       "      <td>NaN</td>\n",
       "      <td>S</td>\n",
       "    </tr>\n",
       "    <tr>\n",
       "      <th>3</th>\n",
       "      <td>4</td>\n",
       "      <td>1</td>\n",
       "      <td>1</td>\n",
       "      <td>Futrelle</td>\n",
       "      <td>Mrs. Jacques Heath (Lily May Peel)</td>\n",
       "      <td>female</td>\n",
       "      <td>35.0</td>\n",
       "      <td>1</td>\n",
       "      <td>0</td>\n",
       "      <td>113803</td>\n",
       "      <td>53.1000</td>\n",
       "      <td>C123</td>\n",
       "      <td>S</td>\n",
       "    </tr>\n",
       "    <tr>\n",
       "      <th>4</th>\n",
       "      <td>5</td>\n",
       "      <td>0</td>\n",
       "      <td>3</td>\n",
       "      <td>Allen</td>\n",
       "      <td>Mr. William Henry</td>\n",
       "      <td>male</td>\n",
       "      <td>35.0</td>\n",
       "      <td>0</td>\n",
       "      <td>0</td>\n",
       "      <td>373450</td>\n",
       "      <td>8.0500</td>\n",
       "      <td>NaN</td>\n",
       "      <td>S</td>\n",
       "    </tr>\n",
       "    <tr>\n",
       "      <th>...</th>\n",
       "      <td>...</td>\n",
       "      <td>...</td>\n",
       "      <td>...</td>\n",
       "      <td>...</td>\n",
       "      <td>...</td>\n",
       "      <td>...</td>\n",
       "      <td>...</td>\n",
       "      <td>...</td>\n",
       "      <td>...</td>\n",
       "      <td>...</td>\n",
       "      <td>...</td>\n",
       "      <td>...</td>\n",
       "      <td>...</td>\n",
       "    </tr>\n",
       "    <tr>\n",
       "      <th>151</th>\n",
       "      <td>152</td>\n",
       "      <td>1</td>\n",
       "      <td>1</td>\n",
       "      <td>Pears</td>\n",
       "      <td>Mrs. Thomas (Edith Wearne)</td>\n",
       "      <td>female</td>\n",
       "      <td>22.0</td>\n",
       "      <td>1</td>\n",
       "      <td>0</td>\n",
       "      <td>113776</td>\n",
       "      <td>66.6000</td>\n",
       "      <td>C2</td>\n",
       "      <td>S</td>\n",
       "    </tr>\n",
       "    <tr>\n",
       "      <th>152</th>\n",
       "      <td>153</td>\n",
       "      <td>0</td>\n",
       "      <td>3</td>\n",
       "      <td>Meo</td>\n",
       "      <td>Mr. Alfonzo</td>\n",
       "      <td>male</td>\n",
       "      <td>55.5</td>\n",
       "      <td>0</td>\n",
       "      <td>0</td>\n",
       "      <td>A.5. 11206</td>\n",
       "      <td>8.0500</td>\n",
       "      <td>NaN</td>\n",
       "      <td>S</td>\n",
       "    </tr>\n",
       "    <tr>\n",
       "      <th>153</th>\n",
       "      <td>154</td>\n",
       "      <td>0</td>\n",
       "      <td>3</td>\n",
       "      <td>van Billiard</td>\n",
       "      <td>Mr. Austin Blyler</td>\n",
       "      <td>male</td>\n",
       "      <td>40.5</td>\n",
       "      <td>0</td>\n",
       "      <td>2</td>\n",
       "      <td>A/5. 851</td>\n",
       "      <td>14.5000</td>\n",
       "      <td>NaN</td>\n",
       "      <td>S</td>\n",
       "    </tr>\n",
       "    <tr>\n",
       "      <th>154</th>\n",
       "      <td>155</td>\n",
       "      <td>0</td>\n",
       "      <td>3</td>\n",
       "      <td>Olsen</td>\n",
       "      <td>Mr. Ole Martin</td>\n",
       "      <td>male</td>\n",
       "      <td>NaN</td>\n",
       "      <td>0</td>\n",
       "      <td>0</td>\n",
       "      <td>Fa 265302</td>\n",
       "      <td>7.3125</td>\n",
       "      <td>NaN</td>\n",
       "      <td>S</td>\n",
       "    </tr>\n",
       "    <tr>\n",
       "      <th>155</th>\n",
       "      <td>156</td>\n",
       "      <td>0</td>\n",
       "      <td>1</td>\n",
       "      <td>Williams</td>\n",
       "      <td>Mr. Charles Duane</td>\n",
       "      <td>male</td>\n",
       "      <td>51.0</td>\n",
       "      <td>0</td>\n",
       "      <td>1</td>\n",
       "      <td>PC 17597</td>\n",
       "      <td>61.3792</td>\n",
       "      <td>NaN</td>\n",
       "      <td>C</td>\n",
       "    </tr>\n",
       "  </tbody>\n",
       "</table>\n",
       "<p>156 rows × 13 columns</p>\n",
       "</div>"
      ],
      "text/plain": [
       "     PassengerId  Survived  Pclass         Lname  \\\n",
       "0              1         0       3        Braund   \n",
       "1              2         1       1       Cumings   \n",
       "2              3         1       3     Heikkinen   \n",
       "3              4         1       1      Futrelle   \n",
       "4              5         0       3         Allen   \n",
       "..           ...       ...     ...           ...   \n",
       "151          152         1       1         Pears   \n",
       "152          153         0       3           Meo   \n",
       "153          154         0       3  van Billiard   \n",
       "154          155         0       3         Olsen   \n",
       "155          156         0       1      Williams   \n",
       "\n",
       "                                            Name     Sex   Age  SibSp  Parch  \\\n",
       "0                                Mr. Owen Harris    male  22.0      1      0   \n",
       "1     Mrs. John Bradley (Florence Briggs Thayer)  female  38.0      1      0   \n",
       "2                                    Miss. Laina  female  26.0      0      0   \n",
       "3             Mrs. Jacques Heath (Lily May Peel)  female  35.0      1      0   \n",
       "4                              Mr. William Henry    male  35.0      0      0   \n",
       "..                                           ...     ...   ...    ...    ...   \n",
       "151                   Mrs. Thomas (Edith Wearne)  female  22.0      1      0   \n",
       "152                                  Mr. Alfonzo    male  55.5      0      0   \n",
       "153                            Mr. Austin Blyler    male  40.5      0      2   \n",
       "154                               Mr. Ole Martin    male   NaN      0      0   \n",
       "155                            Mr. Charles Duane    male  51.0      0      1   \n",
       "\n",
       "               Ticket     Fare Cabin Embarked  \n",
       "0           A/5 21171   7.2500   NaN        S  \n",
       "1            PC 17599  71.2833   C85        C  \n",
       "2    STON/O2. 3101282   7.9250   NaN        S  \n",
       "3              113803  53.1000  C123        S  \n",
       "4              373450   8.0500   NaN        S  \n",
       "..                ...      ...   ...      ...  \n",
       "151            113776  66.6000    C2        S  \n",
       "152        A.5. 11206   8.0500   NaN        S  \n",
       "153          A/5. 851  14.5000   NaN        S  \n",
       "154         Fa 265302   7.3125   NaN        S  \n",
       "155          PC 17597  61.3792   NaN        C  \n",
       "\n",
       "[156 rows x 13 columns]"
      ]
     },
     "execution_count": 49,
     "metadata": {},
     "output_type": "execute_result"
    }
   ],
   "source": [
    "titanic"
   ]
  },
  {
   "cell_type": "code",
   "execution_count": 50,
   "id": "foster-train",
   "metadata": {},
   "outputs": [],
   "source": [
    "bayanlar = titanic[titanic[\"Sex\"] == \"female\"] # titanic dosyasındaki sex'i female olanları listele"
   ]
  },
  {
   "cell_type": "code",
   "execution_count": 51,
   "id": "entitled-subcommittee",
   "metadata": {},
   "outputs": [],
   "source": [
    "bayanlar.to_csv(\"titanic_bayanlar.csv\") # titanic_bayanlar.csv dosyası oluşturdu. içinde bayanların listesi var."
   ]
  },
  {
   "cell_type": "code",
   "execution_count": 52,
   "id": "statewide-boost",
   "metadata": {},
   "outputs": [],
   "source": [
    "vefat = titanic[titanic[\"Survived\"] == 0]"
   ]
  },
  {
   "cell_type": "code",
   "execution_count": 53,
   "id": "dramatic-vatican",
   "metadata": {},
   "outputs": [],
   "source": [
    "vefat.to_csv(\"titanic_vefat.csv\") # titanic_vefat.csv dosyası oluşturdu. içinde vefat edenlerin listesi var."
   ]
  },
  {
   "cell_type": "code",
   "execution_count": 54,
   "id": "blond-roads",
   "metadata": {},
   "outputs": [
    {
     "data": {
      "text/plain": [
       "Sex\n",
       "female    0.714286\n",
       "male      0.140000\n",
       "Name: Survived, dtype: float64"
      ]
     },
     "execution_count": 54,
     "metadata": {},
     "output_type": "execute_result"
    }
   ],
   "source": [
    "titanic.groupby(\"Sex\")[\"Survived\"].mean() "
   ]
  },
  {
   "cell_type": "code",
   "execution_count": 56,
   "id": "subsequent-omega",
   "metadata": {},
   "outputs": [
    {
     "data": {
      "text/plain": [
       "Pclass\n",
       "1    0.400000\n",
       "2    0.466667\n",
       "3    0.291667\n",
       "Name: Survived, dtype: float64"
      ]
     },
     "execution_count": 56,
     "metadata": {},
     "output_type": "execute_result"
    }
   ],
   "source": [
    "titanic.groupby(\"Pclass\")[\"Survived\"].mean()"
   ]
  },
  {
   "cell_type": "code",
   "execution_count": null,
   "id": "coral-birthday",
   "metadata": {},
   "outputs": [],
   "source": []
  },
  {
   "cell_type": "code",
   "execution_count": null,
   "id": "composed-salad",
   "metadata": {},
   "outputs": [],
   "source": []
  }
 ],
 "metadata": {
  "kernelspec": {
   "display_name": "Python 3",
   "language": "python",
   "name": "python3"
  },
  "language_info": {
   "codemirror_mode": {
    "name": "ipython",
    "version": 3
   },
   "file_extension": ".py",
   "mimetype": "text/x-python",
   "name": "python",
   "nbconvert_exporter": "python",
   "pygments_lexer": "ipython3",
   "version": "3.7.8"
  }
 },
 "nbformat": 4,
 "nbformat_minor": 5
}
