{
 "cells": [
  {
   "cell_type": "markdown",
   "id": "periodic-windsor",
   "metadata": {},
   "source": [
    "# file like object"
   ]
  },
  {
   "cell_type": "code",
   "execution_count": 1,
   "id": "sweet-combining",
   "metadata": {},
   "outputs": [
    {
     "name": "stdout",
     "output_type": "stream",
     "text": [
      "This is the first line of my text file\n"
     ]
    }
   ],
   "source": [
    "with open(\"dummy_file.txt\", 'w', encoding=\"utf-8\") as file:  \n",
    "# we create and open the file\n",
    "\n",
    "    file.write('This is the first line of my text file')  \n",
    "    # writes str data into file\n",
    "\n",
    "with open(\"dummy_file.txt\", 'r', encoding=\"utf-8\") as file:\n",
    "    print(file.read())  # reads the content of the 'dummy_file'"
   ]
  },
  {
   "cell_type": "code",
   "execution_count": null,
   "id": "capital-ethiopia",
   "metadata": {},
   "outputs": [],
   "source": [
    "\"\"\"\n",
    "file like object in üzerine kullanılan metodlar:\n",
    "\n",
    "file.read()\n",
    "file.readline()\n",
    "file.readlines()\n",
    "\n",
    "\"\"\"\n"
   ]
  },
  {
   "cell_type": "code",
   "execution_count": 59,
   "id": "embedded-return",
   "metadata": {},
   "outputs": [
    {
     "name": "stdout",
     "output_type": "stream",
     "text": [
      "Banana\n",
      "Orange\n",
      "Apple\n",
      "Strawberry\n",
      "Cherry\n",
      "\n"
     ]
    }
   ],
   "source": [
    "fruits=['Banana', 'Orange', 'Apple', 'Strawberry', 'Cherry']\n",
    "\n",
    "\n",
    "with open(\"fruits_24.txt\", \"w\", encoding=\"utf-8\") as ff :\n",
    "    for meyve in fruits :\n",
    "        ff.write(meyve + \"\\n\") # her bir meyvenin sonuna new line ekleyip meyveleri satır satır yazdırmış oluyoruz.\n",
    "        \n",
    "with open(\"fruits_24.txt\", \"r\", encoding=\"utf-8\") as ff :\n",
    "    print(ff.read())"
   ]
  },
  {
   "cell_type": "code",
   "execution_count": 6,
   "id": "domestic-litigation",
   "metadata": {},
   "outputs": [
    {
     "name": "stdout",
     "output_type": "stream",
     "text": [
      "Jasmine\n",
      "\n",
      "Rose\n",
      "\n",
      "Lily\n",
      "\n",
      "Daisy\n",
      "\n",
      "Tulip\n",
      "\n",
      "\n"
     ]
    }
   ],
   "source": [
    "# her birinin arasına bir boşluk koyalım. alt alta olmasın. ve write metodu ile yapalım.\n",
    "\n",
    "flowers = ['Jasmine', 'Rose', 'Lily', 'Daisy', 'Tulip']\n",
    "\n",
    "with open(\"flowers_24.txt\", \"w\", encoding=\"utf-8\") as ff :\n",
    "    for çiçek in flowers :\n",
    "        ff.write(çiçek + \"\\n\\n\") # her bir meyvenin sonuna new line ekleyip meyveleri satır satır yazdırmış oluyoruz.\n",
    "        \n",
    "with open(\"flowers_24.txt\", \"r\", encoding=\"utf-8\") as ff :\n",
    "    print(ff.read())\n",
    "\n"
   ]
  },
  {
   "cell_type": "markdown",
   "id": "satisfied-terrace",
   "metadata": {},
   "source": [
    "# writelines() iterable'ı alır ve onu satır satır yazdırır."
   ]
  },
  {
   "cell_type": "code",
   "execution_count": null,
   "id": "designing-champion",
   "metadata": {},
   "outputs": [],
   "source": [
    "flowers = ['Jasmine\\n', 'Rose\\n', 'Lily\\n', 'Daisy\\n', 'Tulip\\n']\n",
    "\n",
    "with open(\"flowers_24.txt\", \"w\", encoding=\"utf-8\") as ff :\n",
    "        ff.writelines(flowers)\n",
    "        \n",
    "with open(\"flowers_24.txt\", \"r\", encoding=\"utf-8\") as ff :\n",
    "    print(ff.read())"
   ]
  },
  {
   "cell_type": "markdown",
   "id": "induced-creek",
   "metadata": {},
   "source": [
    "# a ile dosyaya ilave yapma"
   ]
  },
  {
   "cell_type": "code",
   "execution_count": 63,
   "id": "backed-argentina",
   "metadata": {},
   "outputs": [
    {
     "name": "stdout",
     "output_type": "stream",
     "text": [
      "Banana\n",
      "Orange\n",
      "Apple\n",
      "Strawberry\n",
      "Cherry\n",
      "melon\n"
     ]
    }
   ],
   "source": [
    "# fruits listesine kavun (melon) ekleyelim\n",
    "\n",
    "with open(\"fruits_24.txt\", \"a\", encoding=\"utf-8\") as ff :\n",
    "        ff.write(\"melon\")\n",
    "        \n",
    "with open(\"fruits_24.txt\", \"r\", encoding=\"utf-8\") as ff :\n",
    "    print(ff.read())"
   ]
  },
  {
   "cell_type": "code",
   "execution_count": null,
   "id": "characteristic-possibility",
   "metadata": {},
   "outputs": [],
   "source": [
    "\"\"\"\n",
    "with open(\"fruit.txt\",\"a\",encoding=\"utf- 8\") as file:\n",
    "file.write(\"Melon\")\n",
    "\"\"\""
   ]
  },
  {
   "cell_type": "code",
   "execution_count": 64,
   "id": "answering-cowboy",
   "metadata": {},
   "outputs": [
    {
     "name": "stdout",
     "output_type": "stream",
     "text": [
      "Banana\n",
      "Orange\n",
      "Apple\n",
      "Strawberry\n",
      "Cherry\n",
      "Melon\n"
     ]
    }
   ],
   "source": [
    "with open(\"fruits_24.txt\", \"r\", encoding=\"utf-8\") as ff :\n",
    "    meyveler = ff.read()  # tüm dosyanın içeriğini meyveler değişkenine atadık.\n",
    "    meyveler = meyveler.replace(\"melon\", \"Melon\")  # melon'u Melon ile değiştirdik.\n",
    "    \n",
    "with open(\"fruits_24.txt\", \"w\", encoding=\"utf-8\") as ff :\n",
    "    ff.write(meyveler)   # meyveler değişkeninin son halini dosyaya yazdırdık.\n",
    "    \n",
    "with open(\"fruits_24.txt\", \"r\", encoding=\"utf-8\") as ff :\n",
    "    meyveler = ff.read()\n",
    "    \n",
    "print(meyveler)"
   ]
  },
  {
   "cell_type": "code",
   "execution_count": 14,
   "id": "disciplinary-elder",
   "metadata": {},
   "outputs": [
    {
     "data": {
      "text/plain": [
       "'C:\\\\Users\\\\hüseyin'"
      ]
     },
     "execution_count": 14,
     "metadata": {},
     "output_type": "execute_result"
    }
   ],
   "source": [
    "pwd"
   ]
  },
  {
   "cell_type": "code",
   "execution_count": 25,
   "id": "institutional-optics",
   "metadata": {},
   "outputs": [
    {
     "name": "stdout",
     "output_type": "stream",
     "text": [
      "Korkma, sönmez bu şafaklarda yüzen al sancak;\n",
      "Sönmeden yurdumun üstünde tüten en son ocak.\n",
      "O benim milletimin yıldızıdır, parlayacak;\n",
      "O benimdir, o benim milletimindir ancak.\n",
      "Çatma, kurban olayım, çehreni ey nazlı hilal!\n",
      "Kahraman ırkıma bir gül! Ne bu şiddet, bu celal?\n",
      "Sana olmaz dökülen kanlarımız sonra helal...\n",
      "Hakkıdır, hakk'a tapan, milletimin istiklal!\n",
      "Ben ezelden beridir hür yaşadım, hür yaşarım.\n",
      "Hangi çılgın bana zincir vuracakmış? Şaşarım!\n",
      "Kükremiş sel gibiyim, bendimi çiğner, aşarım.\n",
      "Yırtarım dağları, enginlere sığmam, taşarım.\n",
      "Garbın afakını sarmışsa çelik zırhlı duvar,\n",
      "Benim iman dolu göğsüm gibi serhaddim var.\n",
      "Ulusun, korkma! Nasıl böyle bir imanı boğar,\n",
      "'Medeniyet!' dediğin tek dişi kalmış canavar?\n",
      "Arkadaş! Yurduma alçakları uğratma, sakın.\n",
      "Siper et gövdeni, dursun bu hayasızca akın.\n",
      "Doğacaktır sana va'dettigi günler hakk'ın...\n",
      "Kim bilir, belki yarın, belki yarından da yakın.\n",
      "Bastığın yerleri 'toprak!' diyerek geçme, tanı:\n",
      "Düşün altında binlerce kefensiz yatanı.\n",
      "Sen şehit oğlusun, incitme, yazıktır, atanı:\n",
      "Verme, dünyaları alsan da, bu cennet vatanı.\n",
      "Kim bu cennet vatanın uğruna olmaz ki feda?\n",
      "Şuheda fışkıracak toprağı sıksan, şuheda!\n",
      "Canı, cananı, bütün varımı alsın da hüda,\n",
      "Etmesin tek vatanımdan beni dünyada cüda.\n",
      "Ruhumun senden, ilahi, şudur ancak emeli:\n",
      "Değmesin mabedimin göğsüne namahrem eli.\n",
      "Bu ezanlar-ki şahadetleri dinin temeli,\n",
      "Ebedi yurdumun üstünde benim inlemeli.\n",
      "\n"
     ]
    }
   ],
   "source": [
    "# burada istiklal.txt dosyasını hocadan indirip çalışma klasörüne kopyaladık\n",
    "\n",
    "with open(\"istiklal.txt\", \"r\", encoding=\"utf-8\") as f:\n",
    "    print(f.read())\n",
    "    "
   ]
  },
  {
   "cell_type": "code",
   "execution_count": null,
   "id": "atomic-infrastructure",
   "metadata": {},
   "outputs": [],
   "source": [
    "# Task: bu şiiri dörtlükler haline getir ve dosyanın üzerine yazdır.\n"
   ]
  },
  {
   "cell_type": "code",
   "execution_count": 20,
   "id": "traditional-observer",
   "metadata": {},
   "outputs": [
    {
     "data": {
      "text/plain": [
       "['Korkma, sönmez bu şafaklarda yüzen al sancak;\\n',\n",
       " 'Sönmeden yurdumun üstünde tüten en son ocak.\\n',\n",
       " 'O benim milletimin yıldızıdır, parlayacak;\\n',\n",
       " 'O benimdir, o benim milletimindir ancak.\\n',\n",
       " 'Çatma, kurban olayım, çehreni ey nazlı hilal!\\n',\n",
       " 'Kahraman ırkıma bir gül! Ne bu şiddet, bu celal?\\n',\n",
       " 'Sana olmaz dökülen kanlarımız sonra helal...\\n',\n",
       " \"Hakkıdır, hakk'a tapan, milletimin istiklal!\\n\",\n",
       " 'Ben ezelden beridir hür yaşadım, hür yaşarım.\\n',\n",
       " 'Hangi çılgın bana zincir vuracakmış? Şaşarım!\\n',\n",
       " 'Kükremiş sel gibiyim, bendimi çiğner, aşarım.\\n',\n",
       " 'Yırtarım dağları, enginlere sığmam, taşarım.\\n',\n",
       " 'Garbın afakını sarmışsa çelik zırhlı duvar,\\n',\n",
       " 'Benim iman dolu göğsüm gibi serhaddim var.\\n',\n",
       " 'Ulusun, korkma! Nasıl böyle bir imanı boğar,\\n',\n",
       " \"'Medeniyet!' dediğin tek dişi kalmış canavar?\\n\",\n",
       " 'Arkadaş! Yurduma alçakları uğratma, sakın.\\n',\n",
       " 'Siper et gövdeni, dursun bu hayasızca akın.\\n',\n",
       " \"Doğacaktır sana va'dettigi günler hakk'ın...\\n\",\n",
       " 'Kim bilir, belki yarın, belki yarından da yakın.\\n',\n",
       " \"Bastığın yerleri 'toprak!' diyerek geçme, tanı:\\n\",\n",
       " 'Düşün altında binlerce kefensiz yatanı.\\n',\n",
       " 'Sen şehit oğlusun, incitme, yazıktır, atanı:\\n',\n",
       " 'Verme, dünyaları alsan da, bu cennet vatanı.\\n',\n",
       " 'Kim bu cennet vatanın uğruna olmaz ki feda?\\n',\n",
       " 'Şuheda fışkıracak toprağı sıksan, şuheda!\\n',\n",
       " 'Canı, cananı, bütün varımı alsın da hüda,\\n',\n",
       " 'Etmesin tek vatanımdan beni dünyada cüda.\\n',\n",
       " 'Ruhumun senden, ilahi, şudur ancak emeli:\\n',\n",
       " 'Değmesin mabedimin göğsüne namahrem eli.\\n',\n",
       " 'Bu ezanlar-ki şahadetleri dinin temeli,\\n',\n",
       " 'Ebedi yurdumun üstünde benim inlemeli.']"
      ]
     },
     "execution_count": 20,
     "metadata": {},
     "output_type": "execute_result"
    }
   ],
   "source": [
    "# önce satırları liste halinde görelim. bunun için readlines() metodu kullanıyoruz.\n",
    "\n",
    "with open(\"istiklal.txt\", \"r\", encoding=\"utf-8\") as f:\n",
    "    lines = f.readlines()  # tüm dosyayı satır satır listeledik. bu halini lines değişkenine atadık.\n",
    "lines\n",
    "\n",
    "# şimdi bu lines iterable değişkenini döngüye sokarak 4 satırda bir boşluk koyduralım "
   ]
  },
  {
   "cell_type": "code",
   "execution_count": 29,
   "id": "timely-intensity",
   "metadata": {},
   "outputs": [
    {
     "name": "stdout",
     "output_type": "stream",
     "text": [
      "Korkma, sönmez bu şafaklarda yüzen al sancak;\n",
      "Sönmeden yurdumun üstünde tüten en son ocak.\n",
      "O benim milletimin yıldızıdır, parlayacak;\n",
      "O benimdir, o benim milletimindir ancak.\n",
      "\n",
      "Çatma, kurban olayım, çehreni ey nazlı hilal!\n",
      "Kahraman ırkıma bir gül! Ne bu şiddet, bu celal?\n",
      "Sana olmaz dökülen kanlarımız sonra helal...\n",
      "Hakkıdır, hakk'a tapan, milletimin istiklal!\n",
      "\n",
      "Ben ezelden beridir hür yaşadım, hür yaşarım.\n",
      "Hangi çılgın bana zincir vuracakmış? Şaşarım!\n",
      "Kükremiş sel gibiyim, bendimi çiğner, aşarım.\n",
      "Yırtarım dağları, enginlere sığmam, taşarım.\n",
      "\n",
      "Garbın afakını sarmışsa çelik zırhlı duvar,\n",
      "Benim iman dolu göğsüm gibi serhaddim var.\n",
      "Ulusun, korkma! Nasıl böyle bir imanı boğar,\n",
      "'Medeniyet!' dediğin tek dişi kalmış canavar?\n",
      "\n",
      "Arkadaş! Yurduma alçakları uğratma, sakın.\n",
      "Siper et gövdeni, dursun bu hayasızca akın.\n",
      "Doğacaktır sana va'dettigi günler hakk'ın...\n",
      "Kim bilir, belki yarın, belki yarından da yakın.\n",
      "\n",
      "Bastığın yerleri 'toprak!' diyerek geçme, tanı:\n",
      "Düşün altında binlerce kefensiz yatanı.\n",
      "Sen şehit oğlusun, incitme, yazıktır, atanı:\n",
      "Verme, dünyaları alsan da, bu cennet vatanı.\n",
      "\n",
      "Kim bu cennet vatanın uğruna olmaz ki feda?\n",
      "Şuheda fışkıracak toprağı sıksan, şuheda!\n",
      "Canı, cananı, bütün varımı alsın da hüda,\n",
      "Etmesin tek vatanımdan beni dünyada cüda.\n",
      "\n",
      "Ruhumun senden, ilahi, şudur ancak emeli:\n",
      "Değmesin mabedimin göğsüne namahrem eli.\n",
      "Bu ezanlar-ki şahadetleri dinin temeli,\n",
      "Ebedi yurdumun üstünde benim inlemeli.\n",
      "\n"
     ]
    }
   ],
   "source": [
    "# burada 4'ün katlarını bulup bir enter vurdurursak dörtlüklere ayırmış oluruz.\n",
    "# bunu %4 ile yapabilirim.\n",
    "# satırlar içinde gezinmek için hangi control flow elemanını kullanırım? = for, while..\n",
    "\n",
    "counter = 0\n",
    "with open(\"istiklal.txt\", \"w\", encoding=\"utf-8\") as f :\n",
    "    for i in lines :            # yukarda tanımladığım lines'ı burada da kullandık. (lines=f.readlines() ataması yapmıştık)\n",
    "        counter += 1\n",
    "        if counter %4 == 0 :    # counter 4'ün katı olduğunda\n",
    "            f.write(i + \"\\n\")   # 4 ün katı olan satırıma (i'ye) ilave new line ekleyeceğiz\n",
    "        else :\n",
    "            f.write(i)          # satır sayısı 4 ün katı değilse normal satırı yazdır.\n",
    "\n",
    "with open(\"istiklal.txt\", \"r\", encoding=\"utf-8\") as f:\n",
    "    print(f.read())\n",
    "    \n",
    "# burada \"w\" ile dosyayı açtığımız için yeni halini eski dosyanın üzerine yazdırdığımıza dikkat edelim."
   ]
  },
  {
   "cell_type": "code",
   "execution_count": 24,
   "id": "italian-separate",
   "metadata": {},
   "outputs": [
    {
     "data": {
      "text/plain": [
       "['Korkma, sönmez bu şafaklarda yüzen al sancak;\\n',\n",
       " 'Sönmeden yurdumun üstünde tüten en son ocak.\\n',\n",
       " 'O benim milletimin yıldızıdır, parlayacak;\\n',\n",
       " 'O benimdir, o benim milletimindir ancak.\\n',\n",
       " '\\n',\n",
       " 'Çatma, kurban olayım, çehreni ey nazlı hilal!\\n',\n",
       " 'Kahraman ırkıma bir gül! Ne bu şiddet, bu celal?\\n',\n",
       " 'Sana olmaz dökülen kanlarımız sonra helal...\\n',\n",
       " \"Hakkıdır, hakk'a tapan, milletimin istiklal!\\n\",\n",
       " '\\n',\n",
       " 'Ben ezelden beridir hür yaşadım, hür yaşarım.\\n',\n",
       " 'Hangi çılgın bana zincir vuracakmış? Şaşarım!\\n',\n",
       " 'Kükremiş sel gibiyim, bendimi çiğner, aşarım.\\n',\n",
       " 'Yırtarım dağları, enginlere sığmam, taşarım.\\n',\n",
       " '\\n',\n",
       " 'Garbın afakını sarmışsa çelik zırhlı duvar,\\n',\n",
       " 'Benim iman dolu göğsüm gibi serhaddim var.\\n',\n",
       " 'Ulusun, korkma! Nasıl böyle bir imanı boğar,\\n',\n",
       " \"'Medeniyet!' dediğin tek dişi kalmış canavar?\\n\",\n",
       " '\\n',\n",
       " 'Arkadaş! Yurduma alçakları uğratma, sakın.\\n',\n",
       " 'Siper et gövdeni, dursun bu hayasızca akın.\\n',\n",
       " \"Doğacaktır sana va'dettigi günler hakk'ın...\\n\",\n",
       " 'Kim bilir, belki yarın, belki yarından da yakın.\\n',\n",
       " '\\n',\n",
       " \"Bastığın yerleri 'toprak!' diyerek geçme, tanı:\\n\",\n",
       " 'Düşün altında binlerce kefensiz yatanı.\\n',\n",
       " 'Sen şehit oğlusun, incitme, yazıktır, atanı:\\n',\n",
       " 'Verme, dünyaları alsan da, bu cennet vatanı.\\n',\n",
       " '\\n',\n",
       " 'Kim bu cennet vatanın uğruna olmaz ki feda?\\n',\n",
       " 'Şuheda fışkıracak toprağı sıksan, şuheda!\\n',\n",
       " 'Canı, cananı, bütün varımı alsın da hüda,\\n',\n",
       " 'Etmesin tek vatanımdan beni dünyada cüda.\\n',\n",
       " '\\n',\n",
       " 'Ruhumun senden, ilahi, şudur ancak emeli:\\n',\n",
       " 'Değmesin mabedimin göğsüne namahrem eli.\\n',\n",
       " 'Bu ezanlar-ki şahadetleri dinin temeli,\\n',\n",
       " 'Ebedi yurdumun üstünde benim inlemeli.\\n']"
      ]
     },
     "execution_count": 24,
     "metadata": {},
     "output_type": "execute_result"
    }
   ],
   "source": [
    "# dosyamızın yeni halini \"liste\" halinde görelim. (readlines() metodu uygulayıp bunu new_lines değişkenine atayıp bunu yazdıracağız)\n",
    "\n",
    "with open(\"istiklal.txt\", \"r\", encoding=\"utf-8\") as f:\n",
    "    new_lines=f.readlines()\n",
    "new_lines"
   ]
  },
  {
   "cell_type": "code",
   "execution_count": 30,
   "id": "scheduled-german",
   "metadata": {},
   "outputs": [
    {
     "name": "stdout",
     "output_type": "stream",
     "text": [
      "Korkma, sönmez bu şafaklarda yüzen al sancak;\n",
      "Sönmeden yurdumun üstünde tüten en son ocak.\n",
      "O benim milletimin yıldızıdır, parlayacak;\n",
      "O benimdir, o benim milletimindir ancak.\n",
      "\n",
      "Çatma, kurban olayım, çehreni ey nazlı hilal!\n",
      "Kahraman ırkıma bir gül! Ne bu şiddet, bu celal?\n",
      "Sana olmaz dökülen kanlarımız sonra helal...\n",
      "Hakkıdır, hakk'a tapan, milletimin istiklal!\n",
      "\n",
      "Ben ezelden beridir hür yaşadım, hür yaşarım.\n",
      "Hangi çılgın bana zincir vuracakmış? Şaşarım!\n",
      "Kükremiş sel gibiyim, bendimi çiğner, aşarım.\n",
      "Yırtarım dağları, enginlere sığmam, taşarım.\n",
      "\n",
      "Garbın afakını sarmışsa çelik zırhlı duvar,\n",
      "Benim iman dolu göğsüm gibi serhaddim var.\n",
      "Ulusun, korkma! Nasıl böyle bir imanı boğar,\n",
      "'Medeniyet!' dediğin tek dişi kalmış canavar?\n",
      "\n",
      "Arkadaş! Yurduma alçakları uğratma, sakın.\n",
      "Siper et gövdeni, dursun bu hayasızca akın.\n",
      "Doğacaktır sana va'dettigi günler hakk'ın...\n",
      "Kim bilir, belki yarın, belki yarından da yakın.\n",
      "\n",
      "Bastığın yerleri 'toprak!' diyerek geçme, tanı:\n",
      "Düşün altında binlerce kefensiz yatanı.\n",
      "Sen şehit oğlusun, incitme, yazıktır, atanı:\n",
      "Verme, dünyaları alsan da, bu cennet vatanı.\n",
      "\n",
      "Kim bu cennet vatanın uğruna olmaz ki feda?\n",
      "Şuheda fışkıracak toprağı sıksan, şuheda!\n",
      "Canı, cananı, bütün varımı alsın da hüda,\n",
      "Etmesin tek vatanımdan beni dünyada cüda.\n",
      "\n",
      "Ruhumun senden, ilahi, şudur ancak emeli:\n",
      "Değmesin mabedimin göğsüne namahrem eli.\n",
      "Bu ezanlar-ki şahadetleri dinin temeli,\n",
      "Ebedi yurdumun üstünde benim inlemeli.\n",
      "\n",
      "Korkma, sönmez bu şafaklarda yüzen al sancak;\n",
      "Sönmeden yurdumun üstünde tüten en son ocak.\n",
      "O benim milletimin yıldızıdır, parlayacak;\n",
      "O benimdir, o benim milletimindir ancak.\n",
      "Çatma, kurban olayım, çehreni ey nazlı hilal!\n",
      "Kahraman ırkıma bir gül! Ne bu şiddet, bu celal?\n",
      "Sana olmaz dökülen kanlarımız sonra helal...\n",
      "Hakkıdır, hakk'a tapan, milletimin istiklal!\n",
      "Ben ezelden beridir hür yaşadım, hür yaşarım.\n",
      "Hangi çılgın bana zincir vuracakmış? Şaşarım!\n",
      "Kükremiş sel gibiyim, bendimi çiğner, aşarım.\n",
      "Yırtarım dağları, enginlere sığmam, taşarım.\n",
      "Garbın afakını sarmışsa çelik zırhlı duvar,\n",
      "Benim iman dolu göğsüm gibi serhaddim var.\n",
      "Ulusun, korkma! Nasıl böyle bir imanı boğar,\n",
      "'Medeniyet!' dediğin tek dişi kalmış canavar?\n",
      "Arkadaş! Yurduma alçakları uğratma, sakın.\n",
      "Siper et gövdeni, dursun bu hayasızca akın.\n",
      "Doğacaktır sana va'dettigi günler hakk'ın...\n",
      "Kim bilir, belki yarın, belki yarından da yakın.\n",
      "Bastığın yerleri 'toprak!' diyerek geçme, tanı:\n",
      "Düşün altında binlerce kefensiz yatanı.\n",
      "Sen şehit oğlusun, incitme, yazıktır, atanı:\n",
      "Verme, dünyaları alsan da, bu cennet vatanı.\n",
      "Kim bu cennet vatanın uğruna olmaz ki feda?\n",
      "Şuheda fışkıracak toprağı sıksan, şuheda!\n",
      "Canı, cananı, bütün varımı alsın da hüda,\n",
      "Etmesin tek vatanımdan beni dünyada cüda.\n",
      "Ruhumun senden, ilahi, şudur ancak emeli:\n",
      "Değmesin mabedimin göğsüne namahrem eli.\n",
      "Bu ezanlar-ki şahadetleri dinin temeli,\n",
      "Ebedi yurdumun üstünde benim inlemeli.\n",
      "\n"
     ]
    }
   ],
   "source": [
    "# TASK : dosyayı yazdırdığında yukardaki gibi yazsın. en altına ise dosyanın ilk halini yani kıtasız olanını ekle.\n",
    "\n",
    "with open(\"istiklal.txt\", \"a\", encoding=\"utf-8\") as f:   # mevcut dosyanın altına ilave edeceğimiz için \"a\" ile açtık.\n",
    "    f.write(\"\\n\") # önce eski içeriğin altına bir boş satır ekledik.\n",
    "    \n",
    "    for i in new_lines :\n",
    "        if i == \"\\n\" :# eğer bu satır \\n a eşit ise bunu al ve boş string ile değiştir. yani \\n ı kaldır.\n",
    "            i.replace(\"\\n\", \"\")   # buraya replace yapmayıp sadece pass de diyebilirdik.\n",
    "        else :\n",
    "            f.write(i)\n",
    "                      \n",
    "with open(\"istiklal.txt\", \"r\", encoding=\"utf-8\") as f :\n",
    "    print(f.read())"
   ]
  },
  {
   "cell_type": "code",
   "execution_count": 33,
   "id": "eight-sharing",
   "metadata": {},
   "outputs": [
    {
     "data": {
      "text/plain": [
       "dict_keys([1, 2])"
      ]
     },
     "execution_count": 33,
     "metadata": {},
     "output_type": "execute_result"
    }
   ],
   "source": [
    "# bir sözlük oluşturuyoruz\n",
    "\n",
    "words = {1 : \"1\", 2 : \"2\"}\n",
    "\n",
    "keys = words.keys()\n",
    "keys"
   ]
  },
  {
   "cell_type": "code",
   "execution_count": 35,
   "id": "higher-share",
   "metadata": {},
   "outputs": [],
   "source": [
    "# boş bir dict. oluşturalım\n",
    "\n",
    "word_1 = {}"
   ]
  },
  {
   "cell_type": "code",
   "execution_count": 36,
   "id": "smooth-railway",
   "metadata": {},
   "outputs": [
    {
     "data": {
      "text/plain": [
       "{3: 1}"
      ]
     },
     "execution_count": 36,
     "metadata": {},
     "output_type": "execute_result"
    }
   ],
   "source": [
    "word_1[3] = 1\n",
    "word_1\n",
    "\n",
    "# dict.e 3 keyi value su 1 olacak şekilde ekledik."
   ]
  },
  {
   "cell_type": "code",
   "execution_count": 37,
   "id": "freelance-bonus",
   "metadata": {},
   "outputs": [
    {
     "data": {
      "text/plain": [
       "{3: 1, 1: 1}"
      ]
     },
     "execution_count": 37,
     "metadata": {},
     "output_type": "execute_result"
    }
   ],
   "source": [
    "word_1[1] = 1\n",
    "word_1"
   ]
  },
  {
   "cell_type": "code",
   "execution_count": 38,
   "id": "middle-subsection",
   "metadata": {},
   "outputs": [
    {
     "data": {
      "text/plain": [
       "{3: 2, 1: 1}"
      ]
     },
     "execution_count": 38,
     "metadata": {},
     "output_type": "execute_result"
    }
   ],
   "source": [
    "# 3 numaralı key'in value sunu 1 arttırmak istersem\n",
    "\n",
    "word_1[3] += 1    # word_1[3] = word_1[3] + 1 demek. her çalıştırdığımda word_1[3] ün değerini 1 arttırır.\n",
    "\n",
    "word_1  # 3'ün değerinin 2 olduğunu gör. bu kodu her çalıştırdığında 1 artacaktır"
   ]
  },
  {
   "cell_type": "code",
   "execution_count": null,
   "id": "round-charm",
   "metadata": {},
   "outputs": [],
   "source": [
    "# şimdi gelelim sorumuza...\n",
    "\n",
    "string = \"bir berber, bir'e berber.\"\n",
    "\n",
    "# Task: her bir karakterin kaç adet olduğunu bir sözlükte topla."
   ]
  },
  {
   "cell_type": "code",
   "execution_count": 39,
   "id": "aware-cancer",
   "metadata": {},
   "outputs": [
    {
     "name": "stdout",
     "output_type": "stream",
     "text": [
      "{'b': 6, 'i': 2, 'r': 6, ' ': 3, 'e': 5, ',': 1, \"'\": 1, '.': 1}\n"
     ]
    }
   ],
   "source": [
    "string = \"bir berber, bir'e berber.\"\n",
    "\n",
    "word_dict = {} # dictionary'nin key ve value'larını kullanarak her bir karakteri key, tekrar sayısını da value'ya eşitleyeceğiz.\n",
    "               # bu yüzden önce boş bir dict. oluşturduk.\n",
    "\n",
    "for n in string : # önce iterable olan key leri alacağım ve kontrol edeceğim.\n",
    "    keys = word_dict.keys() # sözlüğün birazdan oluşacak keylerini liste şeklinde keys değişkenine atadık. (dict.keys() liste olarak keyleri veriyordu)\n",
    "    if n in keys : # sözlüğün her bir elemanını bir key yapacağız. ve n, yani sırasıyla her bir eleman keyler arasında ise;\n",
    "        word_dict[n] += 1  # o elemanın karşılığı olan value'yu bir arttır. (bu tekrar sayısını verecek.)\n",
    "    else : \n",
    "        word_dict[n] = 1 # stringin o elemanına ilk defa karşılaşırsak bunu 1 e eşitle. yani saymaya 1 den başla..\n",
    "\n",
    "print(word_dict)"
   ]
  },
  {
   "cell_type": "code",
   "execution_count": 42,
   "id": "cross-aquarium",
   "metadata": {},
   "outputs": [
    {
     "data": {
      "text/plain": [
       "{'b': 6, 'i': 2, 'r': 6, ' ': 3, 'e': 5, ',': 1, \"'\": 1, '.': 1}"
      ]
     },
     "execution_count": 42,
     "metadata": {},
     "output_type": "execute_result"
    }
   ],
   "source": [
    "# list comprehension çözümüm\n",
    "\n",
    "string = \"bir berber, bir'e berber.\"\n",
    "sözlük = {i: string.count(i) for i in string}\n",
    "sözlük"
   ]
  },
  {
   "cell_type": "code",
   "execution_count": 43,
   "id": "referenced-sculpture",
   "metadata": {},
   "outputs": [
    {
     "data": {
      "text/plain": [
       "{'int': 0, 'str': 0, 'bool': 0, 'list': 0, 'tuple': 0, 'dict': 0, 'set': 0}"
      ]
     },
     "execution_count": 43,
     "metadata": {},
     "output_type": "execute_result"
    }
   ],
   "source": [
    "# Task: tiplerin kaçar adet olduğunu sözlükte göster\n",
    "\n",
    "veri = [\"a\", \"b\", True, (False, 1), {\"1\": 2}, [1,2], {\"2\" : \"two\"}, {2, \"3\"}, \"c\", 23, 0]\n",
    "\n",
    "\n",
    "tipler = [\"int\", \"str\", \"bool\", \"list\", \"tuple\", \"dict\", \"set\"]\n",
    "\n",
    "\n",
    "# fromnkeys() metodunu kullanacağız. bu metod, listenin her bir elemanını alıp key yapıyor\n",
    "\n",
    "{}.fromkeys(tipler, 0)  # tipler listesinin elemanlarını key yapar ve bunlara value olarak 0 atar\n",
    "\n"
   ]
  },
  {
   "cell_type": "code",
   "execution_count": 45,
   "id": "grateful-pitch",
   "metadata": {},
   "outputs": [
    {
     "data": {
      "text/plain": [
       "{'int': 2, 'str': 3, 'bool': 1, 'list': 1, 'tuple': 1, 'dict': 2, 'set': 1}"
      ]
     },
     "execution_count": 45,
     "metadata": {},
     "output_type": "execute_result"
    }
   ],
   "source": [
    "toplam = {}.fromkeys(tipler, 0)  # bu sözlüğü toplam değişkenine atadım. başlangıçta değerleri 0. sonra toplayarak gideceğiz.\n",
    "\n",
    "for i in range(len(veri)) :\n",
    "    if type(veri[i]) == int : toplam[\"int\"] += 1   # verinin n'inci elemanının tipi int.ise int.keyinin değerini bir arttır.\n",
    "    elif type(veri[i]) == str : toplam[\"str\"] += 1  # str yerine type(\"sgasf\") de yazabilirdik.\n",
    "    elif type(veri[i]) == bool : toplam[\"bool\"] += 1  # bool yerine type(False) de yazabilirdik.      \n",
    "    elif type(veri[i]) == list : toplam[\"list\"] += 1        \n",
    "    elif type(veri[i]) == tuple : toplam[\"tuple\"] += 1       \n",
    "    elif type(veri[i]) == dict : toplam[\"dict\"] += 1       \n",
    "    elif type(veri[i]) == set : toplam[\"set\"] += 1     \n",
    "toplam\n",
    "        "
   ]
  },
  {
   "cell_type": "code",
   "execution_count": 46,
   "id": "iraqi-covering",
   "metadata": {},
   "outputs": [
    {
     "data": {
      "text/plain": [
       "'C:\\\\Users\\\\hüseyin'"
      ]
     },
     "execution_count": 46,
     "metadata": {},
     "output_type": "execute_result"
    }
   ],
   "source": [
    "pwd"
   ]
  },
  {
   "cell_type": "code",
   "execution_count": 48,
   "id": "refined-closer",
   "metadata": {},
   "outputs": [],
   "source": [
    "import os  # operating system modülünü import et"
   ]
  },
  {
   "cell_type": "code",
   "execution_count": 49,
   "id": "arranged-uganda",
   "metadata": {},
   "outputs": [
    {
     "data": {
      "text/plain": [
       "['.bash_history',\n",
       " '.gitconfig',\n",
       " '.idlerc',\n",
       " '.ipynb_checkpoints',\n",
       " '.ipython',\n",
       " '.jupyter',\n",
       " '.viminfo',\n",
       " '.VirtualBox',\n",
       " '.vscode',\n",
       " '00_1-SelfStudy-döngüler-break - continue - for - Kopya.ipynb',\n",
       " '00_1-SelfStudy-döngüler-break - continue - for.ipynb',\n",
       " '00_2-SelfStudy-listenin elemanlarını unique yapma - Kopya.ipynb',\n",
       " '00_2-SelfStudy-listenin elemanlarını unique yapma.ipynb',\n",
       " '00_3-SelfStudy-zip-lambda - Kopya.ipynb',\n",
       " '00_3-SelfStudy-zip-lambda.ipynb',\n",
       " '00_4- w3resource Çalışmalarım - Kopya.ipynb',\n",
       " '00_4- w3resource Çalışmalarım.ipynb',\n",
       " '01_1-assignment çalışmalarım - Kopya.ipynb',\n",
       " '01_1-assignment çalışmalarım.ipynb',\n",
       " '02-3-Pyhton addict kanalı çalışmaları - Kopya.ipynb',\n",
       " '02-3-Pyhton addict kanalı çalışmaları.ipynb',\n",
       " '02_1-python addict kanalı çalışmaları - Kopya.ipynb',\n",
       " '02_1-python addict kanalı çalışmaları.ipynb',\n",
       " '02_2-python addict kanalı çalışmaları - Kopya.ipynb',\n",
       " '02_2-python addict kanalı çalışmaları.ipynb',\n",
       " '02_3-Python Addict kanalı çalışmaları - Kopya.ipynb',\n",
       " '02_3-Python Addict kanalı çalışmaları.ipynb',\n",
       " '03_1-WorkShop Python çalışmam.ipynb',\n",
       " '03_2 WorkShop-3 Python.ipynb',\n",
       " '03_3 Teamwork9 7 Mayıs.ipynb',\n",
       " '04_1-PreClass çalışmam-Functions - Kopya.ipynb',\n",
       " '04_1-PreClass çalışmam-Functions.ipynb',\n",
       " '04_2-PreClass-Exeption handling - Kopya.ipynb',\n",
       " '04_2-PreClass-Exeption handling.ipynb',\n",
       " '04_3-Pre-Class-LEGB Ranking Rule-LAMBDA-MAP-FILTER WITH LAMBDA - Kopya.ipynb',\n",
       " '04_3-Pre-Class-LEGB Ranking Rule-LAMBDA-MAP-FILTER WITH LAMBDA.ipynb',\n",
       " '05-1_InClass_14Nisan-set-if-else-max-sort-çoklu değişken atama - Kopya.ipynb',\n",
       " '05-1_InClass_14Nisan-set-if-else-max-sort-çoklu değişken atama.ipynb',\n",
       " '05-2_InClass_17Nisan-Döngüler - Kopya.ipynb',\n",
       " '05-2_InClass_17Nisan-Döngüler.ipynb',\n",
       " '05-3_InClass_21Nisan_döngüler-tuple unpacking-hayali değişken-generate görünür yapma.ipynb',\n",
       " '05-3_InClass_24Nisan-zip func.-for döngüsü-if statement-aynı satırda if-generate olayı.ipynb',\n",
       " '05-4_InClass_28Nisan-Build_In_Functions-Creating function.ipynb',\n",
       " '05-5_InClass_01Mayıs-def. Functions-kwarg-arbitraries.ipynb',\n",
       " '05-6_InClass_05Mayıs_args_kwargs_args_kwargs_arbitrary args-kwargs.ipynb',\n",
       " '05_10-InClass-24May21-writing file.ipynb',\n",
       " '05_7_InClass1-8Mayıs-lambda-map funct.-modules - Kopya.ipynb',\n",
       " '05_7_InClass1-8Mayıs-lambda-map funct.-modules.ipynb',\n",
       " '05_8_InClass-19Mayıs21-packages-error handling-exceptions - Kopya.ipynb',\n",
       " '05_8_InClass-19Mayıs21-packages-error handling-exceptions.ipynb',\n",
       " '05_9-InClas-22Mayıs21-open file- - Kopya.ipynb',\n",
       " '05_9-InClas-22Mayıs21-open file-.ipynb',\n",
       " '06_3-TeamWork-10.ipynb',\n",
       " '10-Python In class 3 Nisan_LIST SLICING.ipynb',\n",
       " '14 nisan calısmam.ipynb',\n",
       " '17_PythonSession-28-Apr-2021.ipynb',\n",
       " '18 Nisan çalışmam_ loop.ipynb',\n",
       " '20_PythonSessions-08-May-2021.ipynb',\n",
       " '21 Nisan İSTİHZA döngüler çalışmam.ipynb',\n",
       " '3 sayıyı çarpan program .ipynb',\n",
       " '3D Objects',\n",
       " 'AppData',\n",
       " 'Application Data',\n",
       " 'Belgelerim',\n",
       " 'benim_ilk_dosyam.txt',\n",
       " 'Contacts',\n",
       " 'Cookies',\n",
       " 'cprog.c',\n",
       " 'Creative Cloud Files',\n",
       " 'Desktop',\n",
       " 'dictionary in class notbook um.ipynb',\n",
       " 'Documents',\n",
       " 'Downloads',\n",
       " 'Favorites',\n",
       " 'file.txt',\n",
       " 'fishes.txt',\n",
       " 'flowers_24.txt',\n",
       " 'for ve if döngü çalışmam1.ipynb',\n",
       " 'fruits.txt',\n",
       " 'fruits_24.txt',\n",
       " 'git_lessons',\n",
       " 'index.html',\n",
       " 'index.js',\n",
       " 'istiklal.txt',\n",
       " 'javaprog.java',\n",
       " 'lab1.1',\n",
       " 'Links',\n",
       " 'Local Settings',\n",
       " 'max fonkiyonu içinde key olarak count kullanımının_list tuple ve sete uygulanması.ipynb',\n",
       " 'max fonksiyonu ve içinde key olarak .count kullanımı',\n",
       " 'Music',\n",
       " 'my-demo-repo',\n",
       " 'NetHood',\n",
       " 'NTUSER.DAT',\n",
       " 'ntuser.dat.LOG1',\n",
       " 'ntuser.dat.LOG2',\n",
       " 'NTUSER.DAT{53b39e88-18c4-11ea-a811-000d3aa4692b}.TM.blf',\n",
       " 'NTUSER.DAT{53b39e88-18c4-11ea-a811-000d3aa4692b}.TMContainer00000000000000000001.regtrans-ms',\n",
       " 'NTUSER.DAT{53b39e88-18c4-11ea-a811-000d3aa4692b}.TMContainer00000000000000000002.regtrans-ms',\n",
       " 'ntuser.ini',\n",
       " 'officelisans.cmd',\n",
       " 'OneDrive',\n",
       " 'Pictures',\n",
       " 'PreClass çalışmam-Collections_list,tuple,set,dict.ipynb',\n",
       " 'PrintHood',\n",
       " 'Python Scripts',\n",
       " 'Recent',\n",
       " 'rumi.txt',\n",
       " 'Saved Games',\n",
       " 'Searches',\n",
       " 'SendTo',\n",
       " 'Start Menu',\n",
       " 'style.css',\n",
       " 'task 2 calısmaları burada 14_04_2021.ipynb',\n",
       " 'Teamwork-7_23 Nisan 21.ipynb',\n",
       " 'teamwork3',\n",
       " 'teamwork4',\n",
       " 'teamwork5',\n",
       " 'TeamWork8 çalışmam.ipynb',\n",
       " 'Templates',\n",
       " 'type.ts',\n",
       " 'Untitled.ipynb',\n",
       " 'Untitled1.ipynb',\n",
       " 'Untitled2.ipynb',\n",
       " 'Untitled3.ipynb',\n",
       " 'Untitled4.ipynb',\n",
       " 'Untitled5.ipynb',\n",
       " 'Untitled6.ipynb',\n",
       " 'Untitled7.ipynb',\n",
       " 'upper_package',\n",
       " 'Videos',\n",
       " 'VirtualBox VMs',\n",
       " 'workshop-2(student).ipynb',\n",
       " 'workshop-3(student).ipynb',\n",
       " 'WS Python-3 Student Version-20210504.zip']"
      ]
     },
     "execution_count": 49,
     "metadata": {},
     "output_type": "execute_result"
    }
   ],
   "source": [
    "os.listdir()  # os modülünün içinde ne varsa listele, görelim"
   ]
  },
  {
   "cell_type": "code",
   "execution_count": 2,
   "id": "absolute-spring",
   "metadata": {},
   "outputs": [],
   "source": [
    "# şimdi bu dosyaların içinde txt olanları seçelim  \n",
    "\n",
    "import glob  # glob modülünü import ettik."
   ]
  },
  {
   "cell_type": "code",
   "execution_count": 4,
   "id": "temporal-congo",
   "metadata": {},
   "outputs": [
    {
     "name": "stdout",
     "output_type": "stream",
     "text": [
      "benim_ilk_dosyam.txt\n",
      "dummy_file.txt\n",
      "file.txt\n",
      "fishes.txt\n",
      "flowers_24.txt\n",
      "fruits.txt\n",
      "fruits_24.txt\n",
      "istiklal.txt\n",
      "rumi.txt\n"
     ]
    }
   ],
   "source": [
    "for file in glob.glob(\"*.txt\") : # sonu txt ile bitenleri iterable haline getir ve\n",
    "    print(file)                    # print et"
   ]
  },
  {
   "cell_type": "code",
   "execution_count": null,
   "id": "raised-vacuum",
   "metadata": {},
   "outputs": [],
   "source": []
  },
  {
   "cell_type": "markdown",
   "id": "emotional-surveillance",
   "metadata": {},
   "source": [
    "# bir folder dan diğer folder a yazdırma"
   ]
  },
  {
   "cell_type": "code",
   "execution_count": 5,
   "id": "liberal-doctrine",
   "metadata": {},
   "outputs": [],
   "source": [
    "import shutil"
   ]
  },
  {
   "cell_type": "code",
   "execution_count": 6,
   "id": "cutting-miracle",
   "metadata": {},
   "outputs": [
    {
     "ename": "PermissionError",
     "evalue": "[Errno 13] Permission denied: '../fruits_24_copy.txt'",
     "output_type": "error",
     "traceback": [
      "\u001b[1;31m---------------------------------------------------------------------------\u001b[0m",
      "\u001b[1;31mPermissionError\u001b[0m                           Traceback (most recent call last)",
      "\u001b[1;32m<ipython-input-6-1a71aa06c548>\u001b[0m in \u001b[0;36m<module>\u001b[1;34m\u001b[0m\n\u001b[1;32m----> 1\u001b[1;33m \u001b[0mshutil\u001b[0m\u001b[1;33m.\u001b[0m\u001b[0mcopy\u001b[0m\u001b[1;33m(\u001b[0m\u001b[1;34m\"fruits_24.txt\"\u001b[0m\u001b[1;33m,\u001b[0m \u001b[1;34m\"../fruits_24_copy.txt\"\u001b[0m\u001b[1;33m)\u001b[0m \u001b[1;31m# fruits_24.txt dosyasını bir üst dizine fruits_24_copy.txt olarak yazdır.\u001b[0m\u001b[1;33m\u001b[0m\u001b[1;33m\u001b[0m\u001b[0m\n\u001b[0m",
      "\u001b[1;32mc:\\users\\hüseyin\\appdata\\local\\programs\\python\\python37\\lib\\shutil.py\u001b[0m in \u001b[0;36mcopy\u001b[1;34m(src, dst, follow_symlinks)\u001b[0m\n\u001b[0;32m    246\u001b[0m     \u001b[1;32mif\u001b[0m \u001b[0mos\u001b[0m\u001b[1;33m.\u001b[0m\u001b[0mpath\u001b[0m\u001b[1;33m.\u001b[0m\u001b[0misdir\u001b[0m\u001b[1;33m(\u001b[0m\u001b[0mdst\u001b[0m\u001b[1;33m)\u001b[0m\u001b[1;33m:\u001b[0m\u001b[1;33m\u001b[0m\u001b[1;33m\u001b[0m\u001b[0m\n\u001b[0;32m    247\u001b[0m         \u001b[0mdst\u001b[0m \u001b[1;33m=\u001b[0m \u001b[0mos\u001b[0m\u001b[1;33m.\u001b[0m\u001b[0mpath\u001b[0m\u001b[1;33m.\u001b[0m\u001b[0mjoin\u001b[0m\u001b[1;33m(\u001b[0m\u001b[0mdst\u001b[0m\u001b[1;33m,\u001b[0m \u001b[0mos\u001b[0m\u001b[1;33m.\u001b[0m\u001b[0mpath\u001b[0m\u001b[1;33m.\u001b[0m\u001b[0mbasename\u001b[0m\u001b[1;33m(\u001b[0m\u001b[0msrc\u001b[0m\u001b[1;33m)\u001b[0m\u001b[1;33m)\u001b[0m\u001b[1;33m\u001b[0m\u001b[1;33m\u001b[0m\u001b[0m\n\u001b[1;32m--> 248\u001b[1;33m     \u001b[0mcopyfile\u001b[0m\u001b[1;33m(\u001b[0m\u001b[0msrc\u001b[0m\u001b[1;33m,\u001b[0m \u001b[0mdst\u001b[0m\u001b[1;33m,\u001b[0m \u001b[0mfollow_symlinks\u001b[0m\u001b[1;33m=\u001b[0m\u001b[0mfollow_symlinks\u001b[0m\u001b[1;33m)\u001b[0m\u001b[1;33m\u001b[0m\u001b[1;33m\u001b[0m\u001b[0m\n\u001b[0m\u001b[0;32m    249\u001b[0m     \u001b[0mcopymode\u001b[0m\u001b[1;33m(\u001b[0m\u001b[0msrc\u001b[0m\u001b[1;33m,\u001b[0m \u001b[0mdst\u001b[0m\u001b[1;33m,\u001b[0m \u001b[0mfollow_symlinks\u001b[0m\u001b[1;33m=\u001b[0m\u001b[0mfollow_symlinks\u001b[0m\u001b[1;33m)\u001b[0m\u001b[1;33m\u001b[0m\u001b[1;33m\u001b[0m\u001b[0m\n\u001b[0;32m    250\u001b[0m     \u001b[1;32mreturn\u001b[0m \u001b[0mdst\u001b[0m\u001b[1;33m\u001b[0m\u001b[1;33m\u001b[0m\u001b[0m\n",
      "\u001b[1;32mc:\\users\\hüseyin\\appdata\\local\\programs\\python\\python37\\lib\\shutil.py\u001b[0m in \u001b[0;36mcopyfile\u001b[1;34m(src, dst, follow_symlinks)\u001b[0m\n\u001b[0;32m    119\u001b[0m     \u001b[1;32melse\u001b[0m\u001b[1;33m:\u001b[0m\u001b[1;33m\u001b[0m\u001b[1;33m\u001b[0m\u001b[0m\n\u001b[0;32m    120\u001b[0m         \u001b[1;32mwith\u001b[0m \u001b[0mopen\u001b[0m\u001b[1;33m(\u001b[0m\u001b[0msrc\u001b[0m\u001b[1;33m,\u001b[0m \u001b[1;34m'rb'\u001b[0m\u001b[1;33m)\u001b[0m \u001b[1;32mas\u001b[0m \u001b[0mfsrc\u001b[0m\u001b[1;33m:\u001b[0m\u001b[1;33m\u001b[0m\u001b[1;33m\u001b[0m\u001b[0m\n\u001b[1;32m--> 121\u001b[1;33m             \u001b[1;32mwith\u001b[0m \u001b[0mopen\u001b[0m\u001b[1;33m(\u001b[0m\u001b[0mdst\u001b[0m\u001b[1;33m,\u001b[0m \u001b[1;34m'wb'\u001b[0m\u001b[1;33m)\u001b[0m \u001b[1;32mas\u001b[0m \u001b[0mfdst\u001b[0m\u001b[1;33m:\u001b[0m\u001b[1;33m\u001b[0m\u001b[1;33m\u001b[0m\u001b[0m\n\u001b[0m\u001b[0;32m    122\u001b[0m                 \u001b[0mcopyfileobj\u001b[0m\u001b[1;33m(\u001b[0m\u001b[0mfsrc\u001b[0m\u001b[1;33m,\u001b[0m \u001b[0mfdst\u001b[0m\u001b[1;33m)\u001b[0m\u001b[1;33m\u001b[0m\u001b[1;33m\u001b[0m\u001b[0m\n\u001b[0;32m    123\u001b[0m     \u001b[1;32mreturn\u001b[0m \u001b[0mdst\u001b[0m\u001b[1;33m\u001b[0m\u001b[1;33m\u001b[0m\u001b[0m\n",
      "\u001b[1;31mPermissionError\u001b[0m: [Errno 13] Permission denied: '../fruits_24_copy.txt'"
     ]
    }
   ],
   "source": [
    "shutil.copy(\"fruits_24.txt\", \"../fruits_24_copy.txt\") # fruits_24.txt dosyasını bir üst dizine fruits_24_copy.txt olarak yazdır."
   ]
  },
  {
   "cell_type": "markdown",
   "id": "australian-sacramento",
   "metadata": {},
   "source": [
    "# recursion, (fonksiyon içinde fonksiyon kullanma.. hayat kurtarır.)"
   ]
  },
  {
   "cell_type": "code",
   "execution_count": 58,
   "id": "psychological-marina",
   "metadata": {},
   "outputs": [
    {
     "data": {
      "text/plain": [
       "6"
      ]
     },
     "execution_count": 58,
     "metadata": {},
     "output_type": "execute_result"
    }
   ],
   "source": [
    "def my_factorial(n) :\n",
    "    if n == 0 : return 1     # n, 0 ise hiç uğraşma sonucu 1 yap.\n",
    "    else :\n",
    "        return n * my_factorial(n-1)\n",
    "    \n",
    "my_factorial(3)"
   ]
  },
  {
   "cell_type": "code",
   "execution_count": null,
   "id": "requested-hygiene",
   "metadata": {},
   "outputs": [],
   "source": []
  },
  {
   "cell_type": "code",
   "execution_count": null,
   "id": "promotional-anniversary",
   "metadata": {},
   "outputs": [],
   "source": []
  },
  {
   "cell_type": "code",
   "execution_count": null,
   "id": "respected-india",
   "metadata": {},
   "outputs": [],
   "source": []
  }
 ],
 "metadata": {
  "kernelspec": {
   "display_name": "Python 3",
   "language": "python",
   "name": "python3"
  },
  "language_info": {
   "codemirror_mode": {
    "name": "ipython",
    "version": 3
   },
   "file_extension": ".py",
   "mimetype": "text/x-python",
   "name": "python",
   "nbconvert_exporter": "python",
   "pygments_lexer": "ipython3",
   "version": "3.7.8"
  }
 },
 "nbformat": 4,
 "nbformat_minor": 5
}
