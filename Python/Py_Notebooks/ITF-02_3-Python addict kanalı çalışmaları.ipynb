{
 "cells": [
  {
   "cell_type": "code",
   "execution_count": 1,
   "id": "boxed-placement",
   "metadata": {},
   "outputs": [
    {
     "name": "stdout",
     "output_type": "stream",
     "text": [
      "{'name': 'John', 'age': 36, 'country': 'Norway'}\n"
     ]
    }
   ],
   "source": [
    "x = dict(name = \"John\", age = 36, country = \"Norway\")\n",
    "\n",
    "print(x)"
   ]
  },
  {
   "cell_type": "code",
   "execution_count": 2,
   "id": "seventh-princeton",
   "metadata": {},
   "outputs": [
    {
     "data": {
      "text/plain": [
       "{'a': 15, 'b': 20, 'c': 25, 'd': 30}"
      ]
     },
     "execution_count": 2,
     "metadata": {},
     "output_type": "execute_result"
    }
   ],
   "source": [
    "def new(keys,values):\n",
    "    return dict(map(lambda x,y: (x,y), keys,values))\n",
    "keys = ['a', 'b', 'c', 'd']\n",
    "values = [15, 20, 25, 30]\n",
    "new(keys,values)"
   ]
  },
  {
   "cell_type": "code",
   "execution_count": 20,
   "id": "headed-field",
   "metadata": {},
   "outputs": [
    {
     "data": {
      "text/plain": [
       "{('burak', 500), ('c', 250), ('d', 310), ('isa', 12)}"
      ]
     },
     "execution_count": 20,
     "metadata": {},
     "output_type": "execute_result"
    }
   ],
   "source": [
    "def new(keys,values):\n",
    "    z={*map(lambda x,y: (x,y ), keys,values)}\n",
    "    return z\n",
    "keys = ['isa', 'burak', 'c', 'd']\n",
    "values = [12, 500, 250, 310]\n",
    "new(keys,values)"
   ]
  },
  {
   "cell_type": "code",
   "execution_count": 5,
   "id": "molecular-diana",
   "metadata": {
    "scrolled": true
   },
   "outputs": [
    {
     "name": "stdout",
     "output_type": "stream",
     "text": [
      "{'a': 15, 'b': 20, 'c': 25, 'd': 30}\n"
     ]
    }
   ],
   "source": [
    "keys = ['a', 'b', 'c', 'd']\n",
    "values = [15, 20, 25, 30]\n",
    "dicti = dict(map(lambda x, y : (x, y), keys, values))\n",
    "print(dicti)"
   ]
  },
  {
   "cell_type": "code",
   "execution_count": 27,
   "id": "formed-parish",
   "metadata": {},
   "outputs": [
    {
     "name": "stdout",
     "output_type": "stream",
     "text": [
      "a 15\n",
      "b 20\n",
      "c 25\n"
     ]
    }
   ],
   "source": [
    "\n",
    "def sözlük(**parametre):\n",
    "    dic={\"a\" : 15, \"b\" : 20, \"c\" : 25}\n",
    "    for x, y in parametre.items():\n",
    "        print(x, y)\n",
    "\n",
    "sözlük(**dic)\n",
    "  "
   ]
  },
  {
   "cell_type": "code",
   "execution_count": 29,
   "id": "light-courage",
   "metadata": {},
   "outputs": [
    {
     "name": "stdout",
     "output_type": "stream",
     "text": [
      "a 15\n",
      "b 20\n",
      "c 25\n",
      "d 30\n"
     ]
    }
   ],
   "source": [
    "\n",
    "def sözlük(**parametre):\n",
    "    keys = ['a', 'b', 'c', 'd']\n",
    "    values = [15, 20, 25, 30]\n",
    "    for x, y in parametre.items():\n",
    "        print(x, y)\n",
    "        \n",
    "dic = dict(map(lambda a, b : (a,b), keys, values))\n",
    "sözlük(**dic)\n"
   ]
  },
  {
   "cell_type": "code",
   "execution_count": 36,
   "id": "homeless-timing",
   "metadata": {},
   "outputs": [
    {
     "name": "stdout",
     "output_type": "stream",
     "text": [
      "{'ali': 20, 'veli': 25, 'hüseyin': 30}\n"
     ]
    }
   ],
   "source": [
    "a = ('ali','veli', 'hüseyin')\n",
    "b = (20, 25, 30)\n",
    "\n",
    "c = map(lambda x, y : (x, y), a, b)\n",
    "e = dict(c)\n",
    "print(e)"
   ]
  },
  {
   "cell_type": "code",
   "execution_count": 37,
   "id": "bacterial-calcium",
   "metadata": {},
   "outputs": [
    {
     "name": "stdout",
     "output_type": "stream",
     "text": [
      "{'ali': 20, 'veli': 25, 'hüseyin': 30}\n"
     ]
    }
   ],
   "source": [
    "a = ('ali','veli', 'hüseyin')\n",
    "b = (20, 25, 30)\n",
    "\n",
    "c = map(lambda x, y : [x, y], a, b)\n",
    "e = dict(c)\n",
    "print(e)"
   ]
  },
  {
   "cell_type": "code",
   "execution_count": 38,
   "id": "revolutionary-algorithm",
   "metadata": {},
   "outputs": [
    {
     "name": "stdout",
     "output_type": "stream",
     "text": [
      "('bride',)\n",
      "('groom',)\n"
     ]
    }
   ],
   "source": [
    "dict_couple = {\"bride\" : [\"mary\", \"bella\", \"linda\"],\n",
    "              \"groom\" : [\"rye\", \"fred\", \"roland\"]\n",
    "              }\n",
    "couple_list=[]\n",
    "for x in zip(dict_couple):\n",
    "    print(x)"
   ]
  },
  {
   "cell_type": "code",
   "execution_count": 39,
   "id": "minimal-variable",
   "metadata": {},
   "outputs": [
    {
     "name": "stdout",
     "output_type": "stream",
     "text": [
      "(('bride', ['mary', 'bella', 'linda']),)\n",
      "(('groom', ['rye', 'fred', 'roland']),)\n"
     ]
    }
   ],
   "source": [
    "dict_couple = {\"bride\" : [\"mary\", \"bella\", \"linda\"],\n",
    "              \"groom\" : [\"rye\", \"fred\", \"roland\"]\n",
    "              }\n",
    "couple_list=[]\n",
    "for x in zip(dict_couple.items()):\n",
    "    print(x)"
   ]
  },
  {
   "cell_type": "code",
   "execution_count": 41,
   "id": "integral-subscription",
   "metadata": {},
   "outputs": [
    {
     "name": "stdout",
     "output_type": "stream",
     "text": [
      "('mary', 'rye')\n",
      "('bella', 'fred')\n",
      "('linda', 'roland')\n"
     ]
    }
   ],
   "source": [
    "dict_couple = {\"bride\" : [\"mary\", \"bella\", \"linda\"],\n",
    "              \"groom\" : [\"rye\", \"fred\", \"roland\"]\n",
    "              }\n",
    "couple_list=[]\n",
    "for x in zip([\"mary\", \"bella\", \"linda\"], [\"rye\", \"fred\", \"roland\"]):\n",
    "    print(x)"
   ]
  },
  {
   "cell_type": "code",
   "execution_count": 46,
   "id": "female-administrator",
   "metadata": {},
   "outputs": [
    {
     "data": {
      "text/plain": [
       "[('mary', 'rye'), ('bella', 'fred'), ('linda', 'roland')]"
      ]
     },
     "execution_count": 46,
     "metadata": {},
     "output_type": "execute_result"
    }
   ],
   "source": [
    "# [(\"mary\", \"rye\"), (\"bella\", \"fred\"), (\"linda\", \"roland\")] böyle bir output veren fonksiyon oluştur.\n",
    "\n",
    "dict_couple = {\"bride\" : [\"mary\", \"bella\", \"linda\"],\n",
    "              \"groom\" : [\"rye\", \"fred\", \"roland\"]\n",
    "              }\n",
    "\n",
    "def couples(bride, groom): # bunlar fonksiyonun içine girince (dict.ten geleceği için) keyword parametre haline gelecek\n",
    "    couple_list=[]\n",
    "    for x in zip(bride, groom) : # unutma ki parametreleri işleme tabi tuttuğumuzda \n",
    "        couple_list.append(x)    # aslında onların karşılığı olan value'ları alıp işleme sokmuş oluyoruz!!!\n",
    "    return couple_list          # burada bride ve groom'a karşılık gelen value'lere yani erkek ve kadın isimlerine\n",
    "                                # zip build-in fonksiyonu ile eşleştirme işlemi yaptık.\n",
    "couples(**dict_couple)"
   ]
  },
  {
   "cell_type": "code",
   "execution_count": null,
   "id": "progressive-catering",
   "metadata": {},
   "outputs": [],
   "source": [
    "Task:Write a Python function to check whether a number is perfect or not. \n",
    "According to Wikipedia : In number theory, a perfect number is a positive integer \n",
    "    that is equal to the sum of its proper positive divisors, that is, \n",
    "    the sum of its positive divisors excluding the number itself (also known as its aliquot sum).\n",
    "Equivalently, a perfect number is a number that is half the sum of all of its positive divisors (including itself).\n",
    "Türkçesi: Eğer sayının kendisi hariç bölenlerinin toplamı kendisine eşitse  o  \"Perfect Number\"dır.\n",
    "Example : The first perfect number is 6, because 1, 2, and 3 are its proper positive divisors, and 1 + 2 + 3 = 6.\n",
    "The next perfect number is 28 = 1 + 2 + 4 + 7 + 14.\n",
    "This is followed by the perfect numbers 496 and 8128.\n"
   ]
  },
  {
   "cell_type": "code",
   "execution_count": 57,
   "id": "danish-factory",
   "metadata": {},
   "outputs": [
    {
     "name": "stdout",
     "output_type": "stream",
     "text": [
      "çek edilecek sayıyı girin :28\n",
      "this is a perfect number\n"
     ]
    }
   ],
   "source": [
    "num = int(input('çek edilecek sayıyı girin :'))\n",
    "divisors=[]\n",
    "for i in range(1, num):\n",
    "    if num % i == 0 :\n",
    "        divisors.append(i)\n",
    "# print(divisors)\n",
    "if num == sum(divisors):\n",
    "    print('this is a perfect number')\n",
    "else :\n",
    "    print('this is not a perfect number')"
   ]
  },
  {
   "cell_type": "code",
   "execution_count": 66,
   "id": "abandoned-hampshire",
   "metadata": {},
   "outputs": [
    {
     "data": {
      "text/plain": [
       "'not perfect'"
      ]
     },
     "execution_count": 66,
     "metadata": {},
     "output_type": "execute_result"
    }
   ],
   "source": [
    "# list comprehension ile çözümü\n",
    "\n",
    "def perfect_num(num):\n",
    "    return 'perfect' if sum([i for i in range(1, num) if not num%i]) == num else 'not perfect'\n",
    "\n",
    "perfect_num(14)"
   ]
  },
  {
   "cell_type": "code",
   "execution_count": null,
   "id": "herbal-reader",
   "metadata": {},
   "outputs": [],
   "source": [
    "def perfect(n):\n",
    "    return sum(lambda x : x%n==0)"
   ]
  },
  {
   "cell_type": "code",
   "execution_count": 68,
   "id": "listed-toner",
   "metadata": {},
   "outputs": [
    {
     "data": {
      "text/plain": [
       "True"
      ]
     },
     "execution_count": 68,
     "metadata": {},
     "output_type": "execute_result"
    }
   ],
   "source": [
    "# lambda ile çözümü\n",
    "\n",
    "def per(n):\n",
    "    return sum(filter(lambda x: n % x == 0, range(1, n))) == n\n",
    "\n",
    "per(28)"
   ]
  },
  {
   "cell_type": "code",
   "execution_count": null,
   "id": "desirable-chick",
   "metadata": {},
   "outputs": [],
   "source": [
    "# bir başka çözüm daha \n",
    "\n",
    "def isperfect(n):\n",
    "    return n==sum([x for x in range(1,n) if n%x==0])\n",
    "print (isperfect(8128))"
   ]
  },
  {
   "cell_type": "code",
   "execution_count": null,
   "id": "cellular-norway",
   "metadata": {},
   "outputs": [],
   "source": [
    "Task-2:Write a Python function that checks whether a passed string is palindrome or not.\n",
    "Note: A palindrome is a word, phrase, or sequence that reads the same backward \n",
    "    as forward, e.g., \"madam \" or  \"nurses run\".\n",
    "    "
   ]
  },
  {
   "cell_type": "code",
   "execution_count": 84,
   "id": "minor-cassette",
   "metadata": {},
   "outputs": [
    {
     "name": "stdout",
     "output_type": "stream",
     "text": [
      "pass the string :ey edip pide ye\n",
      "palindrome\n"
     ]
    }
   ],
   "source": [
    "# benim çözümüm\n",
    "\n",
    "def ispalindrome(w):\n",
    "    a = w.lower().strip().replace(' ', '')\n",
    "    if a[::-1] == a :\n",
    "        print('palindrome')\n",
    "    else:\n",
    "        print('not palindrome')\n",
    "    \n",
    "\n",
    "w=input('pass the string :')\n",
    "ispalindrome(w)\n"
   ]
  },
  {
   "cell_type": "code",
   "execution_count": 87,
   "id": "exciting-mailman",
   "metadata": {},
   "outputs": [
    {
     "name": "stdout",
     "output_type": "stream",
     "text": [
      "pass the string :nurses run\n"
     ]
    },
    {
     "data": {
      "text/plain": [
       "'palindrome'"
      ]
     },
     "execution_count": 87,
     "metadata": {},
     "output_type": "execute_result"
    }
   ],
   "source": [
    "# benim list comprehension çözümüm\n",
    "\n",
    "def ispalindrome(w):\n",
    "    return 'palindrome' if w.lower().strip().replace(' ', '')[::-1] == w.lower().strip().replace(' ', '') else 'not palindrome'\n",
    "    \n",
    "w=input('pass the string :')\n",
    "ispalindrome(w)\n"
   ]
  },
  {
   "cell_type": "code",
   "execution_count": null,
   "id": "residential-metropolitan",
   "metadata": {},
   "outputs": [],
   "source": [
    "Gorev:\n",
    "·      Bize verilen rakami string olarak acik sekilde yaziyoruz.\n",
    "Verilen = 1.24  istenen=  '1 + 2/10 + 4/100'\n",
    "Test 1 : 70304 =  ‘70000 + 300 +4’\n",
    "Test 2 : 7.304  istenen = '7 + 3/10 + 4/1000'\n",
    "Test 3 :  0.04  istenen = '4/100'"
   ]
  },
  {
   "cell_type": "code",
   "execution_count": 3,
   "id": "adopted-haiti",
   "metadata": {},
   "outputs": [
    {
     "name": "stdout",
     "output_type": "stream",
     "text": [
      "bir rakam girin :254.2\n",
      "200+50+4+\n"
     ]
    }
   ],
   "source": [
    "given=input('bir rakam girin :')\n",
    "\n",
    "list=given.split(\".\")\n",
    "h = len(given)\n",
    "çıktı = \"\"\n",
    "çarpan = int(\"1\" + (len(list[0])-1) * \"0\")\n",
    " \n",
    "if \".\" in given:\n",
    "    for i in range(len(list[0])) :   #  görsel çarpma işlemi için rakamın . dan önceki kısmını uzunluğu içerisinde döngü yapıyoruz        \n",
    "        çıktı += str(int(given[i]) * çarpan) + \"+\"\n",
    "        çarpan = int(çarpan/10)\n",
    "    for j in range(len(list[1])) :\n",
    "        çıktı\n",
    "\n",
    "else :\n",
    "    for \n",
    "print(çıktı)\n"
   ]
  },
  {
   "cell_type": "code",
   "execution_count": 114,
   "id": "greatest-lawyer",
   "metadata": {},
   "outputs": [
    {
     "name": "stdout",
     "output_type": "stream",
     "text": [
      "bir rakam girin :125.54\n"
     ]
    },
    {
     "data": {
      "text/plain": [
       "'1000'"
      ]
     },
     "execution_count": 114,
     "metadata": {},
     "output_type": "execute_result"
    }
   ],
   "source": [
    "given=input('bir rakam girin :')\n",
    "\n",
    "list=given.split(\".\")\n",
    "h = len(given)\n",
    "çıktı = \"\"\n",
    "çarpan = \"1\" + len(list[0]) * \"0\"\n",
    "çarpan"
   ]
  },
  {
   "cell_type": "code",
   "execution_count": 132,
   "id": "reasonable-destination",
   "metadata": {},
   "outputs": [
    {
     "data": {
      "text/plain": [
       "100"
      ]
     },
     "execution_count": 132,
     "metadata": {},
     "output_type": "execute_result"
    }
   ],
   "source": [
    "çarpan = 1000\n",
    "çarpan = int(çarpan/10)\n",
    "çarpan"
   ]
  },
  {
   "cell_type": "code",
   "execution_count": 16,
   "id": "radio-paint",
   "metadata": {},
   "outputs": [
    {
     "name": "stdout",
     "output_type": "stream",
     "text": [
      "bir rakam girin :254.25\n"
     ]
    },
    {
     "ename": "ValueError",
     "evalue": "invalid literal for int() with base 10: '.'",
     "output_type": "error",
     "traceback": [
      "\u001b[1;31m---------------------------------------------------------------------------\u001b[0m",
      "\u001b[1;31mValueError\u001b[0m                                Traceback (most recent call last)",
      "\u001b[1;32m<ipython-input-16-4bcea7b8bbf3>\u001b[0m in \u001b[0;36m<module>\u001b[1;34m\u001b[0m\n\u001b[0;32m      8\u001b[0m     \u001b[1;32mfor\u001b[0m \u001b[0mi\u001b[0m \u001b[1;32min\u001b[0m \u001b[0mrange\u001b[0m\u001b[1;33m(\u001b[0m\u001b[0mlen\u001b[0m\u001b[1;33m(\u001b[0m\u001b[0mgiven\u001b[0m\u001b[1;33m)\u001b[0m\u001b[1;33m)\u001b[0m \u001b[1;33m:\u001b[0m   \u001b[1;31m#  görsel çarpma işlemi için rakamın . dan önceki kısmını uzunluğu içerisinde döngü yapıyoruz\u001b[0m\u001b[1;33m\u001b[0m\u001b[1;33m\u001b[0m\u001b[0m\n\u001b[0;32m      9\u001b[0m         \u001b[1;32mif\u001b[0m \u001b[0mi\u001b[0m \u001b[1;33m!=\u001b[0m \u001b[1;34m\".\"\u001b[0m\u001b[1;33m:\u001b[0m\u001b[1;33m\u001b[0m\u001b[1;33m\u001b[0m\u001b[0m\n\u001b[1;32m---> 10\u001b[1;33m             \u001b[0mçıktı\u001b[0m \u001b[1;33m+=\u001b[0m \u001b[0mstr\u001b[0m\u001b[1;33m(\u001b[0m\u001b[0mint\u001b[0m\u001b[1;33m(\u001b[0m\u001b[0mgiven\u001b[0m\u001b[1;33m[\u001b[0m\u001b[0mi\u001b[0m\u001b[1;33m]\u001b[0m\u001b[1;33m)\u001b[0m \u001b[1;33m*\u001b[0m \u001b[0mçarpan\u001b[0m\u001b[1;33m)\u001b[0m \u001b[1;33m+\u001b[0m \u001b[1;34m\"+\"\u001b[0m\u001b[1;33m\u001b[0m\u001b[1;33m\u001b[0m\u001b[0m\n\u001b[0m\u001b[0;32m     11\u001b[0m             \u001b[0mçarpan\u001b[0m \u001b[1;33m=\u001b[0m \u001b[0mint\u001b[0m\u001b[1;33m(\u001b[0m\u001b[0mçarpan\u001b[0m\u001b[1;33m/\u001b[0m\u001b[1;36m10\u001b[0m\u001b[1;33m)\u001b[0m\u001b[1;33m\u001b[0m\u001b[1;33m\u001b[0m\u001b[0m\n\u001b[0;32m     12\u001b[0m \u001b[1;33m\u001b[0m\u001b[0m\n",
      "\u001b[1;31mValueError\u001b[0m: invalid literal for int() with base 10: '.'"
     ]
    }
   ],
   "source": [
    "given=input('bir rakam girin :')\n",
    "list=given.split(\".\")\n",
    "h = len(given)\n",
    "çıktı = \"\"\n",
    "    \n",
    "if \".\" in given:\n",
    "    çarpan = int(\"1\" + (len(list[0])-1) * \"0\")\n",
    "    for i in range(len(given)) :   #  görsel çarpma işlemi için rakamın . dan önceki kısmını uzunluğu içerisinde döngü yapıyoruz        \n",
    "        if i != \".\":\n",
    "            çıktı += str(int(given[i]) * çarpan) + \"+\"\n",
    "            çarpan = int(çarpan/10)\n",
    "                    \n",
    "print(çıktı)"
   ]
  },
  {
   "cell_type": "code",
   "execution_count": null,
   "id": "demanding-zambia",
   "metadata": {},
   "outputs": [],
   "source": [
    "Given a list of words in the singular form, \n",
    "return a set of those words in the plural form \n",
    "if they appear more than once in the list.\n",
    "\n",
    "Examples\n",
    "pluralize([\"cow\", \"pig\", \"cow\", \"cow\"]) ➞ { \"cows\", \"pig\" }\n",
    "pluralize([\"table\", \"table\", \"table\"]) ➞ { \"tables\" }\n",
    "pluralize([\"chair\", \"pencil\", \"arm\"]) ➞ { \"chair\", \"pencil\", \"arm\" }\n",
    "\n",
    "Notes\n",
    "This is an oversimplification of the English language so no edge cases will appear.\n",
    "Only focus on whether or not to add an s to the ends of words.\n",
    "All tests will be valid."
   ]
  },
  {
   "cell_type": "code",
   "execution_count": 7,
   "id": "demographic-convention",
   "metadata": {},
   "outputs": [
    {
     "data": {
      "text/plain": [
       "{'cows', 'pig'}"
      ]
     },
     "execution_count": 7,
     "metadata": {},
     "output_type": "execute_result"
    }
   ],
   "source": [
    "\"\"\"[\"cow\", \"pig\", \"cow\", \"cow\"]\n",
    "[\"table\", \"table\", \"table\"]\n",
    "[\"chair\", \"pencil\", \"arm\"]\n",
    "\"\"\"\n",
    "\n",
    "def pluralize(liste) :\n",
    "    yeni=set()\n",
    "    for i in liste :\n",
    "        if liste.count(i) > 1 :\n",
    "            yeni.add(i + 's')\n",
    "        else :\n",
    "            yeni.add(i)\n",
    "    return yeni\n",
    "\n",
    "liste = [\"cow\", \"pig\", \"cow\", \"cow\"]\n",
    "\n",
    "pluralize(liste)  "
   ]
  },
  {
   "cell_type": "code",
   "execution_count": 58,
   "id": "speaking-currency",
   "metadata": {},
   "outputs": [
    {
     "data": {
      "text/plain": [
       "{'cows', 'pig'}"
      ]
     },
     "execution_count": 58,
     "metadata": {},
     "output_type": "execute_result"
    }
   ],
   "source": [
    "def pluralize(lst):\n",
    "    result = {i+'s' if lst.count(i) > 1 else i for i in lst}\n",
    "    return result\n",
    "\n",
    "liste = [\"cow\", \"pig\", \"cow\", \"cow\"]\n",
    "pluralize(liste)"
   ]
  },
  {
   "cell_type": "code",
   "execution_count": 77,
   "id": "intimate-guarantee",
   "metadata": {},
   "outputs": [
    {
     "data": {
      "text/plain": [
       "{'cows', 'pig'}"
      ]
     },
     "execution_count": 77,
     "metadata": {},
     "output_type": "execute_result"
    }
   ],
   "source": [
    "def pluralize(liste):\n",
    "    new_list=[]\n",
    "    if len(set(liste))!=len(liste):\n",
    "        for i in liste:\n",
    "            if liste.count(i)>1:\n",
    "                new_list.append(i+\"s\")\n",
    "            else :\n",
    "                new_list.append(i)\n",
    "    else:\n",
    "        return (liste)\n",
    "    \n",
    "    return (set(new_list))         \n",
    "            \n",
    "                \n",
    "liste=[\"cow\", \"pig\", \"cow\", \"cow\"]\n",
    "pluralize(liste) "
   ]
  },
  {
   "cell_type": "code",
   "execution_count": 78,
   "id": "under-accused",
   "metadata": {},
   "outputs": [
    {
     "data": {
      "text/plain": [
       "{'cows', 'pig'}"
      ]
     },
     "execution_count": 78,
     "metadata": {},
     "output_type": "execute_result"
    }
   ],
   "source": [
    "def pluralize(liste):\n",
    "    a = set()\n",
    "    for i in liste :\n",
    "        if liste.count(i) > 1 :\n",
    "            a.add(i + 's')\n",
    "        else :\n",
    "            a.add(i)\n",
    "    return a\n",
    "liste=[\"cow\", \"pig\", \"cow\", \"cow\"]\n",
    "pluralize(liste) "
   ]
  },
  {
   "cell_type": "code",
   "execution_count": null,
   "id": "narrow-nomination",
   "metadata": {},
   "outputs": [],
   "source": [
    "def plularize(x):\n",
    "    repeat = [i + 's' for n, i in enumerate(x) if i in x[:n]]\n",
    "    notRepeat = [i for i in x if x.count(i) == 1]\n",
    "    return set(notRepeat + repeat)"
   ]
  },
  {
   "cell_type": "code",
   "execution_count": null,
   "id": "permanent-assessment",
   "metadata": {},
   "outputs": [],
   "source": [
    "Create a function which takes in an encoded string and returns a dictionary according to the following example:\n",
    "Examples\n",
    "parse_code(\"John000Doe000123\") ➞ {\n",
    "  \"first_name\": \"John\",\n",
    "  \"last_name\": \"Doe\",\n",
    "  \"id\": \"123\"\n",
    "}\n",
    "parse_code(\"michael0smith004331\") ➞ {\n",
    "  \"first_name\": \"michael\",\n",
    "  \"last_name\": \"smith\",\n",
    "  \"id\": \"4331\"\n",
    "}\n",
    "parse_code(\"Thomas00LEE0000043\") ➞ {\n",
    "  \"first_name\": \"Thomas\",\n",
    "  \"last_name\": \"LEE\",\n",
    "  \"id\": \"43\"\n",
    "}\n",
    "Notes\n",
    "The string will always be in the same format: first name, last name and id with zeros between them.\n",
    "id numbers will not contain any zeros."
   ]
  },
  {
   "cell_type": "code",
   "execution_count": 3,
   "id": "respective-smart",
   "metadata": {},
   "outputs": [
    {
     "name": "stdout",
     "output_type": "stream",
     "text": [
      "{'first name': 'Thomas', 'last name': 'LEE', 'id': '43'}\n"
     ]
    }
   ],
   "source": [
    "def parse_code(string) :\n",
    "    keys=[\"first name\", \"last name\", \"id\"]\n",
    "    values=[x for x in string.split('0') if x !='']\n",
    "    output=dict(zip(keys, values))\n",
    "    print(output)\n",
    "\n",
    "parse_code('Thomas00LEE0000043')"
   ]
  },
  {
   "cell_type": "code",
   "execution_count": 4,
   "id": "pretty-testimony",
   "metadata": {},
   "outputs": [
    {
     "name": "stdout",
     "output_type": "stream",
     "text": [
      "{'first name': 'Thomas', 'last name': 'LEE', 'id': '43'}\n"
     ]
    }
   ],
   "source": [
    "def parse_code(string) :\n",
    "    return dict(zip([\"first name\", \"last name\", \"id\"], [x for x in string.split('0') if x !='']))\n",
    "  \n",
    "print(parse_code('Thomas00LEE0000043'))"
   ]
  },
  {
   "cell_type": "code",
   "execution_count": 8,
   "id": "manufactured-siemens",
   "metadata": {},
   "outputs": [
    {
     "name": "stdout",
     "output_type": "stream",
     "text": [
      "{'first_name': 'Thomas', 'last_name': 'LEE', 'id': '43'}\n"
     ]
    }
   ],
   "source": [
    "# Raife hanımın çözümü\n",
    "\n",
    "def parse_code(s):\n",
    "    l=s.replace(\"0\",\" \").split()   # 0 ları boşlukla değiştiririm. sonra da split ile boşluklardan bölerim.  \n",
    "    return {\"first_name\":l[0], \"last_name\":l[1], \"id\":l[2]}\n",
    "\n",
    "print(parse_code('Thomas00LEE0000043'))"
   ]
  },
  {
   "cell_type": "code",
   "execution_count": null,
   "id": "structured-trailer",
   "metadata": {},
   "outputs": [],
   "source": [
    "Here is another interview question of Python code challenge : :python:\n",
    "=============================================\n",
    "Problem :\n",
    "Given a collection of distinct integers, return all possible permutations.\n",
    "Example:\n",
    "Input:\n",
    "[1,2,3]\n",
    "Output:\n",
    "[\n",
    "  [1,2,3],\n",
    "  [1,3,2],\n",
    "  [2,1,3],\n",
    "  [2,3,1],\n",
    "  [3,1,2],\n",
    "  [3,2,1]\n",
    "]\n",
    "\n",
    "Arkadaşlar bu sorunun; fonksiyon oluşturmadan, herhangi bir kütüphane/modul kullanmadan, \n",
    "sadece PythonBasic müfredatı çerçevesinde yapılması gerekmektedir.\n",
    "Arkadaşlar, yukardaki sorunun cevabı, eleman sayısı değişince de \n",
    "çalışan tüm ihtimalleri kapsayıcı jenerik bir çözümü içermeli.."
   ]
  },
  {
   "cell_type": "code",
   "execution_count": null,
   "id": "regulation-lounge",
   "metadata": {},
   "outputs": [],
   "source": []
  },
  {
   "cell_type": "code",
   "execution_count": null,
   "id": "august-carroll",
   "metadata": {},
   "outputs": [],
   "source": [
    "\"\"\"In a small town the population is p0 = 1000 at the beginning of a year. \n",
    "The population regularly increases by 2 percent per year \n",
    "and moreover 50 new inhabitants per year come to live in the town. \n",
    "How many years does the town need to see its population greater or equal to p = 1200 inhabitants?\n",
    "\n",
    "At the end of the first year there will be: 1000 + 1000 * 0.02 + 50 => 1070 inhabitants\n",
    "At the end of the 2nd year there will be: 1070 + 1070 * 0.02 + 50 => 1141 inhabitants (** number of inhabitants is an integer **)\n",
    "At the end of the 3rd year there will be: 1141 + 1141 * 0.02 + 50 => 1213\n",
    "It will need 3 entire years.\n",
    "\"\"\"\n",
    "\n",
    "# zehra hanımın çözümü\n",
    "\n",
    "def nb_year(x,y,z,t):\n",
    "    count=0\n",
    "    while x<=t:\n",
    "      x+=x*(y/100)+z \n",
    "      count+=1\n",
    "    return count"
   ]
  },
  {
   "cell_type": "code",
   "execution_count": null,
   "id": "average-riverside",
   "metadata": {},
   "outputs": [],
   "source": []
  },
  {
   "cell_type": "code",
   "execution_count": null,
   "id": "pretty-toddler",
   "metadata": {},
   "outputs": [],
   "source": [
    "\"\"\"Your goal in this kata is to implement a difference function,\n",
    "which subtracts one list from another and returns the result.\n",
    "It should remove all values from list a, \n",
    "which are present in list b keeping their order.\n",
    "\n",
    "array_diff([1,2],[1]) == [2]\n",
    "If a value is present in b, all of its occurrences must be removed from the other:\n",
    "array_diff([1,2,2,2,3],[2]) == [1,3]\n",
    "\n",
    "def array_diff(a, b):\n",
    "    diff = set(a).difference(set(b))\n",
    "    return list(diff)\n",
    "    print(diff)\n",
    "    \n",
    "diff degiskenini set olarak aldıgım için bazı a, b değişkenlerinde istedigim sonucu alamıyorum nasıl yapılabilir\n",
    "\"\"\"\n",
    "# raifenin çözümü\n",
    "\n",
    "def array_diff(a,b):\n",
    "    return [i for i in a if i not in b]"
   ]
  },
  {
   "cell_type": "code",
   "execution_count": null,
   "id": "federal-family",
   "metadata": {},
   "outputs": [],
   "source": []
  }
 ],
 "metadata": {
  "kernelspec": {
   "display_name": "Python 3",
   "language": "python",
   "name": "python3"
  },
  "language_info": {
   "codemirror_mode": {
    "name": "ipython",
    "version": 3
   },
   "file_extension": ".py",
   "mimetype": "text/x-python",
   "name": "python",
   "nbconvert_exporter": "python",
   "pygments_lexer": "ipython3",
   "version": "3.7.8"
  }
 },
 "nbformat": 4,
 "nbformat_minor": 5
}
