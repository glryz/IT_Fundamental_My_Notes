{
 "cells": [
  {
   "cell_type": "code",
   "execution_count": 2,
   "id": "closing-accounting",
   "metadata": {},
   "outputs": [
    {
     "name": "stdout",
     "output_type": "stream",
     "text": [
      "['one', 'six', 'ten', 'two']\n"
     ]
    }
   ],
   "source": [
    "letter1=[\"o\", \"s\", \"t\", \"t\"]\n",
    "letter2=[\"n\", \"i\", \"e\", \"w\"]\n",
    "letter3=[\"e\", \"x\", \"n\", \"o\"]\n",
    "\n",
    "numbers = map(lambda x, y, z: x+y+z, letter1, letter2, letter3)\n",
    "\n",
    "\"\"\"lambda fonksiyonunun parametre sayısı kadar map'in argümanı olmalı. \n",
    "her bir parametreye bir argümandan değer alacak(letter lar)  \n",
    "map'in özelliği gereği her defasında letter'ların birer elemanı lambdaya girecek ve map bir sonuç çıkaracak\n",
    "\"\"\"\n",
    "print(list(numbers))  # print ederken list fonksiyonunu kullandığımız için çıktı liste halinde olacak."
   ]
  },
  {
   "cell_type": "code",
   "execution_count": 1,
   "id": "numerous-prevention",
   "metadata": {},
   "outputs": [
    {
     "name": "stdout",
     "output_type": "stream",
     "text": [
      "('a', 'x')\n",
      "('b', 'y')\n",
      "('c', 'z')\n"
     ]
    }
   ],
   "source": [
    "letter1=[\"a\", \"b\", \"c\"]\n",
    "letter2=[\"x\", \"y\", \"z\"]\n",
    "\n",
    "yapıştır = map(zip, letter1, letter2) # sonuç generate edildi. ama göremeyiz.\n",
    "\n",
    "# hatırla, zip iki iterable'ı alıp birleştirip tuple yapıyordu.\n",
    "# şimdi map'in generate ettiği sonucu görebilmek için for döngüsü kullanalım\n",
    "# map'in içindeki zip'i de çözebilmek için 2. bir for kullandık.\n",
    "\n",
    "for i in yapıştır:\n",
    "    for j in i:\n",
    "        print(j)"
   ]
  },
  {
   "cell_type": "code",
   "execution_count": 5,
   "id": "opponent-collins",
   "metadata": {},
   "outputs": [
    {
     "name": "stdout",
     "output_type": "stream",
     "text": [
      "('a', 'x')\n",
      "('b', 'y')\n",
      "('c', 'z')\n"
     ]
    }
   ],
   "source": [
    "letter1=[\"a\", \"b\", \"c\"]\n",
    "letter2=[\"x\", \"y\", \"z\"]\n",
    "\n",
    "yapıştır = map(zip, letter1, letter2) # sonuç generate edildi. ama göremeyiz.\n",
    "\n",
    "# hatırla, zip iki iterable'ı alıp birleştirip tuple yapıyordu.\n",
    "# şimdi map'in generate ettiği sonucu görebilmek için for döngüsü kullanalım\n",
    "# map'in içindeki zip'i de çözebilmek için 2. bir for kullandık.\n",
    "\n",
    "for i in yapıştır:\n",
    "    print(*i)\n"
   ]
  },
  {
   "cell_type": "code",
   "execution_count": 11,
   "id": "active-integral",
   "metadata": {},
   "outputs": [
    {
     "name": "stdout",
     "output_type": "stream",
     "text": [
      "('a', 'x') ('b', 'y') ('c', 'z')\n"
     ]
    }
   ],
   "source": [
    "letter1=[\"a\", \"b\", \"c\"]\n",
    "letter2=[\"x\", \"y\", \"z\"]\n",
    "\n",
    "a=zip(letter1, letter2)\n",
    "print(*a)"
   ]
  },
  {
   "cell_type": "code",
   "execution_count": 12,
   "id": "approximate-brother",
   "metadata": {},
   "outputs": [
    {
     "data": {
      "text/plain": [
       "4.0"
      ]
     },
     "execution_count": 12,
     "metadata": {},
     "output_type": "execute_result"
    }
   ],
   "source": [
    "# (lambda x, y : (x+y)/2) bu benim lambda expression'im. şimdi argümanları lambda içine gönderelim.\n",
    "\n",
    "(lambda x, y : (x+y)/2)(5,3)"
   ]
  },
  {
   "cell_type": "code",
   "execution_count": 7,
   "id": "english-advance",
   "metadata": {},
   "outputs": [
    {
     "name": "stdout",
     "output_type": "stream",
     "text": [
      "6.0 6.0 6.0 6.0\n"
     ]
    }
   ],
   "source": [
    "# calculates the arithmetic means of two element pairs in the \n",
    "# following two lists in accordanve withe their order and \n",
    "# collects them into a list.\n",
    "\n",
    "num1 = [9, 6, 7, 4]\n",
    "num2 = [3, 6, 5, 8]\n",
    "\n",
    "numbers = map(lambda x, y : (x+y)/2, num1, num2)\n",
    "print(*numbers)"
   ]
  },
  {
   "cell_type": "code",
   "execution_count": null,
   "id": "together-advance",
   "metadata": {},
   "outputs": [],
   "source": [
    "# map, iteable'ın tüm elemanlarına içindeki fonksiyonu uyguluyor ve \n",
    "# teker teker sonuçları elde edip elde ettiği iterable objecti  hafızasında tutuyordu.\n",
    "# fonksiyonda 2 iterable object varsa  elemanları index sırasına göre bire bir işleme tabi tutuyor\n",
    "# yukardaki örnekte 9'la 3'ü, 6 ile 6'yı 7 ile 5'i..."
   ]
  },
  {
   "cell_type": "code",
   "execution_count": 77,
   "id": "focal-pendant",
   "metadata": {},
   "outputs": [
    {
     "name": "stdout",
     "output_type": "stream",
     "text": [
      "<class 'map'>\n",
      "[1, 4, 9, 16, 25]\n",
      "[1, 4, 9, 16, 25]\n"
     ]
    }
   ],
   "source": [
    "iterable = [1, 2, 3, 4, 5]\n",
    "map(lambda x : x**2, iterable)\n",
    "result = map(lambda x : x**2, iterable)\n",
    "print(type(result))  # it's a map type\n",
    "print(list(result))  # print almak için onu liste tipine çevirdik.\n",
    "print(list(map(lambda x : x**2, iterable))) # bu şekilde de direkt olarak yazabiliriz.\n"
   ]
  },
  {
   "cell_type": "code",
   "execution_count": 7,
   "id": "monthly-bhutan",
   "metadata": {},
   "outputs": [
    {
     "name": "stdout",
     "output_type": "stream",
     "text": [
      "i love you\n",
      "you ate much\n",
      "he works hard\n"
     ]
    },
    {
     "data": {
      "text/plain": [
       "['i love you', 'you ate much', 'he works hard']"
      ]
     },
     "execution_count": 7,
     "metadata": {},
     "output_type": "execute_result"
    }
   ],
   "source": [
    "words1=[\"you\", \"much\", \"hard\"]\n",
    "words2=[\"i\", \"you\", \"he\"]\n",
    "words3=[\"love\", \"ate\", \"works\"]\n",
    "\n",
    "# !! mantıklı cümle olması için sıralama: words2-words3-words1 olmalı.\n",
    "\n",
    "# önce bir değişken tanımlıyorum ki değişkeni çıktı alabileyim\n",
    "\n",
    "# sentence = map(lambda x, y, z : x + \" \" y + \" \" + z) fonksiyonumu yazdım. şimdi iterable'larıma geçiyorum\n",
    "\n",
    "sentence = map(lambda x, y, z : x + \" \" + y + \" \" + z, words2, words3, words1)\n",
    "\n",
    "# şimdi bunu yazdıralım.\n",
    "\n",
    "for i in sentence:\n",
    "    print(i)\n"
   ]
  },
  {
   "cell_type": "code",
   "execution_count": 73,
   "id": "finnish-dressing",
   "metadata": {},
   "outputs": [
    {
     "name": "stdout",
     "output_type": "stream",
     "text": [
      "i love you\n",
      "you ate much\n",
      "he works hard\n"
     ]
    }
   ],
   "source": [
    "words1=[\"you\", \"much\", \"hard\"]\n",
    "words2=[\"i\", \"you\", \"he\"]\n",
    "words3=[\"love\", \"ate\", \"works\"]\n",
    "\n",
    "# sentence yerine yukardaki sentence'ın karşılığı olan ifadeyi yazabilirim\n",
    "\n",
    "for i in map(lambda x, y, z : x + \" \" + y + \" \" + z, words2, words3, words1):\n",
    "    print(i)"
   ]
  },
  {
   "cell_type": "code",
   "execution_count": null,
   "id": "narrative-alexander",
   "metadata": {},
   "outputs": [],
   "source": [
    "# filter(fonksiyon, sequence) fonksiyonu iterable ın her bir elemanına uyguluyor, \n",
    "# True veya False olması durumuna göre o elemanı alıyor.\n",
    "\n",
    "# dolayısıyla sequence hep bir boolean ifade olmalı."
   ]
  },
  {
   "cell_type": "code",
   "execution_count": 10,
   "id": "satisfied-bruce",
   "metadata": {},
   "outputs": [
    {
     "name": "stdout",
     "output_type": "stream",
     "text": [
      "<class 'filter'>\n",
      "[0, 2, 4, 6, 8]\n"
     ]
    }
   ],
   "source": [
    "first_ten = [0, 1, 2, 3, 4, 5, 6, 7, 8 ,9]\n",
    "\n",
    "even = filter(lambda x: x%2==0, first_ten)\n",
    "print(type(even)) # o bir filter type, bunu print almak için \n",
    "print(list(even)) # onu list tipine çevirdik."
   ]
  },
  {
   "cell_type": "code",
   "execution_count": null,
   "id": "selected-training",
   "metadata": {},
   "outputs": [],
   "source": [
    "# ==\n",
    "# <\n",
    "# >\n",
    "# !=\n",
    "# in\n",
    "# not"
   ]
  },
  {
   "cell_type": "code",
   "execution_count": 8,
   "id": "contained-folks",
   "metadata": {},
   "outputs": [
    {
     "name": "stdout",
     "output_type": "stream",
     "text": [
      "swim\n",
      "me\n",
      "kiwi\n",
      "swim\n",
      "me\n",
      "kiwi\n"
     ]
    }
   ],
   "source": [
    "# uzunlukları 5 karakterden az olanları listele\n",
    "\n",
    "words = [\"apple\", \"swim\", \"clock\", \"me\", \"kiwi\", \"banana\"]\n",
    "\n",
    "# for döngüsüne filter'ı sokacağız. filter'ın üreteceği objectleri döngüye sokacağım.\n",
    "\n",
    "for i in filter(lambda x : len(x) < 5, words) :\n",
    "    print(i)"
   ]
  },
  {
   "cell_type": "code",
   "execution_count": 20,
   "id": "military-potential",
   "metadata": {},
   "outputs": [
    {
     "name": "stdout",
     "output_type": "stream",
     "text": [
      "['swim', 'me', 'kiwi']\n"
     ]
    }
   ],
   "source": [
    "# uzunlukları 5 karakterden az olanları listele\n",
    "\n",
    "words = [\"apple\", \"swim\", \"clock\", \"me\", \"kiwi\", \"banana\"]\n",
    "\n",
    "print(list(filter(lambda x: len(x)<5, words)))\n"
   ]
  },
  {
   "cell_type": "code",
   "execution_count": 14,
   "id": "occasional-absorption",
   "metadata": {},
   "outputs": [
    {
     "name": "stdout",
     "output_type": "stream",
     "text": [
      "Vowels are :  ['a', 'e', 'i']\n"
     ]
    }
   ],
   "source": [
    "# sesli harfleri seç ve listele\n",
    "\n",
    "first_ten = [\"a\", \"b\", \"c\", \"d\", \"e\", \"f\", \"g\", \"h\", \"i\", \"j\"]\n",
    "\n",
    "# kontrol için önce sesli harflerden oluşan bir liste yaparım.\n",
    "# sonra IN operatörünü kullanırız. (içinde var mı yok mu?)\n",
    "\n",
    "vowel_list = [\"a\", \"e\", \"i\", \"o\", \"u\"]\n",
    "\n",
    "vowels = filter(lambda x : True if x in vowel_list else False, first_ten)\n",
    "# filter, fonksiyona soktuğu iterable'ın True veren elemanlarını seçiyordu.\n",
    "\n",
    "print(\"Vowels are : \", list(vowels))"
   ]
  },
  {
   "cell_type": "code",
   "execution_count": 16,
   "id": "handy-calendar",
   "metadata": {},
   "outputs": [
    {
     "name": "stdout",
     "output_type": "stream",
     "text": [
      "Vowels are :  ['a', 'e', 'i']\n"
     ]
    }
   ],
   "source": [
    "# filter in içindeki ifadeyi şu şekilde de kısaltabiliriz.\n",
    "\n",
    "first_ten = [\"a\", \"b\", \"c\", \"d\", \"e\", \"f\", \"g\", \"h\", \"i\", \"j\"]\n",
    "\n",
    "vowels = filter(lambda x : x in vowel_list, first_ten)\n",
    "\n",
    "print(\"Vowels are : \", list(vowels))\n"
   ]
  },
  {
   "cell_type": "code",
   "execution_count": 19,
   "id": "relative-virginia",
   "metadata": {},
   "outputs": [
    {
     "data": {
      "text/plain": [
       "True"
      ]
     },
     "execution_count": 19,
     "metadata": {},
     "output_type": "execute_result"
    }
   ],
   "source": [
    "\"a\" in [\"a\", \"b\", \"c\"]"
   ]
  },
  {
   "cell_type": "code",
   "execution_count": 17,
   "id": "afraid-drunk",
   "metadata": {},
   "outputs": [
    {
     "name": "stdout",
     "output_type": "stream",
     "text": [
      "4\n",
      "8\n",
      "16\n"
     ]
    }
   ],
   "source": [
    "def modular_function(n):  # fonksiyona giren n değerini aşağıda lambda da kullanacağız.\n",
    "    return lambda x: x ** n # lambda x değer olarak n'in karesini verecek\n",
    "\n",
    "power_of_2 = modular_function(2)  # first sub-function derived from def\n",
    "power_of_3 = modular_function(3)  # second sub-function derived from def\n",
    "power_of_4 = modular_function(4)  # third sub-function derivedfrom def\n",
    "\n",
    "print(power_of_2(2))  # 2 to the power of 2\n",
    "print(power_of_3(2))  # 2 to the power of 3\n",
    "print(power_of_4(2))  # 2 to the power of 4\n",
    "\n",
    "# fonksiyonun içindeki lambda fonksiyonuna x olarak 2 değerini atamış olduk."
   ]
  },
  {
   "cell_type": "code",
   "execution_count": 11,
   "id": "damaged-rebound",
   "metadata": {},
   "outputs": [
    {
     "name": "stdout",
     "output_type": "stream",
     "text": [
      "9\n"
     ]
    }
   ],
   "source": [
    "def modular_function(n):  # fonksiyona giren n değerini aşağıda lambda da kullanacağız.\n",
    "    return lambda x: x ** n # lambda x değer olarak n'in karesini verecek\n",
    "\n",
    "print(modular_function(2)(3))   # 2 fonksiyonun argümanı, 3 lambdaya girecek argüman"
   ]
  },
  {
   "cell_type": "code",
   "execution_count": 20,
   "id": "powerful-devil",
   "metadata": {},
   "outputs": [
    {
     "data": {
      "text/plain": [
       "32"
      ]
     },
     "execution_count": 20,
     "metadata": {},
     "output_type": "execute_result"
    }
   ],
   "source": [
    "üzeribeş = lambda x : x ** 5\n",
    "\n",
    "üzeribeş(2)"
   ]
  },
  {
   "cell_type": "code",
   "execution_count": 21,
   "id": "parliamentary-dealer",
   "metadata": {},
   "outputs": [
    {
     "name": "stdout",
     "output_type": "stream",
     "text": [
      "32\n"
     ]
    }
   ],
   "source": [
    "print((lambda x : x**5)(2))"
   ]
  },
  {
   "cell_type": "code",
   "execution_count": 24,
   "id": "lasting-clock",
   "metadata": {
    "scrolled": true
   },
   "outputs": [
    {
     "data": {
      "text/plain": [
       "16"
      ]
     },
     "execution_count": 24,
     "metadata": {},
     "output_type": "execute_result"
    }
   ],
   "source": [
    "def modular_function(n):\n",
    "    return lambda x : x ** n\n",
    "\n",
    "karesinial = modular_function(2) # karesinial değişkeni burada bir fonksiyon oldu\n",
    "\n",
    "karesinial(4)  # şimdi de lambdadaki x'e 4 değeri atamış olduk"
   ]
  },
  {
   "cell_type": "code",
   "execution_count": 25,
   "id": "corporate-voice",
   "metadata": {},
   "outputs": [
    {
     "data": {
      "text/plain": [
       "8"
      ]
     },
     "execution_count": 25,
     "metadata": {},
     "output_type": "execute_result"
    }
   ],
   "source": [
    "küpünüal = modular_function(3) # küpünüal burda yalancı bir fonksiyon gibi oldu\n",
    "\n",
    "küpünüal(2)"
   ]
  },
  {
   "cell_type": "code",
   "execution_count": 22,
   "id": "sorted-addition",
   "metadata": {},
   "outputs": [
    {
     "name": "stdout",
     "output_type": "stream",
     "text": [
      "alex alex \n",
      "lara lara lara \n",
      "linda linda linda linda \n"
     ]
    }
   ],
   "source": [
    "def repeater(n):\n",
    "    return lambda x: x * n\n",
    "    \n",
    "repeat_2_times = repeater(2)  # repeats 2 times\n",
    "repeat_3_times = repeater(3)  # repeats 3 times\n",
    "repeat_4_times = repeater(4)  # repeats 4 times\n",
    "\n",
    "print(repeat_2_times('alex '))\n",
    "print(repeat_3_times('lara '))\n",
    "print(repeat_4_times('linda '))\n",
    "\n"
   ]
  },
  {
   "cell_type": "code",
   "execution_count": 26,
   "id": "every-mapping",
   "metadata": {},
   "outputs": [
    {
     "data": {
      "text/plain": [
       "'lindalindalindalinda'"
      ]
     },
     "execution_count": 26,
     "metadata": {},
     "output_type": "execute_result"
    }
   ],
   "source": [
    "tekrarlayıcı4 = lambda x : x * 4\n",
    "\n",
    "tekrarlayıcı4('linda')"
   ]
  },
  {
   "cell_type": "code",
   "execution_count": null,
   "id": "fixed-fabric",
   "metadata": {},
   "outputs": [],
   "source": [
    "create your own print function (named functioner) with emoji faces Such as:\n",
    "\n",
    "myPrint_smile(\"hello\")\n",
    "myPrint_sad(\"hello\")\n",
    "myPrint_neutral(\"hello\")\n",
    "\n",
    "hello :)\n",
    "hello :(\n",
    "hello :|\n",
    "\n",
    "    "
   ]
  },
  {
   "cell_type": "code",
   "execution_count": 34,
   "id": "confidential-manitoba",
   "metadata": {},
   "outputs": [
    {
     "name": "stdout",
     "output_type": "stream",
     "text": [
      "hello :)\n",
      "hello :(\n"
     ]
    }
   ],
   "source": [
    "def functioner(emoji=None) : # eğer fonksiyonu çağırırken bir argüman yazmazsak da işlem yapsın diye..\n",
    "    return lambda message : print(message, emoji) # fonksiyondan gelen emojiyi al, girilen mesajı ve emojiyi yan yana yazdır.\n",
    "\n",
    "print_smile = functioner(\":)\")   # fonksiyona girecek argüman \":)\"\n",
    "print_smile(\"hello\")           # lambdaya girecek argüman \"hello\"\n",
    " \n",
    "print_sad = functioner(\":(\")\n",
    "print_sad(\"hello\")          "
   ]
  },
  {
   "cell_type": "code",
   "execution_count": 33,
   "id": "standard-exhibition",
   "metadata": {},
   "outputs": [
    {
     "name": "stdout",
     "output_type": "stream",
     "text": [
      "66 :)\n",
      "66 :)\n"
     ]
    }
   ],
   "source": [
    "# aslında yukarda şu alttaki lambda işlemini yaptırdık. tek farkı emoji değerini fonksiyonun parametresinden aldık\n",
    "\n",
    "(lambda message : print(message, \":)\"))(66) \n",
    "\n",
    "print_smile = functioner(\":)\")\n",
    "\n",
    "print_smile(66) # aynı şey\n",
    "\n"
   ]
  },
  {
   "cell_type": "code",
   "execution_count": null,
   "id": "christian-remark",
   "metadata": {},
   "outputs": [],
   "source": []
  },
  {
   "cell_type": "code",
   "execution_count": 31,
   "id": "involved-collector",
   "metadata": {},
   "outputs": [
    {
     "name": "stdout",
     "output_type": "stream",
     "text": [
      "55\n"
     ]
    }
   ],
   "source": [
    "(lambda x : print(x))(33+22)  # lambda burda \"x'i çıktı al\" işlemi yapıyor\n",
    "\n",
    " # lambdanın içine gelen şeyi yani (33+22) bunu çıktı al..."
   ]
  },
  {
   "cell_type": "code",
   "execution_count": 40,
   "id": "analyzed-palace",
   "metadata": {},
   "outputs": [
    {
     "data": {
      "text/plain": [
       "3"
      ]
     },
     "execution_count": 40,
     "metadata": {},
     "output_type": "execute_result"
    }
   ],
   "source": [
    "# kendi fonksiyonunuzu üretin\n",
    "\n",
    "# ali_print() --> print()\n",
    "# ali_max() --> max()\n",
    "# ali_bool() --> bool()\n",
    "# ali_sorted() --> sorted()\n",
    "\n",
    "def func_generator(parametre) :\n",
    "    return lambda x : parametre(x) # lambdanın yaptığı: fonksiyonu çağırırken girilecek parametre'nin içine x'i sok.\n",
    "\n",
    "ali_max = func_generator(max)\n",
    "ali_max([1,2,3])"
   ]
  },
  {
   "cell_type": "code",
   "execution_count": 41,
   "id": "sustained-stanley",
   "metadata": {},
   "outputs": [
    {
     "name": "stdout",
     "output_type": "stream",
     "text": [
      "hüseyin\n"
     ]
    }
   ],
   "source": [
    "ali_print = func_generator(print)\n",
    "ali_print(\"hüseyin\")"
   ]
  },
  {
   "cell_type": "code",
   "execution_count": 42,
   "id": "cognitive-ethernet",
   "metadata": {},
   "outputs": [
    {
     "data": {
      "text/plain": [
       "[1, 2, 4, 6, 9]"
      ]
     },
     "execution_count": 42,
     "metadata": {},
     "output_type": "execute_result"
    }
   ],
   "source": [
    "ali_sorted = func_generator(sorted)\n",
    "ali_sorted([1, 6, 2, 9, 4])"
   ]
  },
  {
   "cell_type": "code",
   "execution_count": 43,
   "id": "enabling-prime",
   "metadata": {},
   "outputs": [
    {
     "data": {
      "text/plain": [
       "False"
      ]
     },
     "execution_count": 43,
     "metadata": {},
     "output_type": "execute_result"
    }
   ],
   "source": [
    "ali_bool = func_generator(bool)\n",
    "ali_bool(\"\")"
   ]
  },
  {
   "cell_type": "markdown",
   "id": "arctic-madrid",
   "metadata": {},
   "source": [
    "# MODULES"
   ]
  },
  {
   "cell_type": "code",
   "execution_count": null,
   "id": "bigger-hypothesis",
   "metadata": {},
   "outputs": [],
   "source": []
  },
  {
   "cell_type": "markdown",
   "id": "western-forwarding",
   "metadata": {},
   "source": [
    "### Başlangıçta, Python içe aktarma mekanizması mevcut dizinde bir modül arar, daha sonra yerleşik modüller incelenir ve hiçbir şey bulunmazsa bir hata ortaya çıkar. Modül, içe aktarıldıktan sonra adı veya takma adı altında kullanılabilir hale gelir ve içinde tanımlanan işlevlere ve değişkenlere erişmek için noktalı gösterimi kullanabilirsiniz."
   ]
  },
  {
   "cell_type": "markdown",
   "id": "loving-access",
   "metadata": {},
   "source": [
    "### Modül dediğimiz şey py uzantılı dosyadan başka birşey değildir\n",
    "\n",
    "### Mesela matematik fonksiyonlarından oluşan math modülü, py uzantılı bir dosyadır.\n",
    "\n",
    "\n"
   ]
  },
  {
   "cell_type": "code",
   "execution_count": null,
   "id": "cooked-wright",
   "metadata": {},
   "outputs": [],
   "source": [
    "import my_module  # we've loaded my_module\n",
    "\n",
    "my_module.my_function()  # we've called a function defined in my_module\n",
    "\n",
    "print(my_module.my_variable)  # we've accessed a variable defined in my_module"
   ]
  },
  {
   "cell_type": "code",
   "execution_count": null,
   "id": "imposed-temple",
   "metadata": {},
   "outputs": [],
   "source": [
    "import my_module as mym # loads my_module, we give a nickname to it\n",
    "\n",
    "mym.my_function()  # we can use it the same way\n",
    "\n",
    "print(mym.my_variable)  "
   ]
  },
  {
   "cell_type": "code",
   "execution_count": null,
   "id": "technological-definition",
   "metadata": {},
   "outputs": [],
   "source": [
    "from my_module import my_function  # we've loaded only my_function from my_module\n",
    "\n",
    "my_function()  # my_function can be used directly now at the current module\n",
    "\n",
    "\n",
    "# Note that in the example above, we imported only my_function. \n",
    "# So if we try to use this syntax : my_module.my_function an error will be raise."
   ]
  },
  {
   "cell_type": "code",
   "execution_count": null,
   "id": "approximate-keeping",
   "metadata": {},
   "outputs": [],
   "source": [
    "def modular_function(n):  # fonksiyona giren n değerini aşağıda lambda da kullanacağız.\n",
    "    return lambda x: x ** n # lambda x değer olarak n'in karesini verecek\n",
    "\n",
    "power_of_2 = modular_function(2)  # first sub-function derived from def\n",
    "power_of_3 = modular_function(3)  # second sub-function derived from def\n",
    "power_of_4 = modular_function(4)  # third sub-function derivedfrom def\n",
    "\n",
    "print(power_of_2(2))  # 2 to the power of 2\n",
    "print(power_of_3(2))  # 2 to the power of 3\n",
    "print(power_of_4(2))  # 2 to the power of 4"
   ]
  },
  {
   "cell_type": "code",
   "execution_count": 44,
   "id": "conditional-combat",
   "metadata": {},
   "outputs": [],
   "source": [
    "import math # önce math modülünü import ediyoruz\n",
    "\n",
    "math.factorial() # math modülündeki factorial fonksiyonunu çağırdık"
   ]
  },
  {
   "cell_type": "code",
   "execution_count": null,
   "id": "beautiful-business",
   "metadata": {},
   "outputs": [],
   "source": [
    "import math as matematik # math modülü matematik ismiyle indi. \n",
    "\n",
    "matematik.cos() # artık math modülünü matematik adıyla kullanıyorum.\n"
   ]
  },
  {
   "cell_type": "code",
   "execution_count": 46,
   "id": "understanding-queue",
   "metadata": {},
   "outputs": [
    {
     "data": {
      "text/plain": [
       "2.718281828459045"
      ]
     },
     "execution_count": 46,
     "metadata": {},
     "output_type": "execute_result"
    }
   ],
   "source": [
    "matematik.e # exponansion veriyor"
   ]
  },
  {
   "cell_type": "code",
   "execution_count": 47,
   "id": "metropolitan-handbook",
   "metadata": {},
   "outputs": [
    {
     "data": {
      "text/plain": [
       "3.141592653589793"
      ]
     },
     "execution_count": 47,
     "metadata": {},
     "output_type": "execute_result"
    }
   ],
   "source": [
    "matematik.pi"
   ]
  },
  {
   "cell_type": "code",
   "execution_count": 48,
   "id": "olive-tours",
   "metadata": {
    "scrolled": true
   },
   "outputs": [
    {
     "data": {
      "text/plain": [
       "['__doc__',\n",
       " '__loader__',\n",
       " '__name__',\n",
       " '__package__',\n",
       " '__spec__',\n",
       " 'acos',\n",
       " 'acosh',\n",
       " 'asin',\n",
       " 'asinh',\n",
       " 'atan',\n",
       " 'atan2',\n",
       " 'atanh',\n",
       " 'ceil',\n",
       " 'copysign',\n",
       " 'cos',\n",
       " 'cosh',\n",
       " 'degrees',\n",
       " 'e',\n",
       " 'erf',\n",
       " 'erfc',\n",
       " 'exp',\n",
       " 'expm1',\n",
       " 'fabs',\n",
       " 'factorial',\n",
       " 'floor',\n",
       " 'fmod',\n",
       " 'frexp',\n",
       " 'fsum',\n",
       " 'gamma',\n",
       " 'gcd',\n",
       " 'hypot',\n",
       " 'inf',\n",
       " 'isclose',\n",
       " 'isfinite',\n",
       " 'isinf',\n",
       " 'isnan',\n",
       " 'ldexp',\n",
       " 'lgamma',\n",
       " 'log',\n",
       " 'log10',\n",
       " 'log1p',\n",
       " 'log2',\n",
       " 'modf',\n",
       " 'nan',\n",
       " 'pi',\n",
       " 'pow',\n",
       " 'radians',\n",
       " 'remainder',\n",
       " 'sin',\n",
       " 'sinh',\n",
       " 'sqrt',\n",
       " 'tan',\n",
       " 'tanh',\n",
       " 'tau',\n",
       " 'trunc']"
      ]
     },
     "execution_count": 48,
     "metadata": {},
     "output_type": "execute_result"
    }
   ],
   "source": [
    "dir(math) # modülün içindeki tüm fonksiyon ve değişkenleri veren fonksiyon"
   ]
  },
  {
   "cell_type": "code",
   "execution_count": 50,
   "id": "thousand-freedom",
   "metadata": {},
   "outputs": [
    {
     "data": {
      "text/plain": [
       "24"
      ]
     },
     "execution_count": 50,
     "metadata": {},
     "output_type": "execute_result"
    }
   ],
   "source": [
    "math.factorial(4)"
   ]
  },
  {
   "cell_type": "code",
   "execution_count": 52,
   "id": "entertaining-austria",
   "metadata": {},
   "outputs": [],
   "source": [
    "# math modülünün içerisinde sadece bana lazım olan fonksiyon/değişkenleri indirebiliyorum\n",
    "# bu hafızaya yüklenmeyi önler\n",
    "# bu yüzden her zaman from ... import kullanılması tavsiye ediliyor\n",
    "\n",
    "from math import pi, log10, factorial "
   ]
  },
  {
   "cell_type": "code",
   "execution_count": 53,
   "id": "through-century",
   "metadata": {},
   "outputs": [
    {
     "name": "stdout",
     "output_type": "stream",
     "text": [
      "3.141592653589793\n"
     ]
    }
   ],
   "source": [
    "print(pi)"
   ]
  },
  {
   "cell_type": "code",
   "execution_count": 54,
   "id": "round-serbia",
   "metadata": {},
   "outputs": [
    {
     "name": "stdout",
     "output_type": "stream",
     "text": [
      "3.0\n"
     ]
    }
   ],
   "source": [
    "print(log10(1000)) # logaritma 10 tabanına göre 1000, 3'tür"
   ]
  },
  {
   "cell_type": "code",
   "execution_count": 55,
   "id": "tough-discretion",
   "metadata": {},
   "outputs": [
    {
     "name": "stdout",
     "output_type": "stream",
     "text": [
      "24\n"
     ]
    }
   ],
   "source": [
    "print(factorial(4))"
   ]
  },
  {
   "cell_type": "code",
   "execution_count": 56,
   "id": "norman-happening",
   "metadata": {},
   "outputs": [],
   "source": [
    "import string"
   ]
  },
  {
   "cell_type": "code",
   "execution_count": 57,
   "id": "rational-dylan",
   "metadata": {},
   "outputs": [
    {
     "data": {
      "text/plain": [
       "'!\"#$%&\\'()*+,-./:;<=>?@[\\\\]^_`{|}~'"
      ]
     },
     "execution_count": 57,
     "metadata": {},
     "output_type": "execute_result"
    }
   ],
   "source": [
    "string.punctuation"
   ]
  },
  {
   "cell_type": "code",
   "execution_count": 59,
   "id": "maritime-father",
   "metadata": {},
   "outputs": [
    {
     "data": {
      "text/plain": [
       "['Formatter',\n",
       " 'Template',\n",
       " '_ChainMap',\n",
       " '_TemplateMetaclass',\n",
       " '__all__',\n",
       " '__builtins__',\n",
       " '__cached__',\n",
       " '__doc__',\n",
       " '__file__',\n",
       " '__loader__',\n",
       " '__name__',\n",
       " '__package__',\n",
       " '__spec__',\n",
       " '_re',\n",
       " '_string',\n",
       " 'ascii_letters',\n",
       " 'ascii_lowercase',\n",
       " 'ascii_uppercase',\n",
       " 'capwords',\n",
       " 'digits',\n",
       " 'hexdigits',\n",
       " 'octdigits',\n",
       " 'printable',\n",
       " 'punctuation',\n",
       " 'whitespace']"
      ]
     },
     "execution_count": 59,
     "metadata": {},
     "output_type": "execute_result"
    }
   ],
   "source": [
    " dir(string)"
   ]
  },
  {
   "cell_type": "code",
   "execution_count": null,
   "id": "controlling-devon",
   "metadata": {},
   "outputs": [],
   "source": [
    "import today function from date object and \n",
    "\n"
   ]
  },
  {
   "cell_type": "code",
   "execution_count": 60,
   "id": "central-remove",
   "metadata": {},
   "outputs": [],
   "source": [
    "import datetime # datetime içerisinde başka klasörler var. şimdi aşağı doğru inelim"
   ]
  },
  {
   "cell_type": "code",
   "execution_count": 64,
   "id": "beautiful-alarm",
   "metadata": {},
   "outputs": [
    {
     "name": "stdout",
     "output_type": "stream",
     "text": [
      "2021-05-08\n"
     ]
    }
   ],
   "source": [
    "print(datetime.date.today())\n",
    "\n",
    "# datetime burda bir klasördür. içinde date klasörü var (bu modüldür ve bunun gibi başka modüller de var.)\n",
    "# date'in içinde de fonksiyonlar var. bunlardan biri de today() fonksiyonu\n",
    "# datetime'ı import edince artık içindeki modülleri kullanabilirim. \n",
    "# ve o modüllerin içindeki fonksiyonları..."
   ]
  },
  {
   "cell_type": "code",
   "execution_count": null,
   "id": "prescription-shakespeare",
   "metadata": {},
   "outputs": [],
   "source": [
    " # şimdi direkt today fonksiyonunu indirelim\n",
    "\n",
    "from datetime.date import today"
   ]
  },
  {
   "cell_type": "code",
   "execution_count": 65,
   "id": "atomic-correspondence",
   "metadata": {},
   "outputs": [
    {
     "name": "stdout",
     "output_type": "stream",
     "text": [
      "2021-05-08 13:53:29.521057\n"
     ]
    }
   ],
   "source": [
    "print(datetime.datetime.now())"
   ]
  },
  {
   "cell_type": "code",
   "execution_count": 67,
   "id": "differential-worcester",
   "metadata": {},
   "outputs": [
    {
     "name": "stdout",
     "output_type": "stream",
     "text": [
      "0571-04-22\n"
     ]
    }
   ],
   "source": [
    "from datetime import date\n",
    "\n",
    "birth = date(571, 4 , 22)\n",
    "print(birth)"
   ]
  },
  {
   "cell_type": "code",
   "execution_count": 68,
   "id": "respective-neighbor",
   "metadata": {},
   "outputs": [
    {
     "name": "stdout",
     "output_type": "stream",
     "text": [
      "0632-06-08\n"
     ]
    }
   ],
   "source": [
    "death = date(632, 6 , 8)\n",
    "print(death)"
   ]
  },
  {
   "cell_type": "code",
   "execution_count": null,
   "id": "fundamental-wrapping",
   "metadata": {},
   "outputs": [],
   "source": [
    "date.toordinal()  # bu objectin ürettiği gün sayısını çıkartıyor."
   ]
  },
  {
   "cell_type": "code",
   "execution_count": 69,
   "id": "matched-consultancy",
   "metadata": {},
   "outputs": [
    {
     "data": {
      "text/plain": [
       "22327"
      ]
     },
     "execution_count": 69,
     "metadata": {},
     "output_type": "execute_result"
    }
   ],
   "source": [
    "date.toordinal(death) - date.toordinal(birth)\n",
    "\n",
    "# kaç gün yaşadığını bulduk"
   ]
  },
  {
   "cell_type": "code",
   "execution_count": 70,
   "id": "introductory-vacuum",
   "metadata": {},
   "outputs": [
    {
     "name": "stdout",
     "output_type": "stream",
     "text": [
      "İstanbul\n"
     ]
    }
   ],
   "source": [
    "from random import choice  # rastgele seçim yapan fonksiyon\n",
    "\n",
    "city = ['Stockholm', 'İstanbul', 'Paris', 'NewYork']\n",
    "print(choice(city))"
   ]
  },
  {
   "cell_type": "code",
   "execution_count": null,
   "id": "higher-roads",
   "metadata": {},
   "outputs": [],
   "source": []
  },
  {
   "cell_type": "code",
   "execution_count": null,
   "id": "fourth-immigration",
   "metadata": {},
   "outputs": [],
   "source": []
  }
 ],
 "metadata": {
  "kernelspec": {
   "display_name": "Python 3",
   "language": "python",
   "name": "python3"
  },
  "language_info": {
   "codemirror_mode": {
    "name": "ipython",
    "version": 3
   },
   "file_extension": ".py",
   "mimetype": "text/x-python",
   "name": "python",
   "nbconvert_exporter": "python",
   "pygments_lexer": "ipython3",
   "version": "3.7.8"
  }
 },
 "nbformat": 4,
 "nbformat_minor": 5
}
