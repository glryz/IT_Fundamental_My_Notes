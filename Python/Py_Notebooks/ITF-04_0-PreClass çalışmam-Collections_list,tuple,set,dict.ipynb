{
 "cells": [
  {
   "cell_type": "code",
   "execution_count": 1,
   "id": "determined-midwest",
   "metadata": {},
   "outputs": [
    {
     "name": "stdout",
     "output_type": "stream",
     "text": [
      "{1, 2, 3, 4, 5, 6, 7, 8, 9, 10}\n"
     ]
    }
   ],
   "source": [
    "kume ={1,2,3,4,5,6}\n",
    "kume_2={7,8,9,10}\n",
    "kume.update(kume_2)\n",
    "print(kume)"
   ]
  },
  {
   "cell_type": "code",
   "execution_count": 2,
   "id": "intended-ordinary",
   "metadata": {},
   "outputs": [
    {
     "name": "stdout",
     "output_type": "stream",
     "text": [
      "{1, 2, 3, 4, 5, 6, 7}\n"
     ]
    }
   ],
   "source": [
    "kume ={1,2,3,4,5,6}\n",
    "kume_2={7,8,9,10}\n",
    "kume.update({7})\n",
    "print(kume)"
   ]
  },
  {
   "cell_type": "code",
   "execution_count": 3,
   "id": "opposed-placement",
   "metadata": {},
   "outputs": [
    {
     "name": "stdout",
     "output_type": "stream",
     "text": [
      "{1, 2, 3, 4, 5, 6}\n"
     ]
    }
   ],
   "source": [
    "kume ={1,2,3,4,5,6}\n",
    "kume_yedek =set()  # boş küme oluşturduk\n",
    "kume_yedek=kume.copy()\n",
    "print(kume_yedek)"
   ]
  },
  {
   "cell_type": "code",
   "execution_count": 4,
   "id": "sixth-opening",
   "metadata": {},
   "outputs": [
    {
     "name": "stdout",
     "output_type": "stream",
     "text": [
      "{1, 2, 3, 5, 6}\n"
     ]
    }
   ],
   "source": [
    "kume ={1,2,3,4,5,6}\n",
    "kume.remove(4)\n",
    "print(kume)"
   ]
  },
  {
   "cell_type": "code",
   "execution_count": 6,
   "id": "recovered-mercy",
   "metadata": {},
   "outputs": [
    {
     "name": "stdout",
     "output_type": "stream",
     "text": [
      "{1, 2, 3, 4, 5, 6, 9, 10}\n",
      "{1, 2, 3, 4, 5, 6, 7, 8, 9, 10}\n"
     ]
    }
   ],
   "source": [
    "A = {1,2,3,4,9}\n",
    "B = {3,4,5,6,10}\n",
    "C = {4,7,8,9,10}\n",
    "\n",
    "print(A.union(B))\n",
    "print(A.union(B.union(C)))"
   ]
  },
  {
   "cell_type": "code",
   "execution_count": 15,
   "id": "express-alpha",
   "metadata": {},
   "outputs": [
    {
     "name": "stdout",
     "output_type": "stream",
     "text": [
      "{4}\n"
     ]
    }
   ],
   "source": [
    "print(A.intersection(B.intersection(C)))"
   ]
  },
  {
   "cell_type": "code",
   "execution_count": 14,
   "id": "religious-tokyo",
   "metadata": {},
   "outputs": [
    {
     "name": "stdout",
     "output_type": "stream",
     "text": [
      "{9, 4}\n"
     ]
    }
   ],
   "source": [
    "A.intersection_update(C)\n",
    "print(A)"
   ]
  },
  {
   "cell_type": "code",
   "execution_count": 13,
   "id": "executive-relevance",
   "metadata": {},
   "outputs": [
    {
     "name": "stdout",
     "output_type": "stream",
     "text": [
      "{1, 2, 9}\n"
     ]
    }
   ],
   "source": [
    "A = {1,2,3,4,9}\n",
    "B = {3,4,5,6,10}\n",
    "C = {4,7,8,9,10}\n",
    "A.difference_update(B)\n",
    "print(A)"
   ]
  },
  {
   "cell_type": "code",
   "execution_count": 16,
   "id": "weird-rwanda",
   "metadata": {},
   "outputs": [
    {
     "name": "stdout",
     "output_type": "stream",
     "text": [
      "True\n"
     ]
    }
   ],
   "source": [
    "A = {1,2,5,8,9,12}\n",
    "B = {1,2,5}\n",
    " \n",
    "print(B.issubset(A))"
   ]
  },
  {
   "cell_type": "code",
   "execution_count": 17,
   "id": "temporal-narrative",
   "metadata": {},
   "outputs": [
    {
     "name": "stdout",
     "output_type": "stream",
     "text": [
      "True\n"
     ]
    }
   ],
   "source": [
    "A = {1,2,5,8,9,12}\n",
    "B = {1,2,5}\n",
    "print(A.issuperset(B))"
   ]
  },
  {
   "cell_type": "code",
   "execution_count": null,
   "id": "sitting-hazard",
   "metadata": {},
   "outputs": [],
   "source": []
  },
  {
   "cell_type": "code",
   "execution_count": null,
   "id": "vulnerable-celebrity",
   "metadata": {},
   "outputs": [],
   "source": []
  }
 ],
 "metadata": {
  "kernelspec": {
   "display_name": "Python 3",
   "language": "python",
   "name": "python3"
  },
  "language_info": {
   "codemirror_mode": {
    "name": "ipython",
    "version": 3
   },
   "file_extension": ".py",
   "mimetype": "text/x-python",
   "name": "python",
   "nbconvert_exporter": "python",
   "pygments_lexer": "ipython3",
   "version": "3.7.8"
  }
 },
 "nbformat": 4,
 "nbformat_minor": 5
}
