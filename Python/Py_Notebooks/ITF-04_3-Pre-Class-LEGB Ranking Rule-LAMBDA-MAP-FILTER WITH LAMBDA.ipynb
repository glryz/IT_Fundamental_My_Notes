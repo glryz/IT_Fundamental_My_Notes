{
 "cells": [
  {
   "cell_type": "code",
   "execution_count": 3,
   "id": "activated-stress",
   "metadata": {},
   "outputs": [
    {
     "name": "stdout",
     "output_type": "stream",
     "text": [
      "local\n",
      "global\n"
     ]
    }
   ],
   "source": [
    "variable = \"global\"\n",
    "\n",
    "def func_outer():\n",
    "    variable = \"enclosing outer local\"\n",
    "    def func_inner():\n",
    "        variable = \"enclosing inner local\"\n",
    "        def func_local():\n",
    "            variable = \"local\"\n",
    "            print(variable)\n",
    "        func_local()\n",
    "    func_inner()\n",
    " \n",
    "func_outer()  # prints 'local' defined in the innermost function\n",
    "print(variable)  # 'global' level variable holds its value\n"
   ]
  },
  {
   "cell_type": "code",
   "execution_count": 4,
   "id": "aggregate-inspection",
   "metadata": {},
   "outputs": [
    {
     "name": "stdout",
     "output_type": "stream",
     "text": [
      "enclosing inner local\n",
      "global\n"
     ]
    }
   ],
   "source": [
    "variable = \"global\"\n",
    "\n",
    "def func_outer():\n",
    "    variable = \"enclosing outer local\"\n",
    "    def func_inner():\n",
    "        variable = \"enclosing inner local\"\n",
    "        def func_local():\n",
    "            farklı = \"local\"\n",
    "            print(variable)\n",
    "        func_local()\n",
    "    func_inner()\n",
    " \n",
    "func_outer()  # prints 'local' defined in the innermost function\n",
    "print(variable)  # 'global' level variable holds its value"
   ]
  },
  {
   "cell_type": "code",
   "execution_count": 5,
   "id": "industrial-worthy",
   "metadata": {},
   "outputs": [
    {
     "name": "stdout",
     "output_type": "stream",
     "text": [
      "enclosing outer local\n",
      "global\n"
     ]
    }
   ],
   "source": [
    "variable = \"global\"\n",
    "\n",
    "def func_outer():\n",
    "    variable = \"enclosing outer local\"\n",
    "    def func_inner():\n",
    "        farklı2 = \"enclosing inner local\"\n",
    "        def func_local():\n",
    "            farklı = \"local\"\n",
    "            print(variable)\n",
    "        func_local()\n",
    "    func_inner()\n",
    " \n",
    "func_outer()  # prints 'local' defined in the innermost function\n",
    "print(variable)  # 'global' level variable holds its value"
   ]
  },
  {
   "cell_type": "code",
   "execution_count": 8,
   "id": "satellite-patent",
   "metadata": {},
   "outputs": [
    {
     "name": "stdout",
     "output_type": "stream",
     "text": [
      "1\n",
      "\n",
      "1\n"
     ]
    }
   ],
   "source": [
    "count = 1\n",
    "\n",
    "def print_global():\n",
    "    print(count)\n",
    " \n",
    "print_global()\n",
    " \n",
    "def counter():\n",
    "    print(count)\n",
    "    count += 1  # we're trying to change its value. \n",
    "               \n",
    " \n",
    "print()  # just empty line\n",
    "counter() \n",
    "\n",
    "\n",
    "#  hatanın nedeni, değiştirmeye çalıştığımız değişkenin (count)\n",
    "# yerel kapsamda yorumlayıcı tarafından bulunamamış olmasıdır.\n",
    "# Bunun nedeni, yerel kapsamda global bir değişken kullanmamızdır."
   ]
  },
  {
   "cell_type": "code",
   "execution_count": 7,
   "id": "blessed-adelaide",
   "metadata": {},
   "outputs": [
    {
     "name": "stdout",
     "output_type": "stream",
     "text": [
      "1\n",
      "2\n",
      "3\n"
     ]
    }
   ],
   "source": [
    "# bu hatayı önlemek için şimdi counter fonksiyonu içinde count değişkenini global olarak tanıtalım.\n",
    "\n",
    "count = 1\n",
    "\n",
    "def counter():\n",
    "    global count  # we've changed its scope\n",
    "    print(count)  # it's global anymore\n",
    "    count += 1\n",
    " \n",
    "counter() \n",
    "counter()\n",
    "counter()\n",
    "\n",
    "# şimdi scope'u değiştirmiş olduk ve counter fonksiyonunun içinde global count'u kullanabildik"
   ]
  },
  {
   "cell_type": "code",
   "execution_count": 9,
   "id": "widespread-signal",
   "metadata": {},
   "outputs": [
    {
     "name": "stdout",
     "output_type": "stream",
     "text": [
      "inner: inner variable\n",
      "outer: outer variable\n"
     ]
    }
   ],
   "source": [
    "def func_enclosing1():\n",
    "    x = 'outer variable'\n",
    "    def func_enclosing2():\n",
    "        x = 'inner variable'\n",
    "        print(\"inner:\", x)\n",
    "    func_enclosing2()\n",
    "    print(\"outer:\", x)\n",
    "\n",
    "func_enclosing1() \n",
    "\n",
    "# We will make the variable x nonlocal so we can use its inner-value \n",
    "# in the outer function (scope). Let's see."
   ]
  },
  {
   "cell_type": "code",
   "execution_count": 10,
   "id": "virgin-charge",
   "metadata": {},
   "outputs": [
    {
     "name": "stdout",
     "output_type": "stream",
     "text": [
      "inner: inner variable\n",
      "outer: inner variable\n"
     ]
    }
   ],
   "source": [
    "def enclosing_func1():\n",
    "    x = 'outer variable'\n",
    "    def enclosing_func2():\n",
    "        nonlocal x  # its inner-value can be used in the outer scope\n",
    "        x = 'inner variable'\n",
    "        print(\"inner:\", x)\n",
    "    enclosing_func2()\n",
    "    print(\"outer:\", x)\n",
    "\n",
    "enclosing_func1() "
   ]
  },
  {
   "cell_type": "code",
   "execution_count": null,
   "id": "incorrect-article",
   "metadata": {},
   "outputs": [],
   "source": []
  },
  {
   "cell_type": "code",
   "execution_count": 14,
   "id": "wooden-application",
   "metadata": {},
   "outputs": [
    {
     "name": "stdout",
     "output_type": "stream",
     "text": [
      "15\n"
     ]
    }
   ],
   "source": [
    "x = 10\n",
    "  \n",
    "def my_function(): \n",
    "    global x\n",
    "    x += 5 \n",
    "    print(x)\n",
    "\n",
    "my_function()"
   ]
  },
  {
   "cell_type": "code",
   "execution_count": 15,
   "id": "sublime-destination",
   "metadata": {},
   "outputs": [
    {
     "name": "stdout",
     "output_type": "stream",
     "text": [
      "hello\n"
     ]
    }
   ],
   "source": [
    "def myfunc1():\n",
    "  x = \"hi\"\n",
    "  def myfunc2():\n",
    "    nonlocal x\n",
    "    x = \"hello\"\n",
    "  myfunc2() \n",
    "  return x\n",
    "\n",
    "print(myfunc1())\n",
    "\n",
    "# x, iç fonksiyonda nonlocal olarak tanımlandığı için dışarda da x'in değeri hello oldu."
   ]
  },
  {
   "cell_type": "code",
   "execution_count": 16,
   "id": "completed-certification",
   "metadata": {},
   "outputs": [
    {
     "name": "stdout",
     "output_type": "stream",
     "text": [
      "My name is Richard\n"
     ]
    }
   ],
   "source": [
    "# Fill in the blanks indicated by ....  to get an output like My name is Richard  ,\n",
    "# (Call the function or print the x)\n",
    "\n",
    "x = 'My name is Richard'\n",
    "def my_function_1(): \n",
    "    x = 'My name is John' \n",
    "        \n",
    "print(x)"
   ]
  },
  {
   "cell_type": "code",
   "execution_count": 18,
   "id": "supported-irish",
   "metadata": {},
   "outputs": [
    {
     "name": "stdout",
     "output_type": "stream",
     "text": [
      "I love London!\n"
     ]
    }
   ],
   "source": [
    "# Fill in the blanks indicated by ....  \n",
    "# to get an output like I love London! when the function called. \n",
    "# (Change the global variable in local) \n",
    "\n",
    "city = \"I love Paris!\"\n",
    "\n",
    "def my_function(): \n",
    "    city=\"I love London!\"\n",
    "    print(city)\n",
    "my_function()"
   ]
  },
  {
   "cell_type": "code",
   "execution_count": 23,
   "id": "assisted-profit",
   "metadata": {},
   "outputs": [
    {
     "name": "stdout",
     "output_type": "stream",
     "text": [
      "inner: later\n",
      "outer: later\n"
     ]
    }
   ],
   "source": [
    "# Examine the following nested function.  Fill in the blanks indicated by ....  to get an output like:\n",
    "# inner: later\n",
    "# outer: later \n",
    "# when the function outer() called.\n",
    "\n",
    "def outer():\n",
    "    x = \"previous\"\n",
    "    \n",
    "    def inner():\n",
    "        nonlocal x\n",
    "        x = \"later\"\n",
    "        print(\"inner:\", x)\n",
    "    \n",
    "    inner()\n",
    "    print(\"outer:\", x)\n",
    "outer()"
   ]
  },
  {
   "cell_type": "markdown",
   "id": "normal-success",
   "metadata": {},
   "source": [
    "# LAMBDA FUNCTIONS"
   ]
  },
  {
   "cell_type": "code",
   "execution_count": 29,
   "id": "ceramic-massachusetts",
   "metadata": {},
   "outputs": [
    {
     "name": "stdout",
     "output_type": "stream",
     "text": [
      "4\n"
     ]
    }
   ],
   "source": [
    "(lambda x: x**2)(2)  # squares '2'\n",
    "print((lambda x: x**2)(2))\n"
   ]
  },
  {
   "cell_type": "code",
   "execution_count": 30,
   "id": "broke-filing",
   "metadata": {},
   "outputs": [
    {
     "name": "stdout",
     "output_type": "stream",
     "text": [
      "4.0\n"
     ]
    }
   ],
   "source": [
    "print((lambda x, y: (x+y)/2)(3, 5))  "
   ]
  },
  {
   "cell_type": "code",
   "execution_count": 31,
   "id": "protected-knitting",
   "metadata": {},
   "outputs": [
    {
     "name": "stdout",
     "output_type": "stream",
     "text": [
      "4.0\n"
     ]
    }
   ],
   "source": [
    "average = (lambda x, y: (x+y)/2)(3, 5) \n",
    "print(average)\n"
   ]
  },
  {
   "cell_type": "code",
   "execution_count": 32,
   "id": "prostate-fireplace",
   "metadata": {},
   "outputs": [
    {
     "name": "stdout",
     "output_type": "stream",
     "text": [
      "4.0\n"
     ]
    }
   ],
   "source": [
    "average = lambda x, y: (x+y)/2\n",
    "print(average(3, 5))  \n"
   ]
  },
  {
   "cell_type": "code",
   "execution_count": 28,
   "id": "brutal-heater",
   "metadata": {},
   "outputs": [
    {
     "name": "stdout",
     "output_type": "stream",
     "text": [
      "hellohellohello\n"
     ]
    }
   ],
   "source": [
    "echo_word = lambda x, y : x * y\n",
    "\n",
    "print(echo_word('hello', 3))"
   ]
  },
  {
   "cell_type": "markdown",
   "id": "laughing-jewelry",
   "metadata": {},
   "source": [
    "# lambda'nın map fonksiyonu ile kullanımı\n",
    "\n",
    "## map() returns a list of the outputs after applying the given function to each element of a given iterable object such as list, tuple, etc.\n",
    "\n",
    "## map() takes each element from iterable objects one by one and in order."
   ]
  },
  {
   "cell_type": "code",
   "execution_count": null,
   "id": "floppy-filling",
   "metadata": {},
   "outputs": [],
   "source": [
    "iterable = [1, 2, 3, 4, 5]\n",
    "map(lambda x:x**2, iterable)\n",
    "result = map(lambda x:x**2, iterable)\n",
    "print(type(result))  # it's a map type\n",
    "\n",
    "print(list(result))  # we've converted it to list type to print\n",
    "\n",
    "print(list(map(lambda x:x**2, iterable)))  # you can print directly"
   ]
  },
  {
   "cell_type": "code",
   "execution_count": null,
   "id": "limiting-middle",
   "metadata": {},
   "outputs": [],
   "source": [
    "# aynı işlemi def kullanarak yaparsak ne az 2 satır fazla yazmak zorundayız\n",
    "\n",
    "# square'ye aşağıda iterable giriyor \n",
    "# ama bunu map içinde kullanacağımız için square(*n) olarak kullanmadık!\n",
    "\n",
    "def square(n):  \n",
    "    return n**2  \n",
    "  \n",
    "iterable = [1, 2, 3, 4, 5]\n",
    "result = map(square, iterable) \n",
    "print(list(result)) # map fonksiyonunun ürettiği değeri yazdırmak için list kullandık.\n",
    "\n"
   ]
  },
  {
   "cell_type": "code",
   "execution_count": 33,
   "id": "circular-tradition",
   "metadata": {},
   "outputs": [
    {
     "name": "stdout",
     "output_type": "stream",
     "text": [
      "['one', 'six', 'ten', 'two']\n"
     ]
    }
   ],
   "source": [
    "letter1 = ['o', 's', 't', 't']\n",
    "letter2 = ['n', 'i', 'e', 'w']\n",
    "letter3 = ['e', 'x', 'n', 'o']\n",
    "numbers = map(lambda x, y, z: x+y+z, letter1, letter2, letter3)\n",
    "\n",
    "print(list(numbers))"
   ]
  },
  {
   "cell_type": "code",
   "execution_count": 38,
   "id": "indonesian-editing",
   "metadata": {},
   "outputs": [
    {
     "name": "stdout",
     "output_type": "stream",
     "text": [
      "[3, 6, 9, 12, 15]\n"
     ]
    }
   ],
   "source": [
    "# Fill in the blanks indicated by ... to create a lambda function \n",
    "# that multiplies each item in the number_list by 3.\n",
    "# (Note: In order to print the result, convert it into the list type.)\n",
    "\n",
    "number_list = [1, 2, 3, 4, 5]\n",
    "\n",
    "result = list(map(lambda x : x * 3, number_list))\n",
    "\n",
    "print(result)"
   ]
  },
  {
   "cell_type": "markdown",
   "id": "reasonable-duncan",
   "metadata": {},
   "source": [
    "# lambda'nın  filter() fonksiyonu ile kullanımı\n",
    "\n",
    "## filter() filters each element in the iterable object, depending on whether the function's result is True or False."
   ]
  },
  {
   "cell_type": "code",
   "execution_count": 39,
   "id": "married-solid",
   "metadata": {},
   "outputs": [
    {
     "name": "stdout",
     "output_type": "stream",
     "text": [
      "<class 'filter'>\n",
      "Even numbers are : [0, 2, 4, 6, 8]\n"
     ]
    }
   ],
   "source": [
    "first_ten = [0, 1, 2, 3, 4, 5, 6, 7, 8, 9] \n",
    "  \n",
    "even = filter(lambda x:x%2==0, first_ten) \n",
    "print(type(even))  # it's 'filter' type, \n",
    "                   # in order to print the result,\n",
    "                   # we'd better convert it into the list type\n",
    "\n",
    "print('Even numbers are :', list(even))  "
   ]
  },
  {
   "cell_type": "code",
   "execution_count": 40,
   "id": "narrow-context",
   "metadata": {},
   "outputs": [
    {
     "name": "stdout",
     "output_type": "stream",
     "text": [
      "Vowels are : ['a', 'e', 'i']\n"
     ]
    }
   ],
   "source": [
    "vowel_list = ['a', 'e', 'i', 'o', 'u']\n",
    "first_ten = ['a', 'b', 'c', 'd', 'e', 'f', 'g', 'h', 'i', 'j']\n",
    "  \n",
    "vowels = filter(lambda x: True if x in vowel_list else False, first_ten) \n",
    "\n",
    "print('Vowels are :', list(vowels))"
   ]
  },
  {
   "cell_type": "code",
   "execution_count": 42,
   "id": "plastic-regression",
   "metadata": {},
   "outputs": [
    {
     "name": "stdout",
     "output_type": "stream",
     "text": [
      "Vowels are : ['b', 'c', 'd', 'f', 'g', 'h', 'j']\n"
     ]
    }
   ],
   "source": [
    "vowel_list = ['a', 'e', 'i', 'o', 'u']\n",
    "first_ten = ['a', 'b', 'c', 'd', 'e', 'f', 'g', 'h', 'i', 'j']\n",
    "  \n",
    "nonvowels = filter(lambda x: False if x in vowel_list else True, first_ten) \n",
    "\n",
    "print('Vowels are :', list(nonvowels))\n",
    "\n",
    "# burda True ile False yer değiştirdik. filter fonksiyonu True sonuç veren elemanları seçtiği için \n",
    "# ve sesli harfler False verdiği için sesli harflerin dışında kalanları seçecektir."
   ]
  },
  {
   "cell_type": "code",
   "execution_count": 45,
   "id": "perfect-confusion",
   "metadata": {},
   "outputs": [
    {
     "name": "stdout",
     "output_type": "stream",
     "text": [
      "[6, 7, 8, 9, 10]\n",
      "[6, 7, 8, 9, 10]\n"
     ]
    }
   ],
   "source": [
    "# Fill in the blanks indicated by ... to create a lambda function that filters the numbers \n",
    "# smaller than 6 (it should give all the numbers which greater than or equal to 6) \n",
    "# in the number_list. (Note: In order to print the result, convert it into the list type.)\n",
    "\n",
    "\n",
    "number_list=[1, 2, 3, 4, 5, 6, 7, 8, 9, 10]\n",
    "\n",
    "result = filter(lambda x : True if x >= 6 else False, number_list)\n",
    "print(list(result))\n",
    "\n",
    "# ya da :\n",
    "    \n",
    "result = list(filter(lambda x : True if x >= 6 else False, number_list))\n",
    "print(result)\n",
    "\n",
    "# result'ı görüntülemek için list formatına çevirdik"
   ]
  },
  {
   "cell_type": "code",
   "execution_count": 52,
   "id": "operating-acrylic",
   "metadata": {},
   "outputs": [
    {
     "name": "stdout",
     "output_type": "stream",
     "text": [
      "[0, 3, 6, 9, 12]\n"
     ]
    }
   ],
   "source": [
    "number_list = [0, 1, 2, 3, 4, 5, 6, 7, 8, 9, 10, 11, 12] \n",
    "\n",
    "divisible_list = filter(lambda x:x%3==0, number_list) \n",
    "print(list(divisible_list))"
   ]
  },
  {
   "cell_type": "markdown",
   "id": "billion-product",
   "metadata": {},
   "source": [
    "# Lambda within def :"
   ]
  },
  {
   "cell_type": "code",
   "execution_count": 47,
   "id": "random-methodology",
   "metadata": {},
   "outputs": [
    {
     "name": "stdout",
     "output_type": "stream",
     "text": [
      "4\n",
      "8\n",
      "16\n"
     ]
    }
   ],
   "source": [
    "def modular_function(n):\n",
    "    return lambda x: x ** n\n",
    "    \n",
    "power_of_2 = modular_function(2)  # first sub-function derived from def\n",
    "power_of_3 = modular_function(3)  # second sub-function derived from def\n",
    "power_of_4 = modular_function(4)  # third sub-function derived from def\n",
    "\n",
    "print(power_of_2(2))  # 2 to the power of 2\n",
    "print(power_of_3(2))  # 2 to the power of 3\n",
    "print(power_of_4(2))  # 2 to the power of 4\n",
    "\n",
    "\n",
    "# Bu kullanım, bir işlevi esnek olarak kullanmamızı sağladı. \n",
    "# Lambda sayesinde istediğimiz argümanlar ile tek bir def'i \n",
    "# farklı şekillerde kullanabildik. Tek bir def'ten türetilen \n",
    "# üç alt fonksiyon oluşturduk. Bu esnekliktir!"
   ]
  },
  {
   "cell_type": "code",
   "execution_count": 48,
   "id": "nasty-graham",
   "metadata": {},
   "outputs": [
    {
     "name": "stdout",
     "output_type": "stream",
     "text": [
      "alex alex \n",
      "lara lara lara \n",
      "linda linda linda linda \n"
     ]
    }
   ],
   "source": [
    "def repeater(n):\n",
    "    return lambda x: x * n\n",
    "    \n",
    "repeat_2_times = repeater(2)  # repeats 2 times\n",
    "repeat_3_times = repeater(3)  # repeats 3 times\n",
    "repeat_4_times = repeater(4)  # repeats 4 times\n",
    "\n",
    "print(repeat_2_times('alex '))\n",
    "print(repeat_3_times('lara '))\n",
    "print(repeat_4_times('linda '))"
   ]
  },
  {
   "cell_type": "markdown",
   "id": "interim-sponsorship",
   "metadata": {},
   "source": [
    "# lambda'nın  reduce() fonksiyonu ile kullanımı\n",
    "\n",
    "## In Python 2, reduce() was a built-in function. However, in Python 3, it is moved to functools  module. Therefore to use it, you have to first import it as follows:"
   ]
  },
  {
   "cell_type": "code",
   "execution_count": 51,
   "id": "outstanding-forum",
   "metadata": {},
   "outputs": [
    {
     "name": "stdout",
     "output_type": "stream",
     "text": [
      "10\n"
     ]
    }
   ],
   "source": [
    "from functools import reduce\n",
    "\n",
    "result = reduce((lambda a, b: a + b), [1, 2, 3, 4])\n",
    "print(result)\n",
    "\n",
    "# önce 1 ve 2 elemanları fonksiyona uygular (1+2), sonra bunun sonucunu sıradaki elemana uygular. \n",
    "# ve böylece listenin son elmanına uygulanana kadar bu devam eder"
   ]
  },
  {
   "cell_type": "markdown",
   "id": "liked-reaction",
   "metadata": {},
   "source": [
    "# QUIZ"
   ]
  },
  {
   "cell_type": "code",
   "execution_count": 53,
   "id": "incorrect-forth",
   "metadata": {},
   "outputs": [
    {
     "name": "stdout",
     "output_type": "stream",
     "text": [
      "25\n"
     ]
    }
   ],
   "source": [
    "# Fill in the blanks indicated by ... to create a lambda function \n",
    "# that returns the square of its arguments. \n",
    "\n",
    "\n",
    "# For example:\n",
    "\n",
    "# Test\tResult\n",
    "# print(square(5))\n",
    "# 25\n",
    "\n",
    "square = lambda x : x ** 2\n",
    "\n",
    "print(square(5))\n",
    "\n"
   ]
  },
  {
   "cell_type": "code",
   "execution_count": null,
   "id": "political-slide",
   "metadata": {},
   "outputs": [],
   "source": [
    "Fill in the blanks indicated by ... to create a lambda function that \n",
    "calculates the squares of each item in the number_list. \n",
    "(Note: In order to print the result, convert it into the list type.) \n",
    "\n",
    "number_list=[1, 2, 3, 4, 5]\n",
    "For example:\n",
    "\n",
    "Test\tResult\n",
    "print(result)\n",
    "[1, 4, 9, 16, 25]"
   ]
  },
  {
   "cell_type": "code",
   "execution_count": 55,
   "id": "brazilian-terrace",
   "metadata": {},
   "outputs": [
    {
     "name": "stdout",
     "output_type": "stream",
     "text": [
      "[1, 4, 9, 16, 25]\n"
     ]
    }
   ],
   "source": [
    "number_list=[1, 2, 3, 4, 5]\n",
    "\n",
    "\n",
    "result= list(map(lambda x : x ** 2, number_list))\n",
    "print(result)"
   ]
  },
  {
   "cell_type": "code",
   "execution_count": null,
   "id": "numerical-following",
   "metadata": {},
   "outputs": [],
   "source": [
    "Fill in the blanks indicated by ... to create a lambda function \n",
    "that extracts all items that are odd numbers from the number_list.  \n",
    "(Note: In order to print the result, convert it into the list type.)\n",
    "\n",
    "number_list=[1, 2, 3, 4, 5, 6, 7, 8, 9, 10]\n",
    "For example:\n",
    "\n",
    "Test\tResult\n",
    "print(result)\n",
    "[1, 3, 5, 7, 9]"
   ]
  },
  {
   "cell_type": "code",
   "execution_count": 56,
   "id": "interracial-browser",
   "metadata": {},
   "outputs": [
    {
     "name": "stdout",
     "output_type": "stream",
     "text": [
      "[1, 3, 5, 7, 9]\n"
     ]
    }
   ],
   "source": [
    "number_list=[1, 2, 3, 4, 5, 6, 7, 8, 9, 10]\n",
    "\n",
    "result = list(filter(lambda x : True if x % 2 !=0 else False, number_list))\n",
    "print(result)"
   ]
  },
  {
   "cell_type": "code",
   "execution_count": null,
   "id": "expensive-comedy",
   "metadata": {},
   "outputs": [],
   "source": [
    "Given two integer values, return their sum. If the two values are the same, \n",
    "then return double their sum.\n",
    "\n",
    "\n",
    "For example:\n",
    "\n",
    "Test\tResult\n",
    "print(sum_double(1, 2))\n",
    "3\n",
    "print(sum_double(5, 7))\n",
    "12\n",
    "print(sum_double(5, 5))\n",
    "20"
   ]
  },
  {
   "cell_type": "code",
   "execution_count": 58,
   "id": "initial-carol",
   "metadata": {},
   "outputs": [
    {
     "name": "stdout",
     "output_type": "stream",
     "text": [
      "4\n",
      "9\n",
      "20\n"
     ]
    }
   ],
   "source": [
    "sum_double = lambda x, y : x + y if x != y else (x + y) * 2\n",
    "print(sum_double(1, 3))\n",
    "print(sum_double(4, 5))\n",
    "print(sum_double(5, 5))"
   ]
  },
  {
   "cell_type": "code",
   "execution_count": 59,
   "id": "gross-wyoming",
   "metadata": {},
   "outputs": [
    {
     "name": "stdout",
     "output_type": "stream",
     "text": [
      "4\n",
      "9\n",
      "20\n"
     ]
    }
   ],
   "source": [
    "# def ile çözümü\n",
    "\n",
    "def sum_double(x, y) :\n",
    "    return x + y if x != y else (x + y) * 2\n",
    "\n",
    "print(sum_double(1, 3))\n",
    "print(sum_double(4, 5))\n",
    "print(sum_double(5, 5))"
   ]
  },
  {
   "cell_type": "code",
   "execution_count": null,
   "id": "major-provision",
   "metadata": {},
   "outputs": [],
   "source": [
    "We have a loud talking parrot. We are in trouble if the parrot is talking and the hour is before 6 or after 21.\n",
    "Define a function taking two parameters (talking and hour) to return True if we are in trouble. The argument to  talking parameter can only be True or False whether it is talking or not. The argument to hour parameter should be the current hour time in the range of 0 to 23.\n",
    "For example:\n",
    "\n",
    "Test\tResult\n",
    "print(parrot_trouble(True, 5))\n",
    "True\n",
    "print(parrot_trouble(True, 8))\n",
    "False\n",
    "print(parrot_trouble(False, 22))\n",
    "False"
   ]
  },
  {
   "cell_type": "code",
   "execution_count": 60,
   "id": "understanding-embassy",
   "metadata": {},
   "outputs": [],
   "source": [
    "def parrot_trouble(talking, hour) :\n",
    "    if talking and ((23 > hour > 21) or (1 < hour < 6)) :\n",
    "        return True\n",
    "    else :\n",
    "        return False"
   ]
  },
  {
   "cell_type": "code",
   "execution_count": null,
   "id": "incorporated-apparatus",
   "metadata": {},
   "outputs": [],
   "source": [
    "Define a function to take a word and return negative meaning.\n",
    "Given a word, return a new word where \"not \" has been added to the front. \n",
    "However, if the word already begins with \"not\", return the string unchanged.\n",
    "\n",
    "For example:\n",
    "\n",
    "Test\tResult\n",
    "print(not_string('sugar'))\n",
    "not sugar\n",
    "print(not_string('x'))\n",
    "not x\n",
    "print(not_string('not bad'))\n",
    "not bad\n"
   ]
  },
  {
   "cell_type": "code",
   "execution_count": null,
   "id": "crucial-feature",
   "metadata": {},
   "outputs": [],
   "source": [
    "def not_string(word):\n",
    "    if not 'not' in word :\n",
    "        word = 'not '+ word\n",
    "    else :\n",
    "        pass\n",
    "    return word\n"
   ]
  },
  {
   "cell_type": "code",
   "execution_count": null,
   "id": "weighted-volume",
   "metadata": {},
   "outputs": [],
   "source": [
    "Given a non-empty string and an int n, return a new string where the character at index n\n",
    "has been removed. The value of n will be a valid index of a character \n",
    "in the original string (i.e. n will be in the range 0....len(str)-1 inclusive).\n",
    "For example:\n",
    "\n",
    "Test\tResult\n",
    "print(missing_char('kitchen', 1))\n",
    "ktchen\n",
    "print(missing_char('kitchen', 0))\n",
    "itchen\n",
    "print(missing_char('kitchen', 4))\n",
    "kitcen"
   ]
  },
  {
   "cell_type": "code",
   "execution_count": null,
   "id": "ignored-pottery",
   "metadata": {},
   "outputs": [],
   "source": [
    "def missing_char(word, n):\n",
    "    return word.replace(word[n], \"\")"
   ]
  },
  {
   "cell_type": "markdown",
   "id": "informational-portfolio",
   "metadata": {},
   "source": [
    "# modules"
   ]
  },
  {
   "cell_type": "markdown",
   "id": "blind-knight",
   "metadata": {},
   "source": [
    "## How to Load a Module?\n",
    "## For loading a module, we use keyword import and the name of the module. "
   ]
  },
  {
   "cell_type": "code",
   "execution_count": null,
   "id": "greater-requirement",
   "metadata": {},
   "outputs": [],
   "source": [
    "import my_module  # we've loaded my_module\n",
    "\n",
    "my_module.my_function()  # we've called a function defined in my_module\n",
    "\n",
    "print(my_module.my_variable)  # we've accessed a variable defined in my_module"
   ]
  },
  {
   "cell_type": "code",
   "execution_count": null,
   "id": "certified-count",
   "metadata": {},
   "outputs": [],
   "source": [
    "import my_module as mym # loads my_module, we give a nickname to it\n",
    "\n",
    "mym.my_function()  # we can use it the same way\n",
    "\n",
    "print(mym.my_variable)  "
   ]
  },
  {
   "cell_type": "code",
   "execution_count": null,
   "id": "piano-cruise",
   "metadata": {},
   "outputs": [],
   "source": [
    "# modülü yüklemeden sadece o modülün fonksiyonunu yükleme...\n",
    "\n",
    "from my_module import my_function  # we've loaded only my_function from my_module\n",
    "\n",
    "my_function()  # my_function can be used directly now at the current module"
   ]
  },
  {
   "cell_type": "code",
   "execution_count": null,
   "id": "turkish-professor",
   "metadata": {},
   "outputs": [],
   "source": [
    "from my_module import my_function as mfnc # we've imported my_function named mfnc\n",
    "\n",
    "mfnc()  # we use the my_function's alias directly"
   ]
  },
  {
   "cell_type": "markdown",
   "id": "modern-printer",
   "metadata": {},
   "source": [
    "# Built-in Modules"
   ]
  },
  {
   "cell_type": "code",
   "execution_count": 61,
   "id": "regular-bacon",
   "metadata": {},
   "outputs": [
    {
     "name": "stdout",
     "output_type": "stream",
     "text": [
      "['__doc__', '__loader__', '__name__', '__package__', '__spec__', 'acos', 'acosh', 'asin', 'asinh', 'atan', 'atan2', 'atanh', 'ceil', 'copysign', 'cos', 'cosh', 'degrees', 'e', 'erf', 'erfc', 'exp', 'expm1', 'fabs', 'factorial', 'floor', 'fmod', 'frexp', 'fsum', 'gamma', 'gcd', 'hypot', 'inf', 'isclose', 'isfinite', 'isinf', 'isnan', 'ldexp', 'lgamma', 'log', 'log10', 'log1p', 'log2', 'modf', 'nan', 'pi', 'pow', 'radians', 'remainder', 'sin', 'sinh', 'sqrt', 'tan', 'tanh', 'tau', 'trunc']\n"
     ]
    }
   ],
   "source": [
    "import math\n",
    "\n",
    "print(dir(math))  # you can find out all names defined in this module\n",
    "\n",
    "# The built-in function dir() is used to find out which names a module defines.\n",
    "# It returns a sorted list of strings."
   ]
  },
  {
   "cell_type": "code",
   "execution_count": 62,
   "id": "ambient-agenda",
   "metadata": {},
   "outputs": [
    {
     "name": "stdout",
     "output_type": "stream",
     "text": [
      "3.141592653589793\n",
      "24\n",
      "3.0\n"
     ]
    }
   ],
   "source": [
    "from math import pi, factorial, log10  # we'll use the functions directly\n",
    "\n",
    "print(pi)  # it also contains several arithmetic constants\n",
    "print(factorial(4))  # gives the value of 4!\n",
    "print(log10(1000))  # prints the common logarithm of 1000"
   ]
  },
  {
   "cell_type": "code",
   "execution_count": 67,
   "id": "indirect-commission",
   "metadata": {},
   "outputs": [
    {
     "name": "stdout",
     "output_type": "stream",
     "text": [
      "24\n"
     ]
    }
   ],
   "source": [
    "# faktöriyel alan kendi fonksiyonunuzu yapınız\n",
    "\n",
    "def factor(n) :\n",
    "    faktoriel = 1\n",
    "    for i in range(1, n+1) :\n",
    "        faktoriel *= i\n",
    "    return faktoriel\n",
    "print(factor(4))"
   ]
  },
  {
   "cell_type": "code",
   "execution_count": 68,
   "id": "awful-blend",
   "metadata": {},
   "outputs": [
    {
     "name": "stdout",
     "output_type": "stream",
     "text": [
      "24\n"
     ]
    }
   ],
   "source": [
    "# ya da :\n",
    "\n",
    "def factor(n) :\n",
    "    faktoriel = 1\n",
    "    for i in range(n) :\n",
    "        faktoriel *= (i+1)\n",
    "    return faktoriel\n",
    "print(factor(4))"
   ]
  },
  {
   "cell_type": "markdown",
   "id": "unknown-pickup",
   "metadata": {},
   "source": [
    "# string module"
   ]
  },
  {
   "cell_type": "code",
   "execution_count": 69,
   "id": "monthly-luther",
   "metadata": {},
   "outputs": [
    {
     "name": "stdout",
     "output_type": "stream",
     "text": [
      "!\"#$%&'()*+,-./:;<=>?@[\\]^_`{|}~\n",
      "0123456789\n"
     ]
    }
   ],
   "source": [
    "import string as stg  # we've used alias for 'string' module\n",
    "\n",
    "print(stg.punctuation)  # prints all available punctuation marks\n",
    "print(stg.digits)  # prints all the digits"
   ]
  },
  {
   "cell_type": "markdown",
   "id": "thirty-copying",
   "metadata": {},
   "source": [
    "# datetime module"
   ]
  },
  {
   "cell_type": "code",
   "execution_count": 70,
   "id": "breeding-recording",
   "metadata": {},
   "outputs": [
    {
     "name": "stdout",
     "output_type": "stream",
     "text": [
      "2021-05-10\n",
      "2021-05-10 23:31:13.297114\n"
     ]
    }
   ],
   "source": [
    "import datetime\n",
    "\n",
    "print(datetime.date.today())  # prints today's date (yyyy-mm-dd)\n",
    "print(datetime.datetime.now())  # prints the current time in microseconds"
   ]
  },
  {
   "cell_type": "markdown",
   "id": "fatal-context",
   "metadata": {},
   "source": [
    "# random module and its choice function"
   ]
  },
  {
   "cell_type": "code",
   "execution_count": 71,
   "id": "difficult-biology",
   "metadata": {},
   "outputs": [
    {
     "name": "stdout",
     "output_type": "stream",
     "text": [
      "Cape Town\n"
     ]
    }
   ],
   "source": [
    "from random import choice\n",
    "\n",
    "city = ['Stockholm', 'Istanbul', 'Seul', 'Cape Town']\n",
    "print(choice(city))  "
   ]
  },
  {
   "cell_type": "code",
   "execution_count": 72,
   "id": "generous-little",
   "metadata": {},
   "outputs": [
    {
     "name": "stdout",
     "output_type": "stream",
     "text": [
      "0.4941071071217221\n"
     ]
    }
   ],
   "source": [
    "import random\n",
    "print(random.random())\n",
    "\n",
    "# The statement \"random.random()\" method return the floating point number that is in the range of (0, 1).\n",
    "# The function generates random float numbers. "
   ]
  },
  {
   "cell_type": "code",
   "execution_count": null,
   "id": "tribal-floating",
   "metadata": {},
   "outputs": [],
   "source": [
    "QUIZZ\n",
    "\n",
    "Imagine you have a module (module.py) that contains the following two functions: \n",
    "    my_function_1 calculates the area of a rectangle, and my_function_2 calculates \n",
    "    the hypotenuse of a right-angled triangle. Suppose, you have already saved that module\n",
    "    on your local computer and you want to import that module to call (use) the functions in it. \n",
    "\n",
    "def my_function_1(a, b):\n",
    "    area = a * b\n",
    "    return area\n",
    "\n",
    "def my_function_2(a, b):\n",
    "    hypotenuse = (a**2 + b**2)**0.5\n",
    "    return hypotenuse\n",
    "Import that module and call the functions in it. Then calculate the area of a rectangle (a=10, b=20) \n",
    "and the hypotenuse of a right-angled triangle (a=30, b=40).  \n",
    "\n",
    "\n",
    "\n",
    "For example:\n",
    "\n",
    "Test\tResult\n",
    "print(area)\n",
    "200\n",
    "print(hypotenuse)\n",
    "50.0"
   ]
  },
  {
   "cell_type": "code",
   "execution_count": null,
   "id": "comic-community",
   "metadata": {},
   "outputs": [],
   "source": [
    "import module\n",
    "\n",
    "area = module.my_function_1(10, 20)\n",
    "hypotenuse = module.my_function_2(30, 40)"
   ]
  },
  {
   "cell_type": "code",
   "execution_count": null,
   "id": "alive-blocking",
   "metadata": {},
   "outputs": [],
   "source": []
  },
  {
   "cell_type": "code",
   "execution_count": null,
   "id": "cognitive-pittsburgh",
   "metadata": {},
   "outputs": [],
   "source": []
  }
 ],
 "metadata": {
  "kernelspec": {
   "display_name": "Python 3",
   "language": "python",
   "name": "python3"
  },
  "language_info": {
   "codemirror_mode": {
    "name": "ipython",
    "version": 3
   },
   "file_extension": ".py",
   "mimetype": "text/x-python",
   "name": "python",
   "nbconvert_exporter": "python",
   "pygments_lexer": "ipython3",
   "version": "3.7.8"
  }
 },
 "nbformat": 4,
 "nbformat_minor": 5
}
