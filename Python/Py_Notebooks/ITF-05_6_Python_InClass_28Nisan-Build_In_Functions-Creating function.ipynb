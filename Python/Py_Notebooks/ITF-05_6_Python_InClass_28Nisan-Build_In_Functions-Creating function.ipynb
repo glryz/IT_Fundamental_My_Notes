{
 "cells": [
  {
   "cell_type": "code",
   "execution_count": 1,
   "id": "original-parliament",
   "metadata": {},
   "outputs": [
    {
     "data": {
      "text/plain": [
       "False"
      ]
     },
     "execution_count": 1,
     "metadata": {},
     "output_type": "execute_result"
    }
   ],
   "source": [
    "all([\"\", \"dolu\", 1])\n",
    "\n",
    "# iterable'ın tüm elemanları True ise True verir. \n",
    "# bir tane bile False varsa False verir."
   ]
  },
  {
   "cell_type": "code",
   "execution_count": 2,
   "id": "laughing-developer",
   "metadata": {},
   "outputs": [
    {
     "data": {
      "text/plain": [
       "True"
      ]
     },
     "execution_count": 2,
     "metadata": {},
     "output_type": "execute_result"
    }
   ],
   "source": [
    "all([])\n",
    "\n",
    "# boş object True verir."
   ]
  },
  {
   "cell_type": "code",
   "execution_count": 3,
   "id": "large-custom",
   "metadata": {},
   "outputs": [
    {
     "data": {
      "text/plain": [
       "True"
      ]
     },
     "execution_count": 3,
     "metadata": {},
     "output_type": "execute_result"
    }
   ],
   "source": [
    "all(())"
   ]
  },
  {
   "cell_type": "code",
   "execution_count": 4,
   "id": "average-vegetarian",
   "metadata": {},
   "outputs": [
    {
     "data": {
      "text/plain": [
       "True"
      ]
     },
     "execution_count": 4,
     "metadata": {},
     "output_type": "execute_result"
    }
   ],
   "source": [
    "all({})"
   ]
  },
  {
   "cell_type": "code",
   "execution_count": 7,
   "id": "annoying-order",
   "metadata": {},
   "outputs": [
    {
     "data": {
      "text/plain": [
       "False"
      ]
     },
     "execution_count": 7,
     "metadata": {},
     "output_type": "execute_result"
    }
   ],
   "source": [
    "all([\"\"])\n",
    "\n",
    "liste dolu ve içinde boşluk var. "
   ]
  },
  {
   "cell_type": "code",
   "execution_count": 12,
   "id": "adapted-chess",
   "metadata": {},
   "outputs": [
    {
     "data": {
      "text/plain": [
       "False"
      ]
     },
     "execution_count": 12,
     "metadata": {},
     "output_type": "execute_result"
    }
   ],
   "source": [
    "mydict = {0 : \"Apple\", 1 : \"Orange\"}\n",
    "all(mydict)\n",
    "\n",
    "# keylere baktı"
   ]
  },
  {
   "cell_type": "code",
   "execution_count": 8,
   "id": "completed-baltimore",
   "metadata": {},
   "outputs": [
    {
     "data": {
      "text/plain": [
       "True"
      ]
     },
     "execution_count": 8,
     "metadata": {},
     "output_type": "execute_result"
    }
   ],
   "source": [
    "any([\"dolu\", 0, False])\n",
    "\n",
    "# iterable'da eğer bir tane bile True var ise True verir"
   ]
  },
  {
   "cell_type": "code",
   "execution_count": 9,
   "id": "egyptian-instrument",
   "metadata": {},
   "outputs": [
    {
     "data": {
      "text/plain": [
       "False"
      ]
     },
     "execution_count": 9,
     "metadata": {},
     "output_type": "execute_result"
    }
   ],
   "source": [
    "any([])\n",
    "\n",
    "# boş object False verir"
   ]
  },
  {
   "cell_type": "code",
   "execution_count": 2,
   "id": "hawaiian-hungary",
   "metadata": {},
   "outputs": [
    {
     "name": "stdout",
     "output_type": "stream",
     "text": [
      "0 istanbul\n"
     ]
    }
   ],
   "source": [
    "listem = [None, \"0\", \"istanbul\", ()] # filter fonksiyonunda None kullanılırsa sadece Truty olan iterable ları geçirir\n",
    "\n",
    "filtered = filter(None, listem)\n",
    "\n",
    "print(*filtered)  "
   ]
  },
  {
   "cell_type": "code",
   "execution_count": 1,
   "id": "documented-toilet",
   "metadata": {},
   "outputs": [
    {
     "ename": "NameError",
     "evalue": "name 'filtered' is not defined",
     "output_type": "error",
     "traceback": [
      "\u001b[1;31m---------------------------------------------------------------------------\u001b[0m",
      "\u001b[1;31mNameError\u001b[0m                                 Traceback (most recent call last)",
      "\u001b[1;32m<ipython-input-1-b234051491ed>\u001b[0m in \u001b[0;36m<module>\u001b[1;34m\u001b[0m\n\u001b[1;32m----> 1\u001b[1;33m \u001b[1;32mfor\u001b[0m \u001b[0mi\u001b[0m \u001b[1;32min\u001b[0m \u001b[0mfiltered\u001b[0m\u001b[1;33m:\u001b[0m\u001b[1;33m\u001b[0m\u001b[1;33m\u001b[0m\u001b[0m\n\u001b[0m\u001b[0;32m      2\u001b[0m     \u001b[0mprint\u001b[0m\u001b[1;33m(\u001b[0m\u001b[0mi\u001b[0m\u001b[1;33m)\u001b[0m\u001b[1;33m\u001b[0m\u001b[1;33m\u001b[0m\u001b[0m\n\u001b[0;32m      3\u001b[0m \u001b[1;33m\u001b[0m\u001b[0m\n\u001b[0;32m      4\u001b[0m \u001b[1;31m# bir üstte print(*filtered) ile gererate edilen sonucu boşalttığımız için bu defa çıktı boş olur.\u001b[0m\u001b[1;33m\u001b[0m\u001b[1;33m\u001b[0m\u001b[1;33m\u001b[0m\u001b[0m\n",
      "\u001b[1;31mNameError\u001b[0m: name 'filtered' is not defined"
     ]
    }
   ],
   "source": [
    "for i in filtered:\n",
    "    print(i)\n",
    "\n",
    "# bir üstte print(*filtered) ile gererate edilen sonucu boşalttığımız için bu defa çıktı boş olur. "
   ]
  },
  {
   "cell_type": "code",
   "execution_count": 4,
   "id": "single-gothic",
   "metadata": {},
   "outputs": [
    {
     "name": "stdout",
     "output_type": "stream",
     "text": [
      "0\n",
      "istanbul\n"
     ]
    }
   ],
   "source": [
    "# tekrar generate ettirip for döngüsü ile print alalım\n",
    "\n",
    "listem = [None, \"0\", \"istanbul\", ()]\n",
    "filtered = filter(None, listem)\n",
    "for i in filtered:\n",
    "    print(i)"
   ]
  },
  {
   "cell_type": "code",
   "execution_count": 5,
   "id": "satisfied-bible",
   "metadata": {},
   "outputs": [
    {
     "data": {
      "text/plain": [
       "enumerate"
      ]
     },
     "execution_count": 5,
     "metadata": {},
     "output_type": "execute_result"
    }
   ],
   "source": [
    "enum = enumerate(listem)\n",
    "type(enum)\n",
    "\n",
    "# tipi enumerate olarak verdi. yani generator olduğunu anlıyoruz."
   ]
  },
  {
   "cell_type": "code",
   "execution_count": 6,
   "id": "optional-collins",
   "metadata": {},
   "outputs": [
    {
     "name": "stdout",
     "output_type": "stream",
     "text": [
      "(0, None) (1, '0') (2, 'istanbul') (3, ())\n"
     ]
    }
   ],
   "source": [
    "print(* enum)"
   ]
  },
  {
   "cell_type": "code",
   "execution_count": 7,
   "id": "aerial-nature",
   "metadata": {},
   "outputs": [
    {
     "data": {
      "text/plain": [
       "'t'"
      ]
     },
     "execution_count": 7,
     "metadata": {},
     "output_type": "execute_result"
    }
   ],
   "source": [
    "max(\"ahmet\")\n",
    "\n",
    " # ASCII değeri en büyük olan karakteri verir"
   ]
  },
  {
   "cell_type": "code",
   "execution_count": 8,
   "id": "virgin-button",
   "metadata": {},
   "outputs": [
    {
     "data": {
      "text/plain": [
       "'a'"
      ]
     },
     "execution_count": 8,
     "metadata": {},
     "output_type": "execute_result"
    }
   ],
   "source": [
    "min(\"ahmet\")\n",
    "\n",
    "# ASCII değeri en küçük olan karakteri verir"
   ]
  },
  {
   "cell_type": "code",
   "execution_count": 9,
   "id": "adapted-attribute",
   "metadata": {},
   "outputs": [
    {
     "data": {
      "text/plain": [
       "11"
      ]
     },
     "execution_count": 9,
     "metadata": {},
     "output_type": "execute_result"
    }
   ],
   "source": [
    "numbers=[1, 3, 7]\n",
    "sum(numbers)\n"
   ]
  },
  {
   "cell_type": "code",
   "execution_count": 10,
   "id": "computational-zoning",
   "metadata": {},
   "outputs": [
    {
     "ename": "TypeError",
     "evalue": "sum expected at most 2 arguments, got 5",
     "output_type": "error",
     "traceback": [
      "\u001b[1;31m---------------------------------------------------------------------------\u001b[0m",
      "\u001b[1;31mTypeError\u001b[0m                                 Traceback (most recent call last)",
      "\u001b[1;32m<ipython-input-10-fec1c14a3729>\u001b[0m in \u001b[0;36m<module>\u001b[1;34m\u001b[0m\n\u001b[1;32m----> 1\u001b[1;33m \u001b[0msum\u001b[0m\u001b[1;33m(\u001b[0m\u001b[1;36m1\u001b[0m\u001b[1;33m,\u001b[0m \u001b[1;36m2\u001b[0m\u001b[1;33m,\u001b[0m \u001b[1;36m3\u001b[0m\u001b[1;33m,\u001b[0m \u001b[1;36m4\u001b[0m\u001b[1;33m,\u001b[0m \u001b[1;36m5\u001b[0m\u001b[1;33m)\u001b[0m\u001b[1;33m\u001b[0m\u001b[1;33m\u001b[0m\u001b[0m\n\u001b[0m",
      "\u001b[1;31mTypeError\u001b[0m: sum expected at most 2 arguments, got 5"
     ]
    }
   ],
   "source": [
    "sum(1, 2, 3, 4, 5)\n",
    "\n",
    "# sum fonksiyonu içine bir adet iterable almalı. burda 5 adet integer değer var. hata verir."
   ]
  },
  {
   "cell_type": "code",
   "execution_count": 11,
   "id": "lined-sierra",
   "metadata": {},
   "outputs": [
    {
     "data": {
      "text/plain": [
       "15"
      ]
     },
     "execution_count": 11,
     "metadata": {},
     "output_type": "execute_result"
    }
   ],
   "source": [
    "sum([1, 2, 3, 4, 5])\n",
    "\n",
    "# şimdi sum fonksiyonunun içine bir iterable koyduk."
   ]
  },
  {
   "cell_type": "code",
   "execution_count": 12,
   "id": "interstate-florence",
   "metadata": {},
   "outputs": [
    {
     "name": "stdout",
     "output_type": "stream",
     "text": [
      "12\n",
      "11\n",
      "3.67\n",
      "3.67\n"
     ]
    }
   ],
   "source": [
    "print(round(12))\n",
    "print(round(10.8))\n",
    "print(round(3.665, 2))\n",
    "print(round(3.675, 2))\n",
    "\n",
    "# ilginç biçimde son satırın 3.68 olması beklenirken 3.67 oldu.\n",
    "# bu, pyhton'un arka planda binary ile çalıştığı için oluyor. \n",
    "# 3.675'in binary olarak ifadesi 67499999999999982236431605997495353221893310546875"
   ]
  },
  {
   "cell_type": "code",
   "execution_count": null,
   "id": "optical-equivalent",
   "metadata": {},
   "outputs": [],
   "source": [
    "# fonksiyonu tanımlarken kullandığımız değişkenlere parametre denir.\n",
    "# fonksiyonu çağırırken parantez içine yazdığımız değere argument denir.\n",
    "\n",
    "# parametre --> variable\n",
    "# argument --> values  "
   ]
  },
  {
   "cell_type": "code",
   "execution_count": 14,
   "id": "cooked-jonathan",
   "metadata": {},
   "outputs": [
    {
     "name": "stdout",
     "output_type": "stream",
     "text": [
      "15\n",
      "-2.5\n",
      "amazingamazingamazing\n"
     ]
    }
   ],
   "source": [
    "def multiply(a, b):\n",
    "    print(a*b)\n",
    "\n",
    "multiply(3, 5)\n",
    "multiply(-1, 2.5)\n",
    "multiply('amazing', 3)\n",
    "\n",
    "# amazing'ler arasında boşluk olmadığına dikkat et. çünkü arada aritmetik işlem var)"
   ]
  },
  {
   "cell_type": "code",
   "execution_count": 17,
   "id": "arctic-oklahoma",
   "metadata": {},
   "outputs": [
    {
     "name": "stdout",
     "output_type": "stream",
     "text": [
      "Duydum ki bizi bırakmaya azmediyorsun, etme.\n",
      "Başka bir yar, başka bir dosta meylediyorsun, etme.\n",
      "Sen yadeller dünyasında ne arıyorsun yabancı?\n",
      "Hangi hasta gönüllüyü kastediyorsun, etme.\n",
      "Çalma bizi, bizden bizi, gitme o ellere doğru.\n",
      "Çalınmış başkalarına nazar ediyorsun, etme.\n"
     ]
    }
   ],
   "source": [
    "def mevlana():\n",
    "    print(\"\"\"Duydum ki bizi bırakmaya azmediyorsun, etme.\n",
    "Başka bir yar, başka bir dosta meylediyorsun, etme.\n",
    "Sen yadeller dünyasında ne arıyorsun yabancı?\n",
    "Hangi hasta gönüllüyü kastediyorsun, etme.\n",
    "Çalma bizi, bizden bizi, gitme o ellere doğru.\n",
    "Çalınmış başkalarına nazar ediyorsun, etme.\"\"\")\n",
    "\n",
    "mevlana()\n",
    "    "
   ]
  },
  {
   "cell_type": "code",
   "execution_count": 18,
   "id": "confirmed-beatles",
   "metadata": {},
   "outputs": [],
   "source": [
    "def calculator(a, b, x):\n",
    "    if x == '+': \n",
    "        print(a+b)\n",
    "    elif x == '-':\n",
    "        print(a-b)\n",
    "    elif x=='*':\n",
    "        print(a*b)\n",
    "    elif x=='/':\n",
    "        print(a/b)\n",
    "    else:\n",
    "        print('enter a valid operator')\n",
    "\n"
   ]
  },
  {
   "cell_type": "code",
   "execution_count": 21,
   "id": "delayed-bread",
   "metadata": {},
   "outputs": [
    {
     "name": "stdout",
     "output_type": "stream",
     "text": [
      "12\n",
      "-1\n",
      "enter a valid operator\n"
     ]
    }
   ],
   "source": [
    "calculator(3, 4, '*')\n",
    "calculator(3, 4, '-')\n",
    "calculator(3, 4, '!')"
   ]
  },
  {
   "cell_type": "code",
   "execution_count": 14,
   "id": "becoming-insurance",
   "metadata": {},
   "outputs": [],
   "source": [
    "def mul(x, y):\n",
    "    return x+y\n",
    "\n",
    "# burda return ile fonksiyon bir değer oluşturuyor. (generate ediyor)\n",
    "# bu sonucu print ile yazdırabiliriz veya bir değişkene atayabiliriz."
   ]
  },
  {
   "cell_type": "code",
   "execution_count": 15,
   "id": "monthly-queue",
   "metadata": {},
   "outputs": [
    {
     "name": "stdout",
     "output_type": "stream",
     "text": [
      "7\n"
     ]
    }
   ],
   "source": [
    "aa = mul(2, 5)\n",
    "print(aa)\n",
    "\n",
    "# fonksiyonda return bir sonuç generate ediyor. biz de bir değişkene (aa) bu sonucu atayabiliyoruz."
   ]
  },
  {
   "cell_type": "code",
   "execution_count": 22,
   "id": "helpful-building",
   "metadata": {},
   "outputs": [
    {
     "name": "stdout",
     "output_type": "stream",
     "text": [
      "hello\n",
      "<class 'NoneType'>\n"
     ]
    }
   ],
   "source": [
    "print(type(print('hello')))\n",
    "\n",
    "# print fonksiyonunun bir tipi yok. "
   ]
  },
  {
   "cell_type": "code",
   "execution_count": 24,
   "id": "overall-cosmetic",
   "metadata": {},
   "outputs": [
    {
     "name": "stdout",
     "output_type": "stream",
     "text": [
      "50\n",
      "<class 'NoneType'>\n",
      "<class 'int'>\n"
     ]
    }
   ],
   "source": [
    "print(type(print(10*5)))\n",
    "print(type(10*5))"
   ]
  },
  {
   "cell_type": "code",
   "execution_count": 28,
   "id": "sharp-newspaper",
   "metadata": {},
   "outputs": [
    {
     "data": {
      "text/plain": [
       "str"
      ]
     },
     "execution_count": 28,
     "metadata": {},
     "output_type": "execute_result"
    }
   ],
   "source": [
    "def string():\n",
    "    return \"ahmet\"\n",
    "\n",
    "type(string())"
   ]
  },
  {
   "cell_type": "code",
   "execution_count": 29,
   "id": "incorporate-weather",
   "metadata": {},
   "outputs": [
    {
     "data": {
      "text/plain": [
       "bool"
      ]
     },
     "execution_count": 29,
     "metadata": {},
     "output_type": "execute_result"
    }
   ],
   "source": [
    "def boolean():\n",
    "    return True\n",
    "\n",
    "type(boolean())"
   ]
  },
  {
   "cell_type": "code",
   "execution_count": 30,
   "id": "duplicate-failure",
   "metadata": {},
   "outputs": [
    {
     "name": "stdout",
     "output_type": "stream",
     "text": [
      "ben çalışltım\n"
     ]
    }
   ],
   "source": [
    "if boolean():\n",
    "    print(\"ben çalıştım\")\n",
    "else :\n",
    "    print(\"rahatsız etmeyesen\")\n",
    "\n",
    "    # boolean fonksiyonunun ürettiği değer True olduğu için\n",
    "    # if boolean(): = if True: anlamına geliyor burda."
   ]
  },
  {
   "cell_type": "code",
   "execution_count": 32,
   "id": "moderate-extraction",
   "metadata": {},
   "outputs": [
    {
     "name": "stdout",
     "output_type": "stream",
     "text": [
      "[1, 2, 3, 4, 5]\n"
     ]
    }
   ],
   "source": [
    "def listem():\n",
    "    return [1,2,3,4,5]\n",
    "\n",
    "print(listem())"
   ]
  },
  {
   "cell_type": "code",
   "execution_count": 33,
   "id": "individual-folks",
   "metadata": {},
   "outputs": [
    {
     "name": "stdout",
     "output_type": "stream",
     "text": [
      "1\n",
      "2\n",
      "3\n",
      "4\n",
      "5\n"
     ]
    }
   ],
   "source": [
    "for i in listem():\n",
    "    print(i)"
   ]
  },
  {
   "cell_type": "code",
   "execution_count": 34,
   "id": "sonic-asian",
   "metadata": {},
   "outputs": [
    {
     "data": {
      "text/plain": [
       "(1, 2, 3, 4, 5)"
      ]
     },
     "execution_count": 34,
     "metadata": {},
     "output_type": "execute_result"
    }
   ],
   "source": [
    "tuple(listem())"
   ]
  },
  {
   "cell_type": "code",
   "execution_count": 35,
   "id": "polished-border",
   "metadata": {},
   "outputs": [
    {
     "data": {
      "text/plain": [
       "(1, 2, 3, 4, 5)"
      ]
     },
     "execution_count": 35,
     "metadata": {},
     "output_type": "execute_result"
    }
   ],
   "source": [
    "tuple([1,2,3,4,5])\n",
    "\n",
    "# yukardakiyle aynı şeyi ifade ettiğine dikkat et"
   ]
  },
  {
   "cell_type": "code",
   "execution_count": 36,
   "id": "exotic-incident",
   "metadata": {},
   "outputs": [
    {
     "name": "stdout",
     "output_type": "stream",
     "text": [
      "7\n"
     ]
    }
   ],
   "source": [
    "def calculator(a, b, x):\n",
    "    if x == '+': \n",
    "        return a+b\n",
    "    elif x == '-':\n",
    "        return a-b\n",
    "    elif x=='*':\n",
    "        return a*b\n",
    "    elif x=='/':\n",
    "        return a/b\n",
    "    else:\n",
    "        print('enter a valid operator')\n",
    "\n",
    "print(calculator(3, 4, '+'))\n",
    "\n",
    "# fonksiyon içinde return kullandığımız için fonksiyonu çağırırken print yaptık. \n",
    "# önceki versiyonunda fonksiyonun içinde print kullanmıştık bu yüzden çağırırken sadece fonksiyonun ismini yazdık."
   ]
  },
  {
   "cell_type": "code",
   "execution_count": 40,
   "id": "active-hobby",
   "metadata": {},
   "outputs": [
    {
     "name": "stdout",
     "output_type": "stream",
     "text": [
      "enter a positive number :19876985568888555952245455222452\n",
      "19876985568888555952245455222452 is not an Amstrong number\n"
     ]
    }
   ],
   "source": [
    "while True:\n",
    "    number = input(\"enter a positive number :\")\n",
    "    digits = len(number)\n",
    "    summ = 0\n",
    "    if not number.isdigit() : # girilen değer digit değil ise if bloğundaki uyarıyı ver \n",
    "        print(number, \"is invalid entry. enter numeric value!\")\n",
    "    elif int(number) >= 0 :\n",
    "        for i in range(digits) :\n",
    "            summ = summ + int(number[i]) ** digits\n",
    "        if summ == int(number) :\n",
    "            print(number, \"is an Amstrong number.\")\n",
    "            break\n",
    "        else :\n",
    "            print(number, \"is not an Amstrong number\")\n",
    "            break"
   ]
  },
  {
   "cell_type": "code",
   "execution_count": null,
   "id": "fifteen-idaho",
   "metadata": {},
   "outputs": [],
   "source": [
    "user_enter = input(\"Enter a positive integer number for checking if it's an Amstrong number or not:\")\n",
    "\n",
    "while not user_enter.isdecimal() or user_enter == '0' :  # pozitif tam sayıların dışında kalan tüm durumları ifade ettik\n",
    "    print(\"It is an invalid entry. Don't use non-numeric, float, or negative values!\")\n",
    "    user_enter = input(\"Enter a positive integer number :\")  # hatalı giriş olduğunda tekrar giriş istiyoruz. \n",
    "\n",
    "digits = list(user_enter)\n",
    "operation = 0  # rakamların üslerini alıp bu değişkende toplayacağız.\n",
    "\n",
    "for i in range(len(digits)) :\n",
    "    operation +=#asant(digits[i])**len(digits)  # sayının amstrong olup olmadığını belirleyen formül\n",
    "if str(operation) == user_enter :   # formülün sonucu girilen sayı ile aynı ise bu bir amstrong sayı demektir.\n",
    "    print(user_enter, \"is an Amstrong number\")\n",
    "else :\n",
    "    print(\"It is not an Amstrong number\")"
   ]
  },
  {
   "cell_type": "code",
   "execution_count": 56,
   "id": "fundamental-sunday",
   "metadata": {},
   "outputs": [
    {
     "name": "stdout",
     "output_type": "stream",
     "text": [
      "Please enter a number : 7\n",
      "7 is a prime number\n"
     ]
    }
   ],
   "source": [
    "# girilen sayının prime (asal) sayı olup olmadığı.\n",
    "sayı = int(input(\"Please enter a number : \"))\n",
    "for i in range(2, sayı) :   # zaten tüm sayılar 1'e ve kendisine bölünebildiğinden bu şartları dışında tuttuk. \n",
    "    if sayı % i == 0 :      # sayı, 1 hariç kendisine kadar olan sayılardan birine tam olarak bölünürse asal değildir. \n",
    "        print(sayı,\"is not a prime number\")\n",
    "        break\n",
    "else :\n",
    "    print(sayı,\"is a prime number\")"
   ]
  },
  {
   "cell_type": "code",
   "execution_count": 6,
   "id": "multiple-bolivia",
   "metadata": {},
   "outputs": [
    {
     "name": "stdout",
     "output_type": "stream",
     "text": [
      "Enter a number to check if it is a prime number :19\n",
      "19 is a prime number\n"
     ]
    }
   ],
   "source": [
    "# asal sayı problemi hocanın çözümü\n",
    "\n",
    "sayı = int(input(\"Enter a number to check if it is a prime number :\"))\n",
    "count = 0\n",
    "for i in range(1, sayı+1) : # girilen sayıyı da dahil ettik.\n",
    "    if sayı % i == 0 : # tam bölündüğünde True olmasını istiyoruz. sayı%i==0 True değer verir\n",
    "        count += 1      # tam bölünenleri saydık.\n",
    "if (sayı == 0) or (sayı == 1) or (count >= 3) :# bu şartlarda asal sayı olmuyor.\n",
    "    print(sayı, \"is not a prime number\")\n",
    "else :\n",
    "    print(sayı, \"is a prime number\")"
   ]
  },
  {
   "cell_type": "code",
   "execution_count": 7,
   "id": "improved-remains",
   "metadata": {},
   "outputs": [
    {
     "name": "stdout",
     "output_type": "stream",
     "text": [
      "Enter a number to check if it is a prime number :19\n",
      "19 is a prime number\n"
     ]
    }
   ],
   "source": [
    "# asal sayı problemi hocanın çözümü\n",
    "\n",
    "sayı = int(input(\"Enter a number to check if it is a prime number :\"))\n",
    "count = 0\n",
    "for i in range(1, sayı+1) : # girilen sayıyı da dahil ettik.\n",
    "    if not sayı % i : # tam bölündüğünde True olmasını istiyoruz. o yüzden not koyduk.\n",
    "        count += 1      # tam bölünenleri saydık.\n",
    "if (sayı == 0) or (sayı == 1) or (count >= 3) :# bu şartlarda asal sayı olmuyor.\n",
    "    print(sayı, \"is not a prime number\")\n",
    "else :\n",
    "    print(sayı, \"is a prime number\")"
   ]
  },
  {
   "cell_type": "code",
   "execution_count": null,
   "id": "pointed-storm",
   "metadata": {},
   "outputs": [],
   "source": []
  }
 ],
 "metadata": {
  "kernelspec": {
   "display_name": "Python 3",
   "language": "python",
   "name": "python3"
  },
  "language_info": {
   "codemirror_mode": {
    "name": "ipython",
    "version": 3
   },
   "file_extension": ".py",
   "mimetype": "text/x-python",
   "name": "python",
   "nbconvert_exporter": "python",
   "pygments_lexer": "ipython3",
   "version": "3.7.8"
  }
 },
 "nbformat": 4,
 "nbformat_minor": 5
}
