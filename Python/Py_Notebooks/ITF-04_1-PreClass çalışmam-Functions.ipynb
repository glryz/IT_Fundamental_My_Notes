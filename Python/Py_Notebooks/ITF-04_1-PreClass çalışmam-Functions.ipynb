{
 "cells": [
  {
   "cell_type": "code",
   "execution_count": 2,
   "id": "warming-constitutional",
   "metadata": {},
   "outputs": [
    {
     "name": "stdout",
     "output_type": "stream",
     "text": [
      "30\n"
     ]
    }
   ],
   "source": [
    "def multiplication(a, b) :\n",
    "    print(a * b)\n",
    "\n",
    "multiplication(5, 6)"
   ]
  },
  {
   "cell_type": "code",
   "execution_count": 3,
   "id": "passive-leisure",
   "metadata": {},
   "outputs": [
    {
     "data": {
      "text/plain": [
       "30"
      ]
     },
     "execution_count": 3,
     "metadata": {},
     "output_type": "execute_result"
    }
   ],
   "source": [
    "def multiplication(a, b) :\n",
    "    return (a * b)\n",
    "\n",
    "multiplication(5, 6)"
   ]
  },
  {
   "cell_type": "code",
   "execution_count": 24,
   "id": "naughty-poverty",
   "metadata": {},
   "outputs": [
    {
     "name": "stdout",
     "output_type": "stream",
     "text": [
      "task completed\n",
      "2021-04-25 12:03:47.579318\n",
      "\n",
      "0\n",
      "1\n",
      "2\n",
      "3\n",
      "4\n",
      "5\n",
      "6\n",
      "7\n",
      "8\n",
      "9\n",
      "task completed\n",
      "2021-04-25 12:03:47.579318\n",
      "\n"
     ]
    }
   ],
   "source": [
    "import datetime\n",
    "\n",
    "first_name = 'Michael'\n",
    "print('task completed')\n",
    "print(datetime.datetime.now())\n",
    "print()\n",
    "\n",
    "for x in range(0, 10):\n",
    "    print(x)\n",
    "print('task completed')\n",
    "print(datetime.datetime.now())\n",
    "print()\n",
    "\n",
    "# şimdi bu kodu fonksiyon kullanarak kullanışlı ve hızlı hale getirelimi"
   ]
  },
  {
   "cell_type": "code",
   "execution_count": 5,
   "id": "imposed-ecology",
   "metadata": {},
   "outputs": [
    {
     "name": "stdout",
     "output_type": "stream",
     "text": [
      "task completed\n",
      "2021-04-25 11:11:15.101382\n",
      "\n",
      "0\n",
      "1\n",
      "2\n",
      "3\n",
      "4\n",
      "5\n",
      "6\n",
      "7\n",
      "8\n",
      "9\n",
      "task completed\n",
      "2021-04-25 11:11:15.101382\n",
      "\n"
     ]
    }
   ],
   "source": [
    "import datetime\n",
    "# print the current time\n",
    "def print_time():  \n",
    "    print('task completed')\n",
    "    print(datetime.datetime.now())\n",
    "    print()\n",
    "# üst satırdaki kodun içindeki first_name='Michael' dan sonraki \n",
    "# ve for döngüsünden sonraki tekrar eden kod bloğunu fonksiyonun içine koyduk.\n",
    "    \n",
    "first_name = 'Michael'\n",
    "print_time()  \n",
    "\n",
    "for x in range(0,10):\n",
    "    print(x)\n",
    "print_time()\n",
    "\n",
    "#  birazdan aşağıda bu fonksiyona argument tanımlayarak yalnızca \n",
    "# 'task complete' yazdırmak yerine istediğimiz task ismini yazdırabileceğiz."
   ]
  },
  {
   "cell_type": "code",
   "execution_count": 6,
   "id": "permanent-terminology",
   "metadata": {},
   "outputs": [],
   "source": [
    "# Import the datetime class form datetime library\n",
    "from datetime import datetime\n",
    "\n",
    "# Print the current time\n",
    "def print_time():\n",
    "    print('task completed')\n",
    "    # Now I don't need extra datetime prefix\n",
    "    print(datetime.now())  \n",
    "    print()\n",
    "\n",
    "# başlangıçta datetime library'i çağırdığımız için \n",
    "# artık datetime.datetime.now() yazmak yerine sadece datetime.now() yazdık."
   ]
  },
  {
   "cell_type": "code",
   "execution_count": 7,
   "id": "defined-george",
   "metadata": {},
   "outputs": [
    {
     "name": "stdout",
     "output_type": "stream",
     "text": [
      "first name assigned\n",
      "2021-04-25 11:17:18.548717\n",
      "\n",
      "0\n",
      "1\n",
      "2\n",
      "3\n",
      "4\n",
      "5\n",
      "6\n",
      "7\n",
      "8\n",
      "9\n",
      "loop completed\n",
      "2021-04-25 11:17:18.548717\n",
      "\n"
     ]
    }
   ],
   "source": [
    "# What if i want different message displayed\n",
    "\n",
    "from datetime import datetime\n",
    "# print timestamps to see how long sections of code take to run\n",
    "\n",
    "first_name = 'Hüseyin'\n",
    "print('first name assigned')\n",
    "print(datetime.now())\n",
    "print()\n",
    "\n",
    "for x in range(0, 10):\n",
    "    print(x)\n",
    "print('loop completed')\n",
    "print(datetime.now())\n",
    "print()\n",
    "\n",
    "#  şimdi bunu içinde 'task ismini' içeren bir argument'i olan bir fonksiyon tanımlayarak \n",
    "#  istediğimiz task ismini ve datetime'ı birlikte yazdırabileceğiz."
   ]
  },
  {
   "cell_type": "code",
   "execution_count": 19,
   "id": "invalid-algeria",
   "metadata": {},
   "outputs": [
    {
     "name": "stdout",
     "output_type": "stream",
     "text": [
      "firs name assigned\n",
      "2021-04-25 11:48:52.509294\n",
      "\n",
      "0\n",
      "1\n",
      "2\n",
      "3\n",
      "4\n",
      "5\n",
      "6\n",
      "7\n",
      "8\n",
      "9\n",
      "loop completed\n",
      "2021-04-25 11:48:52.509294\n",
      "\n"
     ]
    }
   ],
   "source": [
    "# pass the task name as a parameter\n",
    "\n",
    "from datetime import datetime\n",
    "\n",
    "# Print the current time and task name\n",
    "def print_time(task_name):\n",
    "    print(task_name)\n",
    "    print(datetime.now())\n",
    "    print()\n",
    "\n",
    "first_name = 'hüseyin'\n",
    "print_time('firs name assigned') # fonksiyonun 'task_name' argument'i olarak 'firs name assigned' kullandık\n",
    "\n",
    "for x in range(0,10):\n",
    "    print(x)\n",
    "print_time('loop completed')"
   ]
  },
  {
   "cell_type": "code",
   "execution_count": 20,
   "id": "rough-spice",
   "metadata": {},
   "outputs": [
    {
     "name": "stdout",
     "output_type": "stream",
     "text": [
      "Enter your firs name:michael\n",
      "Enter your last name:adams\n",
      "Your initials are: ma\n"
     ]
    }
   ],
   "source": [
    "# Here's another example where the code looks\n",
    "# different but we are doing the same logic over and over\n",
    "\n",
    "first_name = input('Enter your firs name:')\n",
    "first_name_initial = first_name[0:1]\n",
    "last_name = input('Enter your last name:')\n",
    "last_name_initial = last_name[0:1]\n",
    "\n",
    "print('Your initials are: ' + first_name_initial \\\n",
    "     + last_name_initial)"
   ]
  },
  {
   "cell_type": "code",
   "execution_count": 22,
   "id": "prepared-barrel",
   "metadata": {},
   "outputs": [
    {
     "name": "stdout",
     "output_type": "stream",
     "text": [
      "Enter your first name :michael\n",
      "Enter your last name :adams\n",
      "Your initials are : MA\n"
     ]
    }
   ],
   "source": [
    "# I can still use a function, but this time my function returns a value\n",
    "# by 'return' keyword. (return, bir değer generate edilmesini sağlar )\n",
    "\n",
    "def get_initial(name):\n",
    "    initial = name[0:1].upper() # return edeceği değişkeni tanımladık.\n",
    "    return initial  # return ile fonksiyonun initial değerini generate etmesini sağladık.\n",
    "\n",
    "first_name = input('Enter your first name :')\n",
    "firs_name_initial = get_initial(first_name)\n",
    "\n",
    "last_name = input('Enter your last name :')\n",
    "last_name_initial = get_initial(last_name)\n",
    "\n",
    "print('Your initials are : ' + firs_name_initial\\\n",
    "      + last_name_initial)"
   ]
  },
  {
   "cell_type": "code",
   "execution_count": null,
   "id": "republican-terrain",
   "metadata": {},
   "outputs": [],
   "source": [
    "# define a function that compares the lengths of its iterable arguments \n",
    "# and returns the longer one. Try this function to compare the \n",
    "# lengths of \"Richard\" and \"John\".\n",
    "\n",
    "# Name your function longer and if the lengths of arguments are the same return the first one. \n",
    "# After you define the longer function, call and print the result.\n",
    "\n",
    "def longer(a, b):\n",
    "    if len(a) >= len(b):\n",
    "        return a\n",
    "    else:\n",
    "        return b\n",
    "\n",
    "print(longer('Richard', 'John'))"
   ]
  },
  {
   "cell_type": "code",
   "execution_count": 1,
   "id": "expired-jenny",
   "metadata": {},
   "outputs": [
    {
     "name": "stdout",
     "output_type": "stream",
     "text": [
      "-- This parrot wouldn't voom if you put 1000 volts through it.\n",
      "-- Lovely plumage, the Norwegian Blue\n",
      "-- It's a stiff !\n",
      "-- This parrot wouldn't voom if you put 1000 volts through it.\n",
      "-- Lovely plumage, the Norwegian Blue\n",
      "-- It's a stiff !\n",
      "-- This parrot wouldn't VOOOOOM if you put 1000000 volts through it.\n",
      "-- Lovely plumage, the Norwegian Blue\n",
      "-- It's a stiff !\n",
      "-- This parrot wouldn't VOOOOOM if you put 1000000 volts through it.\n",
      "-- Lovely plumage, the Norwegian Blue\n",
      "-- It's a stiff !\n",
      "-- This parrot wouldn't jump if you put a million volts through it.\n",
      "-- Lovely plumage, the Norwegian Blue\n",
      "-- It's bereft of life !\n",
      "-- This parrot wouldn't voom if you put a thousand volts through it.\n",
      "-- Lovely plumage, the Norwegian Blue\n",
      "-- It's pushing up the daisies !\n"
     ]
    }
   ],
   "source": [
    "# bu fonksiyonda 1 positional parametre, 3 keyword parametre ve onların default değerleri var\n",
    "\n",
    "def parrot(voltage, state='a stiff', action='voom', type='Norwegian Blue'): \n",
    "    print(\"-- This parrot wouldn't\", action, end=' ')\n",
    "    print(\"if you put\", voltage, \"volts through it.\")\n",
    "    print(\"-- Lovely plumage, the\", type)\n",
    "    print(\"-- It's\", state, \"!\")\n",
    "\n",
    "parrot(1000)                                          # 1 positional argument\n",
    "parrot(voltage=1000)                                  # 1 keyword argument\n",
    "parrot(voltage=1000000, action='VOOOOOM')             # 2 keyword arguments\n",
    "parrot(action='VOOOOOM', voltage=1000000)             # 2 keyword arguments \n",
    "parrot('a million', 'bereft of life', 'jump')         # 3 positional arguments\n",
    "parrot('a thousand', state='pushing up the daisies')  # 1 positional, 1 keyword"
   ]
  },
  {
   "cell_type": "code",
   "execution_count": 3,
   "id": "imported-success",
   "metadata": {},
   "outputs": [
    {
     "name": "stdout",
     "output_type": "stream",
     "text": [
      "Athens in Europe\n",
      "Ulaanbaatar in Asia\n",
      "Cape Town in Africa\n"
     ]
    }
   ],
   "source": [
    "# Default parametre kullanmak kolaylık sağlar. \n",
    "# gördüğün gibi mecbur kalmadıkça default parametreye değer atamak zorunda değilsin.\n",
    "\n",
    "def city(capital, continent='Europe'):\n",
    "    print(capital, 'in', continent)\n",
    "\n",
    "city('Athens')  # we don't have to pass any arguments into 'continent'\n",
    "city('Ulaanbaatar', continent='Asia')  # we can change the default value by kwargs\n",
    "city('Cape Town', 'Africa')  # we can change the default value by positional args."
   ]
  },
  {
   "cell_type": "code",
   "execution_count": 2,
   "id": "native-electric",
   "metadata": {},
   "outputs": [
    {
     "name": "stdout",
     "output_type": "stream",
     "text": [
      "I want to get :\n",
      "- orange\n",
      "- banana\n",
      "- melon\n",
      "- ananas\n"
     ]
    }
   ],
   "source": [
    "# Arbitrary Arguments örneği... parametre olarak (*args) kullandığımızda birden fazla değer atayabiliyoruz.\n",
    "# These arguments will be wrapped up in a tuple.\n",
    "# any formal parameters which occur after the *args parameter are keyword-only arguments.\n",
    "# meaning that they can only be used as keywords rather than positional arguments!!\n",
    "\n",
    "def fruiterer(*fruit) :\n",
    "    print('I want to get :')\n",
    "    for i in fruit :\n",
    "        print('-', i)\n",
    "        \n",
    "fruiterer('orange', 'banana', 'melon', 'ananas')"
   ]
  },
  {
   "cell_type": "code",
   "execution_count": 5,
   "id": "adaptive-adventure",
   "metadata": {},
   "outputs": [
    {
     "name": "stdout",
     "output_type": "stream",
     "text": [
      "Lions are Carnivores\n",
      "Bears are Omnivores\n",
      "Deers are Herbivores\n",
      "Human are Nomnivores\n"
     ]
    }
   ],
   "source": [
    "# Arbitrary keyword argument örneği..\n",
    "# keyword'leri yani \"item\" şeklindeki verileri fonksiyonun parametrelerine atamak için ** kullanılıyor.\n",
    "\n",
    "def animals(**kwargs):       \n",
    "    for key, value in kwargs.items():\n",
    "        print(value, \"are\", key)\n",
    " \n",
    "animals(Carnivores=\"Lions\", Omnivores=\"Bears\", Herbivores=\"Deers\", Nomnivores=\"Human\")"
   ]
  },
  {
   "cell_type": "code",
   "execution_count": null,
   "id": "younger-scale",
   "metadata": {},
   "outputs": [],
   "source": [
    "# When calling a function defined by multiple positional parameters, \n",
    "# using *arg syntax in parentheses, we can pass all arguments into the function \n",
    "# with a single variable (burada family) Likewise; When calling a function \n",
    "# defined by multiple keyword arguments, using **kwargs syntax in parentheses, \n",
    "# we can pass all arguments which are in a dictionary form into the function \n",
    "# with a single variable. Carefully examine the following examples :"
   ]
  },
  {
   "cell_type": "code",
   "execution_count": 6,
   "id": "proud-commons",
   "metadata": {},
   "outputs": [
    {
     "name": "stdout",
     "output_type": "stream",
     "text": [
      "Here are the names of brothers :\n",
      "tom\n",
      "sue\n",
      "tim\n"
     ]
    }
   ],
   "source": [
    "def brothers(bro1, bro2, bro3):\n",
    "    print('Here are the names of brothers :')\n",
    "    print(bro1, bro2, bro3, sep='\\n')\n",
    "\n",
    "family = ['tom', 'sue', 'tim']\n",
    "brothers(*family)    # *'ın içerik listeleme özelliği olduğunu hatırla.'"
   ]
  },
  {
   "cell_type": "code",
   "execution_count": 7,
   "id": "automatic-application",
   "metadata": {},
   "outputs": [
    {
     "name": "stdout",
     "output_type": "stream",
     "text": [
      "Fred belongs to Generation X\n",
      "Marry belongs to Generation Y\n"
     ]
    }
   ],
   "source": [
    "def gene(x, y):  # defined by positional args\n",
    "    print(x, \"belongs to Generation X\")\n",
    "    print(y, \"belongs to Generation Y\")\n",
    " \n",
    "dict_gene = {'y' : \"Marry\", 'x' : \"Fred\"}\n",
    "gene(**dict_gene)  # we call the function by a single argument(variable)\n",
    "\n",
    "# tek bir argüman kullanarak iki parametereye birden değer atayarak fonksiyonu çalıştırdık\n",
    "# ** keywrd'u temsil ediyordu.. \n",
    "# ** ile keyword şeklindeki bir veriden (yani dictionary'lerden) fonksiyon parametrelerine değer atayabiliyoruz. \n",
    "# dikkat!! dictionary içindeki key'ler fonksiyondaki parametre isimleri olmalı!!"
   ]
  },
  {
   "cell_type": "code",
   "execution_count": 8,
   "id": "comprehensive-continent",
   "metadata": {},
   "outputs": [
    {
     "name": "stdout",
     "output_type": "stream",
     "text": [
      "Fred belongs to Generation X\n",
      "Marry belongs to Generation Y\n"
     ]
    }
   ],
   "source": [
    "def gene(x='Solomon', y='David'):  # defined by kwargs (default values assigned to x and y)\n",
    "    print(x, \"belongs to Generation X\")\n",
    "    print(y, \"belongs to Generation Y\")\n",
    " \n",
    "dict_gene = {'y' : \"Marry\", 'x' : \"Fred\"}\n",
    "gene(**dict_gene) \n",
    "\n",
    "  # default values yerine farklı iki value kullanabildik.\n",
    "    # çünkü x ve y keyword olarak belirlenmiş yani default parametreler idi."
   ]
  },
  {
   "cell_type": "code",
   "execution_count": null,
   "id": "regulated-natural",
   "metadata": {},
   "outputs": [],
   "source": [
    "# ÖZETLE!!\n",
    "\n",
    "# We use *args when we aren’t sure how many arguments are going to be passed to a function, \n",
    "# or if we want to pass a stored list or tuple of arguments to a function. \n",
    "# **kwargs is used when we don’t know how many keyword arguments will be passed to a function, \n",
    "# or it can be used to pass the valufirstes of a dictionary as keyword arguments. \n",
    "# The identifiers args and kwargs are a convention, you could also use *bob and **billy but that would not be wise. "
   ]
  },
  {
   "cell_type": "code",
   "execution_count": 4,
   "id": "municipal-pursuit",
   "metadata": {},
   "outputs": [
    {
     "name": "stdout",
     "output_type": "stream",
     "text": [
      "Enter your first name : hüseyin\n",
      "your initial is h\n"
     ]
    }
   ],
   "source": [
    "def get_initial(name, force_uppercase):\n",
    "    if force_uppercase :\n",
    "        initial = name[0:1].upper()\n",
    "    else:\n",
    "        initial = name[0:1]\n",
    "    return initial\n",
    "first_name = input('Enter your first name : ')\n",
    "first_name_initial = get_initial(first_name, False)  # ikinci parametre False olduğundan ismin kısaltmasını büyük yapmadı.\n",
    "print('your initial is', first_name_initial)"
   ]
  },
  {
   "cell_type": "code",
   "execution_count": null,
   "id": "boring-tolerance",
   "metadata": {},
   "outputs": [],
   "source": [
    "# 2. parametreye default değer tanımladık. böylece aksini olmasını istemediğimiz sürece \n",
    "# bu parametreye değer girmemize gerek kalmayacak\n",
    "\n",
    "def get_initial(name, force_uppercase = True):  \n",
    "    if force_uppercase :\n",
    "        initial = name[0:1].upper()\n",
    "    else:\n",
    "        initial = name[0:1]\n",
    "    return initial\n",
    "first_name = input('Enter your first name : ')\n",
    "first_name_initial = get_initial(first_name)  # ikinci parametre False olduğundan ismin kısaltmasını büyük yapmadı.\n",
    "print('your initial is', first_name_initial)"
   ]
  },
  {
   "cell_type": "code",
   "execution_count": null,
   "id": "handmade-compilation",
   "metadata": {},
   "outputs": [],
   "source": [
    "# 2. parametreye default değer tanımladık. böylece aksini olmasını istemediğimiz sürece \n",
    "# bu parametreye değer girmemize gerek kalmayacak\n",
    "\n",
    "def get_initial(name, force_uppercase = True):  \n",
    "    if force_uppercase :\n",
    "        initial = name[0:1].upper()\n",
    "    else:\n",
    "        initial = name[0:1]\n",
    "    return initial\n",
    "first_name = input('Enter your first name : ')\n",
    "first_name_initial = get_initial(force_uppercase = True, name = first_name)\n",
    "\n",
    "# when you use named parameters --> (force_uppercase = True, name = first_name) you can specify parameters in any order\n",
    "\n",
    "print('your initial is', first_name_initial)"
   ]
  },
  {
   "cell_type": "code",
   "execution_count": null,
   "id": "significant-captain",
   "metadata": {},
   "outputs": [],
   "source": [
    "## def make_sentence(**kwargs):\n",
    "    result = \"\"\n",
    "    # Iterating over the Python kwargs dictionary\n",
    "    for i in kwargs.values():\n",
    "        result += i\n",
    "    return result\n",
    "\n",
    "print(make_sentence(a=\"I \", b=\"love \", c=\"Clarusway!\"))"
   ]
  },
  {
   "cell_type": "code",
   "execution_count": 11,
   "id": "capable-commercial",
   "metadata": {},
   "outputs": [
    {
     "name": "stdout",
     "output_type": "stream",
     "text": [
      "Iloveclarusway\n",
      "abc\n"
     ]
    }
   ],
   "source": [
    "def kwargman(**kwargs):\n",
    "    result = ''\n",
    "    for i in kwargs.keys():\n",
    "        result += i\n",
    "    return result\n",
    "\n",
    "print(kwargman(I = 'a', love = 'b', clarusway = 'c'))\n",
    "print(kwargman(a = 'I ', b = 'love', c = 'clarusway '))"
   ]
  },
  {
   "cell_type": "code",
   "execution_count": 12,
   "id": "tamil-listing",
   "metadata": {},
   "outputs": [
    {
     "name": "stdout",
     "output_type": "stream",
     "text": [
      "5\n",
      "3\n"
     ]
    }
   ],
   "source": [
    "a =3\n",
    "def function():\n",
    "    a = 5\n",
    "    print(a)\n",
    "function()\n",
    "print(a)\n",
    "\n",
    "# burada fonksiyonun dışındaki a, GLOBAL bir değişkendir ve programın her yerinde çağrılıp kullanılabilir.\n",
    "# fonksiyonun içindeki a ise global değildir ve sadece fonksiyonun içinde geçerlidir.\n",
    "# bu yüzden önce fonksiyon çalıştı, a=5 oldu. sonra global a print edildi ve 3 oldu."
   ]
  },
  {
   "cell_type": "code",
   "execution_count": null,
   "id": "innovative-cable",
   "metadata": {},
   "outputs": [],
   "source": [
    "# a = 3 (doğrusu burada tanımlanmasıdır)\n",
    "def function():\n",
    "    print(a)\n",
    "function()\n",
    "a =3\n",
    "\n",
    "# global değişkenler her yerde olduğu gibi fonksiyonların içerisinde de kullanılabilirler ancak tek şartla\n",
    "# fonksiyondan önce tanımlanmaları gerekir. burada kod hata verecektir."
   ]
  },
  {
   "cell_type": "code",
   "execution_count": 1,
   "id": "downtown-pendant",
   "metadata": {},
   "outputs": [
    {
     "name": "stdout",
     "output_type": "stream",
     "text": [
      "inner variable\n",
      "outer variable\n"
     ]
    }
   ],
   "source": [
    "my_var = 'outer variable'\n",
    "\n",
    "def func_var(): \n",
    "\tmy_var= 'inner variable'\n",
    "\tprint(my_var) \n",
    "\n",
    "func_var() \n",
    "print(my_var)"
   ]
  },
  {
   "cell_type": "code",
   "execution_count": 2,
   "id": "manual-survivor",
   "metadata": {
    "scrolled": true
   },
   "outputs": [
    {
     "name": "stdout",
     "output_type": "stream",
     "text": [
      "I am the global one\n",
      "I am the global one\n",
      "The globals are valid everywhere \n",
      "I am the local one\n"
     ]
    },
    {
     "ename": "NameError",
     "evalue": "name 'local_text' is not defined",
     "output_type": "error",
     "traceback": [
      "\u001b[1;31m---------------------------------------------------------------------------\u001b[0m",
      "\u001b[1;31mNameError\u001b[0m                                 Traceback (most recent call last)",
      "\u001b[1;32m<ipython-input-2-0864727daf5c>\u001b[0m in \u001b[0;36m<module>\u001b[1;34m\u001b[0m\n\u001b[0;32m     19\u001b[0m \u001b[0mlocal_func\u001b[0m\u001b[1;33m(\u001b[0m\u001b[1;33m)\u001b[0m  \u001b[1;31m# 'I am the local one' will be printed as expected\u001b[0m\u001b[1;33m\u001b[0m\u001b[1;33m\u001b[0m\u001b[0m\n\u001b[0;32m     20\u001b[0m \u001b[1;33m\u001b[0m\u001b[0m\n\u001b[1;32m---> 21\u001b[1;33m \u001b[0mprint\u001b[0m\u001b[1;33m(\u001b[0m\u001b[0mlocal_text\u001b[0m\u001b[1;33m)\u001b[0m  \u001b[1;31m# NameError will be raised\u001b[0m\u001b[1;33m\u001b[0m\u001b[1;33m\u001b[0m\u001b[0m\n\u001b[0m\u001b[0;32m     22\u001b[0m \u001b[1;31m# because we can't use local variable outside of its function\u001b[0m\u001b[1;33m\u001b[0m\u001b[1;33m\u001b[0m\u001b[1;33m\u001b[0m\u001b[0m\n",
      "\u001b[1;31mNameError\u001b[0m: name 'local_text' is not defined"
     ]
    }
   ],
   "source": [
    "text = \"I am the global one\"\n",
    " \n",
    "def global_func():\n",
    "    print(text)  # we can use 'text' in a function\n",
    "                 # because it's a global variable\n",
    "\n",
    "global_func()  # 'I am the global one' will be printed\n",
    "print(text)  # it can also be printed outside of the function\n",
    " \n",
    "text = \"The globals are valid everywhere \"\n",
    " \n",
    "global_func()  # we changed the value of 'text'\n",
    "# 'The globals are valid everywhere' will be printed\n",
    " \n",
    "def local_func():\n",
    "    local_text = \"I am the local one\"\n",
    "    print(local_text)  # local_text is a local variable\n",
    "\n",
    "local_func()  # 'I am the local one' will be printed as expected\n",
    " \n",
    "print(local_text)  # NameError will be raised\n",
    "# because we can't use local variable outside of its function"
   ]
  },
  {
   "cell_type": "code",
   "execution_count": null,
   "id": "worthy-chick",
   "metadata": {},
   "outputs": [],
   "source": [
    "LEGB Ranking Rule\n",
    "--It'll not be included in the In-Class--\n",
    "\n",
    "When you call an object (method or variable), the interpreter looks for its name in the following order:\n",
    "\n",
    "Locals. The space which is searched first, contains the local names defined in a function body.\n",
    "Enclosing. The scopes of any enclosing functions, which are searched starting with the nearest enclosing scope (from inner to outer), contains non-local, but also non-global names.\n",
    "Globals. It contains the current module’s global names. The variables defined at the top-level of its module.\n",
    "Built-in. The outermost scope (searched last) is the namespace containing built-in names."
   ]
  },
  {
   "cell_type": "code",
   "execution_count": null,
   "id": "worthy-swing",
   "metadata": {},
   "outputs": [],
   "source": [
    "variable = \"global\"\n",
    "\n",
    "def func_outer():\n",
    "    variable = \"enclosing outer local\"\n",
    "    def func_inner():\n",
    "        variable = \"enclosing inner local\"\n",
    "        def func_local():\n",
    "            variable = \"local\"\n",
    "            print(variable)\n",
    "        func_local()\n",
    "    func_inner()\n",
    " \n",
    "func_outer()  # prints 'local' defined in the innermost function\n",
    "print(variable)  # 'global' level variable holds its value"
   ]
  },
  {
   "cell_type": "code",
   "execution_count": null,
   "id": "conservative-bathroom",
   "metadata": {},
   "outputs": [],
   "source": []
  }
 ],
 "metadata": {
  "kernelspec": {
   "display_name": "Python 3",
   "language": "python",
   "name": "python3"
  },
  "language_info": {
   "codemirror_mode": {
    "name": "ipython",
    "version": 3
   },
   "file_extension": ".py",
   "mimetype": "text/x-python",
   "name": "python",
   "nbconvert_exporter": "python",
   "pygments_lexer": "ipython3",
   "version": "3.7.8"
  }
 },
 "nbformat": 4,
 "nbformat_minor": 5
}
