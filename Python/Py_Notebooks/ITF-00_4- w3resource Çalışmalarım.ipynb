{
 "cells": [
  {
   "cell_type": "code",
   "execution_count": 4,
   "id": "decimal-desire",
   "metadata": {},
   "outputs": [
    {
     "name": "stdout",
     "output_type": "stream",
     "text": [
      "enter a number :2\n",
      "enter a number :7\n",
      "enter a number :6\n",
      "maximum number is : 7\n"
     ]
    }
   ],
   "source": [
    "# 1. Write a Python function to find the Max of three numbers.\n",
    "\n",
    "def max_num():\n",
    "    c=1\n",
    "    l=[]\n",
    "    while c < 4:\n",
    "        x = input(\"enter a number :\")\n",
    "        l.append(x)\n",
    "        c += 1\n",
    "    return max(l)\n",
    "\n",
    "print(\"maximum number is :\", max_num())\n"
   ]
  },
  {
   "cell_type": "code",
   "execution_count": 6,
   "id": "informational-antique",
   "metadata": {},
   "outputs": [
    {
     "name": "stdout",
     "output_type": "stream",
     "text": [
      "enter a number :8\n",
      "enter a number :7\n",
      "enter a number :4\n",
      "enter a number :1\n",
      "enter a number :6\n",
      "enter a number :9\n",
      "maximum number is :  9\n"
     ]
    }
   ],
   "source": [
    "# girilen rakam kadar sayı isteyen ve bunların maksimumunu bulan fonksiyon \n",
    "\n",
    "def max_num(count):\n",
    "    c=1\n",
    "    l=[]\n",
    "    while c <= count:\n",
    "        x = input(\"enter a number :\")\n",
    "        l.append(x)\n",
    "        c += 1\n",
    "    print(\"maximum number is : \", max(l))\n",
    "\n",
    "max_num(6)"
   ]
  },
  {
   "cell_type": "code",
   "execution_count": 31,
   "id": "chubby-campus",
   "metadata": {},
   "outputs": [
    {
     "name": "stdout",
     "output_type": "stream",
     "text": [
      "liste için rakam giriniz. çıkmak için q :1\n",
      "liste için rakam giriniz. çıkmak için q :2\n",
      "liste için rakam giriniz. çıkmak için q :3\n",
      "liste için rakam giriniz. çıkmak için q :q\n"
     ]
    },
    {
     "data": {
      "text/plain": [
       "6"
      ]
     },
     "execution_count": 31,
     "metadata": {},
     "output_type": "execute_result"
    }
   ],
   "source": [
    "# 2. Write a Python function to sum all the numbers in a list.\n",
    "\n",
    "liste=[]\n",
    "giriş=True\n",
    "while giriş: \n",
    "    l=input('liste için rakam giriniz. çıkmak için q :')\n",
    "    if l != \"q\":\n",
    "        liste.append(int(l))\n",
    "    else :\n",
    "        giriş=False\n",
    "\n",
    "def toplam(x):\n",
    "    t = 0\n",
    "    for i in x :\n",
    "        t += i\n",
    "    return t\n",
    "\n",
    "toplam(liste)\n",
    "\n",
    "   "
   ]
  },
  {
   "cell_type": "code",
   "execution_count": 2,
   "id": "occupied-sociology",
   "metadata": {},
   "outputs": [
    {
     "name": "stdout",
     "output_type": "stream",
     "text": [
      "liste için rakam giriniz. çıkmak için q :3\n",
      "liste için rakam giriniz. çıkmak için q :5\n",
      "liste için rakam giriniz. çıkmak için q :4\n",
      "liste için rakam giriniz. çıkmak için q :q\n"
     ]
    },
    {
     "data": {
      "text/plain": [
       "60"
      ]
     },
     "execution_count": 2,
     "metadata": {},
     "output_type": "execute_result"
    }
   ],
   "source": [
    "# 3. Write a Python function to multiply all the numbers in a list\n",
    "\n",
    "liste=[]\n",
    "giriş=True\n",
    "while giriş: \n",
    "    l=input('liste için rakam giriniz. çıkmak için q :')\n",
    "    if l != \"q\":\n",
    "        liste.append(int(l))\n",
    "    else :\n",
    "        giriş=False\n",
    "\n",
    "def çarpım(x):\n",
    "    t = 1\n",
    "    for i in x :\n",
    "        t = t * i\n",
    "    return t\n",
    "\n",
    "çarpım(liste)\n"
   ]
  },
  {
   "cell_type": "code",
   "execution_count": 5,
   "id": "compatible-determination",
   "metadata": {},
   "outputs": [
    {
     "name": "stdout",
     "output_type": "stream",
     "text": [
      "enter a string :hüseyin\n",
      "niyesüh\n"
     ]
    }
   ],
   "source": [
    "# 4. Write a Python program to reverse a string\n",
    "\n",
    "string=input(\"enter a string :\")\n",
    "\n",
    "def reverse(strn):\n",
    "    lenght=len(strn)\n",
    "    rev_str=''\n",
    "    while lenght > 0 :\n",
    "        rev_str += strn[lenght-1]\n",
    "        lenght -= 1\n",
    "    return rev_str\n",
    "\n",
    "print(reverse(string))"
   ]
  },
  {
   "cell_type": "code",
   "execution_count": null,
   "id": "distinguished-ordinary",
   "metadata": {},
   "outputs": [],
   "source": []
  },
  {
   "cell_type": "code",
   "execution_count": null,
   "id": "prepared-filter",
   "metadata": {},
   "outputs": [],
   "source": []
  }
 ],
 "metadata": {
  "kernelspec": {
   "display_name": "Python 3",
   "language": "python",
   "name": "python3"
  },
  "language_info": {
   "codemirror_mode": {
    "name": "ipython",
    "version": 3
   },
   "file_extension": ".py",
   "mimetype": "text/x-python",
   "name": "python",
   "nbconvert_exporter": "python",
   "pygments_lexer": "ipython3",
   "version": "3.7.8"
  }
 },
 "nbformat": 4,
 "nbformat_minor": 5
}
