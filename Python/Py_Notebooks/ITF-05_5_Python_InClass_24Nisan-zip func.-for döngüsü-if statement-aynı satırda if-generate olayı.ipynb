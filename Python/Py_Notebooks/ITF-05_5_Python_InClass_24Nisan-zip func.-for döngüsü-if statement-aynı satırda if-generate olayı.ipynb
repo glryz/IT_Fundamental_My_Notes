{
 "cells": [
  {
   "cell_type": "code",
   "execution_count": 2,
   "id": "integrated-pollution",
   "metadata": {},
   "outputs": [
    {
     "name": "stdout",
     "output_type": "stream",
     "text": [
      "<zip object at 0x0000027CC6AE1208>\n"
     ]
    }
   ],
   "source": [
    "text = ['one', 'two', 'three', 'four', 'five']\n",
    "numbers = [1, 2, 3, 4, 5]\n",
    "city = [\"Tokyo\", \"Kiev\", \"Mekke\", \"İstanbul\", \"Washington\"]\n",
    "\n",
    "print(zip(text, numbers))"
   ]
  },
  {
   "cell_type": "code",
   "execution_count": 3,
   "id": "joined-sitting",
   "metadata": {},
   "outputs": [
    {
     "data": {
      "text/plain": [
       "[('one', 1), ('two', 2), ('three', 3), ('four', 4), ('five', 5)]"
      ]
     },
     "execution_count": 3,
     "metadata": {},
     "output_type": "execute_result"
    }
   ],
   "source": [
    "text = ['one', 'two', 'three', 'four', 'five']\n",
    "numbers = [1, 2, 3, 4, 5]\n",
    "\n",
    "list(zip(text, numbers))"
   ]
  },
  {
   "cell_type": "code",
   "execution_count": 7,
   "id": "advance-scope",
   "metadata": {},
   "outputs": [
    {
     "name": "stdout",
     "output_type": "stream",
     "text": [
      "('one', 1) ('two', 2) ('three', 3) ('four', 4) ('five', 5)\n"
     ]
    }
   ],
   "source": [
    "print(* zip(text, numbers))"
   ]
  },
  {
   "cell_type": "code",
   "execution_count": 8,
   "id": "interior-bradford",
   "metadata": {
    "scrolled": true
   },
   "outputs": [
    {
     "name": "stdout",
     "output_type": "stream",
     "text": [
      "[0, 2, 4, 6, 8, 10]\n",
      "[1, 3, 5, 7, 9]\n"
     ]
    }
   ],
   "source": [
    "# 0'dan 10'a kadar sayılardan tek ve çift olanları yazdıran program\n",
    "\n",
    "liste = range(11)\n",
    "list_even = []\n",
    "list_odd = []\n",
    "for i in liste :\n",
    "    if i % 2 == 0 :\n",
    "        list_even.append(i)\n",
    "    else :\n",
    "        list_odd.append(i)\n",
    "print(list_even)\n",
    "print(list_odd)\n",
    "        \n"
   ]
  },
  {
   "cell_type": "code",
   "execution_count": 12,
   "id": "chronic-slave",
   "metadata": {
    "scrolled": false
   },
   "outputs": [
    {
     "name": "stdout",
     "output_type": "stream",
     "text": [
      "the count of even numbers : 3 \n",
      "the count of odd numbers : 4\n"
     ]
    }
   ],
   "source": [
    "# listedeki elemanların tek olanların ve çift olanları miktarını veren program\n",
    "\n",
    "liste = [11, 2, 24, 61, 48, 33, 3]\n",
    "amount_even = 0\n",
    "amount_odd = 0\n",
    "for i in liste :\n",
    "    if i % 2 == 0 :\n",
    "#   if not i %2 : # modulus 2 nin sonucu 0 ise 1 yani True verecek, \n",
    "# dolayısıyla altında çift sayıları toplayan bloğu çalıştıracak\n",
    "        amount_even += 1\n",
    "    else :\n",
    "        amount_odd += 1\n",
    "print(f\"the count of even numbers : {amount_even} \\nthe count of odd numbers : {amount_odd}\")\n",
    "\n",
    "# bir liste oluşturup count() fonksiyonunu len() fonksiyonunu\n",
    "# kullanırsan fonksiyonlar için fazladan hafızada yer işgal eder "
   ]
  },
  {
   "cell_type": "code",
   "execution_count": 13,
   "id": "promotional-iraqi",
   "metadata": {
    "scrolled": true
   },
   "outputs": [
    {
     "name": "stdout",
     "output_type": "stream",
     "text": [
      "1\n",
      "22\n",
      "333\n",
      "4444\n",
      "55555\n",
      "666666\n",
      "7777777\n",
      "88888888\n",
      "999999999\n"
     ]
    }
   ],
   "source": [
    "liste = range(1,10)\n",
    "for i in liste :\n",
    "    print(str(i) * i)\n"
   ]
  },
  {
   "cell_type": "code",
   "execution_count": 14,
   "id": "existing-locking",
   "metadata": {},
   "outputs": [
    {
     "name": "stdout",
     "output_type": "stream",
     "text": [
      "2775\n"
     ]
    }
   ],
   "source": [
    "numbers = range(1, 75)\n",
    "sum_ = 0\n",
    "for i in numbers :\n",
    "    sum_ += i\n",
    "print(sum_)"
   ]
  },
  {
   "cell_type": "code",
   "execution_count": 15,
   "id": "operating-treatment",
   "metadata": {},
   "outputs": [
    {
     "name": "stdout",
     "output_type": "stream",
     "text": [
      "susan is happy\n",
      "susan is sad\n",
      "tom is happy\n",
      "tom is sad\n",
      "edward is happy\n",
      "edward is sad\n"
     ]
    }
   ],
   "source": [
    "names = [\"susan\", \"tom\", \"edward\"]\n",
    "mood = [\"happy\", \"sad\"]\n",
    "for i in names :\n",
    "    for x in mood :\n",
    "        print(i, \"is\", x)"
   ]
  },
  {
   "cell_type": "code",
   "execution_count": 17,
   "id": "turkish-worse",
   "metadata": {},
   "outputs": [
    {
     "name": "stdout",
     "output_type": "stream",
     "text": [
      "[1, 9, 25]\n"
     ]
    }
   ],
   "source": [
    "# LIST COMPREHENSIONS _HOCANIN VİDEOSUNDAN\n",
    "\n",
    "my_list = [1, 2, 3, 4, 5, 6]\n",
    "new_list = []\n",
    "\n",
    "for x in my_list :\n",
    "    if x % 2 != 0 :\n",
    "        new_list.append(x ** 2)\n",
    "print(new_list)"
   ]
  },
  {
   "cell_type": "code",
   "execution_count": null,
   "id": "prescription-society",
   "metadata": {},
   "outputs": [],
   "source": [
    "## LIST COMPREHENTION'IN GENEL MANTIĞI\n",
    "\n",
    "# for item in iterable:\n",
    "#     expression      \n",
    "# yazmak yerine aşağıdaki tek satırı kullanabiliriz. buna list comprehension yöntemi denir. \n",
    "\n",
    "# [expression for item in iterable]\n",
    "\n",
    "# {\"expression\" for item in iterable \"execution body\" if condition}\n"
   ]
  },
  {
   "cell_type": "code",
   "execution_count": 3,
   "id": "decent-nutrition",
   "metadata": {},
   "outputs": [
    {
     "name": "stdout",
     "output_type": "stream",
     "text": [
      "[1, 9, 25]\n",
      "[1, 9, 25]\n"
     ]
    }
   ],
   "source": [
    "my_list = [1, 2, 3, 4, 5, 6]\n",
    "new_list = []\n",
    "\n",
    "for i in my_list :\n",
    "    if i % 2 :\n",
    "        #  % 2 == 1 olduğunda alttaki komutu çalıştıracak çünkü boolean == True olacaktır.\n",
    "        new_list.append(i ** 2) # tek sayıların karesini alarak boş listeye ekle\n",
    "print(new_list)\n",
    "\n",
    " # şimdi bunu list comprehension yöntemi ile (tek satırda) yapalım:\n",
    "\n",
    "[i ** 2 for i in my_list if i % 2]  # burada i **2, comprehension'ın body'sidir."
   ]
  },
  {
   "cell_type": "code",
   "execution_count": 23,
   "id": "clean-insulation",
   "metadata": {},
   "outputs": [
    {
     "data": {
      "text/plain": [
       "[0, 1, 2, 3, 4]"
      ]
     },
     "execution_count": 23,
     "metadata": {},
     "output_type": "execute_result"
    }
   ],
   "source": [
    "listem = []\n",
    "for i in range (5) :\n",
    "    listem.append(i)\n",
    "listem"
   ]
  },
  {
   "cell_type": "code",
   "execution_count": 24,
   "id": "looking-trailer",
   "metadata": {},
   "outputs": [
    {
     "data": {
      "text/plain": [
       "[0, 1, 2, 3, 4]"
      ]
     },
     "execution_count": 24,
     "metadata": {},
     "output_type": "execute_result"
    }
   ],
   "source": [
    "[i for i in range(5)] # burda i, list comprehension'ın body'si. i'yi yaz, i range(5) içinde olduğu sürece.."
   ]
  },
  {
   "cell_type": "code",
   "execution_count": 26,
   "id": "suffering-manufacturer",
   "metadata": {},
   "outputs": [
    {
     "name": "stdout",
     "output_type": "stream",
     "text": [
      "1\n"
     ]
    }
   ],
   "source": [
    "condition = True\n",
    "if condition :\n",
    "    a = 1\n",
    "else :\n",
    "    a = 0\n",
    "print(a)"
   ]
  },
  {
   "cell_type": "code",
   "execution_count": 3,
   "id": "spread-confusion",
   "metadata": {},
   "outputs": [
    {
     "data": {
      "text/plain": [
       "0"
      ]
     },
     "execution_count": 3,
     "metadata": {},
     "output_type": "execute_result"
    }
   ],
   "source": [
    "a = 1 if 2 < 4 else 0\n",
    "print(a)\n",
    "\n",
    "# bunu tek satırda yazmak istersek:\n",
    "\n",
    "print(1 if 2 < 4 else 0)"
   ]
  },
  {
   "cell_type": "code",
   "execution_count": null,
   "id": "standing-retro",
   "metadata": {},
   "outputs": [],
   "source": [
    "## ternary if condition yapısı\n",
    "\n",
    "execute-body1 if condition else execute-body  # 1. body if'in body'si, ikinci body else'in body'si.\n",
    "\n"
   ]
  },
  {
   "cell_type": "code",
   "execution_count": 4,
   "id": "acknowledged-biology",
   "metadata": {},
   "outputs": [
    {
     "data": {
      "text/plain": [
       "[1, 4, 9, 16, 25, 36]"
      ]
     },
     "execution_count": 4,
     "metadata": {},
     "output_type": "execute_result"
    }
   ],
   "source": [
    "my_list = [1, 2, 3, 4, 5, 6]\n",
    "\n",
    "[i ** 2 for i in my_list]"
   ]
  },
  {
   "cell_type": "code",
   "execution_count": 6,
   "id": "architectural-cincinnati",
   "metadata": {},
   "outputs": [
    {
     "data": {
      "text/plain": [
       "[4, 16, 36]"
      ]
     },
     "execution_count": 6,
     "metadata": {},
     "output_type": "execute_result"
    }
   ],
   "source": [
    "my_list = [1, 2, 3, 4, 5, 6]\n",
    "\n",
    "[i ** 2 for i in my_list if i % 2 != 0]  #  yalnızca  if i % 2  yazsak da olur!\n",
    "\n",
    "[i ** 2 for i in my_list if not i % 2]   # çift sayıların karesi"
   ]
  },
  {
   "cell_type": "code",
   "execution_count": 7,
   "id": "immune-johnson",
   "metadata": {},
   "outputs": [
    {
     "data": {
      "text/plain": [
       "12"
      ]
     },
     "execution_count": 7,
     "metadata": {},
     "output_type": "execute_result"
    }
   ],
   "source": [
    "my_list = [1, 2, 3, 4, 5, 6]\n",
    "\n",
    "sum([i for i in my_list if not i % 2]) # çift sayıların toplamı"
   ]
  },
  {
   "cell_type": "code",
   "execution_count": 8,
   "id": "neural-frame",
   "metadata": {},
   "outputs": [
    {
     "data": {
      "text/plain": [
       "56"
      ]
     },
     "execution_count": 8,
     "metadata": {},
     "output_type": "execute_result"
    }
   ],
   "source": [
    "my_list = [1, 2, 3, 4, 5, 6]\n",
    "\n",
    "sum([i ** 2 for i in my_list if not i % 2]) # çift sayıların karelerinin toplamı"
   ]
  },
  {
   "cell_type": "code",
   "execution_count": 10,
   "id": "registered-orchestra",
   "metadata": {},
   "outputs": [
    {
     "data": {
      "text/plain": [
       "[1, 9, 25]"
      ]
     },
     "execution_count": 10,
     "metadata": {},
     "output_type": "execute_result"
    }
   ],
   "source": [
    "my_list = [1, 2, 3, 4, 5, 6]\n",
    "\n",
    "a = [i ** 2 for i in my_list if i % 2 != 0]\n",
    "a"
   ]
  },
  {
   "cell_type": "code",
   "execution_count": 1,
   "id": "parliamentary-berkeley",
   "metadata": {},
   "outputs": [
    {
     "ename": "NameError",
     "evalue": "name 'my_list' is not defined",
     "output_type": "error",
     "traceback": [
      "\u001b[1;31m---------------------------------------------------------------------------\u001b[0m",
      "\u001b[1;31mNameError\u001b[0m                                 Traceback (most recent call last)",
      "\u001b[1;32m<ipython-input-1-e550c56c89aa>\u001b[0m in \u001b[0;36m<module>\u001b[1;34m\u001b[0m\n\u001b[1;32m----> 1\u001b[1;33m \u001b[0ma\u001b[0m \u001b[1;33m=\u001b[0m \u001b[1;33m(\u001b[0m\u001b[0mi\u001b[0m \u001b[1;33m**\u001b[0m \u001b[1;36m2\u001b[0m \u001b[1;32mfor\u001b[0m \u001b[0mi\u001b[0m \u001b[1;32min\u001b[0m \u001b[0mmy_list\u001b[0m\u001b[1;33m)\u001b[0m\u001b[1;33m\u001b[0m\u001b[1;33m\u001b[0m\u001b[0m\n\u001b[0m\u001b[0;32m      2\u001b[0m \u001b[0mprint\u001b[0m\u001b[1;33m(\u001b[0m\u001b[0ma\u001b[0m\u001b[1;33m)\u001b[0m\u001b[1;33m\u001b[0m\u001b[1;33m\u001b[0m\u001b[0m\n\u001b[0;32m      3\u001b[0m \u001b[1;33m\u001b[0m\u001b[0m\n\u001b[0;32m      4\u001b[0m \u001b[1;31m# tuple üretti. ama yazdırmadı. bunu print(*a) yaparak görünür yapabiliriz.\u001b[0m\u001b[1;33m\u001b[0m\u001b[1;33m\u001b[0m\u001b[1;33m\u001b[0m\u001b[0m\n\u001b[0;32m      5\u001b[0m \u001b[1;31m# bu şekilde generatör'ün içini boşaltmış oluruz.\u001b[0m\u001b[1;33m\u001b[0m\u001b[1;33m\u001b[0m\u001b[1;33m\u001b[0m\u001b[0m\n",
      "\u001b[1;31mNameError\u001b[0m: name 'my_list' is not defined"
     ]
    }
   ],
   "source": [
    "a = (i ** 2 for i in my_list)\n",
    "print(a)\n",
    "\n",
    "# tuple üretti. ama yazdırmadı. bunu print(*a) yaparak görünür yapabiliriz. \n",
    "# bu şekilde generatör'ün içini boşaltmış oluruz. \n",
    "# generatör üretilince bunu bir defa kullanabiliyoruz. sonraki satırlarda yazdıramayız."
   ]
  },
  {
   "cell_type": "code",
   "execution_count": 9,
   "id": "annoying-syria",
   "metadata": {},
   "outputs": [
    {
     "name": "stdout",
     "output_type": "stream",
     "text": [
      "1 4 9 16 25 36\n"
     ]
    }
   ],
   "source": [
    "a = (i ** 2 for i in my_list)\n",
    "print(*a)  # generate edilmiş tuple değerlerini * ile görünür hale getirdik. SERBEST BIRAKTIK!! "
   ]
  },
  {
   "cell_type": "code",
   "execution_count": 8,
   "id": "popular-crest",
   "metadata": {},
   "outputs": [],
   "source": [
    "for i in a:\n",
    "    print(i) \n",
    "# üstte generate edilmiş a değerini print(* ) ile açığa çıkarttığımız için a boşalmış olduğundan burada işlem yapılamadı!!"
   ]
  },
  {
   "cell_type": "code",
   "execution_count": 17,
   "id": "treated-joshua",
   "metadata": {},
   "outputs": [
    {
     "name": "stdout",
     "output_type": "stream",
     "text": [
      "1\n"
     ]
    }
   ],
   "source": [
    "a = (i ** 2 for i in my_list)\n",
    "print(next(a))"
   ]
  },
  {
   "cell_type": "code",
   "execution_count": 18,
   "id": "hawaiian-spencer",
   "metadata": {},
   "outputs": [
    {
     "name": "stdout",
     "output_type": "stream",
     "text": [
      "4\n"
     ]
    }
   ],
   "source": [
    "print(next(a))"
   ]
  },
  {
   "cell_type": "code",
   "execution_count": 19,
   "id": "animal-bandwidth",
   "metadata": {},
   "outputs": [
    {
     "name": "stdout",
     "output_type": "stream",
     "text": [
      "9\n"
     ]
    }
   ],
   "source": [
    "print(next(a))    #  next() fonksiyonu her defasında bir sonraki elemanını serbest bıraktı.\n",
    "\n",
    "# FOR DÖNGÜSÜNÜN İÇİNDE DE BU next FONKSİYONU VAR!"
   ]
  },
  {
   "cell_type": "code",
   "execution_count": null,
   "id": "otherwise-tsunami",
   "metadata": {},
   "outputs": [],
   "source": []
  }
 ],
 "metadata": {
  "kernelspec": {
   "display_name": "Python 3",
   "language": "python",
   "name": "python3"
  },
  "language_info": {
   "codemirror_mode": {
    "name": "ipython",
    "version": 3
   },
   "file_extension": ".py",
   "mimetype": "text/x-python",
   "name": "python",
   "nbconvert_exporter": "python",
   "pygments_lexer": "ipython3",
   "version": "3.7.8"
  }
 },
 "nbformat": 4,
 "nbformat_minor": 5
}
