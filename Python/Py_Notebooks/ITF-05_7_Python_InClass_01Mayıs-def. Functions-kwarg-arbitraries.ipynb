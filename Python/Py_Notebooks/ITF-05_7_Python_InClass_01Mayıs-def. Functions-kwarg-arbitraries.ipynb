{
 "cells": [
  {
   "cell_type": "code",
   "execution_count": 3,
   "id": "damaged-principal",
   "metadata": {},
   "outputs": [
    {
     "data": {
      "text/plain": [
       "['hello']"
      ]
     },
     "execution_count": 3,
     "metadata": {},
     "output_type": "execute_result"
    }
   ],
   "source": [
    "def listem():\n",
    "    return [\"hello\"] # return'ün sağında ne varsa onu döndürüyor\n",
    "listem()"
   ]
  },
  {
   "cell_type": "code",
   "execution_count": 36,
   "id": "hundred-olympus",
   "metadata": {},
   "outputs": [
    {
     "name": "stdout",
     "output_type": "stream",
     "text": [
      "None\n"
     ]
    }
   ],
   "source": [
    "def filterVowels(letter):\n",
    "    vowels = [\"a\", \"e\", \"i\", \"o\", \"u\"] # sesli harfleri belirledik\n",
    "    \n",
    "    if letter in vowels :\n",
    "        return letter\n",
    "        \n",
    "print(filterVowels(\"hüseyin\"))    "
   ]
  },
  {
   "cell_type": "code",
   "execution_count": 7,
   "id": "tropical-actress",
   "metadata": {},
   "outputs": [
    {
     "data": {
      "text/plain": [
       "False"
      ]
     },
     "execution_count": 7,
     "metadata": {},
     "output_type": "execute_result"
    }
   ],
   "source": [
    "vowels = [\"a\", \"e\", \"i\", \"o\", \"u\"]\n",
    "\"b\" in vowels"
   ]
  },
  {
   "cell_type": "code",
   "execution_count": 16,
   "id": "earned-zimbabwe",
   "metadata": {},
   "outputs": [
    {
     "name": "stdout",
     "output_type": "stream",
     "text": [
      "None\n"
     ]
    }
   ],
   "source": [
    "def filterVowels(letter):\n",
    "    vowels = [\"a\", \"e\", \"i\", \"o\", \"u\"] # sesli harfleri belirledik\n",
    "    if letter in vowels :\n",
    "        return letter\n",
    "print(filterVowels(\"b\"))"
   ]
  },
  {
   "cell_type": "code",
   "execution_count": null,
   "id": "monetary-boundary",
   "metadata": {},
   "outputs": [],
   "source": [
    "filterVowels(\"U\")"
   ]
  },
  {
   "cell_type": "code",
   "execution_count": null,
   "id": "worst-rapid",
   "metadata": {},
   "outputs": [],
   "source": [
    "sentence = \"the clarusway is the best.\""
   ]
  },
  {
   "cell_type": "code",
   "execution_count": null,
   "id": "quick-bicycle",
   "metadata": {},
   "outputs": [],
   "source": [
    "filtered_vowels = filter(filterVowels, sentence)\n",
    "print(* filtered_vowels)"
   ]
  },
  {
   "cell_type": "code",
   "execution_count": null,
   "id": "regular-defense",
   "metadata": {},
   "outputs": [],
   "source": []
  },
  {
   "cell_type": "code",
   "execution_count": 32,
   "id": "fiscal-proxy",
   "metadata": {},
   "outputs": [
    {
     "name": "stdout",
     "output_type": "stream",
     "text": [
      "\n",
      "This function returns the absolute \n",
      "value of the entered number\n",
      "    \n"
     ]
    }
   ],
   "source": [
    "# girilen rakamım absolute değerini veren fonksiyon\n",
    "\n",
    "def absolute_value(num):\n",
    "    \"\"\"\n",
    "This function returns the absolute \n",
    "value of the entered number\n",
    "    \"\"\"\n",
    "    if num > 0:\n",
    "        return num\n",
    "    else:\n",
    "        return -num\n",
    "\n",
    "print(absolute_value.__doc__)  "
   ]
  },
  {
   "cell_type": "code",
   "execution_count": 34,
   "id": "alternate-berry",
   "metadata": {},
   "outputs": [
    {
     "name": "stdout",
     "output_type": "stream",
     "text": [
      "18\n"
     ]
    }
   ],
   "source": [
    "print(absolute_value(-18))"
   ]
  },
  {
   "cell_type": "code",
   "execution_count": 44,
   "id": "criminal-story",
   "metadata": {},
   "outputs": [
    {
     "name": "stdout",
     "output_type": "stream",
     "text": [
      "3 is the first argument\n",
      "4 is the second argument\n",
      "\n",
      "4 is the first argument\n",
      "3 is the second argument\n"
     ]
    }
   ],
   "source": [
    "def pos_arg(a, b):\n",
    "    print(a, \"is the first argument\")\n",
    "    print(b, \"is the second argument\")\n",
    "\n",
    "pos_arg(3, 4)\n",
    "print()\n",
    "pos_arg(4, 3)"
   ]
  },
  {
   "cell_type": "code",
   "execution_count": 45,
   "id": "beautiful-frost",
   "metadata": {},
   "outputs": [
    {
     "name": "stdout",
     "output_type": "stream",
     "text": [
      "[1, 2, '1'] is the first argument\n",
      "{2, 44} is the second argument\n"
     ]
    }
   ],
   "source": [
    "pos_arg([1,2,\"1\"], {2, 44})"
   ]
  },
  {
   "cell_type": "code",
   "execution_count": null,
   "id": "racial-penguin",
   "metadata": {},
   "outputs": [],
   "source": [
    "# a, b, c önceden aşağıdaki gibi verilmitir.\n",
    "# texter(c, a, b) yazınca çıktıyı \"i love you\" veren fonksiyon\n",
    "\n",
    "a = \"i\"\n",
    "b = \"love\"\n",
    "c = \"you\"\n",
    "def texter(c, a, b):\n",
    "    print(a, b, c)\n",
    "\n",
    "texter(c, a, b)\n",
    "    "
   ]
  },
  {
   "cell_type": "code",
   "execution_count": 41,
   "id": "amazing-pioneer",
   "metadata": {},
   "outputs": [
    {
     "name": "stdout",
     "output_type": "stream",
     "text": [
      "i love you\n"
     ]
    }
   ],
   "source": [
    "a = \"i\"\n",
    "b = \"love\"\n",
    "c = \"you\"\n",
    "def texter(c, a, b):\n",
    "    print(f\"{a} {b} {c}\")\n",
    "\n",
    "texter(c, a, b)"
   ]
  },
  {
   "cell_type": "code",
   "execution_count": 42,
   "id": "sudden-there",
   "metadata": {},
   "outputs": [
    {
     "name": "stdout",
     "output_type": "stream",
     "text": [
      "i love you\n"
     ]
    }
   ],
   "source": [
    "a = \"i\"\n",
    "b = \"love\"\n",
    "c = \"you\"\n",
    "def texter(z, x, y):\n",
    "    print(x, y, z)\n",
    "\n",
    "texter(c, a, b)"
   ]
  },
  {
   "cell_type": "code",
   "execution_count": 43,
   "id": "fluid-retail",
   "metadata": {},
   "outputs": [
    {
     "name": "stdout",
     "output_type": "stream",
     "text": [
      "i love you\n"
     ]
    }
   ],
   "source": [
    "def texter(x, y, z):\n",
    "    print(f\"{x} {y} {z}\")\n",
    "texter(y = \"love\", z = \"you\", x = \"i\" )"
   ]
  },
  {
   "cell_type": "code",
   "execution_count": 47,
   "id": "recovered-jackson",
   "metadata": {},
   "outputs": [
    {
     "name": "stdout",
     "output_type": "stream",
     "text": [
      "istanbulerzurum\n"
     ]
    }
   ],
   "source": [
    "def concat(a, b):\n",
    "    print(a + b)\n",
    "\n",
    "concat(a=\"istanbul\", b=\"erzurum\")"
   ]
  },
  {
   "cell_type": "code",
   "execution_count": 48,
   "id": "adapted-electronics",
   "metadata": {},
   "outputs": [
    {
     "name": "stdout",
     "output_type": "stream",
     "text": [
      "istanbulerzurum\n"
     ]
    }
   ],
   "source": [
    "concat(b=\"erzurum\", a=\"istanbul\")"
   ]
  },
  {
   "cell_type": "code",
   "execution_count": 51,
   "id": "antique-berkeley",
   "metadata": {},
   "outputs": [
    {
     "name": "stdout",
     "output_type": "stream",
     "text": [
      "londonseoul\n"
     ]
    }
   ],
   "source": [
    "concat(a=\"london\", b=\"seoul\")"
   ]
  },
  {
   "cell_type": "code",
   "execution_count": 52,
   "id": "roman-exclusive",
   "metadata": {},
   "outputs": [
    {
     "name": "stdout",
     "output_type": "stream",
     "text": [
      "i love you\n",
      "i love you\n"
     ]
    }
   ],
   "source": [
    "def texter(text1, text2, text3):\n",
    "    print(f\"{text2} {text3} {text1}\")\n",
    "\n",
    "texter(text1=\"you\", text2=\"i\", text3=\"love\")\n",
    "texter(text2=\"i\", text3=\"love\", text1=\"you\")"
   ]
  },
  {
   "cell_type": "code",
   "execution_count": 53,
   "id": "included-mustang",
   "metadata": {},
   "outputs": [],
   "source": [
    "# şimdi fonksiyon içinde tanımlarken keyword kullanalım\n",
    "\n",
    "def default(a=\"ali\", b=33):\n",
    "    print(a, \"is\", b, \"years old.\")\n",
    "\n",
    "    \n",
    "# fonksiyonun içinde keyword ile tanımlama yaparsam o parametrelere \n",
    "# default bir değer tanımlamış oluyorum."
   ]
  },
  {
   "cell_type": "code",
   "execution_count": 54,
   "id": "frozen-chaos",
   "metadata": {},
   "outputs": [
    {
     "name": "stdout",
     "output_type": "stream",
     "text": [
      "ali is 33 years old.\n"
     ]
    }
   ],
   "source": [
    "default()"
   ]
  },
  {
   "cell_type": "code",
   "execution_count": 55,
   "id": "synthetic-anger",
   "metadata": {},
   "outputs": [
    {
     "name": "stdout",
     "output_type": "stream",
     "text": [
      "mehmet is 44 years old.\n"
     ]
    }
   ],
   "source": [
    "default(\"mehmet\", 44) \n",
    "\n",
    "# default parametrelerin değerlerini fonksiyonu çağırırken değiştirdim."
   ]
  },
  {
   "cell_type": "code",
   "execution_count": 56,
   "id": "funky-secondary",
   "metadata": {},
   "outputs": [
    {
     "name": "stdout",
     "output_type": "stream",
     "text": [
      "Selvi is 33 years old.\n"
     ]
    }
   ],
   "source": [
    "default(\"Selvi\")\n",
    "\n",
    "# yaşa argüman atamadığımız için yaş default olarak kaldı, sadece adı değiştirdik"
   ]
  },
  {
   "cell_type": "code",
   "execution_count": 58,
   "id": "pleasant-personality",
   "metadata": {},
   "outputs": [
    {
     "name": "stdout",
     "output_type": "stream",
     "text": [
      "ali is 55 years old.\n"
     ]
    }
   ],
   "source": [
    "default(b = 55)\n",
    "\n",
    "# ada argüman atamadığımız için ad default olarak kaldı, sadece yaşı değiştirdik."
   ]
  },
  {
   "cell_type": "code",
   "execution_count": 59,
   "id": "several-barbados",
   "metadata": {},
   "outputs": [
    {
     "name": "stdout",
     "output_type": "stream",
     "text": [
      "songül is 22 years old.\n"
     ]
    }
   ],
   "source": [
    "default(a=\"songül\", b=22)\n",
    "\n",
    "  # hem adı hem yaşın default değerini değiştirdik."
   ]
  },
  {
   "cell_type": "code",
   "execution_count": 60,
   "id": "built-exchange",
   "metadata": {},
   "outputs": [],
   "source": [
    "def default(x, a = \"ali\", v = 33) :\n",
    "    print(a, \"and\", x, \"is\", b, \"years old.\")"
   ]
  },
  {
   "cell_type": "code",
   "execution_count": 76,
   "id": "concerned-sample",
   "metadata": {},
   "outputs": [
    {
     "ename": "TypeError",
     "evalue": "default() missing 1 required positional argument: 'x'",
     "output_type": "error",
     "traceback": [
      "\u001b[1;31m---------------------------------------------------------------------------\u001b[0m",
      "\u001b[1;31mTypeError\u001b[0m                                 Traceback (most recent call last)",
      "\u001b[1;32m<ipython-input-76-e85f601eec6a>\u001b[0m in \u001b[0;36m<module>\u001b[1;34m\u001b[0m\n\u001b[1;32m----> 1\u001b[1;33m \u001b[0mdefault\u001b[0m\u001b[1;33m(\u001b[0m\u001b[1;33m)\u001b[0m\u001b[1;33m\u001b[0m\u001b[1;33m\u001b[0m\u001b[0m\n\u001b[0m\u001b[0;32m      2\u001b[0m \u001b[1;33m\u001b[0m\u001b[0m\n\u001b[0;32m      3\u001b[0m \u001b[1;31m# fonksiyonda positional bir parametre tanımlamışım ama çağırırken\u001b[0m\u001b[1;33m\u001b[0m\u001b[1;33m\u001b[0m\u001b[1;33m\u001b[0m\u001b[0m\n\u001b[0;32m      4\u001b[0m \u001b[1;31m# ona değer atamadığım için çalışmaz.\u001b[0m\u001b[1;33m\u001b[0m\u001b[1;33m\u001b[0m\u001b[1;33m\u001b[0m\u001b[0m\n",
      "\u001b[1;31mTypeError\u001b[0m: default() missing 1 required positional argument: 'x'"
     ]
    }
   ],
   "source": [
    "default()\n",
    "\n",
    "# fonksiyonda positional bir parametre (a) tanımlamışım ama çağırırken \n",
    "# ona değer atamadığım için çalışmaz. "
   ]
  },
  {
   "cell_type": "code",
   "execution_count": 62,
   "id": "knowing-finnish",
   "metadata": {},
   "outputs": [
    {
     "name": "stdout",
     "output_type": "stream",
     "text": [
      "ali and gonca is love years old.\n"
     ]
    }
   ],
   "source": [
    "default(\"gonca\")\n",
    "\n",
    " # gonca, positional olarak ilk parametreye gitti."
   ]
  },
  {
   "cell_type": "code",
   "execution_count": 74,
   "id": "sought-cartoon",
   "metadata": {},
   "outputs": [],
   "source": [
    "def parrot(voltage, state='a stiff', action='voom', typed='Norwegian Blue'):\n",
    "    print(\"-- This parrot wouldn't\", action, end=' ')\n",
    "    print(\"if you put\", voltage, \"volts through it.\")\n",
    "    print(\"-- Lovely plumage, the\", typed)\n",
    "    print(\"-- It's\", state, \"!\")"
   ]
  },
  {
   "cell_type": "code",
   "execution_count": 75,
   "id": "accurate-vacation",
   "metadata": {},
   "outputs": [
    {
     "name": "stdout",
     "output_type": "stream",
     "text": [
      "-- This parrot wouldn't voom if you put 1000 volts through it.\n",
      "-- Lovely plumage, the Norwegian Blue\n",
      "-- It's a stiff !\n"
     ]
    }
   ],
   "source": [
    "parrot(1000)                                          # 1 positional argument"
   ]
  },
  {
   "cell_type": "code",
   "execution_count": 78,
   "id": "desperate-money",
   "metadata": {},
   "outputs": [
    {
     "name": "stdout",
     "output_type": "stream",
     "text": [
      "-- This parrot wouldn't voom if you put 1000 volts through it.\n",
      "-- Lovely plumage, the Norwegian Blue\n",
      "-- It's a stiff !\n"
     ]
    }
   ],
   "source": [
    "parrot(voltage=1000)                                  # 1 keyword argument"
   ]
  },
  {
   "cell_type": "code",
   "execution_count": 79,
   "id": "lucky-overview",
   "metadata": {},
   "outputs": [
    {
     "name": "stdout",
     "output_type": "stream",
     "text": [
      "-- This parrot wouldn't VOOOOOM if you put 1000000 volts through it.\n",
      "-- Lovely plumage, the Norwegian Blue\n",
      "-- It's a stiff !\n"
     ]
    }
   ],
   "source": [
    "parrot(voltage=1000000, action='VOOOOOM')             # 2 keyword arguments"
   ]
  },
  {
   "cell_type": "code",
   "execution_count": 80,
   "id": "surgical-editing",
   "metadata": {},
   "outputs": [
    {
     "name": "stdout",
     "output_type": "stream",
     "text": [
      "-- This parrot wouldn't VOOOOOM if you put 1000000 volts through it.\n",
      "-- Lovely plumage, the Norwegian Blue\n",
      "-- It's a stiff !\n"
     ]
    }
   ],
   "source": [
    "parrot(action='VOOOOOM', voltage=1000000)             # 2 keyword arguments"
   ]
  },
  {
   "cell_type": "code",
   "execution_count": 77,
   "id": "coordinated-announcement",
   "metadata": {},
   "outputs": [
    {
     "name": "stdout",
     "output_type": "stream",
     "text": [
      "-- This parrot wouldn't jump if you put a million volts through it.\n",
      "-- Lovely plumage, the Norwegian Blue\n",
      "-- It's bereft of life !\n"
     ]
    }
   ],
   "source": [
    "parrot('a million', 'bereft of life', 'jump')         # 3 positional arguments\n",
    "\n",
    "#  ilk argüman ilk positional parametre oldu ve soldan sağa sırayla atamalar yapıldı"
   ]
  },
  {
   "cell_type": "code",
   "execution_count": 81,
   "id": "comfortable-finance",
   "metadata": {},
   "outputs": [
    {
     "name": "stdout",
     "output_type": "stream",
     "text": [
      "-- This parrot wouldn't voom if you put a thousand volts through it.\n",
      "-- Lovely plumage, the Norwegian Blue\n",
      "-- It's pushing up the daisies !\n"
     ]
    }
   ],
   "source": [
    "parrot('a thousand', state='pushing up the daisies')  # 1 positional, 1 keyword\n",
    "\n",
    "# ilk argüman \"a thousand\", positional ilk parametreye gitti."
   ]
  },
  {
   "cell_type": "code",
   "execution_count": 82,
   "id": "annoying-article",
   "metadata": {},
   "outputs": [],
   "source": [
    "# önce positionallar gelecek. \n",
    "# fonksiyonun içinde tüm positional argümanlar bitene kadar parametrelerin başına yazılır.\n",
    "\n",
    "def argu(a, c, b = \"dünya\", d=\"saturn\"):\n",
    "    print(a, b, c, d, sep=\"\\n\")"
   ]
  },
  {
   "cell_type": "code",
   "execution_count": 83,
   "id": "iraqi-boost",
   "metadata": {},
   "outputs": [
    {
     "ename": "TypeError",
     "evalue": "argu() missing 2 required positional arguments: 'a' and 'c'",
     "output_type": "error",
     "traceback": [
      "\u001b[1;31m---------------------------------------------------------------------------\u001b[0m",
      "\u001b[1;31mTypeError\u001b[0m                                 Traceback (most recent call last)",
      "\u001b[1;32m<ipython-input-83-2743aba80a34>\u001b[0m in \u001b[0;36m<module>\u001b[1;34m\u001b[0m\n\u001b[1;32m----> 1\u001b[1;33m \u001b[0margu\u001b[0m\u001b[1;33m(\u001b[0m\u001b[1;33m)\u001b[0m\u001b[1;33m\u001b[0m\u001b[1;33m\u001b[0m\u001b[0m\n\u001b[0m",
      "\u001b[1;31mTypeError\u001b[0m: argu() missing 2 required positional arguments: 'a' and 'c'"
     ]
    }
   ],
   "source": [
    "argu()\n",
    "\n",
    "# a ve c'ye (positional) değer atamamız gerekiyordu"
   ]
  },
  {
   "cell_type": "code",
   "execution_count": 84,
   "id": "honest-control",
   "metadata": {},
   "outputs": [
    {
     "name": "stdout",
     "output_type": "stream",
     "text": [
      "uranüs\n",
      "dünya\n",
      "jüpiter\n",
      "saturn\n"
     ]
    }
   ],
   "source": [
    "argu(\"uranüs\", \"jüpiter\") \n",
    "\n",
    "# bunlardan uranüs a'ya, jüpiter c'ye gider. diğerleri zaten keyword parametre\n",
    "# olduğu için default değerleri geçerli olacak"
   ]
  },
  {
   "cell_type": "code",
   "execution_count": 86,
   "id": "universal-interview",
   "metadata": {},
   "outputs": [
    {
     "name": "stdout",
     "output_type": "stream",
     "text": [
      "dünya\n",
      "mars\n",
      "pluto\n",
      "güneş\n"
     ]
    }
   ],
   "source": [
    "argu(d=\"güneş\", a=\"dünya\", c=\"pluto\", b=\"mars\")\n"
   ]
  },
  {
   "cell_type": "code",
   "execution_count": 87,
   "id": "precise-startup",
   "metadata": {},
   "outputs": [
    {
     "ename": "TypeError",
     "evalue": "argu() got multiple values for argument 'a'",
     "output_type": "error",
     "traceback": [
      "\u001b[1;31m---------------------------------------------------------------------------\u001b[0m",
      "\u001b[1;31mTypeError\u001b[0m                                 Traceback (most recent call last)",
      "\u001b[1;32m<ipython-input-87-ab19eee00671>\u001b[0m in \u001b[0;36m<module>\u001b[1;34m\u001b[0m\n\u001b[1;32m----> 1\u001b[1;33m \u001b[0margu\u001b[0m\u001b[1;33m(\u001b[0m\u001b[1;34m\"uranüs\"\u001b[0m\u001b[1;33m,\u001b[0m \u001b[0ma\u001b[0m \u001b[1;33m=\u001b[0m \u001b[1;34m\"dünya\"\u001b[0m\u001b[1;33m,\u001b[0m \u001b[0mc\u001b[0m\u001b[1;33m=\u001b[0m\u001b[1;34m\"merkür\"\u001b[0m\u001b[1;33m)\u001b[0m\u001b[1;33m,\u001b[0m\u001b[1;33m\u001b[0m\u001b[1;33m\u001b[0m\u001b[0m\n\u001b[0m\u001b[0;32m      2\u001b[0m \u001b[1;33m\u001b[0m\u001b[0m\n\u001b[0;32m      3\u001b[0m \u001b[1;31m# uranüs'ü positional olarak a ya atadıktan sonra a'ya değer verdik.\u001b[0m\u001b[1;33m\u001b[0m\u001b[1;33m\u001b[0m\u001b[1;33m\u001b[0m\u001b[0m\n\u001b[0;32m      4\u001b[0m \u001b[1;31m# iki değer vermiş olduğumuz için hata verdi.\u001b[0m\u001b[1;33m\u001b[0m\u001b[1;33m\u001b[0m\u001b[1;33m\u001b[0m\u001b[0m\n",
      "\u001b[1;31mTypeError\u001b[0m: argu() got multiple values for argument 'a'"
     ]
    }
   ],
   "source": [
    "argu(\"uranüs\", a = \"dünya\", c=\"merkür\"),\n",
    "\n",
    "# uranüs'ü positional olarak a ya atadıktan sonra a'ya değer verdik.\n",
    "# iki değer vermiş olduğumuz için hata verdi."
   ]
  },
  {
   "cell_type": "code",
   "execution_count": 89,
   "id": "indirect-natural",
   "metadata": {},
   "outputs": [
    {
     "ename": "TypeError",
     "evalue": "function() got multiple values for argument 'a'",
     "output_type": "error",
     "traceback": [
      "\u001b[1;31m---------------------------------------------------------------------------\u001b[0m",
      "\u001b[1;31mTypeError\u001b[0m                                 Traceback (most recent call last)",
      "\u001b[1;32m<ipython-input-89-5163c0928bd2>\u001b[0m in \u001b[0;36m<module>\u001b[1;34m\u001b[0m\n\u001b[0;32m      4\u001b[0m     \u001b[1;32mpass\u001b[0m \u001b[1;31m# actually, 'pass' does nothing. it just moves to the next line of code\u001b[0m\u001b[1;33m\u001b[0m\u001b[1;33m\u001b[0m\u001b[0m\n\u001b[0;32m      5\u001b[0m \u001b[1;33m\u001b[0m\u001b[0m\n\u001b[1;32m----> 6\u001b[1;33m \u001b[0mfunction\u001b[0m\u001b[1;33m(\u001b[0m\u001b[1;36m0\u001b[0m\u001b[1;33m,\u001b[0m \u001b[0ma\u001b[0m\u001b[1;33m=\u001b[0m\u001b[1;36m0\u001b[0m\u001b[1;33m)\u001b[0m\u001b[1;33m\u001b[0m\u001b[1;33m\u001b[0m\u001b[0m\n\u001b[0m",
      "\u001b[1;31mTypeError\u001b[0m: function() got multiple values for argument 'a'"
     ]
    }
   ],
   "source": [
    "# fonksiyonun içine pass yazdığında o satırı pas ederek sonraki satıra geçer\n",
    "\n",
    "def function(a):\n",
    "    pass # actually, 'pass' does nothing. it just moves to the next line of code\n",
    "\n",
    "function(0, a=0) # burada a'ya iki kere değer atadığımız için hata verecek.\n"
   ]
  },
  {
   "cell_type": "code",
   "execution_count": 88,
   "id": "conventional-olympus",
   "metadata": {},
   "outputs": [
    {
     "name": "stdout",
     "output_type": "stream",
     "text": [
      "ben ikinci satırım\n"
     ]
    }
   ],
   "source": [
    "if 10 > 0:\n",
    "    pass\n",
    "    print(\"ben ikinci satırım\")"
   ]
  },
  {
   "cell_type": "code",
   "execution_count": null,
   "id": "placed-sacrifice",
   "metadata": {},
   "outputs": [],
   "source": [
    "# * args and ** kwargs\n",
    "\n",
    "# def name(*parameter)\n",
    "\n",
    "#    name(muliple args)"
   ]
  },
  {
   "cell_type": "code",
   "execution_count": null,
   "id": "hawaiian-celtic",
   "metadata": {},
   "outputs": [],
   "source": [
    "# * args and ** kwargs\n",
    "\n",
    "# def name(**parameter)\n",
    "\n",
    "#    name(muliple kwargs)"
   ]
  },
  {
   "cell_type": "code",
   "execution_count": null,
   "id": "finnish-drama",
   "metadata": {},
   "outputs": [],
   "source": [
    "def fruiterer(fruit1, fruit2) :\n",
    "    print('I want to get', fruit1, \"and\", fruit2)\n",
    "\n",
    "fruiterer('orange', 'banana')"
   ]
  },
  {
   "cell_type": "code",
   "execution_count": 90,
   "id": "different-mistake",
   "metadata": {},
   "outputs": [
    {
     "name": "stdout",
     "output_type": "stream",
     "text": [
      "I want to get:\n",
      "- orange\n",
      "- banana\n",
      "- melon\n",
      "- ananas\n"
     ]
    }
   ],
   "source": [
    "def fruiterer(*fruit) :\n",
    "    \n",
    "    print('I want to get:')\n",
    "    for i in fruit :   # fonksiyonda fruit için * kullandığımızdan artık fruit parametresi iterable oldu\n",
    "        print('-', i)  # dolayısıyla artık for döngüsünü kullanabildik.\n",
    "        \n",
    "fruiterer('orange', 'banana', 'melon', 'ananas')"
   ]
  },
  {
   "cell_type": "code",
   "execution_count": 91,
   "id": "norwegian-friend",
   "metadata": {},
   "outputs": [
    {
     "name": "stdout",
     "output_type": "stream",
     "text": [
      "I want to get:\n",
      "- ['orange', 'banana', 'melon', 'ananas']\n"
     ]
    }
   ],
   "source": [
    "def fruiterer(*fruit) :\n",
    "    \n",
    "    print('I want to get:')\n",
    "    for i in fruit :   # fonksiyonda fruit için * kullandığımızdan artık fruit parametresi iterable oldu\n",
    "        print('-', i)  # dolayısıyla artık for döngüsünü kullanabildik.\n",
    "meyve_listesi = ['orange', 'banana', 'melon', 'ananas']      \n",
    "fruiterer(meyve_listesi)"
   ]
  },
  {
   "cell_type": "code",
   "execution_count": 6,
   "id": "broad-iraqi",
   "metadata": {},
   "outputs": [
    {
     "name": "stdout",
     "output_type": "stream",
     "text": [
      "odd list = [(1, 3, 5, 7, 9)]\n",
      "even_list = [(2, 4, 6, 8)]\n"
     ]
    }
   ],
   "source": [
    "def slicer(* numbers) :\n",
    "    odd_list=[numbers[0::2]]\n",
    "    even_list=[numbers[1::2]]\n",
    "    print('odd list =', odd_list)\n",
    "    print('even_list =', even_list)\n",
    "slicer(*range(1,10))\n"
   ]
  },
  {
   "cell_type": "code",
   "execution_count": 10,
   "id": "conservative-eugene",
   "metadata": {},
   "outputs": [
    {
     "ename": "SyntaxError",
     "evalue": "invalid syntax (<ipython-input-10-358a09597aed>, line 8)",
     "output_type": "error",
     "traceback": [
      "\u001b[1;36m  File \u001b[1;32m\"<ipython-input-10-358a09597aed>\"\u001b[1;36m, line \u001b[1;32m8\u001b[0m\n\u001b[1;33m    lis = i for i in liste\u001b[0m\n\u001b[1;37m              ^\u001b[0m\n\u001b[1;31mSyntaxError\u001b[0m\u001b[1;31m:\u001b[0m invalid syntax\n"
     ]
    }
   ],
   "source": [
    "def slicer(* numbers) :\n",
    "    odd_list=[numbers[0::2]]\n",
    "    even_list=[numbers[1::2]]\n",
    "    print('odd list =', odd_list)\n",
    "    print('even_list =', even_list)\n",
    "\n",
    "slicer(1,2,3,4,5,6,7,8,9)"
   ]
  },
  {
   "cell_type": "code",
   "execution_count": 96,
   "id": "smooth-event",
   "metadata": {},
   "outputs": [
    {
     "name": "stdout",
     "output_type": "stream",
     "text": [
      "[2, 4, 6, 8]\n",
      "[1, 3, 5, 7, 9]\n"
     ]
    }
   ],
   "source": [
    "even_list=[]\n",
    "odd_list=[]\n",
    "def slicer(*number):\n",
    "    for i in number:\n",
    "        if i % 2 == 0:\n",
    "            even_list.append(i)\n",
    "        else:\n",
    "            odd_list.append(i)\n",
    "    print(even_list)\n",
    "    print(odd_list)\n",
    "\n",
    "slicer(1,2,3,4,5,6,7,8,9)"
   ]
  },
  {
   "cell_type": "code",
   "execution_count": 97,
   "id": "extended-peeing",
   "metadata": {},
   "outputs": [
    {
     "name": "stdout",
     "output_type": "stream",
     "text": [
      "evens : [0, 2, 4, 6, 8]\n",
      "odds : [1, 3, 5, 7, 9]\n"
     ]
    }
   ],
   "source": [
    "# list compreherension ile çözümü\n",
    "\n",
    "def slicer(*num) :\n",
    "    print(\"evens :\", [i for i in num if i%2 == 0])\n",
    "    print(\"odds :\", [i for i in num if not i %2 == 0])\n",
    "\n",
    "slicer(0,1,2,3,4,5,6,7,8,9)"
   ]
  },
  {
   "cell_type": "code",
   "execution_count": null,
   "id": "tutorial-ivory",
   "metadata": {},
   "outputs": [],
   "source": [
    "# **kwargs \n",
    "\n",
    "# dictionary muamelesi yapıyoruz"
   ]
  },
  {
   "cell_type": "code",
   "execution_count": 99,
   "id": "roman-hundred",
   "metadata": {},
   "outputs": [],
   "source": [
    "sözlük = dict(ahmet=\"bacanak\", mehmet=\"ağabey\", ceyda=\"baldız\", meryem=\"anne\")\n",
    "\n",
    "# parametrelerin hepsini keyword olarak tanımlarsak sözlük gibi olur"
   ]
  },
  {
   "cell_type": "code",
   "execution_count": 100,
   "id": "stable-breast",
   "metadata": {},
   "outputs": [
    {
     "data": {
      "text/plain": [
       "{'ahmet': 'bacanak', 'mehmet': 'ağabey', 'ceyda': 'baldız', 'meryem': 'anne'}"
      ]
     },
     "execution_count": 100,
     "metadata": {},
     "output_type": "execute_result"
    }
   ],
   "source": [
    "sözlük"
   ]
  },
  {
   "cell_type": "code",
   "execution_count": 11,
   "id": "electrical-geneva",
   "metadata": {},
   "outputs": [
    {
     "name": "stdout",
     "output_type": "stream",
     "text": [
      "ahmet bacanak\n",
      "mehmet ağabey\n",
      "ceyda baldız\n"
     ]
    }
   ],
   "source": [
    "def sözlük(**a) : # buraya ** koyduğum için bu artık bir sözlüğe dönüştü.\n",
    "                  # o yüzden artık fonsiyonu çağırırken keyword argümanlarla çağıracağız.\n",
    "                  # ** dan dolayı bu fonksiyona istediğim kadar keyword argüman kullanabiliriz.\n",
    "    for key, value in a.items():\n",
    "        print(key, value)\n",
    "    \n",
    "sözlük(ahmet=\"bacanak\", mehmet=\"ağabey\", ceyda=\"baldız\")"
   ]
  },
  {
   "cell_type": "code",
   "execution_count": 108,
   "id": "automotive-bottle",
   "metadata": {},
   "outputs": [
    {
     "name": "stdout",
     "output_type": "stream",
     "text": [
      "ahmet bacanak\n",
      "mehmet ağabey\n",
      "ceyda baldız\n",
      "meryem anne\n",
      "zeynep komşu\n"
     ]
    }
   ],
   "source": [
    "sözlük(ahmet= \"bacanak\", mehmet=\"ağabey\", ceyda=\"baldız\", meryem=\"anne\", zeynep=\"komşu\")"
   ]
  },
  {
   "cell_type": "code",
   "execution_count": 111,
   "id": "acceptable-waters",
   "metadata": {},
   "outputs": [
    {
     "name": "stdout",
     "output_type": "stream",
     "text": [
      "names: ['Beth', 'Oscar', 'Justin', 'Frank']\n",
      "ages: [26, 42, 18, 33]\n"
     ]
    }
   ],
   "source": [
    "# organizer(Beth=26, Oscar=42, Justin=18, Frank=33) girildiğinde isimleri ayrı,\n",
    "# yaşları ayrı listeler halinde çıktı alan kod:\n",
    "\n",
    "def organizer(**data):\n",
    "    names=[i for i in data.keys()]\n",
    "    ages=[x for x in data.values()]\n",
    "    print('names:', names)\n",
    "    print('ages:', ages)\n",
    "    \n",
    "organizer(Beth=26, Oscar=42, Justin=18, Frank=33)\n"
   ]
  },
  {
   "cell_type": "code",
   "execution_count": 115,
   "id": "beneficial-referral",
   "metadata": {},
   "outputs": [
    {
     "name": "stdout",
     "output_type": "stream",
     "text": [
      "['Beth', 'Oscar', 'Justin', 'Frank']\n",
      "[26, 42, 18, 33]\n"
     ]
    }
   ],
   "source": [
    "# list comprehension kullanmadan çözersek:\n",
    "\n",
    "def organizer(**people) :\n",
    "    names=[]\n",
    "    ages=[]\n",
    "    for i, j in people.items():\n",
    "        names.append(i)\n",
    "        ages.append(j)\n",
    "    print(names)\n",
    "    print(ages)\n",
    "\n",
    "organizer(Beth=26, Oscar=42, Justin=18, Frank=33)"
   ]
  },
  {
   "cell_type": "code",
   "execution_count": 15,
   "id": "passing-hampshire",
   "metadata": {},
   "outputs": [
    {
     "name": "stdout",
     "output_type": "stream",
     "text": [
      "harfler : ['a', 'b', 'c']\n",
      "numaralar : ['birinci', 'ikinci', 'üçüncü']\n"
     ]
    }
   ],
   "source": [
    "def aaa(**enum):\n",
    "    harf=[i for i in enum.values()]\n",
    "    num=[j for j in enum.keys()]\n",
    "    print('harfler :', harf)\n",
    "    print('numaralar :', num)\n",
    "\n",
    "# test = 'iki kelime'\n",
    "# a= dict(enumerate(test, 1))\n",
    "# print(a.keys())\n",
    "# print(a.values())\n",
    "aaa(birinci= 'a', ikinci= 'b', üçüncü= 'c')\n"
   ]
  },
  {
   "cell_type": "code",
   "execution_count": 20,
   "id": "secret-millennium",
   "metadata": {},
   "outputs": [
    {
     "name": "stdout",
     "output_type": "stream",
     "text": [
      "dict_keys([1, 2, 3, 4, 5, 6, 7, 8, 9, 10])\n",
      "dict_values(['i', 'k', 'i', ' ', 'k', 'e', 'l', 'i', 'm', 'e'])\n",
      "1 2 3 4 5 6 7 8 9 10 i k i   k e l i m e "
     ]
    }
   ],
   "source": [
    "test = 'iki kelime'\n",
    "a= dict(enumerate(test, 1))\n",
    "print(a.keys())\n",
    "print(a.values())\n",
    "for i in a:\n",
    "    print(i, end=' ')\n",
    "for i in a.values():\n",
    "    print(i, end=' ')"
   ]
  },
  {
   "cell_type": "code",
   "execution_count": 21,
   "id": "egyptian-pierce",
   "metadata": {},
   "outputs": [
    {
     "name": "stdout",
     "output_type": "stream",
     "text": [
      "dict_keys([1, 2])\n",
      "dict_values(['iki', 'kelime'])\n"
     ]
    }
   ],
   "source": [
    "test = 'iki kelime'\n",
    "a= dict(enumerate(test.split(), 1))\n",
    "print(a.keys())\n",
    "print(a.values())"
   ]
  },
  {
   "cell_type": "code",
   "execution_count": 24,
   "id": "dedicated-dividend",
   "metadata": {},
   "outputs": [
    {
     "name": "stdout",
     "output_type": "stream",
     "text": [
      "iki kelime 1 2 "
     ]
    }
   ],
   "source": [
    "test = 'iki kelime'\n",
    "a= dict(enumerate(test.split(), 1))\n",
    "for i in a.values():\n",
    "    print(i, end=' ')\n",
    "for i in a:\n",
    "    print(i, end=' ')\n"
   ]
  },
  {
   "cell_type": "code",
   "execution_count": null,
   "id": "happy-mailman",
   "metadata": {},
   "outputs": [],
   "source": []
  }
 ],
 "metadata": {
  "kernelspec": {
   "display_name": "Python 3",
   "language": "python",
   "name": "python3"
  },
  "language_info": {
   "codemirror_mode": {
    "name": "ipython",
    "version": 3
   },
   "file_extension": ".py",
   "mimetype": "text/x-python",
   "name": "python",
   "nbconvert_exporter": "python",
   "pygments_lexer": "ipython3",
   "version": "3.7.8"
  }
 },
 "nbformat": 4,
 "nbformat_minor": 5
}
