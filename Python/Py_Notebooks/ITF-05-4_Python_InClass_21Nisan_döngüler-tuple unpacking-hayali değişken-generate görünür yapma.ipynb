{
 "cells": [
  {
   "cell_type": "code",
   "execution_count": 27,
   "id": "intellectual-estimate",
   "metadata": {},
   "outputs": [
    {
     "name": "stdout",
     "output_type": "stream",
     "text": [
      "write the sentence :bugün on beşinci python dersini görüyoruz\n",
      "the lenght of the longest word is :  9\n"
     ]
    }
   ],
   "source": [
    "# girilen cümlenin en uzun kelimesinin uzunluğunu bulan program yazınız\n",
    "sentence = input(\"write the sentence :\")\n",
    "words = sentence.split()\n",
    "i = 0\n",
    "longest = 0\n",
    "while i < len(words):\n",
    "    if len(words[i]) > longest:\n",
    "        longest = len(words[i])\n",
    "    i +=1\n",
    "print(\"the lenght of the longest word is : \", longest)"
   ]
  },
  {
   "cell_type": "code",
   "execution_count": 26,
   "id": "irish-scheduling",
   "metadata": {},
   "outputs": [
    {
     "name": "stdout",
     "output_type": "stream",
     "text": [
      "hello Ahmed\n",
      "hello Aisha\n",
      "hello Adam\n",
      "hello Joseph\n",
      "hello Gabriel\n"
     ]
    }
   ],
   "source": [
    "names = [\"Ahmed\", \"Aisha\", \"Adam\", \"Joseph\", \"Gabriel\"]\n",
    "\n",
    "for i in names:\n",
    "    print(\"hello\", i)\n",
    "    "
   ]
  },
  {
   "cell_type": "code",
   "execution_count": 12,
   "id": "purple-artwork",
   "metadata": {},
   "outputs": [
    {
     "name": "stdout",
     "output_type": "stream",
     "text": [
      "[1, 2, 3, 4, 5]\n"
     ]
    }
   ],
   "source": [
    "# 1 den 5 e kadar olan sayılardan oluşan bir liste oluşturup bunları yazan program\n",
    "sayılar = []\n",
    "for i in range(1,6):\n",
    "    sayılar.append(i)\n",
    "print(sayılar)\n",
    "    "
   ]
  },
  {
   "cell_type": "code",
   "execution_count": 20,
   "id": "alternative-storm",
   "metadata": {},
   "outputs": [
    {
     "name": "stdout",
     "output_type": "stream",
     "text": [
      "bir kelime giriniz :clarusway\n",
      "c-l-a-r-u-s-w-a-y"
     ]
    }
   ],
   "source": [
    "# girilen kelimenin aralarına \"-\" koyan program yazınız\n",
    "word = input(\"bir kelime giriniz :\")\n",
    "\n",
    "count = 0\n",
    "for i in word :\n",
    "    count += 1\n",
    "    if count < len(word) :\n",
    "        i = i + \"-\"\n",
    "    print(i, end = \"\")"
   ]
  },
  {
   "cell_type": "code",
   "execution_count": 30,
   "id": "northern-illustration",
   "metadata": {},
   "outputs": [
    {
     "name": "stdout",
     "output_type": "stream",
     "text": [
      "iğne 3 numaralı indexte.\n"
     ]
    }
   ],
   "source": [
    "samanlık = [\"yumurta\", \"yaba\", \"inek\", \"iğne\", \"saman\", \"tezek\", \"tırmık\"]\n",
    "print(f\"iğne {samanlık.index('iğne')} numaralı indexte.\")"
   ]
  },
  {
   "cell_type": "code",
   "execution_count": 31,
   "id": "dimensional-interest",
   "metadata": {},
   "outputs": [
    {
     "name": "stdout",
     "output_type": "stream",
     "text": [
      "five 5 True\n"
     ]
    }
   ],
   "source": [
    "# Tuple kullanarak çoklu değer assign etmek\n",
    "v = (\"five\", 5, True)\n",
    "(x, y, z) = v\n",
    "print(x, y, z)"
   ]
  },
  {
   "cell_type": "code",
   "execution_count": null,
   "id": "approved-mistress",
   "metadata": {},
   "outputs": [],
   "source": [
    "a, b, c = 1, 2, 3"
   ]
  },
  {
   "cell_type": "code",
   "execution_count": 32,
   "id": "brave-wings",
   "metadata": {},
   "outputs": [
    {
     "data": {
      "text/plain": [
       "7"
      ]
     },
     "execution_count": 32,
     "metadata": {},
     "output_type": "execute_result"
    }
   ],
   "source": [
    "(monday, tuesday, wednesday, thursday, friday, saturday, sunday) = tuple(range(1, 8))\n",
    "sunday\n",
    "\n",
    "# tuple unpacking"
   ]
  },
  {
   "cell_type": "code",
   "execution_count": 33,
   "id": "searching-conviction",
   "metadata": {},
   "outputs": [
    {
     "name": "stdout",
     "output_type": "stream",
     "text": [
      "[1, 2, 3, 4, '11', '22', 33]\n"
     ]
    }
   ],
   "source": [
    "print([1, 2, 3, 4] + [\"11\", \"22\", 33])"
   ]
  },
  {
   "cell_type": "code",
   "execution_count": 34,
   "id": "bound-lottery",
   "metadata": {},
   "outputs": [
    {
     "data": {
      "text/plain": [
       "[1, 3, 5]"
      ]
     },
     "execution_count": 34,
     "metadata": {},
     "output_type": "execute_result"
    }
   ],
   "source": [
    "tt = (1, 2, [1, 3, 5])\n",
    "tt[2]"
   ]
  },
  {
   "cell_type": "code",
   "execution_count": 38,
   "id": "foreign-curve",
   "metadata": {},
   "outputs": [
    {
     "data": {
      "text/plain": [
       "(1, 2, [1, 3, 5, 4])"
      ]
     },
     "execution_count": 38,
     "metadata": {},
     "output_type": "execute_result"
    }
   ],
   "source": [
    "tt = (1, 2, [1, 3, 5])\n",
    "tt[2].append(4)\n",
    "tt"
   ]
  },
  {
   "cell_type": "code",
   "execution_count": 37,
   "id": "handed-haiti",
   "metadata": {},
   "outputs": [
    {
     "name": "stdout",
     "output_type": "stream",
     "text": [
      "10\n",
      "20\n"
     ]
    }
   ],
   "source": [
    "x, y = (10, 20)\n",
    "print(x)\n",
    "print(y)"
   ]
  },
  {
   "cell_type": "code",
   "execution_count": 43,
   "id": "shaped-failure",
   "metadata": {},
   "outputs": [
    {
     "name": "stdout",
     "output_type": "stream",
     "text": [
      "10 30\n"
     ]
    }
   ],
   "source": [
    "# a, b = (10, 20, 30, 40) \n",
    "# sadece 10 u ve 30 u iki değişkene atamak istiyoruz. \n",
    "#diğerlerine dokunmak istemiyoruz.\n",
    "\n",
    "a, _, b, _ = (10, 20, 30, 40) # \"_\" burda hayali bir değişken oluyor.\n",
    "print(a, b)"
   ]
  },
  {
   "cell_type": "code",
   "execution_count": 46,
   "id": "effective-possible",
   "metadata": {},
   "outputs": [
    {
     "name": "stdout",
     "output_type": "stream",
     "text": [
      "11\n",
      "22\n",
      "[33, 44, 55, 66]\n"
     ]
    }
   ],
   "source": [
    "x, y, *z = (11, 22, 33, 44, 55, 66) # burada yıldız z'yi iterable yapıyor, elemanlarına ayırıyor\n",
    "print(x)\n",
    "print(y)\n",
    "print(z) # 11 ve 22 den geri kalanlarını listeye alıp listeliyor"
   ]
  },
  {
   "cell_type": "code",
   "execution_count": 47,
   "id": "dirty-entertainment",
   "metadata": {},
   "outputs": [],
   "source": [
    "# başına * koyunca çoklu değer alabiliyor. Burada 33 ve sonrasını hayali bir değişkene atadık.\n",
    "x, y, *_ = (11, 22, 33, 44, 55, 66) "
   ]
  },
  {
   "cell_type": "code",
   "execution_count": 48,
   "id": "ancient-hunger",
   "metadata": {},
   "outputs": [
    {
     "name": "stdout",
     "output_type": "stream",
     "text": [
      "66\n",
      "[33, 44, 55]\n"
     ]
    }
   ],
   "source": [
    "x, y, *z, t = (11, 22, 33, 44, 55, 66)\n",
    "# sondaki t ye sondaki rakamı atıyor. arada kalanları z ye atıyor\n",
    "print(t)\n",
    "print(z)"
   ]
  },
  {
   "cell_type": "code",
   "execution_count": 49,
   "id": "forced-extra",
   "metadata": {},
   "outputs": [
    {
     "name": "stdout",
     "output_type": "stream",
     "text": [
      "[33, 44]\n",
      "55\n",
      "66\n"
     ]
    }
   ],
   "source": [
    "x, y, *z, t, w = (11, 22, 33, 44, 55, 66)\n",
    "print(z)\n",
    "print(t)\n",
    "print(w)"
   ]
  },
  {
   "cell_type": "code",
   "execution_count": 50,
   "id": "primary-portuguese",
   "metadata": {},
   "outputs": [
    {
     "ename": "SyntaxError",
     "evalue": "two starred expressions in assignment (<ipython-input-50-cabaf2fe6891>, line 4)",
     "output_type": "error",
     "traceback": [
      "\u001b[1;36m  File \u001b[1;32m\"<ipython-input-50-cabaf2fe6891>\"\u001b[1;36m, line \u001b[1;32m4\u001b[0m\n\u001b[1;33m    print(w)\u001b[0m\n\u001b[1;37m           ^\u001b[0m\n\u001b[1;31mSyntaxError\u001b[0m\u001b[1;31m:\u001b[0m two starred expressions in assignment\n"
     ]
    }
   ],
   "source": [
    "x, y, *z, t, *w = (11, 22, 33, 44, 55, 66, 77, 88, 99)\n",
    "print(z)\n",
    "print(t)\n",
    "print(w)\n",
    "# 2 tane * kabul etmiyor"
   ]
  },
  {
   "cell_type": "code",
   "execution_count": 54,
   "id": "corrected-importance",
   "metadata": {},
   "outputs": [],
   "source": [
    "\n",
    "isimler = {\n",
    "    \"ali\" : 33,\n",
    "    \"veli\" : 44,\n",
    "    \"ayşe\" : 2\n",
    "}"
   ]
  },
  {
   "cell_type": "code",
   "execution_count": 55,
   "id": "enabling-future",
   "metadata": {},
   "outputs": [
    {
     "data": {
      "text/plain": [
       "dict_items([('ali', 33), ('veli', 44), ('ayşe', 2)])"
      ]
     },
     "execution_count": 55,
     "metadata": {},
     "output_type": "execute_result"
    }
   ],
   "source": [
    "isimler.items()\n",
    "# key ve value ları tuple şeklinde listeliyor"
   ]
  },
  {
   "cell_type": "code",
   "execution_count": 56,
   "id": "solar-printing",
   "metadata": {},
   "outputs": [
    {
     "name": "stdout",
     "output_type": "stream",
     "text": [
      "ali 33\n",
      "veli 44\n",
      "ayşe 2\n"
     ]
    }
   ],
   "source": [
    "for a, b in isimler.items() :\n",
    "    print(a, b)\n",
    "#burda döngü içinde a ve b'ye tuple'ların içindeki değerleri atıyor.\n",
    "    "
   ]
  },
  {
   "cell_type": "code",
   "execution_count": null,
   "id": "packed-prescription",
   "metadata": {},
   "outputs": [],
   "source": []
  },
  {
   "cell_type": "code",
   "execution_count": 60,
   "id": "recent-force",
   "metadata": {},
   "outputs": [
    {
     "name": "stdout",
     "output_type": "stream",
     "text": [
      "('ali', 33)\n",
      "('veli', 44)\n",
      "('ayşe', 2)\n"
     ]
    }
   ],
   "source": [
    "# i değişkenine pairs atadık. yani iki değer atadık.\n",
    "# isimler.items() in her bir elemanını çektiğinde bunların birer tuple olduğunu hatırla.\n",
    "for i in isimler.items():\n",
    "    print(i)"
   ]
  },
  {
   "cell_type": "code",
   "execution_count": 2,
   "id": "genuine-condition",
   "metadata": {
    "scrolled": true
   },
   "outputs": [
    {
     "name": "stdout",
     "output_type": "stream",
     "text": [
      "{'Ahmet': 28934, 'Ayşe': 28935, 'Hüseyin': 28936}\n",
      "{'Ahmet': 28934, 'Ayşe': 28935, 'Hüseyin': 28936}\n",
      "{'Ahmet': 28934, 'Ayşe': 28935, 'Hüseyin': 28936}\n"
     ]
    }
   ],
   "source": [
    "list1 = [\"Ahmet\", \"Ayşe\", \"Hüseyin\"]\n",
    "list2 = [28934, 28935, 28936]\n",
    "# Method 1: zip()\n",
    "dictt0 = dict(zip(list1,list2))\n",
    "# Method 2: dictionary comprehension\n",
    "dictt1 = {key:value for key,value in zip(list1,list2)}\n",
    "# Method 3: Using a For Loop (Not Recommended)\n",
    "tuples = zip(list1, list2)\n",
    "dictt2 = {}\n",
    "for key, value in tuples:\n",
    "    if key in dictt2:\n",
    "        pass\n",
    "    else:\n",
    "        dictt2[key] = value\n",
    "print(dictt0, dictt1, dictt2, sep = \"\\n\")"
   ]
  },
  {
   "cell_type": "code",
   "execution_count": 67,
   "id": "prostate-philadelphia",
   "metadata": {},
   "outputs": [
    {
     "name": "stdout",
     "output_type": "stream",
     "text": [
      "sayı :5\n",
      "5 * 0 : 0\n",
      "5 * 1 : 5\n",
      "5 * 2 : 10\n",
      "5 * 3 : 15\n",
      "5 * 4 : 20\n",
      "5 * 5 : 25\n",
      "5 * 6 : 30\n",
      "5 * 7 : 35\n",
      "5 * 8 : 40\n",
      "5 * 9 : 45\n",
      "5 * 10 : 50\n"
     ]
    }
   ],
   "source": [
    "# kullanıcıdan sayı al. o sayıyı 0 dan 10 a kadar çarp\n",
    "\n",
    "sayı = int(input(\"sayı :\"))\n",
    "for i in range(11) :\n",
    "    print(f\"{sayı} * {i} :\", sayı * i)\n",
    "#    print(\"{} x {} = {}\".format(sayı, i, sayı*i))"
   ]
  },
  {
   "cell_type": "code",
   "execution_count": 68,
   "id": "coated-shadow",
   "metadata": {},
   "outputs": [
    {
     "name": "stdout",
     "output_type": "stream",
     "text": [
      "sayı :5\n",
      "5 x 0 = 0\n",
      "5 x 1 = 5\n",
      "5 x 2 = 10\n",
      "5 x 3 = 15\n",
      "5 x 4 = 20\n",
      "5 x 5 = 25\n",
      "5 x 6 = 30\n",
      "5 x 7 = 35\n",
      "5 x 8 = 40\n",
      "5 x 9 = 45\n",
      "5 x 10 = 50\n"
     ]
    }
   ],
   "source": [
    "# kullanıcıdan sayı al. o sayıyı 0 dan 10 a kadar çarp\n",
    "sayı = int(input(\"sayı :\"))\n",
    "for i in range(11) :\n",
    "    print(\"{} x {} = {}\".format(sayı, i, sayı*i))"
   ]
  },
  {
   "cell_type": "code",
   "execution_count": 70,
   "id": "right-guinea",
   "metadata": {},
   "outputs": [],
   "source": [
    "# range ketum. görünür halde değil. \n",
    "seq = range(5)"
   ]
  },
  {
   "cell_type": "code",
   "execution_count": 72,
   "id": "certified-airfare",
   "metadata": {},
   "outputs": [
    {
     "name": "stdout",
     "output_type": "stream",
     "text": [
      "0\n",
      "1\n",
      "2\n",
      "3\n",
      "4\n"
     ]
    }
   ],
   "source": [
    "for i in seq :\n",
    "    print(i)\n",
    "\n",
    "# for döngüsü ile range'in içerisi görünür oldu. \n",
    "# tek başına bir anlam ifade etmeyen bu object artık görünür oldu."
   ]
  },
  {
   "cell_type": "code",
   "execution_count": 75,
   "id": "comic-institute",
   "metadata": {},
   "outputs": [
    {
     "name": "stdout",
     "output_type": "stream",
     "text": [
      "[0, 1, 2, 3, 4]\n",
      "{0, 1, 2, 3, 4}\n",
      "(0, 1, 2, 3, 4)\n"
     ]
    }
   ],
   "source": [
    "print(list(seq))\n",
    "print(set(seq))\n",
    "print(tuple(seq))\n",
    "\n",
    "# list, set ve tuple ile görünür hale getirdik."
   ]
  },
  {
   "cell_type": "code",
   "execution_count": 77,
   "id": "infinite-colors",
   "metadata": {},
   "outputs": [
    {
     "name": "stdout",
     "output_type": "stream",
     "text": [
      "0 1 2 3 4\n",
      "range(0, 5)\n",
      "0 1 2 3 4\n"
     ]
    }
   ],
   "source": [
    "print(* seq)\n",
    "print(range(5))\n",
    "print(* range(5)) # * range'i itere ediyor"
   ]
  },
  {
   "cell_type": "code",
   "execution_count": 78,
   "id": "violent-spring",
   "metadata": {},
   "outputs": [
    {
     "name": "stdout",
     "output_type": "stream",
     "text": [
      "s e p e r a t e\n"
     ]
    }
   ],
   "source": [
    "print(* 'seperate')   # bize elemanları ayırıp gösteriyor."
   ]
  },
  {
   "cell_type": "code",
   "execution_count": 79,
   "id": "alert-marketing",
   "metadata": {},
   "outputs": [
    {
     "name": "stdout",
     "output_type": "stream",
     "text": [
      "10 8 6 4 2\n"
     ]
    }
   ],
   "source": [
    "print(*range(10, 0, -2))"
   ]
  },
  {
   "cell_type": "code",
   "execution_count": 83,
   "id": "useful-anger",
   "metadata": {},
   "outputs": [
    {
     "name": "stdout",
     "output_type": "stream",
     "text": [
      "one : 1\n",
      "two : 2\n",
      "three : 3\n",
      "four : 4\n",
      "five : 5\n"
     ]
    }
   ],
   "source": [
    "text = [\"one\", \"two\", \"three\", \"four\", \"five\"]\n",
    "numbers = [1, 2, 3, 4, 5]\n",
    "for x, y in zip(text, numbers):\n",
    "    print(x, ':', y)"
   ]
  },
  {
   "cell_type": "code",
   "execution_count": 84,
   "id": "noble-software",
   "metadata": {},
   "outputs": [
    {
     "name": "stdout",
     "output_type": "stream",
     "text": [
      "['one', 'two', 'three', 'four', 'five'] : 1\n"
     ]
    }
   ],
   "source": [
    "text = [\"one\", \"two\", \"three\", \"four\", \"five\"], # virgüle dikkat! \n",
    "# şimdi bunu tek elemanlı bir tuple olarak algılayacak\n",
    "# ve zip fonksiyonu gereği bir elemana karşılık numbers'tan bir eleman alarak yazdıracak\n",
    "numbers = [1, 2, 3, 4, 5]\n",
    "for x, y in zip(text, numbers):\n",
    "    print(x, ':', y)"
   ]
  },
  {
   "cell_type": "code",
   "execution_count": 3,
   "id": "engaged-compiler",
   "metadata": {},
   "outputs": [
    {
     "name": "stdout",
     "output_type": "stream",
     "text": [
      "<zip object at 0x00000126CBCB6748>\n"
     ]
    }
   ],
   "source": [
    "isimler = [\"tarık\", \"sevda\", \"selim\"]\n",
    "yaşlar = [11, 22, 33]\n",
    "xx = zip(isimler, yaşlar)\n",
    "print(xx) # zip fonksiyonu değerleri generate ediyor ve gizli tutuyor. \n",
    "# bu değeri açığa çıkartmak için 3 yöntem var. 1. *, 2. list, 3. for döngü"
   ]
  },
  {
   "cell_type": "code",
   "execution_count": 85,
   "id": "extensive-rainbow",
   "metadata": {},
   "outputs": [
    {
     "name": "stdout",
     "output_type": "stream",
     "text": [
      "tarık 11\n",
      "sevda 22\n",
      "selim 33\n"
     ]
    }
   ],
   "source": [
    "isimler = [\"tarık\", \"sevda\", \"selim\"]\n",
    "yaşlar = [11, 22, 33]\n",
    "for i, y in zip(isimler, yaşlar):\n",
    "    print(i, y)"
   ]
  },
  {
   "cell_type": "code",
   "execution_count": 92,
   "id": "close-acquisition",
   "metadata": {},
   "outputs": [
    {
     "name": "stdout",
     "output_type": "stream",
     "text": [
      "tarık 11\n",
      "sevda 22\n",
      "selim 33\n"
     ]
    }
   ],
   "source": [
    "isimler = [\"tarık\", \"sevda\", \"selim\"]\n",
    "yaşlar = [11, 22, 33]\n",
    "xx = zip(isimler, yaşlar)\n",
    "for i, y in xx:\n",
    "    print(i, y)"
   ]
  },
  {
   "cell_type": "code",
   "execution_count": 87,
   "id": "bronze-simple",
   "metadata": {},
   "outputs": [
    {
     "name": "stdout",
     "output_type": "stream",
     "text": [
      "('tarık', 11) ('sevda', 22) ('selim', 33)\n"
     ]
    }
   ],
   "source": [
    "isimler = [\"tarık\", \"sevda\", \"selim\"]\n",
    "yaşlar = [11, 22, 33]\n",
    "print(*list(zip(isimler, yaşlar)))"
   ]
  },
  {
   "cell_type": "code",
   "execution_count": 93,
   "id": "included-shooting",
   "metadata": {},
   "outputs": [
    {
     "name": "stdout",
     "output_type": "stream",
     "text": [
      "[('tarık', 11), ('sevda', 22), ('selim', 33)]\n"
     ]
    }
   ],
   "source": [
    "isimler = [\"tarık\", \"sevda\", \"selim\"]\n",
    "yaşlar = [11, 22, 33]\n",
    "xx = zip(isimler, yaşlar)\n",
    "print(list(xx))"
   ]
  },
  {
   "cell_type": "code",
   "execution_count": 94,
   "id": "animated-growth",
   "metadata": {},
   "outputs": [
    {
     "name": "stdout",
     "output_type": "stream",
     "text": [
      "[]\n"
     ]
    }
   ],
   "source": [
    "print(list(xx)) \n",
    "# yukarda xx'i yani zip fonksiyonunu bir defa kullanıp görünür hale getirdiği için\n",
    "# artık bundan sonra kullanamazsın."
   ]
  },
  {
   "cell_type": "code",
   "execution_count": 4,
   "id": "guided-montgomery",
   "metadata": {},
   "outputs": [
    {
     "name": "stdout",
     "output_type": "stream",
     "text": [
      "[('tarık', 11), ('sevda', 22), ('selim', 33)]\n"
     ]
    }
   ],
   "source": [
    "xx = zip(isimler, yaşlar)\n",
    "print(list(xx))\n",
    "\n",
    "# tekrar zip fonksiyonu ile değerleri generate ettikten sonra kullanabildik!"
   ]
  },
  {
   "cell_type": "code",
   "execution_count": null,
   "id": "dynamic-sister",
   "metadata": {},
   "outputs": [],
   "source": []
  }
 ],
 "metadata": {
  "kernelspec": {
   "display_name": "Python 3",
   "language": "python",
   "name": "python3"
  },
  "language_info": {
   "codemirror_mode": {
    "name": "ipython",
    "version": 3
   },
   "file_extension": ".py",
   "mimetype": "text/x-python",
   "name": "python",
   "nbconvert_exporter": "python",
   "pygments_lexer": "ipython3",
   "version": "3.7.8"
  }
 },
 "nbformat": 4,
 "nbformat_minor": 5
}
