{
 "cells": [
  {
   "cell_type": "code",
   "execution_count": 1,
   "id": "forced-teaching",
   "metadata": {},
   "outputs": [
    {
     "name": "stdout",
     "output_type": "stream",
     "text": [
      "Here are the names of brothers :\n",
      "tom\n",
      "sue\n",
      "tim\n"
     ]
    }
   ],
   "source": [
    "def brothers(bro1, bro2, bro3):\n",
    "    print('Here are the names of brothers :')\n",
    "    print(bro1, bro2, bro3, sep='\\n')\n",
    "\n",
    "family = ['tom', 'sue', 'tim']\n",
    "brothers(*family) \n",
    "\n",
    "# * olmadan olmaz o zaman çünkü fonsiyona tek bir değer gider (tek bir liste)\n",
    "# oysa fonsiyon benden 3 parametresine 3 arugüman ister. "
   ]
  },
  {
   "cell_type": "code",
   "execution_count": 2,
   "id": "dutch-yukon",
   "metadata": {},
   "outputs": [
    {
     "name": "stdout",
     "output_type": "stream",
     "text": [
      "Here are the names of brothers :\n",
      "['tom', 'sue', 'tim']\n",
      "['tom', 'sue', 'tim']\n",
      "['tom', 'sue', 'tim']\n"
     ]
    }
   ],
   "source": [
    "def brothers(bro1, bro2, bro3):\n",
    "    print('Here are the names of brothers :')\n",
    "    print(bro1, bro2, bro3, sep='\\n')\n",
    "\n",
    "family = ['tom', 'sue', 'tim']\n",
    "brothers(family, family, family) # şimdi 3 parametreye 3 argüman atamış olduk. tabi atadığımız argümanlar birer liste"
   ]
  },
  {
   "cell_type": "code",
   "execution_count": 4,
   "id": "deluxe-parking",
   "metadata": {},
   "outputs": [],
   "source": [
    "# For me, Bill Gates and Guido van Rossum are geniuses. yazdır\n",
    "\n",
    "genius = ('Bill', 'Rossum', 'Guido Van', 'Gates')\n",
    "\n",
    "def merger(par1, par2, par3, par4):\n",
    "    print(f\"For me, {par1} {par4} and {par3} {par2} are geniuses\")"
   ]
  },
  {
   "cell_type": "code",
   "execution_count": 5,
   "id": "brave-throat",
   "metadata": {},
   "outputs": [
    {
     "name": "stdout",
     "output_type": "stream",
     "text": [
      "For me, Bill Gates and Guido Van Rossum are geniuses\n"
     ]
    }
   ],
   "source": [
    "merger(*genius) # fonksiyonu çağırırken tek bir değişkene yıldız koyduk"
   ]
  },
  {
   "cell_type": "code",
   "execution_count": 39,
   "id": "difficult-hours",
   "metadata": {},
   "outputs": [
    {
     "name": "stdout",
     "output_type": "stream",
     "text": [
      "a ahmet\n",
      "b mehmet\n",
      "c selamet\n"
     ]
    }
   ],
   "source": [
    "def önceki(**parametre): # önceki derste gördüğümüz şekil\n",
    "    for x, y in parametre.items(): # parametreler dictionary'den gelmek zorunda olduğu için \n",
    "        print(x, y)                 # key ve value olarak 2 değeri olacağından for x, y ile  \n",
    "                                    # parametrenin item'larına girdik.\n",
    "önceki(a='ahmet', b='mehmet', c='selamet') # fonksiyon arbitrary kywrd (**kywrd) olarak tanımlandığı için \n",
    "                                        # istediğim kadar argüman girebilirim.."
   ]
  },
  {
   "cell_type": "code",
   "execution_count": 6,
   "id": "collected-belarus",
   "metadata": {},
   "outputs": [
    {
     "name": "stdout",
     "output_type": "stream",
     "text": [
      "Fred belongs to Generation X\n",
      "Marry belongs to Generation Y\n"
     ]
    }
   ],
   "source": [
    "def gene(x, y):  # defined by positional args\n",
    "    print(x, \"belongs to Generation X\")\n",
    "    print(y, \"belongs to Generation Y\")\n",
    "    \n",
    "dict_gene = {'y' : \"Marry\", 'x' : \"Fred\"}\n",
    "gene(**dict_gene)  # we call the function by a single argument(variable)\n",
    "\n",
    "# fonksiyon_ismi(**dictionary_ismi) şeklinde kullanıyoruz. \n",
    "# dictionary deki key'ler fonksiyondaki parametre isimleri olmalı.!! çünkü keyword argüman olarak atanıyor.\n",
    "# burada fonksiyonun parametreleri mutlaka x ve y olacak. \n",
    "# **dict_gene yazarak dictionary'nin keylerini (tabi ki value'leriyle birlikte) fonksiyona yollamış olduk."
   ]
  },
  {
   "cell_type": "code",
   "execution_count": 8,
   "id": "photographic-surgeon",
   "metadata": {},
   "outputs": [
    {
     "name": "stdout",
     "output_type": "stream",
     "text": [
      "Solomon belongs to Generation X\n",
      "David belongs to Generation Y\n"
     ]
    }
   ],
   "source": [
    "def gene(x='Solomon', y='David'):  # defined by positional args\n",
    "    print(x, \"belongs to Generation X\")\n",
    "    print(y, \"belongs to Generation Y\")\n",
    "dict_gene = {'y' : \"Marry\", 'x' : \"Fred\"}\n",
    "\n",
    "gene() # fonksiyonu default parametrelerle tanımladığımız için değer girmesek de çalışır."
   ]
  },
  {
   "cell_type": "code",
   "execution_count": 2,
   "id": "eight-amber",
   "metadata": {},
   "outputs": [
    {
     "name": "stdout",
     "output_type": "stream",
     "text": [
      "Fred belongs to Generation X\n",
      "Marry belongs to Generation Y\n"
     ]
    }
   ],
   "source": [
    "# şimdi hatalı bir atama yapalım\n",
    "\n",
    "def gene(x='Solomon', y='David'):  # defined by positional args\n",
    "    print(x, \"belongs to Generation X\")\n",
    "    print(y, \"belongs to Generation Y\")\n",
    "dict_gene = {'y' : \"Marry\", 'x' : \"Fred\", 'z' : 'hatalıyım'} # argüman sayısı fazla olduğu için çalışmaz\n",
    "\n",
    "gene(**dict_gene)"
   ]
  },
  {
   "cell_type": "code",
   "execution_count": 13,
   "id": "cleared-bride",
   "metadata": {},
   "outputs": [
    {
     "name": "stdout",
     "output_type": "stream",
     "text": [
      "Fred belongs to Generation X\n",
      "Marry belongs to Generation Y\n"
     ]
    }
   ],
   "source": [
    "def gene(x='Solomon', y='David'):  # defined by positional args\n",
    "    print(x, \"belongs to Generation X\")\n",
    "    print(y, \"belongs to Generation Y\")\n",
    "    \n",
    "dict_gene = {'y' : \"Marry\", 'x' : \"Fred\"} \n",
    "\n",
    "gene(**dict_gene)\n",
    "\n",
    "# fonksiyonda hangi parametreler varsa dictionary de de aynı key isimleri olmalı!!\n",
    "# x ve y nin nerelere gittiğine dikkat et!!\n"
   ]
  },
  {
   "cell_type": "code",
   "execution_count": null,
   "id": "chinese-democracy",
   "metadata": {},
   "outputs": [],
   "source": [
    "<img src=\"https://iasbh.tmgrup.com.tr/e7f34a/752/395/0/0/628/330?u=https://isbh.tmgrup.com.tr/sbh/2020/04/20/evlilik-tazminati-hesaplama-2020-evlilik-tazminati-ne-kadar-nasil-hesaplanir-1587381709991.jpg\" height = \"100\" width = '200' alt='izdivac'> "
   ]
  },
  {
   "cell_type": "code",
   "execution_count": 8,
   "id": "isolated-sugar",
   "metadata": {},
   "outputs": [],
   "source": [
    "# [(\"mary\", \"rye\"), (\"bella\", \"fred\"), (\"linda\", \"roland\")] böyle bir output veren fonksiyon oluştur.\n",
    "\n",
    "dict_couple = {\"bride\" : [\"mary\", \"bella\", \"linda\"],\n",
    "              \"groom\" : [\"rye\", \"fred\", \"roland\"]\n",
    "              }\n",
    "\n",
    "def coupleDs(bride, groom): # bunlar fonksiyonun içine girince (dict.ten geleceği için) keyword parametre haline gelecek\n",
    "    couple_list=[]\n",
    "    for x in zip(bride, groom) : # unutma ki parametreleri işleme tabi tuttuğumuzda \n",
    "        couple_list.append(x)    # aslında onların karşılığı olan value'ları alıp işleme sokmuş oluyoruz!!!\n",
    "    return couple_list          # burada bride ve groom'a karşılık gelen value'lere yani erkek ve kadın isimlerine\n",
    "                                # zip build-in fonksiyonu ile eşleştirme işlemi yaptık.\n"
   ]
  },
  {
   "cell_type": "code",
   "execution_count": 21,
   "id": "addressed-casino",
   "metadata": {},
   "outputs": [
    {
     "data": {
      "text/plain": [
       "[('mary', 'rye'), ('bella', 'fred'), ('linda', 'roland')]"
      ]
     },
     "execution_count": 21,
     "metadata": {},
     "output_type": "execute_result"
    }
   ],
   "source": [
    "couples(**dict_couple)"
   ]
  },
  {
   "cell_type": "code",
   "execution_count": 9,
   "id": "waiting-austria",
   "metadata": {},
   "outputs": [
    {
     "data": {
      "text/plain": [
       "[('mary', 'rye'), ('bella', 'fred'), ('linda', 'roland')]"
      ]
     },
     "execution_count": 9,
     "metadata": {},
     "output_type": "execute_result"
    }
   ],
   "source": [
    "# list comprehension ile yapalım\n",
    "\n",
    "dict_couple = {\"bride\" : [\"mary\", \"bella\", \"linda\"],\n",
    "              \"groom\" : [\"rye\", \"fred\", \"roland\"]\n",
    "              }\n",
    "\n",
    "def couples(bride, groom) :\n",
    "    return [x for x in zip(bride, groom)]\n",
    "\n",
    "couples(**dict_couple)"
   ]
  },
  {
   "cell_type": "code",
   "execution_count": 29,
   "id": "infinite-medicare",
   "metadata": {},
   "outputs": [
    {
     "data": {
      "text/plain": [
       "[('mary', 'rye'), ('bella', 'fred'), ('linda', 'roland')]"
      ]
     },
     "execution_count": 29,
     "metadata": {},
     "output_type": "execute_result"
    }
   ],
   "source": [
    "# başka bir yöntem ile yapalım\n",
    "\n",
    "def couples(bride,groom):\n",
    "    return list(zip(bride, groom))\n",
    "\n",
    "couples(**dict_couple)"
   ]
  },
  {
   "cell_type": "code",
   "execution_count": 15,
   "id": "concerned-detection",
   "metadata": {},
   "outputs": [
    {
     "name": "stdout",
     "output_type": "stream",
     "text": [
      "the average of their ages is : 46.0\n"
     ]
    }
   ],
   "source": [
    "# 3 arkadaşın isimlerini yaşlarıyla bir dictionary de eşleştirip \n",
    "# sonra yaşlarının ortalamalarını alan fonksiyon yaz\n",
    "\n",
    "friends={'ali' : 44, 'veli' : 39, 'hüseyin' : 55}\n",
    "\n",
    "def meaner(ali, veli, hüseyin):\n",
    "    average=(ali + veli + hüseyin) / 3\n",
    "    print('the average of their ages is :', average)\n",
    "\n",
    "meaner(**friends)   # friends ten isimlerin value'larını alıp fonksiyonun içindeki parametelere atayacak."
   ]
  },
  {
   "cell_type": "code",
   "execution_count": null,
   "id": "organized-composite",
   "metadata": {},
   "outputs": [],
   "source": [
    "# kodumuzu biraz sadeleştirirsek\n",
    "\n",
    "friends={'ali' : 44, 'veli' : 39, 'hüseyin' : 55}\n",
    "\n",
    "def meaner(ali, veli, hüseyin):\n",
    "    return (ali + veli + hüseyin) / 3\n",
    "    \n",
    "print('the average of their ages is :', meaner(**friends))"
   ]
  },
  {
   "cell_type": "code",
   "execution_count": 32,
   "id": "touched-phenomenon",
   "metadata": {},
   "outputs": [
    {
     "name": "stdout",
     "output_type": "stream",
     "text": [
      "the average of their ages is : 46.0\n"
     ]
    }
   ],
   "source": [
    "meaner(44, 39, 55)\n",
    "\n",
    "# fonksiyonun parametrelerine dictionary'nin value değerlerini alarak değil de\n",
    "# doğrudan value'leri biz gönderdik"
   ]
  },
  {
   "cell_type": "code",
   "execution_count": 47,
   "id": "identical-persian",
   "metadata": {
    "scrolled": true
   },
   "outputs": [
    {
     "data": {
      "text/plain": [
       "False"
      ]
     },
     "execution_count": 47,
     "metadata": {},
     "output_type": "execute_result"
    }
   ],
   "source": [
    "# parantez sorusunun çözümü\n",
    "\n",
    "x = \"([)])([)]\"\n",
    "\n",
    "# bir parantez serisi doğru ise en içte olan (en nested olan) için mutlaka bir parantez açma kapama olayı var.\n",
    "# yani aç kapa olması lazım. \n",
    "# yani ([()]) gibi. burda en içtekine bakarsak aç parantez kapa parantez olduğunu görürüz.\n",
    "# biz en içten başlayarak sile sile gidersek her sildiğimizde bir dıştaki de aç kapa şekilnde olacaktır. \n",
    "# ve böylece sonunda elimizde boş bir string kalacaktır.\n",
    "# silme işlemini replace ile yapacağız. böylece silinen yerine boş karakter kalmayacak. \n",
    "\n",
    "def isValid(s) :\n",
    "    while \"()\" in s or \"[]\" in s or \"{}\" in s :\n",
    "        s = s.replace(\"()\", \"\").replace(\"[]\", \"\").replace(\"{}\", \"\")\n",
    "\n",
    "    # ilk replace'teki normal parantez yoksa replace birşey yapmaz bir sonraki replace'e geçer\n",
    "    # replace fonksiyonunda değiştirilecek karakter yoksa birşey yapmıyordu..\n",
    "    # elimde boş bir string kalana kadar yani hiçbir parantez kalmayana kadar tekar etmem lazım\n",
    "    # demek ki WHILE döngüsü kullanmam gerek.\n",
    "\n",
    "    return s == \"\" # s parametresine girilen parantezler eşit midir \"\" 'a?\n",
    "                    # eşit ise True döndürür.\n",
    "isValid(x)"
   ]
  },
  {
   "cell_type": "markdown",
   "id": "vanilla-vertex",
   "metadata": {},
   "source": [
    "# lambda functions"
   ]
  },
  {
   "cell_type": "code",
   "execution_count": null,
   "id": "assigned-graduation",
   "metadata": {},
   "outputs": [],
   "source": [
    "# tek kullanımlık fonksiyondur. mahallinde kullanıyoruz sonra atıp geçiyoruz.\n",
    "# ama lambda fonksiyonlarının da çağrılabilir halleri var yani değişken atadığımız durumları var onları sonra göreceğiz.\n",
    "# syntax'i lambda parameters : expression (code body)\n",
    "\n"
   ]
  },
  {
   "cell_type": "code",
   "execution_count": 43,
   "id": "southern-labor",
   "metadata": {},
   "outputs": [
    {
     "data": {
      "text/plain": [
       "25"
      ]
     },
     "execution_count": 43,
     "metadata": {},
     "output_type": "execute_result"
    }
   ],
   "source": [
    "def square(x):\n",
    "    return x**2\n",
    "\n",
    "lambda x : x**2 # burada lambdadaki x e bir argüman atamamız gerekiyor.\n",
    "\n",
    "# ikisi birbiri ile aynı.\n",
    "square(5)"
   ]
  },
  {
   "cell_type": "code",
   "execution_count": 30,
   "id": "quantitative-transcript",
   "metadata": {},
   "outputs": [
    {
     "data": {
      "text/plain": [
       "<function __main__.<lambda>(x, y)>"
      ]
     },
     "execution_count": 30,
     "metadata": {},
     "output_type": "execute_result"
    }
   ],
   "source": [
    "lambda x, y: (x+y)/2 # iki numarayı alır toplayıp ikiye böler\n"
   ]
  },
  {
   "cell_type": "code",
   "execution_count": null,
   "id": "green-election",
   "metadata": {},
   "outputs": [],
   "source": [
    "lambda x: 'odd' if x%2 != 0  else 'even'\n",
    "\n",
    "# lambda parameters: first_result if conditional statement else second_result\n",
    "# ortada condition, sol tarafta if body, sağ tarafta else body\n",
    "\n",
    "# if koşulu sağlanırsa 'odd' döndür, değilse 'even' döndür"
   ]
  },
  {
   "cell_type": "code",
   "execution_count": null,
   "id": "environmental-health",
   "metadata": {},
   "outputs": [],
   "source": [
    "# LAMBDANIN KULLANIM ŞEKİLLERİ\n",
    "\n",
    "# 1. parantez içinde argüman yollayarak kullanabiliyoruz.\n",
    "\n",
    "# 2. bazı buil-in fonksiyonların içinde kullanabiliyoruz.\n",
    "\n",
    "# 3. user-defined fonksiyonların içinde kullanabiliriz."
   ]
  },
  {
   "cell_type": "code",
   "execution_count": 31,
   "id": "sacred-washer",
   "metadata": {},
   "outputs": [
    {
     "name": "stdout",
     "output_type": "stream",
     "text": [
      "4\n"
     ]
    }
   ],
   "source": [
    "print((lambda x: x**2)(2))\n",
    "\n",
    "# lambdanın sağına parantez içine argüman yazıyoruz."
   ]
  },
  {
   "cell_type": "code",
   "execution_count": 52,
   "id": "disturbed-familiar",
   "metadata": {},
   "outputs": [
    {
     "name": "stdout",
     "output_type": "stream",
     "text": [
      "odd\n"
     ]
    }
   ],
   "source": [
    "print((lambda x: \"odd\" if x%2 else \"even\")(3))"
   ]
  },
  {
   "cell_type": "code",
   "execution_count": 53,
   "id": "blond-catering",
   "metadata": {},
   "outputs": [
    {
     "name": "stdout",
     "output_type": "stream",
     "text": [
      "4.0\n"
     ]
    }
   ],
   "source": [
    "print((lambda x, y: (x+y)/2)(3, 5)) \n",
    "\n",
    "# 2 parametreye 2 argüman atadık"
   ]
  },
  {
   "cell_type": "code",
   "execution_count": 54,
   "id": "graphic-samoa",
   "metadata": {},
   "outputs": [
    {
     "data": {
      "text/plain": [
       "34"
      ]
     },
     "execution_count": 54,
     "metadata": {},
     "output_type": "execute_result"
    }
   ],
   "source": [
    "average = (lambda a, b: a**2 + b**2) # değişkene atayıp kullandık\n",
    "\n",
    "average(3, 5)"
   ]
  },
  {
   "cell_type": "code",
   "execution_count": 32,
   "id": "regular-taste",
   "metadata": {},
   "outputs": [
    {
     "data": {
      "text/plain": [
       "34"
      ]
     },
     "execution_count": 32,
     "metadata": {},
     "output_type": "execute_result"
    }
   ],
   "source": [
    "average = (lambda a, b: a**2 + b**2)(3, 5) # değişkene atayıp kullandık\n",
    "average"
   ]
  },
  {
   "cell_type": "code",
   "execution_count": 55,
   "id": "quantitative-yellow",
   "metadata": {},
   "outputs": [
    {
     "data": {
      "text/plain": [
       "'even'"
      ]
     },
     "execution_count": 55,
     "metadata": {},
     "output_type": "execute_result"
    }
   ],
   "source": [
    "çift_mi = lambda x: 'odd' if  x%2 else 'even' \n",
    "\n",
    "çift_mi(4)\n",
    "\n",
    "# lambda fonksiyonunu bir değişkene atadık. sonra lambda fonsiyonunu çağırdık."
   ]
  },
  {
   "cell_type": "code",
   "execution_count": 57,
   "id": "emerging-rugby",
   "metadata": {},
   "outputs": [
    {
     "data": {
      "text/plain": [
       "'Hüseyin'"
      ]
     },
     "execution_count": 57,
     "metadata": {},
     "output_type": "execute_result"
    }
   ],
   "source": [
    "# girilen bir iterable'ı tersine çeviren lambda fonksiyonu yaz.\n",
    "a = \"niyesüH\"\n",
    "\n",
    "reverser = (lambda x: x[::-1])\n",
    "reverser(a)"
   ]
  },
  {
   "cell_type": "code",
   "execution_count": 34,
   "id": "variable-demand",
   "metadata": {},
   "outputs": [
    {
     "data": {
      "text/plain": [
       "'Hüseyin'"
      ]
     },
     "execution_count": 34,
     "metadata": {},
     "output_type": "execute_result"
    }
   ],
   "source": [
    "reverser = (lambda x: x[::-1])('niyesüH')\n",
    "reverser"
   ]
  },
  {
   "cell_type": "code",
   "execution_count": 58,
   "id": "recognized-patient",
   "metadata": {},
   "outputs": [
    {
     "data": {
      "text/plain": [
       "[1, 3, 5, 7, 9]"
      ]
     },
     "execution_count": 58,
     "metadata": {},
     "output_type": "execute_result"
    }
   ],
   "source": [
    "reverser([9, 7, 5, 3, 1])"
   ]
  },
  {
   "cell_type": "code",
   "execution_count": 61,
   "id": "developing-butler",
   "metadata": {},
   "outputs": [
    {
     "name": "stdout",
     "output_type": "stream",
     "text": [
      "1 : odd\n",
      "2 : even\n",
      "3 : odd\n",
      "4 : even\n",
      "5 : odd\n"
     ]
    }
   ],
   "source": [
    "# bir listeyi for loopun içine sok, iterate et. lambda fonksiyonu ile listenin içindeki \n",
    "# rakamların tek mi çift mi olduğunu veren kod yaz\n",
    "# 1: odd\n",
    "# 2: even\n",
    "# 3: odd gibi çıktı verecek.\n",
    "\n",
    "liste = [1, 2, 3, 4, 5]\n",
    "for i in liste:\n",
    "    print(i, \":\", (lambda x: 'odd' if x%2 != 0 else 'even' )(i))"
   ]
  },
  {
   "cell_type": "code",
   "execution_count": null,
   "id": "effective-province",
   "metadata": {},
   "outputs": [],
   "source": [
    "lambda x: 'odd' if "
   ]
  },
  {
   "cell_type": "code",
   "execution_count": 62,
   "id": "communist-problem",
   "metadata": {},
   "outputs": [
    {
     "data": {
      "text/plain": [
       "34"
      ]
     },
     "execution_count": 62,
     "metadata": {},
     "output_type": "execute_result"
    }
   ],
   "source": [
    "# lambdanın yanında değil de dışında atama yaparsak\n",
    "\n",
    "hypotenuse = lambda a, b: a**2 + b**2\n",
    "\n",
    "hypotenuse(3, 5)\n"
   ]
  },
  {
   "cell_type": "code",
   "execution_count": 63,
   "id": "wrapped-calgary",
   "metadata": {},
   "outputs": [
    {
     "name": "stdout",
     "output_type": "stream",
     "text": [
      "Hüseyin\n"
     ]
    }
   ],
   "source": [
    "iterable = \"niyesüH\"\n",
    "\n",
    "reverser = lambda x: x[::-1]\n",
    "\n",
    "print(reverser(iterable))"
   ]
  },
  {
   "cell_type": "code",
   "execution_count": null,
   "id": "seeing-insight",
   "metadata": {},
   "outputs": [],
   "source": [
    "# map(function, iterable, ...)\n",
    "# Return an iterator that applies function to every item of iterable, \n",
    "yielding the results. If additional iterable arguments are passed, \n",
    "function must take that many arguments and is applied to the items from all \n",
    "iterables in parallel. With multiple iterables, the iterator stops when the \n",
    "shortest iterable is exhausted. For cases where the function inputs are already arranged into argument tuples, see itertools.starmap().\n",
    "\n",
    "# map() iterable eleman üretiyor\n",
    "# map() içerisinde ilk parametre olan fonksiyonu, ikinci parametre olan \n",
    "# iterable'ın tüm elemanlarına sırayla uygular ve iterable bir sonuç üretir."
   ]
  },
  {
   "cell_type": "code",
   "execution_count": 38,
   "id": "toxic-girlfriend",
   "metadata": {},
   "outputs": [
    {
     "name": "stdout",
     "output_type": "stream",
     "text": [
      "[1, 4, 9, 16, 25]\n"
     ]
    }
   ],
   "source": [
    "iterable = [1,2,3,4,5]\n",
    "\n",
    "map(lambda x:x**2, iterable) # her bir elemana lambdayı uygulayacak ve sonuçları tuttu.bu sonucun tipi map object'tir. yani class map.\n",
    "                            # map'in tuttuğu sonucu açmak için *, for döngüsü veya collection kullanıyoruz.\n",
    "\n",
    "result = map(lambda x:x**2, iterable)\n",
    "\n",
    "print(type(result))  # it's a map type\n",
    "\n",
    "print(list(result)) #we've converted it to list type to print\n",
    "\n",
    "print(list(map(lambda x:x**2, iterable))) # you can print directly\n",
    "\n",
    "\n"
   ]
  },
  {
   "cell_type": "code",
   "execution_count": 65,
   "id": "emerging-twist",
   "metadata": {},
   "outputs": [
    {
     "name": "stdout",
     "output_type": "stream",
     "text": [
      "<class 'map'>\n"
     ]
    }
   ],
   "source": [
    "map(lambda x:x**2, iterable)\n",
    "print(type(map(lambda x:x**2, iterable)))  # it's a map type"
   ]
  },
  {
   "cell_type": "code",
   "execution_count": 66,
   "id": "tested-summary",
   "metadata": {},
   "outputs": [
    {
     "name": "stdout",
     "output_type": "stream",
     "text": [
      "<class 'map'>\n",
      "1 4 9 16 25\n",
      "[]\n"
     ]
    }
   ],
   "source": [
    "iterable = [1,2,3,4,5]\n",
    "\n",
    "map(lambda x:x**2, iterable) \n",
    "\n",
    "result = map(lambda x:x**2, iterable)\n",
    "print(type(result))  # it's a map type\n",
    "\n",
    "print(*result)\n",
    "print(list(result)) # bir üst satırda map'in generate ettiği sonucu boşalttığımız için bu satırda boş liste verir. \n"
   ]
  },
  {
   "cell_type": "code",
   "execution_count": 69,
   "id": "heavy-electricity",
   "metadata": {},
   "outputs": [
    {
     "name": "stdout",
     "output_type": "stream",
     "text": [
      "1\n",
      "2\n",
      "3\n",
      "4\n",
      "5\n"
     ]
    }
   ],
   "source": [
    "result=[1,2,3,4,5]\n",
    "\n",
    "for i in result:\n",
    "    print(i)"
   ]
  },
  {
   "cell_type": "code",
   "execution_count": 72,
   "id": "fluid-diameter",
   "metadata": {},
   "outputs": [
    {
     "name": "stdout",
     "output_type": "stream",
     "text": [
      "[1, 4, 9, 16, 25]\n"
     ]
    }
   ],
   "source": [
    "liste=[1,2,3,4,5]\n",
    "\n",
    "def karesinial(*x):\n",
    "    for i in x :\n",
    "        return i**2 \n",
    "    \n",
    "# karesinial(liste)\n",
    "\n",
    "result = map(karesinial, liste)\n",
    "print(list(result))"
   ]
  },
  {
   "cell_type": "code",
   "execution_count": 5,
   "id": "structural-rings",
   "metadata": {},
   "outputs": [
    {
     "ename": "TypeError",
     "evalue": "unsupported operand type(s) for ** or pow(): 'list' and 'int'",
     "output_type": "error",
     "traceback": [
      "\u001b[1;31m---------------------------------------------------------------------------\u001b[0m",
      "\u001b[1;31mTypeError\u001b[0m                                 Traceback (most recent call last)",
      "\u001b[1;32m<ipython-input-5-d653ae074e52>\u001b[0m in \u001b[0;36m<module>\u001b[1;34m\u001b[0m\n\u001b[0;32m      7\u001b[0m     \u001b[1;32mreturn\u001b[0m \u001b[0mkarelist\u001b[0m\u001b[1;33m\u001b[0m\u001b[1;33m\u001b[0m\u001b[0m\n\u001b[0;32m      8\u001b[0m \u001b[1;33m\u001b[0m\u001b[0m\n\u001b[1;32m----> 9\u001b[1;33m \u001b[0mkaresinial\u001b[0m\u001b[1;33m(\u001b[0m\u001b[0mliste\u001b[0m\u001b[1;33m)\u001b[0m\u001b[1;33m\u001b[0m\u001b[1;33m\u001b[0m\u001b[0m\n\u001b[0m",
      "\u001b[1;32m<ipython-input-5-d653ae074e52>\u001b[0m in \u001b[0;36mkaresinial\u001b[1;34m(*x)\u001b[0m\n\u001b[0;32m      4\u001b[0m     \u001b[0mkarelist\u001b[0m\u001b[1;33m=\u001b[0m\u001b[1;33m[\u001b[0m\u001b[1;33m]\u001b[0m\u001b[1;33m\u001b[0m\u001b[1;33m\u001b[0m\u001b[0m\n\u001b[0;32m      5\u001b[0m     \u001b[1;32mfor\u001b[0m \u001b[0mi\u001b[0m \u001b[1;32min\u001b[0m \u001b[0mx\u001b[0m \u001b[1;33m:\u001b[0m\u001b[1;33m\u001b[0m\u001b[1;33m\u001b[0m\u001b[0m\n\u001b[1;32m----> 6\u001b[1;33m         \u001b[0mkarelist\u001b[0m\u001b[1;33m.\u001b[0m\u001b[0mappend\u001b[0m\u001b[1;33m(\u001b[0m\u001b[0mi\u001b[0m\u001b[1;33m**\u001b[0m\u001b[1;36m2\u001b[0m\u001b[1;33m)\u001b[0m\u001b[1;33m\u001b[0m\u001b[1;33m\u001b[0m\u001b[0m\n\u001b[0m\u001b[0;32m      7\u001b[0m     \u001b[1;32mreturn\u001b[0m \u001b[0mkarelist\u001b[0m\u001b[1;33m\u001b[0m\u001b[1;33m\u001b[0m\u001b[0m\n\u001b[0;32m      8\u001b[0m \u001b[1;33m\u001b[0m\u001b[0m\n",
      "\u001b[1;31mTypeError\u001b[0m: unsupported operand type(s) for ** or pow(): 'list' and 'int'"
     ]
    }
   ],
   "source": [
    "liste=[1,2,3,4,5]\n",
    "\n",
    "def karesinial(*x):\n",
    "    karelist=[]\n",
    "    for i in x :\n",
    "        karelist.append(i)\n",
    "    return karelist\n",
    "    \n",
    "karesinial(liste)\n"
   ]
  },
  {
   "cell_type": "code",
   "execution_count": 78,
   "id": "refined-wilson",
   "metadata": {},
   "outputs": [
    {
     "data": {
      "text/plain": [
       "[1, 2, 3, 4, 5]"
      ]
     },
     "execution_count": 78,
     "metadata": {},
     "output_type": "execute_result"
    }
   ],
   "source": [
    "liste=[1,2,3,4,5]\n",
    "\n",
    "def karesinial(*x):\n",
    "    for i in x :\n",
    "        return i \n",
    "    \n",
    "karesinial(liste)\n",
    "\n",
    "# fonksiyona liste'den argüman gönderdiğimizde return, sonucu liste olarak veriyor"
   ]
  },
  {
   "cell_type": "code",
   "execution_count": 79,
   "id": "comic-courtesy",
   "metadata": {},
   "outputs": [
    {
     "data": {
      "text/plain": [
       "(1, 2, 3, 4, 5)"
      ]
     },
     "execution_count": 79,
     "metadata": {},
     "output_type": "execute_result"
    }
   ],
   "source": [
    "tuple=(1,2,3,4,5)\n",
    "\n",
    "def karesinial(*x):\n",
    "    for i in x :\n",
    "        return i \n",
    "    \n",
    "karesinial(tuple)\n",
    "\n",
    "# fonksiyona tuple'dan argüman gönderdiğimizde return, sonucu tuple olarak veriyor"
   ]
  },
  {
   "cell_type": "code",
   "execution_count": 90,
   "id": "sixth-railway",
   "metadata": {},
   "outputs": [
    {
     "ename": "TypeError",
     "evalue": "karesinial() takes 0 positional arguments but 1 was given",
     "output_type": "error",
     "traceback": [
      "\u001b[1;31m---------------------------------------------------------------------------\u001b[0m",
      "\u001b[1;31mTypeError\u001b[0m                                 Traceback (most recent call last)",
      "\u001b[1;32m<ipython-input-90-4392290f4235>\u001b[0m in \u001b[0;36m<module>\u001b[1;34m\u001b[0m\n\u001b[0;32m      7\u001b[0m \u001b[1;31m# karesinial(dict)\u001b[0m\u001b[1;33m\u001b[0m\u001b[1;33m\u001b[0m\u001b[1;33m\u001b[0m\u001b[0m\n\u001b[0;32m      8\u001b[0m \u001b[0mresult\u001b[0m \u001b[1;33m=\u001b[0m \u001b[0mmap\u001b[0m\u001b[1;33m(\u001b[0m\u001b[0mkaresinial\u001b[0m\u001b[1;33m,\u001b[0m \u001b[0mdict\u001b[0m\u001b[1;33m)\u001b[0m\u001b[1;33m\u001b[0m\u001b[1;33m\u001b[0m\u001b[0m\n\u001b[1;32m----> 9\u001b[1;33m \u001b[0mprint\u001b[0m\u001b[1;33m(\u001b[0m\u001b[0mlist\u001b[0m\u001b[1;33m(\u001b[0m\u001b[0mresult\u001b[0m\u001b[1;33m)\u001b[0m\u001b[1;33m)\u001b[0m\u001b[1;33m\u001b[0m\u001b[1;33m\u001b[0m\u001b[0m\n\u001b[0m\u001b[0;32m     10\u001b[0m \u001b[1;31m# fonksiyona dict'den argüman gönderdiğimizde return, sonucu dict olarak veriyor??????\u001b[0m\u001b[1;33m\u001b[0m\u001b[1;33m\u001b[0m\u001b[1;33m\u001b[0m\u001b[0m\n",
      "\u001b[1;31mTypeError\u001b[0m: karesinial() takes 0 positional arguments but 1 was given"
     ]
    }
   ],
   "source": [
    "dict={1 : 'bir', 2 : 'iki', 3 : 'üç', 4 : 'dört', 5 : 'beş'}\n",
    "\n",
    "def karesinial(**x):\n",
    "    for i, j in x :\n",
    "        return x.items() \n",
    "    \n",
    "# karesinial(dict)\n",
    "result = map(karesinial, dict)\n",
    "print(list(result))\n",
    "# fonksiyona dict'den argüman gönderdiğimizde return, sonucu dict olarak veriyor??????"
   ]
  },
  {
   "cell_type": "code",
   "execution_count": 71,
   "id": "failing-recall",
   "metadata": {},
   "outputs": [
    {
     "name": "stdout",
     "output_type": "stream",
     "text": [
      "5 16 14\n"
     ]
    }
   ],
   "source": [
    "iterable_2 = [\"ahmet\", \"mehmet ve kuzeni\", \"cemilin bacısı\"]\n",
    "\n",
    "result_2 = map(len, iterable_2) # iterable_2 deki elemanlara tek tek len fonksiyonunu uygulayacak ve sonucu tutacak.\n",
    "\n",
    "print(*result_2) "
   ]
  },
  {
   "cell_type": "code",
   "execution_count": 73,
   "id": "covered-gateway",
   "metadata": {},
   "outputs": [
    {
     "name": "stdout",
     "output_type": "stream",
     "text": [
      "['one', 'six', 'ten', 'two']\n"
     ]
    }
   ],
   "source": [
    "letter1=[\"o\", \"s\", \"t\", \"t\"]\n",
    "letter2=[\"n\", \"i\", \"e\", \"w\"]\n",
    "letter3=[\"e\", \"x\", \"n\", \"o\"]\n",
    "\n",
    "numbers = map(lambda x, y, z: x+y+z, letter1, letter2, letter3)\n",
    "\n",
    "# lambda fonksiyonunun parametre sayısı kadar map'in argümanı olmalı. her bir parametreye bir argümandan değer alacak(letter lar)  \n",
    "# map'in özelliği gereği her defasında letter'ların birer elemanı lambdaya girecek ve map bir sonuç çıkaracak\n",
    "\n",
    "print(list(numbers))  # print ederken list fonksiyonunu kullandığımız için çıktı liste halinde olacak."
   ]
  },
  {
   "cell_type": "code",
   "execution_count": 75,
   "id": "intermediate-drove",
   "metadata": {},
   "outputs": [],
   "source": [
    "letter1=[\"a\", \"b\", \"c\"]\n",
    "letter2=[\"x\", \"y\", \"z\"]\n",
    "\n",
    "yapıştır = map(zip, letter1, letter2)\n",
    "\n",
    "# sonuç generate edildi. ama göremeyiz."
   ]
  },
  {
   "cell_type": "code",
   "execution_count": 76,
   "id": "otherwise-jewelry",
   "metadata": {},
   "outputs": [
    {
     "name": "stdout",
     "output_type": "stream",
     "text": [
      "('a', 'x')\n",
      "('b', 'y')\n",
      "('c', 'z')\n"
     ]
    }
   ],
   "source": [
    "letter1=[\"a\", \"b\", \"c\"]\n",
    "letter2=[\"x\", \"y\", \"z\"]\n",
    "\n",
    "yapıştır = map(zip, letter1, letter2)\n",
    "\n",
    "# hatırla, zip iki iterable'ı alıp birleştirip tuple yapıyordu.\n",
    "# şimdi map'in generate ettiği sonucu görebilmek için for döngüsü kullanalım\n",
    "# map'in içindeki zip'i de çözebilmek için 2. bir for kullandık.\n",
    "\n",
    "for i in yapıştır:\n",
    "    for j in i:\n",
    "        print(j)"
   ]
  },
  {
   "cell_type": "code",
   "execution_count": 81,
   "id": "surprised-asian",
   "metadata": {},
   "outputs": [
    {
     "name": "stdout",
     "output_type": "stream",
     "text": [
      "('a', 'x') ('b', 'y') ('c', 'z')\n"
     ]
    }
   ],
   "source": [
    "letter1=[\"a\", \"b\", \"c\"]\n",
    "letter2=[\"x\", \"y\", \"z\"]\n",
    "\n",
    "a=zip(letter1, letter2)\n",
    "print(*a)"
   ]
  },
  {
   "cell_type": "code",
   "execution_count": 3,
   "id": "senior-matrix",
   "metadata": {},
   "outputs": [
    {
     "ename": "SyntaxError",
     "evalue": "invalid syntax (<ipython-input-3-2b8d3edab45e>, line 1)",
     "output_type": "error",
     "traceback": [
      "\u001b[1;36m  File \u001b[1;32m\"<ipython-input-3-2b8d3edab45e>\"\u001b[1;36m, line \u001b[1;32m1\u001b[0m\n\u001b[1;33m    a = {'beth'=26, 'oscar'=42, 'justin'=18, 'frank'=33}\u001b[0m\n\u001b[1;37m               ^\u001b[0m\n\u001b[1;31mSyntaxError\u001b[0m\u001b[1;31m:\u001b[0m invalid syntax\n"
     ]
    }
   ],
   "source": [
    "a = {'beth'=26, 'oscar'=42, 'justin'=18, 'frank'=33}\n",
    "a"
   ]
  },
  {
   "cell_type": "code",
   "execution_count": null,
   "id": "celtic-grant",
   "metadata": {},
   "outputs": [],
   "source": []
  }
 ],
 "metadata": {
  "kernelspec": {
   "display_name": "Python 3",
   "language": "python",
   "name": "python3"
  },
  "language_info": {
   "codemirror_mode": {
    "name": "ipython",
    "version": 3
   },
   "file_extension": ".py",
   "mimetype": "text/x-python",
   "name": "python",
   "nbconvert_exporter": "python",
   "pygments_lexer": "ipython3",
   "version": "3.7.8"
  }
 },
 "nbformat": 4,
 "nbformat_minor": 5
}
