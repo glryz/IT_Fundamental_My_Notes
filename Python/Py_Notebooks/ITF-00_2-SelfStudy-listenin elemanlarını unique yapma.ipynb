{
 "cells": [
  {
   "cell_type": "markdown",
   "id": "global-extreme",
   "metadata": {},
   "source": [
    "# listelerde tekrar eden elemanları eleyip listeyi unique yapma"
   ]
  },
  {
   "cell_type": "code",
   "execution_count": 1,
   "id": "deadly-booking",
   "metadata": {},
   "outputs": [
    {
     "name": "stdout",
     "output_type": "stream",
     "text": [
      "{3: None, 2: None, 1: None, 5: None, 4: None}\n",
      "[3, 2, 1, 5, 4]\n"
     ]
    }
   ],
   "source": [
    "l = [3, 3, 2, 1, 5, 1, 4, 2, 3]\n",
    "\n",
    "print(dict.fromkeys(l))\n",
    "print(list(dict.fromkeys(l)))"
   ]
  },
  {
   "cell_type": "code",
   "execution_count": 2,
   "id": "coordinated-budget",
   "metadata": {},
   "outputs": [
    {
     "name": "stdout",
     "output_type": "stream",
     "text": [
      "[3, 2, 1, 5, 4]\n"
     ]
    }
   ],
   "source": [
    "l = [3, 3, 2, 1, 5, 1, 4, 2, 3]\n",
    "print(list(dict.fromkeys(l)))"
   ]
  },
  {
   "cell_type": "code",
   "execution_count": 3,
   "id": "exciting-alaska",
   "metadata": {},
   "outputs": [
    {
     "name": "stdout",
     "output_type": "stream",
     "text": [
      "[[1, 1], [0, 1], [0, 0], [1, 0]]\n",
      "[3, 2, 1, 5, 4]\n"
     ]
    }
   ],
   "source": [
    " # bu listelerde tekrar eden elemanları eleyip listeyi unique yap\n",
    "\n",
    "l = [3, 3, 2, 1, 5, 1, 4, 2, 3]\n",
    "l_2d = [[1, 1], [0, 1], [0, 1], [0, 0], [1, 0], [1, 1], [1, 1]]\n",
    "\n",
    "\n",
    "def get_unique_list(seq):\n",
    "    seen = []\n",
    "    return [x for x in seq if x not in seen and not seen.append(x)]\n",
    "\n",
    "print(get_unique_list(l_2d))\n",
    "\n",
    "print(get_unique_list(l))\n",
    "\n"
   ]
  },
  {
   "cell_type": "code",
   "execution_count": 4,
   "id": "north-trademark",
   "metadata": {},
   "outputs": [
    {
     "name": "stdout",
     "output_type": "stream",
     "text": [
      "[[1, 1], [0, 1], [0, 1], [1, 1], [1, 1]]\n"
     ]
    }
   ],
   "source": [
    "l_2d = [[1, 1], [0, 1], [0, 1], [0, 0], [1, 0], [1, 1], [1, 1]]\n",
    "\n",
    "print([x for x in l_2d if l_2d.count(x) > 1])"
   ]
  },
  {
   "cell_type": "code",
   "execution_count": null,
   "id": "social-district",
   "metadata": {},
   "outputs": [],
   "source": []
  },
  {
   "cell_type": "code",
   "execution_count": null,
   "id": "scheduled-click",
   "metadata": {},
   "outputs": [],
   "source": []
  },
  {
   "cell_type": "code",
   "execution_count": null,
   "id": "honey-exclusion",
   "metadata": {},
   "outputs": [],
   "source": []
  }
 ],
 "metadata": {
  "kernelspec": {
   "display_name": "Python 3",
   "language": "python",
   "name": "python3"
  },
  "language_info": {
   "codemirror_mode": {
    "name": "ipython",
    "version": 3
   },
   "file_extension": ".py",
   "mimetype": "text/x-python",
   "name": "python",
   "nbconvert_exporter": "python",
   "pygments_lexer": "ipython3",
   "version": "3.7.8"
  }
 },
 "nbformat": 4,
 "nbformat_minor": 5
}
