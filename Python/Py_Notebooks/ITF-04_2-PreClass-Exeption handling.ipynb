{
 "cells": [
  {
   "cell_type": "code",
   "execution_count": null,
   "id": "extra-athletics",
   "metadata": {},
   "outputs": [],
   "source": [
    "Python’da hata yakalama işlemleri için try... except... bloklarından yararlanılır. Hemen bir örnek verelim:"
   ]
  },
  {
   "cell_type": "code",
   "execution_count": null,
   "id": "found-experiment",
   "metadata": {},
   "outputs": [],
   "source": [
    "try:\n",
    "    hata verebileceğini bildiğimiz kodlar\n",
    "except HataAdı:\n",
    "    hata durumunda yapılacak işlem"
   ]
  },
  {
   "cell_type": "code",
   "execution_count": null,
   "id": "prospective-elevation",
   "metadata": {},
   "outputs": [],
   "source": [
    "ilk_sayı    = input(\"ilk sayı: \")\n",
    "ikinci_sayı = input(\"ikinci sayı: \")\n",
    "\n",
    "try:\n",
    "    sayı1 = int(ilk_sayı)\n",
    "    sayı2 = int(ikinci_sayı)\n",
    "    print(sayı1, \"/\", sayı2, \"=\", sayı1 / sayı2)\n",
    "except ValueError:\n",
    "    print(\"Lütfen sadece sayı girin!\")"
   ]
  },
  {
   "cell_type": "code",
   "execution_count": null,
   "id": "changing-norfolk",
   "metadata": {},
   "outputs": [],
   "source": [
    "ilk_sayı    = input(\"ilk sayı: \")\n",
    "ikinci_sayı = input(\"ikinci sayı: \")\n",
    "\n",
    "try:\n",
    "    sayı1 = int(ilk_sayı)\n",
    "    sayı2 = int(ikinci_sayı)\n",
    "    print(sayı1, \"/\", sayı2, \"=\", sayı1 / sayı2)\n",
    "except ZeroDivisionError:\n",
    "    print(\"Bir sayıyı 0'a bölemezsiniz!\")"
   ]
  },
  {
   "cell_type": "code",
   "execution_count": null,
   "id": "single-barrier",
   "metadata": {},
   "outputs": [],
   "source": [
    "# kodumuz iki hataya da açık olduğu için iki hata türünü de art arda yönetebiliriz.\n",
    "\n",
    "ilk_sayı    = input(\"ilk sayı: \")\n",
    "ikinci_sayı = input(\"ikinci sayı: \")\n",
    "\n",
    "try:\n",
    "    sayı1 = int(ilk_sayı)\n",
    "    sayı2 = int(ikinci_sayı)\n",
    "    print(sayı1, \"/\", sayı2, \"=\", sayı1 / sayı2)\n",
    "except ZeroDivisionError:\n",
    "    print(\"Bir sayıyı 0'a bölemezsiniz!\")\n",
    "except ValueError:\n",
    "    print(\"Lütfen sadece sayı girin!\")"
   ]
  },
  {
   "cell_type": "code",
   "execution_count": null,
   "id": "separated-summer",
   "metadata": {},
   "outputs": [],
   "source": [
    "# bu iki hata kodunu gruplayıp tek mesaj yazdırabiliriz.\n",
    "\n",
    "ilk_sayı    = input(\"ilk sayı: \")\n",
    "ikinci_sayı = input(\"ikinci sayı: \")\n",
    "\n",
    "try:\n",
    "    sayı1 = int(ilk_sayı)\n",
    "    sayı2 = int(ikinci_sayı)\n",
    "    print(sayı1, \"/\", sayı2, \"=\", sayı1 / sayı2)\n",
    "except (ValueError, ZeroDivisionError):\n",
    "    print(\"Bir hata oluştu!\")"
   ]
  },
  {
   "cell_type": "code",
   "execution_count": null,
   "id": "empty-noise",
   "metadata": {},
   "outputs": [
    {
     "name": "stdout",
     "output_type": "stream",
     "text": [
      "ilk sayı (Programdan çıkmak için q tuşuna basın): 54\n",
      "ikinci sayı: 2\n",
      "54 / 2 = 27.0\n",
      "ilk sayı (Programdan çıkmak için q tuşuna basın): 54\n",
      "ikinci sayı: j54\n",
      "Bir hata oluştu!\n",
      "Lütfen tekrar deneyin!\n"
     ]
    }
   ],
   "source": [
    "# Bu arada, gördüğünüz gibi yukarıdaki programlar sadece bir kez çalışıp kapanıyor. \n",
    "# Ama biz bu programları tekrar tekrar nasıl çalıştırabileceğimizi gayet iyi biliyoruz:\n",
    "\n",
    "while True:\n",
    "    ilk_sayı = input(\"ilk sayı (Programdan çıkmak için q tuşuna basın): \")\n",
    "\n",
    "    if ilk_sayı == \"q\":\n",
    "        break\n",
    "\n",
    "    ikinci_sayı = input(\"ikinci sayı: \")\n",
    "\n",
    "    try:\n",
    "        sayı1 = int(ilk_sayı)\n",
    "        sayı2 = int(ikinci_sayı)\n",
    "        print(sayı1, \"/\", sayı2, \"=\", sayı1 / sayı2)\n",
    "    except (ValueError, ZeroDivisionError):\n",
    "        print(\"Bir hata oluştu!\")\n",
    "        print(\"Lütfen tekrar deneyin!\")\n"
   ]
  },
  {
   "cell_type": "code",
   "execution_count": null,
   "id": "based-greek",
   "metadata": {},
   "outputs": [],
   "source": []
  },
  {
   "cell_type": "code",
   "execution_count": null,
   "id": "presidential-linux",
   "metadata": {},
   "outputs": [],
   "source": []
  },
  {
   "cell_type": "code",
   "execution_count": null,
   "id": "angry-geometry",
   "metadata": {},
   "outputs": [],
   "source": []
  },
  {
   "cell_type": "code",
   "execution_count": null,
   "id": "alien-holiday",
   "metadata": {},
   "outputs": [],
   "source": []
  },
  {
   "cell_type": "code",
   "execution_count": null,
   "id": "discrete-arrangement",
   "metadata": {},
   "outputs": [],
   "source": []
  }
 ],
 "metadata": {
  "kernelspec": {
   "display_name": "Python 3",
   "language": "python",
   "name": "python3"
  },
  "language_info": {
   "codemirror_mode": {
    "name": "ipython",
    "version": 3
   },
   "file_extension": ".py",
   "mimetype": "text/x-python",
   "name": "python",
   "nbconvert_exporter": "python",
   "pygments_lexer": "ipython3",
   "version": "3.7.8"
  }
 },
 "nbformat": 4,
 "nbformat_minor": 5
}
