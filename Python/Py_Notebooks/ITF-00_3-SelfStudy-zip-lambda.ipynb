{
 "cells": [
  {
   "cell_type": "markdown",
   "id": "voluntary-paris",
   "metadata": {},
   "source": [
    "# zip"
   ]
  },
  {
   "cell_type": "markdown",
   "id": "political-block",
   "metadata": {},
   "source": [
    "# zip returns an iterator (zip object) that contains tuple with the elements of multiple iterable objects."
   ]
  },
  {
   "cell_type": "code",
   "execution_count": 14,
   "id": "comfortable-activation",
   "metadata": {},
   "outputs": [
    {
     "name": "stdout",
     "output_type": "stream",
     "text": [
      "<zip object at 0x000001CDE03D9548>\n",
      "<class 'zip'>\n",
      "{'Alice': 24, 'Bob': 50, 'Charlie': 18}\n",
      "{'Alice': 24, 'Bob': 50, 'Charlie': 18}\n"
     ]
    }
   ],
   "source": [
    "names = ['Alice', 'Bob', 'Charlie']\n",
    "ages = (24, 50, 18)\n",
    "\n",
    "z = zip(names, ages)\n",
    "\n",
    "print(z)\n",
    "\n",
    "print(type(z))\n",
    "\n",
    "print(dict(zip(names, ages)))\n",
    "\n",
    "print(dict(z))"
   ]
  },
  {
   "cell_type": "code",
   "execution_count": 15,
   "id": "filled-harvest",
   "metadata": {},
   "outputs": [
    {
     "name": "stdout",
     "output_type": "stream",
     "text": [
      "[('Alice', 24), ('Bob', 50), ('Charlie', 18)]\n",
      "<class 'list'>\n",
      "<class 'tuple'>\n"
     ]
    }
   ],
   "source": [
    "# It can be converted to a list with list().\n",
    "\n",
    "l = list(zip(names, ages))\n",
    "print(l)\n",
    "print(type(l))\n",
    "print(type(l[0]))"
   ]
  },
  {
   "cell_type": "code",
   "execution_count": null,
   "id": "combined-press",
   "metadata": {},
   "outputs": [],
   "source": []
  },
  {
   "cell_type": "markdown",
   "id": "younger-specialist",
   "metadata": {},
   "source": [
    "# lambda"
   ]
  },
  {
   "cell_type": "code",
   "execution_count": null,
   "id": "settled-fusion",
   "metadata": {},
   "outputs": [],
   "source": [
    " a lambda can take only a single expression!!!\n",
    "\n",
    "Bir lambda'ya ne tür şeyler koyabilirim ve koyamayabilirim? Ve bu sorunun cevabı temelde\n",
    "\n",
    "If it doesn’t return a value, it isn’t an expression and can’t be put into a lambda.\n",
    "If you can imagine it in an assignment statement, on the right-hand side of the equals sign, \n",
    "it is an expression and can be put into a lambda.\n",
    "\n",
    "Bir değer döndürmezse, bir ifade değildir ve bir lambda'ya yerleştirilemez.\n",
    "Eşittir işaretinin sağ tarafındaki bir atama deyiminde hayal edebiliyorsanız, \n",
    "bu bir ifadedir ve bir lambda'ya konulabilir.\n",
    "\n",
    "1. Assignment statements cannot be used in lambda. In Python, assignment statements don’t return anything, \n",
    "not even None (null).\n",
    "\n",
    "2. Simple things such as mathematical operations, string operations, list comprehensions, \n",
    "etc. are OK in a lambda.\n",
    "\n",
    "3. Function calls are expressions. It is OK to put a function call in a lambda, \n",
    "and to pass arguments to that function. Doing this wraps the function call (arguments and all) \n",
    "inside a new, anonymous function.\n",
    "\n",
    "4. In Python 3, print became a function, so in Python 3+, print(…) can be used in a lambda.\n",
    "Even functions that return None, like the print function in Python 3, can be used in a lambda.\n",
    "\n",
    "5. Conditional expressions, which were introduced in Python 2.5, are expressions\n",
    "(and not merely a different syntax for an if/else statement). \n",
    "They return a value, and can be used in a lambda."
   ]
  },
  {
   "cell_type": "code",
   "execution_count": null,
   "id": "accurate-shuttle",
   "metadata": {},
   "outputs": [],
   "source": [
    "# kullanımı \n",
    "\n",
    "\"\"\"\n",
    "def function_name(parameters, ...):\n",
    "    return expression\n",
    "\n",
    "function_name = lambda parameters, ...: expression\n",
    "\"\"\"\n",
    "\n",
    "# lambda fonksiyonunun bir isme atandığında dikkat et."
   ]
  },
  {
   "cell_type": "code",
   "execution_count": null,
   "id": "personal-preview",
   "metadata": {},
   "outputs": [],
   "source": [
    "üzeribeş = lambda x : x ** 5\n",
    "\n",
    "üzeribeş(2)"
   ]
  },
  {
   "cell_type": "code",
   "execution_count": 41,
   "id": "executed-ebony",
   "metadata": {},
   "outputs": [
    {
     "name": "stdout",
     "output_type": "stream",
     "text": [
      "32\n"
     ]
    }
   ],
   "source": [
    "print((lambda x : x ** 5)(2))"
   ]
  },
  {
   "cell_type": "code",
   "execution_count": 16,
   "id": "cardiovascular-healthcare",
   "metadata": {},
   "outputs": [
    {
     "name": "stdout",
     "output_type": "stream",
     "text": [
      "7\n",
      "4\n",
      "7\n",
      "4\n"
     ]
    }
   ],
   "source": [
    "def add_def(a, b=1):\n",
    "    return a + b\n",
    "\n",
    "add_lambda = lambda a, b=1: a + b\n",
    "\n",
    "print(add_def(3, 4))\n",
    "\n",
    "print(add_def(3))\n",
    "\n",
    "print(add_lambda(3, 4))\n",
    "\n",
    "print(add_lambda(3))"
   ]
  },
  {
   "cell_type": "markdown",
   "id": "antique-space",
   "metadata": {},
   "source": [
    "# Lambda expressions with if"
   ]
  },
  {
   "cell_type": "code",
   "execution_count": 17,
   "id": "breeding-sword",
   "metadata": {},
   "outputs": [
    {
     "name": "stdout",
     "output_type": "stream",
     "text": [
      "odd\n",
      "even\n"
     ]
    }
   ],
   "source": [
    "get_odd_even = lambda x: 'even' if x % 2 == 0 else 'odd'\n",
    "\n",
    "print(get_odd_even(3))\n",
    "\n",
    "print(get_odd_even(4))"
   ]
  },
  {
   "cell_type": "code",
   "execution_count": 7,
   "id": "stone-posting",
   "metadata": {},
   "outputs": [
    {
     "name": "stdout",
     "output_type": "stream",
     "text": [
      "small\n"
     ]
    }
   ],
   "source": [
    "a = lambda x: \"big\" if x > 100 else \"small\"\n",
    "print(a(10))"
   ]
  },
  {
   "cell_type": "markdown",
   "id": "civilian-girlfriend",
   "metadata": {},
   "source": [
    "# sorted(), sort(), max(), min() with lambda"
   ]
  },
  {
   "cell_type": "code",
   "execution_count": 20,
   "id": "joined-threshold",
   "metadata": {},
   "outputs": [
    {
     "name": "stdout",
     "output_type": "stream",
     "text": [
      "['Alice', 'Bob', 'Charle']\n"
     ]
    }
   ],
   "source": [
    "# The list of strings is sorted alphabetically by default.\n",
    "\n",
    "l = ['Charle', 'Bob', 'Alice']\n",
    "\n",
    "l_sorted = sorted(l)\n",
    "\n",
    "print(l_sorted)\n"
   ]
  },
  {
   "cell_type": "code",
   "execution_count": 21,
   "id": "auburn-mattress",
   "metadata": {},
   "outputs": [
    {
     "name": "stdout",
     "output_type": "stream",
     "text": [
      "5\n",
      "['Bob', 'Alice', 'Charle']\n"
     ]
    }
   ],
   "source": [
    "\"\"\"\n",
    "If you specify the built-in function len() that returns the number of characters\n",
    "in the argument key, it will be sorted according to the number of characters.\n",
    "\"\"\"\n",
    "print(len('Alice'))\n",
    "\n",
    "l_sorted_len = sorted(l, key=len)\n",
    "\n",
    "print(l_sorted_len)"
   ]
  },
  {
   "cell_type": "code",
   "execution_count": 22,
   "id": "thrown-ribbon",
   "metadata": {},
   "outputs": [
    {
     "name": "stdout",
     "output_type": "stream",
     "text": [
      "l\n",
      "['Charle', 'Alice', 'Bob']\n"
     ]
    }
   ],
   "source": [
    "\"\"\"\n",
    "You can use a lambda expression to apply any function to each element and sort based on the result.\n",
    "For example, if you specify a lambda expression to get the second character in the argument key, \n",
    "it will be sorted alphabetically in the second character.\n",
    "\"\"\"\n",
    "\n",
    "print((lambda x: x[1])('Alice'))\n",
    "\n",
    "l_sorted_second = sorted(l, key=lambda x: x[1])\n",
    "\n",
    "print(l_sorted_second)\n",
    "\n",
    "# listenin her bir elemanının birinci indeksine göre sıraladı "
   ]
  },
  {
   "cell_type": "markdown",
   "id": "linear-thong",
   "metadata": {},
   "source": [
    "# map(), filter() with lambda"
   ]
  },
  {
   "cell_type": "code",
   "execution_count": null,
   "id": "biological-timber",
   "metadata": {},
   "outputs": [],
   "source": [
    "\"\"\"\n",
    "build in fonsiyonlar map () ve filter (), birinci argüman olarak fonksiyonları ve \n",
    "ikinci argüman olarak bir liste gibi yinelenebilir nesneleri belirtir.\n",
    "\n",
    "map() applies a function to each element of the iterable object, \n",
    "and filter() extracts the elements that satisfy the conditions.\n",
    "\n",
    "map (), yinelenebilir nesnenin her bir öğesine bir işlev uygular \n",
    "ve filter () koşulları karşılayan öğeleri çıkarır.\n",
    "Yani map, iteable'ın tüm elemanlarına içindeki fonksiyonu uyguluyor ve \n",
    "teker teker sonuçları elde edip elde ettiği iterable objecti  hafızasında tutuyor.\n",
    "fonksiyonda 2 iterable object varsa  elemanları index sırasına göre bire bir işleme tabi tutuyor\n",
    "\n",
    "If you want to specify an arbitrary function, it is simpler to use a lambda expression \n",
    "than to define the function with a def statement.\n",
    "\n",
    "Note that the same operation as map() and filter() can be written with \n",
    "list comprehensions and generator expressions. In many cases, \n",
    "it is easier to write using list comprehensions and generator expressions.\n",
    "\n",
    "filter(fonksiyon, sequence) fonksiyonu iterable ın her bir elemanına uyguluyor, \n",
    "True veya False olması durumuna göre o elemanı alıyor.\n",
    "\n",
    "dolayısıyla sequence hep bir boolean ifade olmalı.\n",
    "\"\"\"\n",
    "\n"
   ]
  },
  {
   "cell_type": "code",
   "execution_count": 23,
   "id": "leading-generation",
   "metadata": {},
   "outputs": [
    {
     "name": "stdout",
     "output_type": "stream",
     "text": [
      "<map object at 0x000001CDE0348C88>\n",
      "[0, 1, 4, 9]\n"
     ]
    }
   ],
   "source": [
    "\"\"\"Specify a lambda expression that squares the value in the first argument.\n",
    "Note that map() returns an iterator instead of a list in Python3\n",
    "\"\"\"\n",
    "\n",
    "l = [0, 1, 2, 3]\n",
    "\n",
    "map_square = map(lambda x: x**2, l)  # bir liste üzerinde çalıştığımız için map kullandık..\n",
    "                                     # fonksiyon olarak lambdayı, ikinci argüman olan l listesinin her bir elemanına uyguladı.\n",
    "print(map_square)\n",
    "\n",
    "print(list(map_square))"
   ]
  },
  {
   "cell_type": "code",
   "execution_count": 25,
   "id": "joint-lighting",
   "metadata": {},
   "outputs": [
    {
     "name": "stdout",
     "output_type": "stream",
     "text": [
      "[0, 1, 4, 9]\n",
      "[0, 1, 4, 9]\n"
     ]
    }
   ],
   "source": [
    "# bunu list comprehension ile de yapabiliriz\n",
    "\n",
    "square = [x**2 for x in l]\n",
    "print(square)\n",
    "\n",
    "print([x**2 for x in l])"
   ]
  },
  {
   "cell_type": "code",
   "execution_count": 28,
   "id": "capable-giant",
   "metadata": {},
   "outputs": [
    {
     "name": "stdout",
     "output_type": "stream",
     "text": [
      "['one', 'six', 'ten', 'two']\n"
     ]
    }
   ],
   "source": [
    "letter1=[\"o\", \"s\", \"t\", \"t\"]\n",
    "letter2=[\"n\", \"i\", \"e\", \"w\"]\n",
    "letter3=[\"e\", \"x\", \"n\", \"o\"]\n",
    "\n",
    "numbers = map(lambda x, y, z: x+y+z, letter1, letter2, letter3)\n",
    "\n",
    "\"\"\"lambda fonksiyonunun parametre sayısı kadar map'in argümanı olmalı. \n",
    "her bir parametreye bir argümandan değer alacak(letter lar)  \n",
    "map'in özelliği gereği her defasında letter'ların birer elemanı lambdaya girecek ve map bir sonuç çıkaracak\n",
    "\"\"\"\n",
    "print(list(numbers))  # print ederken list fonksiyonunu kullandığımız için çıktı liste halinde olacak."
   ]
  },
  {
   "cell_type": "code",
   "execution_count": 29,
   "id": "distinct-mobile",
   "metadata": {},
   "outputs": [
    {
     "name": "stdout",
     "output_type": "stream",
     "text": [
      "('a', 'x')\n",
      "('b', 'y')\n",
      "('c', 'z')\n"
     ]
    }
   ],
   "source": [
    "letter1=[\"a\", \"b\", \"c\"]\n",
    "letter2=[\"x\", \"y\", \"z\"]\n",
    "\n",
    "yapıştır = map(zip, letter1, letter2) # sonuç generate edildi. ama göremeyiz.\n",
    "\n",
    "# hatırla, zip iki iterable'ı alıp birleştirip tuple yapıyordu.\n",
    "# şimdi map'in generate ettiği sonucu görebilmek için for döngüsü kullanalım\n",
    "# map'in içindeki zip'i de çözebilmek için 2. bir for kullandık.\n",
    "\n",
    "for i in yapıştır:\n",
    "    for j in i:\n",
    "        print(j)"
   ]
  },
  {
   "cell_type": "code",
   "execution_count": null,
   "id": "featured-packet",
   "metadata": {},
   "outputs": [],
   "source": [
    "letter1=[\"a\", \"b\", \"c\"]\n",
    "letter2=[\"x\", \"y\", \"z\"]\n",
    "\n",
    "yapıştır = map(zip, letter1, letter2) # sonuç generate edildi. ama göremeyiz.\n",
    "\n",
    "# hatırla, zip iki iterable'ı alıp birleştirip tuple yapıyordu.\n",
    "# şimdi map'in generate ettiği sonucu görebilmek için for döngüsü kullanalım\n",
    "# map'in içindeki zip'i de çözebilmek için 2. bir for kullandık.\n",
    "\n",
    "for i in yapıştır:\n",
    "    print(*i)"
   ]
  },
  {
   "cell_type": "code",
   "execution_count": null,
   "id": "bibliographic-solid",
   "metadata": {},
   "outputs": [],
   "source": [
    "letter1=[\"a\", \"b\", \"c\"]\n",
    "letter2=[\"x\", \"y\", \"z\"]\n",
    "\n",
    "a=zip(letter1, letter2)\n",
    "print(*a)"
   ]
  },
  {
   "cell_type": "code",
   "execution_count": 30,
   "id": "above-shade",
   "metadata": {},
   "outputs": [
    {
     "name": "stdout",
     "output_type": "stream",
     "text": [
      "6.0 6.0 6.0 6.0\n"
     ]
    }
   ],
   "source": [
    "\"\"\" calculates the arithmetic means of two element pairs in the \n",
    "# following two lists in accordanve withe their order and \n",
    "# collects them into a list.\n",
    "\"\"\"\n",
    "num1 = [9, 6, 7, 4]\n",
    "num2 = [3, 6, 5, 8]\n",
    "\n",
    "numbers = map(lambda x, y : (x+y)/2, num1, num2)\n",
    "print(*numbers)"
   ]
  },
  {
   "cell_type": "code",
   "execution_count": 31,
   "id": "promising-partner",
   "metadata": {},
   "outputs": [
    {
     "name": "stdout",
     "output_type": "stream",
     "text": [
      "<class 'map'>\n",
      "[1, 4, 9, 16, 25]\n",
      "[1, 4, 9, 16, 25]\n"
     ]
    }
   ],
   "source": [
    "iterable = [1, 2, 3, 4, 5]\n",
    "map(lambda x : x**2, iterable)\n",
    "result = map(lambda x : x**2, iterable)\n",
    "print(type(result))  # it's a map type\n",
    "print(list(result))  # print almak için onu liste tipine çevirdik.\n",
    "print(list(map(lambda x : x**2, iterable))) # bu şekilde de direkt olarak yazabiliriz."
   ]
  },
  {
   "cell_type": "code",
   "execution_count": 34,
   "id": "arabic-domestic",
   "metadata": {},
   "outputs": [
    {
     "name": "stdout",
     "output_type": "stream",
     "text": [
      "i love you\n",
      "you ate much\n",
      "he works hard\n",
      "\n",
      "i love you\n",
      "you ate much\n",
      "he works hard\n"
     ]
    }
   ],
   "source": [
    "words1=[\"you\", \"much\", \"hard\"]\n",
    "words2=[\"i\", \"you\", \"he\"]\n",
    "words3=[\"love\", \"ate\", \"works\"]\n",
    "\n",
    "# !! mantıklı cümle olması için sıralama: words2-words3-words1 olmalı.\n",
    "\n",
    "# önce bir değişken tanımlıyorum ki değişkeni çıktı alabileyim\n",
    "\n",
    "# sentence = map(lambda x, y, z : x + \" \" y + \" \" + z) fonksiyonumu yazdım. şimdi iterable'larıma geçiyorum\n",
    "\n",
    "sentence = map(lambda x, y, z : x + \" \" + y + \" \" + z, words2, words3, words1)\n",
    "\n",
    "# şimdi bunu yazdıralım.\n",
    "\n",
    "for i in sentence:\n",
    "    print(i)\n",
    "\n",
    "print()  # list comprehension olarak yaparsak:\n",
    "\n",
    "for i in map(lambda x, y, z : x + \" \" + y + \" \" + z, words2, words3, words1):\n",
    "    print(i)"
   ]
  },
  {
   "cell_type": "code",
   "execution_count": null,
   "id": "perceived-municipality",
   "metadata": {},
   "outputs": [],
   "source": [
    "# If you want to get an iterator, use a generator expression.\n",
    "\n",
    "g_square = (x**2 for x in l)  # parantez kullandığımızda liste yapmaz, generate eder.\n",
    "\n",
    "print(g_square)\n",
    "# <generator object <genexpr> at 0x1072b6d00>\n",
    "\n",
    "print(list(g_square))\n",
    "# [0, 1, 4, 9]"
   ]
  },
  {
   "cell_type": "code",
   "execution_count": null,
   "id": "recent-portfolio",
   "metadata": {},
   "outputs": [],
   "source": [
    "\n"
   ]
  },
  {
   "cell_type": "code",
   "execution_count": 26,
   "id": "freelance-madagascar",
   "metadata": {},
   "outputs": [
    {
     "name": "stdout",
     "output_type": "stream",
     "text": [
      "[0, 2]\n"
     ]
    }
   ],
   "source": [
    "\"\"\"Specify a lambda expression that determines even numbers as True in the first argument.\n",
    "filter() returns an iterator in Python3 like map().\n",
    "\n",
    "filter(fonksiyon, sequence) fonksiyonu iterable ın her bir elemanına uyguluyor, \n",
    "True veya False olması durumuna göre o elemanı alıyor.\n",
    "\n",
    "dolayısıyla sequence hep bir boolean ifade olmalı.\n",
    "\"\"\"\n",
    "\n",
    "filter_even = filter(lambda x: x % 2 == 0, l)    # filter fonk.da bir boolean ifade oluyor. çünkü True olan değerleri filtreliyor.\n",
    "\n",
    "print(list(filter_even))"
   ]
  },
  {
   "cell_type": "code",
   "execution_count": 27,
   "id": "related-bubble",
   "metadata": {},
   "outputs": [
    {
     "name": "stdout",
     "output_type": "stream",
     "text": [
      "[0, 2]\n"
     ]
    }
   ],
   "source": [
    "# This can also be written with list comprehensions and generator expressions.\n",
    "\n",
    "filter_even = [x for x in l if x % 2 == 0]\n",
    "\n",
    "print(filter_even)"
   ]
  },
  {
   "cell_type": "code",
   "execution_count": 35,
   "id": "every-specialist",
   "metadata": {},
   "outputs": [
    {
     "name": "stdout",
     "output_type": "stream",
     "text": [
      "swim\n",
      "me\n",
      "kiwi\n"
     ]
    }
   ],
   "source": [
    "# uzunlukları 5 karakterden az olanları listele\n",
    "\n",
    "words = [\"apple\", \"swim\", \"clock\", \"me\", \"kiwi\", \"banana\"]\n",
    "\n",
    "# for döngüsüne filter'ı sokacağız. filter'ın üreteceği objectleri döngüye sokacağım.\n",
    "\n",
    "for i in filter(lambda x : len(x) < 5, words) :\n",
    "    print(i)\n",
    "    \n",
    "# ya da list ile görüntüleyeceği\n",
    "\n",
    "print(list(filter(lambda x: len(x)<5, words)))"
   ]
  },
  {
   "cell_type": "code",
   "execution_count": 36,
   "id": "occasional-blowing",
   "metadata": {},
   "outputs": [
    {
     "name": "stdout",
     "output_type": "stream",
     "text": [
      "Vowels are :  ['a', 'e', 'i']\n"
     ]
    }
   ],
   "source": [
    "# sesli harfleri seç ve listele\n",
    "\n",
    "first_ten = [\"a\", \"b\", \"c\", \"d\", \"e\", \"f\", \"g\", \"h\", \"i\", \"j\"]\n",
    "\n",
    "# kontrol için önce sesli harflerden oluşan bir liste yaparım.\n",
    "# sonra IN operatörünü kullanırız. (içinde var mı yok mu?)\n",
    "\n",
    "vowel_list = [\"a\", \"e\", \"i\", \"o\", \"u\"]\n",
    "\n",
    "vowels = filter(lambda x : True if x in vowel_list else False, first_ten)\n",
    "\n",
    "print(\"Vowels are : \", list(vowels))\n"
   ]
  },
  {
   "cell_type": "code",
   "execution_count": 37,
   "id": "completed-binding",
   "metadata": {},
   "outputs": [
    {
     "name": "stdout",
     "output_type": "stream",
     "text": [
      "Vowels are :  ['a', 'e', 'i']\n"
     ]
    }
   ],
   "source": [
    "# filter in içindeki ifadeyi şu şekilde de kısaltabiliriz.\n",
    "\n",
    "first_ten = [\"a\", \"b\", \"c\", \"d\", \"e\", \"f\", \"g\", \"h\", \"i\", \"j\"]\n",
    "\n",
    "vowels = filter(lambda x : x in vowel_list, first_ten)\n",
    "\n",
    "print(\"Vowels are : \", list(vowels))"
   ]
  },
  {
   "cell_type": "markdown",
   "id": "literary-cable",
   "metadata": {},
   "source": [
    "# lambdayı fonksiyon içinde kullanma!!!"
   ]
  },
  {
   "cell_type": "code",
   "execution_count": 38,
   "id": "virtual-madison",
   "metadata": {},
   "outputs": [
    {
     "name": "stdout",
     "output_type": "stream",
     "text": [
      "4\n",
      "8\n",
      "16\n"
     ]
    }
   ],
   "source": [
    "def modular_function(n):  # fonksiyona giren n değerini aşağıda lambda da kullanacağız.\n",
    "    return lambda x: x ** n # lambda x değer olarak n'in karesini verecek\n",
    "\n",
    "power_of_2 = modular_function(2)  # first sub-function derived from def\n",
    "power_of_3 = modular_function(3)  # second sub-function derived from def\n",
    "power_of_4 = modular_function(4)  # third sub-function derivedfrom def\n",
    "\n",
    "print(power_of_2(2))  # 2 to the power of 2\n",
    "print(power_of_3(2))  # 2 to the power of 3\n",
    "print(power_of_4(2))  # 2 to the power of 4\n",
    "\n",
    "# fonksiyonun içindeki lambda fonksiyonuna x olarak 2 değerini atamış olduk."
   ]
  },
  {
   "cell_type": "code",
   "execution_count": 42,
   "id": "entitled-shelter",
   "metadata": {},
   "outputs": [
    {
     "data": {
      "text/plain": [
       "16"
      ]
     },
     "execution_count": 42,
     "metadata": {},
     "output_type": "execute_result"
    }
   ],
   "source": [
    "def modular_function(n):\n",
    "    return lambda x : x ** n\n",
    "\n",
    "karesinial = modular_function(2) # karesinial değişkeni burada bir fonksiyon oldu\n",
    "\n",
    "karesinial(4)  # şimdi de lambdadaki x'e 4 değeri atamış olduk"
   ]
  },
  {
   "cell_type": "code",
   "execution_count": 43,
   "id": "crude-korea",
   "metadata": {},
   "outputs": [
    {
     "data": {
      "text/plain": [
       "8"
      ]
     },
     "execution_count": 43,
     "metadata": {},
     "output_type": "execute_result"
    }
   ],
   "source": [
    "küpünüal = modular_function(3) # küpünüal burda yalancı bir fonksiyon gibi oldu\n",
    "\n",
    "küpünüal(2)"
   ]
  },
  {
   "cell_type": "code",
   "execution_count": 44,
   "id": "phantom-watson",
   "metadata": {},
   "outputs": [
    {
     "name": "stdout",
     "output_type": "stream",
     "text": [
      "alex alex \n",
      "lara lara lara \n",
      "linda linda linda linda \n"
     ]
    }
   ],
   "source": [
    "def repeater(n):\n",
    "    return lambda x: x * n\n",
    "    \n",
    "repeat_2_times = repeater(2)  # repeats 2 times\n",
    "repeat_3_times = repeater(3)  # repeats 3 times\n",
    "repeat_4_times = repeater(4)  # repeats 4 times\n",
    "\n",
    "print(repeat_2_times('alex '))\n",
    "print(repeat_3_times('lara '))\n",
    "print(repeat_4_times('linda '))"
   ]
  },
  {
   "cell_type": "code",
   "execution_count": null,
   "id": "beneficial-birth",
   "metadata": {},
   "outputs": [],
   "source": [
    "tekrarlayıcı4 = lambda x : x * 4\n",
    "\n",
    "tekrarlayıcı4('linda')"
   ]
  },
  {
   "cell_type": "code",
   "execution_count": null,
   "id": "according-respect",
   "metadata": {},
   "outputs": [],
   "source": [
    "create your own print function (named functioner) with emoji faces Such as:\n",
    "\n",
    "myPrint_smile(\"hello\")\n",
    "myPrint_sad(\"hello\")\n",
    "myPrint_neutral(\"hello\")\n",
    "\n",
    "hello :)\n",
    "hello :(\n",
    "hello :|"
   ]
  },
  {
   "cell_type": "code",
   "execution_count": 45,
   "id": "dying-anderson",
   "metadata": {},
   "outputs": [
    {
     "name": "stdout",
     "output_type": "stream",
     "text": [
      "hello :)\n",
      "hello :(\n"
     ]
    }
   ],
   "source": [
    "def functioner(emoji=None) : # eğer fonksiyonu çağırırken bir argüman yazmazsak da işlem yapsın diye..\n",
    "    return lambda message : print(message, emoji) # fonksiyondan gelen emojiyi al, girilen mesajı ve emojiyi yan yana yazdır.\n",
    "\n",
    "print_smile = functioner(\":)\") \n",
    "print_smile(\"hello\")\n",
    " \n",
    "print_sad = functioner(\":(\")\n",
    "print_sad(\"hello\")"
   ]
  },
  {
   "cell_type": "code",
   "execution_count": 46,
   "id": "electronic-donor",
   "metadata": {},
   "outputs": [
    {
     "name": "stdout",
     "output_type": "stream",
     "text": [
      "66 :)\n",
      "66 :)\n"
     ]
    }
   ],
   "source": [
    "# aslında yukarda şu alttaki lambda işlemini yaptırdık. tek farkı emoji değerini fonksiyonun parametresinden aldık\n",
    "\n",
    "(lambda message : print(message, \":)\"))(66) \n",
    "\n",
    "print_smile = functioner(\":)\")\n",
    "\n",
    "print_smile(66) # aynı şey"
   ]
  },
  {
   "cell_type": "code",
   "execution_count": 47,
   "id": "compatible-valley",
   "metadata": {},
   "outputs": [
    {
     "data": {
      "text/plain": [
       "3"
      ]
     },
     "execution_count": 47,
     "metadata": {},
     "output_type": "execute_result"
    }
   ],
   "source": [
    "# kendi fonksiyonunuzu üretin\n",
    "\n",
    "# ali_print() --> print()\n",
    "# ali_max() --> max()\n",
    "# ali_bool() --> bool()\n",
    "# ali_sorted() --> sorted()\n",
    "\n",
    "def func_generator(parametre) :\n",
    "    return lambda x : parametre(x)\n",
    "\n",
    "ali_max = func_generator(max)\n",
    "ali_max([1,2,3])\n",
    "\n",
    "ali_print = func_generator(print)\n",
    "ali_print(\"hüseyin\")\n",
    "\n",
    "ali_sorted = func_generator(sorted)\n",
    "ali_sorted([1, 6, 2, 9, 4])"
   ]
  },
  {
   "cell_type": "code",
   "execution_count": null,
   "id": "tired-utility",
   "metadata": {},
   "outputs": [],
   "source": []
  }
 ],
 "metadata": {
  "kernelspec": {
   "display_name": "Python 3",
   "language": "python",
   "name": "python3"
  },
  "language_info": {
   "codemirror_mode": {
    "name": "ipython",
    "version": 3
   },
   "file_extension": ".py",
   "mimetype": "text/x-python",
   "name": "python",
   "nbconvert_exporter": "python",
   "pygments_lexer": "ipython3",
   "version": "3.7.8"
  }
 },
 "nbformat": 4,
 "nbformat_minor": 5
}
