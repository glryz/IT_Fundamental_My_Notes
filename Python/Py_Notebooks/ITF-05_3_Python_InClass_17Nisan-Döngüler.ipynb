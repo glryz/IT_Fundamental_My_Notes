{
 "cells": [
  {
   "cell_type": "code",
   "execution_count": 1,
   "id": "occupational-closing",
   "metadata": {},
   "outputs": [
    {
     "name": "stdout",
     "output_type": "stream",
     "text": [
      "0 1 2 3 4\n",
      "s e p a r a t e\n",
      "s e p a r a t e\n"
     ]
    }
   ],
   "source": [
    "print(*range(5))\n",
    "\n",
    "print(*('separate'))\n",
    "print(*'separate')\n"
   ]
  },
  {
   "cell_type": "code",
   "execution_count": 43,
   "id": "complicated-dollar",
   "metadata": {},
   "outputs": [
    {
     "name": "stdout",
     "output_type": "stream",
     "text": [
      "B\n"
     ]
    }
   ],
   "source": [
    "a = 2\n",
    "b = 330\n",
    "print(\"A\") if a > b else print(\"B\")"
   ]
  },
  {
   "cell_type": "code",
   "execution_count": 3,
   "id": "interstate-present",
   "metadata": {},
   "outputs": [
    {
     "name": "stdout",
     "output_type": "stream",
     "text": [
      "=\n"
     ]
    }
   ],
   "source": [
    "a = 330\n",
    "b = 330\n",
    "print(\"A\") if a > b else print(\"=\") if a == b else print(\"B\")"
   ]
  },
  {
   "cell_type": "code",
   "execution_count": 11,
   "id": "secondary-killer",
   "metadata": {},
   "outputs": [
    {
     "name": "stdout",
     "output_type": "stream",
     "text": [
      "No entry with that digit found.\n",
      "4\n"
     ]
    }
   ],
   "source": [
    "# program to display student's marks from record\n",
    "aranan_sayı = 3\n",
    "tekrar = 0\n",
    "numbers = [1, 3, 7, 4, 3, 0, 3, 6, 3]\n",
    "\n",
    "for i in numbers:\n",
    "    if i == aranan_sayı:\n",
    "        tekrar += 1\n",
    "else:\n",
    "    print('No entry with that digit found.')\n",
    "print(tekrar)"
   ]
  },
  {
   "cell_type": "code",
   "execution_count": null,
   "id": "necessary-grounds",
   "metadata": {},
   "outputs": [],
   "source": []
  },
  {
   "cell_type": "code",
   "execution_count": null,
   "id": "aware-grain",
   "metadata": {},
   "outputs": [],
   "source": [
    "cevap =  [\"y\",]\n",
    "for giriş in cevap:\n",
    "    giriş = input(\"giriş yapmak ister misiniz? (y/n)\")\n",
    "    if giriş == \"y\":\n",
    "        numbers = [1, 3, 7, 4, 5, 3, 5, 0, 9, 9, 3, 6, 3]\n",
    "        sayı = input(\"liste = {} \\nliste içinden bir rakam giriniz : \".format(numbers))\n",
    "        tekrar = 0\n",
    "        for i in numbers:\n",
    "            if i == int(sayı):\n",
    "                tekrar += 1\n",
    "        print(\"{} rakamının tekrar sayısı : \".format(sayı) + str(tekrar))\n",
    "    elif giriş == \"n\":\n",
    "        print(\"çıkış\")\n",
    "    else: \n",
    "        print(\"yanlış giriş yaptınız\")"
   ]
  },
  {
   "cell_type": "code",
   "execution_count": 2,
   "id": "final-puppy",
   "metadata": {},
   "outputs": [
    {
     "name": "stdout",
     "output_type": "stream",
     "text": [
      "Let's play the guessing game!\n",
      "What number am I thinking of?  44\n",
      "Are you a MINDREADER!!!\n"
     ]
    }
   ],
   "source": [
    "answer = 44\n",
    "\n",
    "question = 'What number am I thinking of?  '\n",
    "print (\"Let's play the guessing game!\")\n",
    "\n",
    "while True:\n",
    "    guess = int(input(question))\n",
    "\n",
    "    if guess < answer:\n",
    "        print('Little higher')\n",
    "    elif guess > answer:\n",
    "        print('Little lower')\n",
    "    else:  # guess == answer\n",
    "        print('Are you a MINDREADER!!!')\n",
    "        break"
   ]
  },
  {
   "cell_type": "code",
   "execution_count": 42,
   "id": "experienced-button",
   "metadata": {},
   "outputs": [
    {
     "name": "stdout",
     "output_type": "stream",
     "text": [
      "How many times should I say 'I love you'3\n",
      "I love you\n",
      "I love you\n",
      "I love you\n"
     ]
    }
   ],
   "source": [
    "times = int(input(\"How many times should I say 'I love you'\"))\n",
    "\n",
    "for i in range(times):\n",
    "    print('I love you')"
   ]
  },
  {
   "cell_type": "code",
   "execution_count": 41,
   "id": "supposed-donna",
   "metadata": {},
   "outputs": [
    {
     "name": "stdout",
     "output_type": "stream",
     "text": [
      "enter a number between 1-105\n",
      "5 x 0.00 =  0\n",
      "5 x 1.00 =  5\n",
      "5 x 2.00 =  10\n",
      "5 x 3.00 =  15\n",
      "5 x 4.00 =  20\n",
      "5 x 5.00 =  25\n",
      "5 x 6.00 =  30\n",
      "5 x 7.00 =  35\n",
      "5 x 8.00 =  40\n",
      "5 x 9.00 =  45\n",
      "5 x 10.00 =  50\n"
     ]
    }
   ],
   "source": [
    "n = int(input('enter a number between 1-10'))\n",
    "\n",
    "for i in range(11):\n",
    "    print('%d x %.2f = '%(n, i), n*i)"
   ]
  },
  {
   "cell_type": "code",
   "execution_count": null,
   "id": "dental-plain",
   "metadata": {},
   "outputs": [],
   "source": [
    "n = int(input('enter a number between 1-10'))\n",
    "\n",
    "for i in range(11):\n",
    "    print('{}x{} = '.format(n, i), n*i)"
   ]
  },
  {
   "cell_type": "code",
   "execution_count": 36,
   "id": "painted-evans",
   "metadata": {},
   "outputs": [
    {
     "name": "stdout",
     "output_type": "stream",
     "text": [
      "Please enter the mark: 87\n",
      "A (Excellent)\n"
     ]
    }
   ],
   "source": [
    "math_mark = int(input('Please enter the mark: '))\n",
    "if 85 <= math_mark <= 100 :\n",
    "    print(\"A (Excellent)\")\n",
    "elif 70 <= math_mark <= 84 :\n",
    "    print(\"B (Good)\")\n",
    "elif 60 <= math_mark <= 69 :\n",
    "    print(\"C (Medium)\")\n",
    "elif 45 <= math_mark <= 59 :\n",
    "    print(\"D (Not Bad)\")\n",
    "else :\n",
    "    print(\"F (Failed)\")\n",
    "\n"
   ]
  },
  {
   "cell_type": "code",
   "execution_count": 17,
   "id": "starting-payroll",
   "metadata": {},
   "outputs": [
    {
     "name": "stdout",
     "output_type": "stream",
     "text": [
      "Please enter the mark: '102\n",
      "yanlış bir not girdiniz.\n"
     ]
    }
   ],
   "source": [
    "soru = \"Please enter the mark: '\"\n",
    "\n",
    "math_mark = int(input(soru))\n",
    "\n",
    "if math_mark <= 100 :\n",
    "    if math_mark >=85 :\n",
    "        print(\"A\")\n",
    "    elif math_mark < 85:\n",
    "        if math_mark >= 70 :\n",
    "            print(\"B\")\n",
    "        elif math_mark < 70 :\n",
    "            if math_mark >= 60 :\n",
    "                print(\"C\")\n",
    "            elif math_mark < 60 :\n",
    "                if math_mark >= 45 :\n",
    "                    print(\"D\")\n",
    "                elif math_mark < 45 :\n",
    "                    print(\"F\")\n",
    "else :\n",
    "    print(\"yanlış bir not girdiniz.\")"
   ]
  },
  {
   "cell_type": "code",
   "execution_count": 22,
   "id": "reliable-mention",
   "metadata": {},
   "outputs": [
    {
     "name": "stdout",
     "output_type": "stream",
     "text": [
      "Please enter the mark: '102\n",
      "yanlış bir not girdiniz.\n",
      "Please enter the mark: '521\n",
      "yanlış bir not girdiniz.\n",
      "Please enter the mark: '25\n",
      "F\n"
     ]
    }
   ],
   "source": [
    "soru = \"Please enter the mark: '\"\n",
    "\n",
    "while True :\n",
    "    \n",
    "    math_mark = int(input(soru))\n",
    "    if math_mark <= 100 :\n",
    "        if math_mark >=85 :\n",
    "            print(\"A\")\n",
    "            break\n",
    "        elif math_mark < 85:\n",
    "            if math_mark >= 70 :\n",
    "                print(\"B\")\n",
    "                break\n",
    "            elif math_mark < 70 :\n",
    "                if math_mark >= 60 :\n",
    "                    print(\"C\")\n",
    "                    break\n",
    "                elif math_mark < 60 :\n",
    "                    if math_mark >= 45 :\n",
    "                        print(\"D\")\n",
    "                        break\n",
    "                    elif math_mark < 45 :\n",
    "                        print(\"F\")\n",
    "                        break\n",
    "    else :\n",
    "        print(\"yanlış bir not girdiniz.\")\n",
    "    "
   ]
  },
  {
   "cell_type": "code",
   "execution_count": 23,
   "id": "floral-auckland",
   "metadata": {},
   "outputs": [
    {
     "name": "stdout",
     "output_type": "stream",
     "text": [
      "apple\n",
      "cherry\n"
     ]
    }
   ],
   "source": [
    "fruits = [\"apple\", \"banana\", \"cherry\"]\n",
    "for x in fruits:\n",
    "  if x == \"banana\":\n",
    "    continue\n",
    "  print(x)"
   ]
  },
  {
   "cell_type": "code",
   "execution_count": 33,
   "id": "cardiac-summary",
   "metadata": {},
   "outputs": [
    {
     "name": "stdout",
     "output_type": "stream",
     "text": [
      "one 5\n",
      "two 4\n",
      "three 3\n",
      "four 2\n",
      "five 1\n"
     ]
    }
   ],
   "source": [
    "text = ['one','two','three','four','five']\n",
    "numbers = [1, 2, 3, 4, 5]\n",
    "for x, y in zip(text, numbers[::-1]):\n",
    "    print(x, y)"
   ]
  },
  {
   "cell_type": "code",
   "execution_count": 35,
   "id": "intellectual-animation",
   "metadata": {},
   "outputs": [
    {
     "name": "stdout",
     "output_type": "stream",
     "text": [
      "one 1\n",
      "two 2\n",
      "three 3\n",
      "four 4\n",
      "five 5\n"
     ]
    }
   ],
   "source": [
    "text = ['one','two','three','four','five']\n",
    "numbers = [1, 2, 3, 4, 5]\n",
    "for x, y in zip(text, numbers):\n",
    "    print(x, y)"
   ]
  },
  {
   "cell_type": "code",
   "execution_count": 34,
   "id": "serious-tourism",
   "metadata": {},
   "outputs": [
    {
     "name": "stdout",
     "output_type": "stream",
     "text": [
      "one 1\n",
      "two 2\n",
      "three 3\n"
     ]
    }
   ],
   "source": [
    "text = ['one','two','three','four','five']\n",
    "numbers = [1, 2, 3]\n",
    "for x, y in zip(text, numbers):\n",
    "    print(x, y)"
   ]
  },
  {
   "cell_type": "code",
   "execution_count": 29,
   "id": "naval-childhood",
   "metadata": {},
   "outputs": [
    {
     "name": "stdout",
     "output_type": "stream",
     "text": [
      "I am happy\n",
      "I am confident\n",
      "You are happy\n",
      "You are confident\n"
     ]
    }
   ],
   "source": [
    "who = ['I am ', 'You are ']\n",
    "mood = ['happy', 'confident']\n",
    "for i in who:\n",
    "    for ii in mood:\n",
    "        print(i + ii)"
   ]
  },
  {
   "cell_type": "code",
   "execution_count": 28,
   "id": "fixed-blanket",
   "metadata": {},
   "outputs": [
    {
     "ename": "TypeError",
     "evalue": "unsupported operand type(s) for +: 'int' and 'str'",
     "output_type": "error",
     "traceback": [
      "\u001b[1;31m---------------------------------------------------------------------------\u001b[0m",
      "\u001b[1;31mTypeError\u001b[0m                                 Traceback (most recent call last)",
      "\u001b[1;32m<ipython-input-28-dd5d234a6b6b>\u001b[0m in \u001b[0;36m<module>\u001b[1;34m\u001b[0m\n\u001b[0;32m      3\u001b[0m \u001b[1;32mfor\u001b[0m \u001b[0mi\u001b[0m \u001b[1;32min\u001b[0m \u001b[0mwho\u001b[0m\u001b[1;33m:\u001b[0m\u001b[1;33m\u001b[0m\u001b[1;33m\u001b[0m\u001b[0m\n\u001b[0;32m      4\u001b[0m     \u001b[1;32mfor\u001b[0m \u001b[0mii\u001b[0m \u001b[1;32min\u001b[0m \u001b[0mmood\u001b[0m\u001b[1;33m:\u001b[0m\u001b[1;33m\u001b[0m\u001b[1;33m\u001b[0m\u001b[0m\n\u001b[1;32m----> 5\u001b[1;33m         \u001b[0mprint\u001b[0m\u001b[1;33m(\u001b[0m\u001b[0mi\u001b[0m \u001b[1;33m+\u001b[0m \u001b[0mii\u001b[0m\u001b[1;33m)\u001b[0m\u001b[1;33m\u001b[0m\u001b[1;33m\u001b[0m\u001b[0m\n\u001b[0m",
      "\u001b[1;31mTypeError\u001b[0m: unsupported operand type(s) for +: 'int' and 'str'"
     ]
    }
   ],
   "source": [
    "who = [1, 2]\n",
    "mood = ['happy', 'confident']\n",
    "for i in who:\n",
    "    for ii in mood:\n",
    "        print(i + ii)"
   ]
  },
  {
   "cell_type": "code",
   "execution_count": 3,
   "id": "liberal-candy",
   "metadata": {},
   "outputs": [
    {
     "name": "stdout",
     "output_type": "stream",
     "text": [
      "=\n"
     ]
    }
   ],
   "source": [
    "a = 330\n",
    "b = 330\n",
    "print(\"A\") if a > b else print(\"=\") if a == b else print(\"B\")"
   ]
  },
  {
   "cell_type": "code",
   "execution_count": 4,
   "id": "weird-establishment",
   "metadata": {},
   "outputs": [
    {
     "name": "stdout",
     "output_type": "stream",
     "text": [
      "B\n"
     ]
    }
   ],
   "source": [
    "a = 2\n",
    "b = 330\n",
    "print(\"A\") if a > b else print(\"B\")"
   ]
  },
  {
   "cell_type": "code",
   "execution_count": null,
   "id": "ancient-puzzle",
   "metadata": {},
   "outputs": [],
   "source": [
    "sayı = 16\n",
    "print(\"lets play the quessing game!\")\n",
    "while True:\n",
    "    giriş = int(input(\"sayıyı tahmin edin :\"))\n",
    "    if giriş < sayı:\n",
    "        giriş = int(input(\"biraz yukarı çıkın :\"))\n",
    "    elif giriş > sayı:\n",
    "        giriş = int(input(\"biraz aşağıya inin: \"))\n",
    "    else:\n",
    "        print(\"Tebrikler\")\n",
    "        break"
   ]
  },
  {
   "cell_type": "code",
   "execution_count": null,
   "id": "reliable-personality",
   "metadata": {},
   "outputs": [],
   "source": [
    "answer = 44\n",
    "\n",
    "question = 'What number am I thinking of?  '\n",
    "print (\"Let's play the guessing game!\")\n",
    "\n",
    "while True:\n",
    "    guess = int(input(question))\n",
    "\n",
    "    if guess < answer:\n",
    "        print('Little higher')\n",
    "    elif guess > answer:\n",
    "        print('Little lower')\n",
    "    else:  # guess == answer\n",
    "        print('Are you a MINDREADER!!!')\n",
    "        break"
   ]
  },
  {
   "cell_type": "code",
   "execution_count": null,
   "id": "concrete-cycle",
   "metadata": {},
   "outputs": [],
   "source": [
    "while True :\n",
    "    print(\"bir kere yazdır\")\n",
    "    break"
   ]
  },
  {
   "cell_type": "code",
   "execution_count": 22,
   "id": "civil-sixth",
   "metadata": {},
   "outputs": [
    {
     "name": "stdout",
     "output_type": "stream",
     "text": [
      "Rose\n",
      "Orchid\n",
      "Tulip\n"
     ]
    }
   ],
   "source": [
    "flowers = ['Rose', 'Orchid', 'Tulip']\n",
    "count1 = len(flowers)\n",
    "count2 = 0\n",
    "\n",
    "while count1 > 0 :\n",
    "    print(flowers[count2])\n",
    "    count1 -= 1\n",
    "    count2 += 1"
   ]
  },
  {
   "cell_type": "code",
   "execution_count": null,
   "id": "social-corner",
   "metadata": {},
   "outputs": [],
   "source": []
  },
  {
   "cell_type": "code",
   "execution_count": 5,
   "id": "statutory-design",
   "metadata": {},
   "outputs": [
    {
     "data": {
      "text/plain": [
       "4"
      ]
     },
     "execution_count": 5,
     "metadata": {},
     "output_type": "execute_result"
    }
   ],
   "source": [
    "numbers = [-1, 3, 7, 4, 3, 0, 3, 16, 3, 7, 0, 0, 1]\n",
    "numbers.count(3)"
   ]
  },
  {
   "cell_type": "code",
   "execution_count": 13,
   "id": "cutting-ladder",
   "metadata": {},
   "outputs": [
    {
     "name": "stdout",
     "output_type": "stream",
     "text": [
      "en sık tekrarlanan sayı: 3\n",
      "bu sayının tekrar sayısı : 4\n"
     ]
    }
   ],
   "source": [
    "numbers = [-1, 3, 7, 4, 3, 0, 3, 16, 3, 7, 0, 0, 1]\n",
    "item = max(numbers, key=numbers.count) \n",
    "# key olarak atanan fonksiyon iterable (numbers)'ın her bir elemanına tek tek uygulanıyor.\n",
    "print(\"en sık tekrarlanan sayı:\", item)\n",
    "freq = numbers.count(item)\n",
    "print(\"bu sayının tekrar sayısı :\", freq)\n"
   ]
  },
  {
   "cell_type": "code",
   "execution_count": 10,
   "id": "warming-stroke",
   "metadata": {},
   "outputs": [
    {
     "data": {
      "text/plain": [
       "4"
      ]
     },
     "execution_count": 10,
     "metadata": {},
     "output_type": "execute_result"
    }
   ],
   "source": [
    "numbers = [-1, 3, 7, 4, 3, 0, 3, 16, 3, 7, 0, 0, 1]\n",
    " \n",
    "numbers.count(max(numbers, key=numbers.count))\n",
    "\n"
   ]
  },
  {
   "cell_type": "code",
   "execution_count": 6,
   "id": "tropical-packet",
   "metadata": {},
   "outputs": [
    {
     "data": {
      "text/plain": [
       "{'h', 'i', 'j', 'k', 'l', 'm', 'n', 'o', 'p', 'u', 'y'}"
      ]
     },
     "execution_count": 6,
     "metadata": {},
     "output_type": "execute_result"
    }
   ],
   "source": [
    "left = set(\"qwertasdfzxcvb\")\n",
    "right = set(\"yuiophjklmn\")\n",
    "right\n"
   ]
  },
  {
   "cell_type": "code",
   "execution_count": 21,
   "id": "patent-convergence",
   "metadata": {},
   "outputs": [
    {
     "data": {
      "text/plain": [
       "True"
      ]
     },
     "execution_count": 21,
     "metadata": {},
     "output_type": "execute_result"
    }
   ],
   "source": [
    "# comfortable words sorusu çözümü\n",
    "\n",
    "word = set(\"clarusway\")\n",
    "\n",
    "left = set(\"qwertasdfzxcvb\")\n",
    "right = set(\"yuiophjklmn\")\n",
    "\n",
    "leftcheck = bool(word.intersection(left))\n",
    "rightcheck = bool(word.intersection(right))\n",
    "\n",
    "leftcheck and rightcheck  #bunun true çıkması halinde kelime comfortable. False ise değil"
   ]
  },
  {
   "cell_type": "code",
   "execution_count": null,
   "id": "informative-doctor",
   "metadata": {},
   "outputs": [],
   "source": [
    "num= int(input(\"enter a number :\"))\n",
    "    \n",
    "if num == 0 :\n",
    "    print(\"Zero\")\n",
    "elif num > 0 :\n",
    "    print(\"Positive\")\n",
    "else :\n",
    "    print(\"Negative\")"
   ]
  },
  {
   "cell_type": "code",
   "execution_count": null,
   "id": "cross-reaction",
   "metadata": {},
   "outputs": [],
   "source": [
    "exam_score = int(input(\"Enter your exam score :\"))\n",
    "\n",
    "if exam_score >= 90:\n",
    "    if exam_score >= 95:\n",
    "        output = \"A+\"\n",
    "    else:\n",
    "        output = \"A\"\n",
    "elif exam_score >= 80:\n",
    "    if exam_score >= 85:\n",
    "        output = \"B+\"\n",
    "    else:\n",
    "        output = \"B\"\n",
    "else :\n",
    "    output=\"below B\"\n",
    "\n",
    "print (\"Your degree: {}\".format(output))"
   ]
  },
  {
   "cell_type": "code",
   "execution_count": null,
   "id": "greek-tablet",
   "metadata": {},
   "outputs": [],
   "source": [
    "score = int (input(\"Enter your score :\"))\n",
    "\n",
    "if score >= 90:\n",
    "    if score >= 95:\n",
    "        Score_letter=\"A+\"\n",
    "    else:\n",
    "        Score_letter=\"A\"\n",
    "elif score >= 80:\n",
    "    if score >= 85:\n",
    "        Score_letter=\"B+\"\n",
    "    else:\n",
    "        Score_letter=\"B\"\n",
    "else:\n",
    "    Score_letter=\"below B\"\n",
    "\n",
    "print (\"Your degree: %s\" % Score_letter)"
   ]
  },
  {
   "cell_type": "code",
   "execution_count": 7,
   "id": "diverse-likelihood",
   "metadata": {},
   "outputs": [
    {
     "name": "stdout",
     "output_type": "stream",
     "text": [
      "2\n"
     ]
    }
   ],
   "source": [
    "while 0 :\n",
    "    print(\"bir\")\n",
    "print(2)"
   ]
  },
  {
   "cell_type": "code",
   "execution_count": 8,
   "id": "naughty-regulation",
   "metadata": {},
   "outputs": [
    {
     "name": "stdout",
     "output_type": "stream",
     "text": [
      "outside while\n"
     ]
    }
   ],
   "source": [
    "while [] :\n",
    "    print(\"while\")\n",
    "print(\"outside while\")"
   ]
  },
  {
   "cell_type": "code",
   "execution_count": null,
   "id": "seventh-journal",
   "metadata": {},
   "outputs": [],
   "source": [
    "while None :\n",
    "    print(\"None\")\n",
    "print(\"outside while\")"
   ]
  },
  {
   "cell_type": "code",
   "execution_count": 2,
   "id": "located-wellington",
   "metadata": {},
   "outputs": [
    {
     "name": "stdout",
     "output_type": "stream",
     "text": [
      "0\n",
      "1\n",
      "2\n",
      "3\n",
      "4\n",
      "5\n",
      "now, number is bigger or equal to 6\n"
     ]
    }
   ],
   "source": [
    "number = 0\n",
    "while number < 6:\n",
    "    print(number)\n",
    "    number += 1\n",
    "print(\"now, number is bigger or equal to 6\")"
   ]
  },
  {
   "cell_type": "code",
   "execution_count": 1,
   "id": "agricultural-honolulu",
   "metadata": {},
   "outputs": [
    {
     "name": "stdout",
     "output_type": "stream",
     "text": [
      "enter your age :g\n",
      "This is not a age, please enter your age:25\n",
      "Great! You entered a valid age:  25\n"
     ]
    }
   ],
   "source": [
    "yaş = input(\"enter your age :\")\n",
    "while yaş.isalpha() == True :\n",
    "    yaş = input(\"This is not a age, please enter your age:\")\n",
    "print(\"Great! You entered a valid age: \", yaş)"
   ]
  },
  {
   "cell_type": "code",
   "execution_count": 2,
   "id": "contrary-watson",
   "metadata": {},
   "outputs": [
    {
     "name": "stdout",
     "output_type": "stream",
     "text": [
      "enter your age :d\n",
      "This is not a age, please enter your age:25\n",
      "Great! You entered a valid age:  25\n"
     ]
    }
   ],
   "source": [
    "yaş = input(\"enter your age :\")\n",
    "while yaş.isalpha() : # yaş.isalpha() ile yaş.isalpha() == True aynı \n",
    "    yaş = input(\"This is not a age, please enter your age:\")\n",
    "print(\"Great! You entered a valid age: \", yaş)"
   ]
  },
  {
   "cell_type": "code",
   "execution_count": null,
   "id": "outstanding-custom",
   "metadata": {},
   "outputs": [],
   "source": [
    "yaş = input(\"enter your age :\")\n",
    "while not yaş.isdigit():\n",
    "    print(\"your entered incorrectly\")\n",
    "    yaş = input(\"Enter your age correctly please: \")\n",
    "print(\"Great! You entered valid age\", yaş)  "
   ]
  },
  {
   "cell_type": "code",
   "execution_count": null,
   "id": "collectible-costa",
   "metadata": {},
   "outputs": [],
   "source": [
    "# girilen sayı pozitif tam sayı ise ekrana yazdır.\n",
    "\n",
    "a = input(\"enter a positive integer number :\")\n",
    "while not a.isdigit() or int(a)<=0 :\n",
    "    print(\"invalid enter\")\n",
    "    a = input(\"enter a positive integer number :\")\n",
    "print(a)"
   ]
  },
  {
   "cell_type": "code",
   "execution_count": null,
   "id": "bound-paris",
   "metadata": {},
   "outputs": [],
   "source": [
    " # yukardaki kodun farklı bir çözümü\n",
    "\n",
    "while True :\n",
    "    a = int(input(\"enter a positive integer number:\"))\n",
    "    if a <= 0:\n",
    "        print(\"please enter a positive number:\")\n",
    "    else : \n",
    "        print(a)\n",
    "        break"
   ]
  }
 ],
 "metadata": {
  "kernelspec": {
   "display_name": "Python 3",
   "language": "python",
   "name": "python3"
  },
  "language_info": {
   "codemirror_mode": {
    "name": "ipython",
    "version": 3
   },
   "file_extension": ".py",
   "mimetype": "text/x-python",
   "name": "python",
   "nbconvert_exporter": "python",
   "pygments_lexer": "ipython3",
   "version": "3.7.8"
  }
 },
 "nbformat": 4,
 "nbformat_minor": 5
}
