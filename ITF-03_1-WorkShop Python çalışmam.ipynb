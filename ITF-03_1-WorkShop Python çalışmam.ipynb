{
 "cells": [
  {
   "cell_type": "code",
   "execution_count": 11,
   "id": "annoying-throw",
   "metadata": {},
   "outputs": [
    {
     "name": "stdout",
     "output_type": "stream",
     "text": [
      "listeniz kaç sayıdan oluşsun? :3\n",
      "1. sayıyı giriniz :1\n",
      "2. sayıyı giriniz :4\n",
      "3. sayıyı giriniz :7\n",
      "maksimum sayı = 7\n",
      "maksimum sayı = 7\n"
     ]
    }
   ],
   "source": [
    "n = int(input(\"listeniz kaç sayıdan oluşsun? :\"))\n",
    "liste = []\n",
    "for i in range(n) :\n",
    "    sayı = int(input(\"{}. sayıyı giriniz :\".format(i+1)))\n",
    "    liste.append(sayı)\n",
    "liste.sort(reverse=True)\n",
    "print(\"maksimum sayı = {}\".format(liste[0]))\n",
    "print(f\"maksimum sayı = {liste[0]}\")"
   ]
  },
  {
   "cell_type": "code",
   "execution_count": 12,
   "id": "outstanding-continent",
   "metadata": {},
   "outputs": [
    {
     "data": {
      "text/plain": [
       "[{'a', 'e', 't'}, {'a', 'n', 't'}, {'a', 'b', 't'}]"
      ]
     },
     "execution_count": 12,
     "metadata": {},
     "output_type": "execute_result"
    }
   ],
   "source": [
    "liste = [\"eat\", \"tea\", \"tan\", \"ate\", \"nat\", \"bat\"]\n",
    "sorted_list = []\n",
    "for i in liste:\n",
    "    if set(i) not in sorted_list :\n",
    "        sorted_list.append(set(i))\n",
    "sorted_list"
   ]
  },
  {
   "cell_type": "code",
   "execution_count": 8,
   "id": "backed-personality",
   "metadata": {},
   "outputs": [
    {
     "data": {
      "text/plain": [
       "[['eat', 'tea', 'ate'], ['tan', 'nat'], ['bat']]"
      ]
     },
     "execution_count": 8,
     "metadata": {},
     "output_type": "execute_result"
    }
   ],
   "source": [
    "liste = [\"eat\", \"tea\", \"tan\", \"ate\", \"nat\", \"bat\"]\n",
    "sorted_list = []\n",
    "sonuç_list = []\n",
    "for i in liste:\n",
    "    if sorted(i) not in sorted_list :\n",
    "        sorted_list.append(sorted(i))\n",
    "for k in range(len(sorted_list)):\n",
    "    sonuç_list.append([x for x in liste if sorted(x) == sorted_list[k]])\n",
    "sonuç_list\n"
   ]
  },
  {
   "cell_type": "code",
   "execution_count": 13,
   "id": "sufficient-macintosh",
   "metadata": {
    "scrolled": true
   },
   "outputs": [
    {
     "name": "stdout",
     "output_type": "stream",
     "text": [
      "enter a number. type ok when you are done :ok\n",
      "[]\n"
     ]
    }
   ],
   "source": [
    "sayı_dizisi = []\n",
    "enter = input(\"enter a number. type ok when you are done :\")\n",
    "\n",
    "while enter != \"ok\":  \n",
    "    sayı_dizisi.append(int(enter))\n",
    "    enter = input(\"type ok when you are done :\")\n",
    "    if enter == \"ok\" :\n",
    "        break\n",
    "print(sayı_dizisi)\n",
    "\n"
   ]
  },
  {
   "cell_type": "code",
   "execution_count": null,
   "id": "productive-princess",
   "metadata": {},
   "outputs": [],
   "source": []
  },
  {
   "cell_type": "code",
   "execution_count": null,
   "id": "qualified-original",
   "metadata": {},
   "outputs": [],
   "source": []
  }
 ],
 "metadata": {
  "kernelspec": {
   "display_name": "Python 3",
   "language": "python",
   "name": "python3"
  },
  "language_info": {
   "codemirror_mode": {
    "name": "ipython",
    "version": 3
   },
   "file_extension": ".py",
   "mimetype": "text/x-python",
   "name": "python",
   "nbconvert_exporter": "python",
   "pygments_lexer": "ipython3",
   "version": "3.7.8"
  }
 },
 "nbformat": 4,
 "nbformat_minor": 5
}
