{
 "cells": [
  {
   "cell_type": "code",
   "execution_count": 5,
   "id": "acquired-forest",
   "metadata": {},
   "outputs": [
    {
     "name": "stdout",
     "output_type": "stream",
     "text": [
      "4 is maximum\n"
     ]
    }
   ],
   "source": [
    "def printMax(a, b):\n",
    "    if a > b:\n",
    "        print(a, 'is maximum')\n",
    "    elif a == b:\n",
    "        print(a, 'is equal to', b)\n",
    "    else:\n",
    "        print(b, 'is maximum')\n",
    "printMax(3, 4)"
   ]
  },
  {
   "cell_type": "code",
   "execution_count": 6,
   "id": "gothic-cowboy",
   "metadata": {},
   "outputs": [
    {
     "name": "stdout",
     "output_type": "stream",
     "text": [
      "x is 50\n",
      "Changed local x to 2\n",
      "x is now 50\n"
     ]
    }
   ],
   "source": [
    "x = 50\n",
    "def func(x):\n",
    "    print('x is', x)\n",
    "    x = 2\n",
    "    print('Changed local x to', x)\n",
    "func(x)\n",
    "print('x is now', x)\n"
   ]
  },
  {
   "cell_type": "code",
   "execution_count": 10,
   "id": "cleared-criminal",
   "metadata": {},
   "outputs": [
    {
     "name": "stdout",
     "output_type": "stream",
     "text": [
      "3   9\n",
      "3   9\n"
     ]
    }
   ],
   "source": [
    "def function1(var1=5, var2=7):\n",
    "    var2=9\n",
    "    var1=3\n",
    "    print (var1, \" \", var2)\n",
    "function1(10,12)\n"
   ]
  },
  {
   "cell_type": "code",
   "execution_count": null,
   "id": "numerous-carnival",
   "metadata": {},
   "outputs": [],
   "source": [
    "Functions can be defined inside a module, a class, or another function. \n",
    "Function defined inside a class is called a method. ... \n",
    "The static method is called by specifying the class name,\n",
    "the dot operator and the function name with square brackets. \n",
    "Other functions are called using their names and square brackets."
   ]
  },
  {
   "cell_type": "code",
   "execution_count": null,
   "id": "exceptional-mainstream",
   "metadata": {},
   "outputs": [],
   "source": [
    "#!/usr/bin/env python\n",
    "\n",
    "# defining.py\n",
    "\n",
    "\n",
    "class Some():\n",
    "\n",
    "    @staticmethod\n",
    "    def f():\n",
    "        print(\"f() method\")\n",
    "\n",
    "\n",
    "def f():\n",
    "    print(\"f() function\")\n",
    "\n",
    "\n",
    "def g():\n",
    "    def f():\n",
    "        print(\"f() inner function\")\n",
    "    f()\n",
    "\n",
    "\n",
    "Some.f()\n",
    "f()\n",
    "g()\n",
    "\n",
    "# In this example, we define an f() function in three different places.\n",
    "# they explained below"
   ]
  },
  {
   "cell_type": "code",
   "execution_count": null,
   "id": "common-disorder",
   "metadata": {},
   "outputs": [],
   "source": [
    "# defining.py\n",
    "\n",
    "class Some():\n",
    "\n",
    "    @staticmethod\n",
    "    def f():\n",
    "        print(\"f() method\")\n",
    "\n",
    "# A static method is defined with a decorator in a Some class."
   ]
  },
  {
   "cell_type": "code",
   "execution_count": null,
   "id": "demanding-initial",
   "metadata": {},
   "outputs": [],
   "source": []
  },
  {
   "cell_type": "code",
   "execution_count": null,
   "id": "excited-privacy",
   "metadata": {},
   "outputs": [],
   "source": []
  },
  {
   "cell_type": "code",
   "execution_count": null,
   "id": "cathedral-carol",
   "metadata": {},
   "outputs": [],
   "source": []
  },
  {
   "cell_type": "code",
   "execution_count": null,
   "id": "diagnostic-setup",
   "metadata": {},
   "outputs": [],
   "source": []
  },
  {
   "cell_type": "code",
   "execution_count": null,
   "id": "valid-retention",
   "metadata": {},
   "outputs": [],
   "source": []
  },
  {
   "cell_type": "code",
   "execution_count": null,
   "id": "technical-journalism",
   "metadata": {},
   "outputs": [],
   "source": []
  }
 ],
 "metadata": {
  "kernelspec": {
   "display_name": "Python 3",
   "language": "python",
   "name": "python3"
  },
  "language_info": {
   "codemirror_mode": {
    "name": "ipython",
    "version": 3
   },
   "file_extension": ".py",
   "mimetype": "text/x-python",
   "name": "python",
   "nbconvert_exporter": "python",
   "pygments_lexer": "ipython3",
   "version": "3.7.8"
  }
 },
 "nbformat": 4,
 "nbformat_minor": 5
}
